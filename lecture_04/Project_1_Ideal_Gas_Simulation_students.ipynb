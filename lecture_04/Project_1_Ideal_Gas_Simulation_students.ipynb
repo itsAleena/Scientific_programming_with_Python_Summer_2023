{
 "cells": [
  {
   "cell_type": "markdown",
   "id": "8157d503-b918-4064-833c-c0c50340718e",
   "metadata": {},
   "source": [
    "# The ideal gas (simulation in 2d)\n",
    "\n",
    "**Project deadline:** This project is due for submission on Thursday, 11.05.2023, 23:55. Please check carefully the *About the Projects* section below for further details."
   ]
  },
  {
   "cell_type": "markdown",
   "id": "8522cb9b-8b4e-4a5f-abd0-b7dc1efb24d1",
   "metadata": {},
   "source": [
    "**Important:** You have the choice to work either on this project from Oliver Cordes  or on another one from Thomas Erben. We strongly advise you to read through both project notebooks completely before you take a decision."
   ]
  },
  {
   "cell_type": "markdown",
   "id": "ce10f9f8-78b8-412b-b585-cc500b3fdf9b",
   "metadata": {},
   "source": [
    "## About the Projects\n",
    "- You will get one project approximately every other week.\n",
    "- Besides the homework-asignmentts, you need to solve the projects in order to pass the course. Your final course mark consists of the mean of your project marks. We aim to hand-out five projects during the term and we do not consider the worst project mark for your final course mark. Projects that you do not hand in are counted with a mark of 4.\n",
    "- The projects needs to be submitted by uploading a modified version of this notebook to [Projects/Project 1](https://ecampus.uni-bonn.de/goto_ecampus_exc_3025921.html) on eCampus. Please only upload this notebook and no other files. You also do not need to change its filename before your upload. Your project must be on eCampus by Thursday, 11.05.2023, 23:55. **No late uploads can be accepted!**\n",
    "- **In contrast to the homework exercises, each student must hand in an own solution for the projects! Of course you can and should discuss problems with each other! However, you need to be able to explain your solution in detail to your tutor and/or the lecturers! We might ask you for an interview about your project if the solution is (close to) identical to another students submission.**\n",
    "\n",
    "**Note:** The tutors, Thomas and I are very happy to help you out with difficulties you might have with the project tasks! You can ask questions any time but please do so well in advance of the deadlines!"
   ]
  },
  {
   "cell_type": "markdown",
   "id": "49e8b6a3-7675-43ca-a4fa-97b0447f124a",
   "metadata": {},
   "source": [
    "**Important:** Your notebook will be tested and graded from a *clean* state `(Kernel -> Reset Kernel and clear all Outputs)`. Please make sure that it cleanly runs from *top to bottom*!"
   ]
  },
  {
   "cell_type": "markdown",
   "id": "fea25182-4047-49c2-aea1-b137385f6764",
   "metadata": {},
   "source": [
    "### Your Name here please:"
   ]
  },
  {
   "cell_type": "markdown",
   "id": "dbf74859-e308-431c-8c19-3a87eed366b6",
   "metadata": {},
   "source": [
    "## Introduction"
   ]
  },
  {
   "cell_type": "markdown",
   "id": "42aeccf9-bb75-4862-8e8f-f37e8f6693ab",
   "metadata": {},
   "source": [
    "The ideal gas is a wonderful platform to study the behavior of particle collisions and also to verify the rules of thermodynamics. From the programming aspect it a nice project to understand the technique of indexing and masking in combination with some math algorithms. \n",
    "\n",
    "The simulation in this notebook is just a start to simulate physical process and you can simply think of enhancements which you can add to the code."
   ]
  },
  {
   "cell_type": "markdown",
   "id": "e0152b6e-29c4-4ab7-a996-c758d3064037",
   "metadata": {},
   "source": [
    "# Project 1 - The ideal gas (simulation in 2d)"
   ]
  },
  {
   "cell_type": "markdown",
   "id": "ec0a3d91-d920-476c-bbff-75dcb89c317a",
   "metadata": {},
   "source": [
    "In this project we want to simulate an ideal gas and checks if we can demonstrate that in the simulation a homogeneous velocitiy distribution converge into the Maxwell-Boltzmann distribution."
   ]
  },
  {
   "cell_type": "markdown",
   "id": "bd3e8d56-5736-476a-bac3-ca9928e8624e",
   "metadata": {},
   "source": [
    "## 1. The decentral inelastic collision (2d)"
   ]
  },
  {
   "cell_type": "markdown",
   "id": "8c441b5b-5f63-4d3c-abaf-88c9c315b1d1",
   "metadata": {},
   "source": [
    "For the collision we assume the following scenario. A mass $m_1$ with the velocity $\\vec{v}_1$ have a collision with a second mass $m_2$ with a velocity $\\vec{v}_2=0$. To transfer all other situation into this scenario you can use the velocity difference of the two masses as $\\vec{v}_1$ and assuming that we have moving laboratory system!\n",
    "\n",
    "You can simply calculate from the conservation of energy and momentum with $m_1 = m_2 = m$ that the former velocity vector $\\vec{v}_1$ is splitted into the two resulting velocity vectors $\\vec{v}'_1$ and $\\vec{v}'_2$ which are orthogonal to each other. "
   ]
  },
  {
   "cell_type": "markdown",
   "id": "022c0f2e-468b-4fb5-89aa-31b1626e4a3d",
   "metadata": {},
   "source": [
    "<center>\n",
    "<img src=\"figs/decentralcoll.png\" style=\"width:50%\">\n",
    "</center>"
   ]
  },
  {
   "cell_type": "markdown",
   "id": "9456c14c-4e68-4c18-bbb9-cd7366452cb8",
   "metadata": {},
   "source": [
    "To calculate the resulting vectors we can use simple linear algebra. The projection of the vector $v_1$ on the vector between the two masses $r$ can be written as $v'_r$. Then the new velocity vectors are:\n",
    "\n",
    "\\begin{align}\n",
    "\\vec{v}'_1 & = \\vec{v}_1 - \\vec{v}'_r \\\\\n",
    "\\vec{v}'_2 & = \\vec{v}'_r \n",
    "\\end{align}\n",
    "\n",
    "\n",
    "$v'_r$ as a projection can be calculated with:\n",
    "\n",
    "\\begin{align}\n",
    "\\vec{v}'_r = \\frac{(\\vec{v}_1 \\cdot \\vec{r}) \\vec{r}}{\\lvert\\lvert \\vec{r} \\rvert\\rvert^2} = \\frac{(\\vec{v}_1 \\cdot \\vec{r}) \\vec{r}}{\\vec{r} \\cdot \\vec{r}}\n",
    "\\end{align}"
   ]
  },
  {
   "cell_type": "markdown",
   "id": "cee2a832-7aa5-4281-ba6f-58031c891114",
   "metadata": {},
   "source": [
    "To move back from the moving laboratory system into the real system, you need to add $\\vec{v}'_r$ to the second and substract $\\vec{v}'_r$ from the first velocity. This formular is working for any velocity differences $\\vec{v}_1$."
   ]
  },
  {
   "cell_type": "markdown",
   "id": "10a64cb7-05fc-4d35-9654-24e20418aa2e",
   "metadata": {},
   "source": [
    "To simulate the decentral inelastic collision in Python the best is to define a function in which we can calculate the projected velocity vector $\\vec{v}'_r$ corresponding to the position difference $\\vec{r}$ and velocity difference $\\vec{v}_1$. "
   ]
  },
  {
   "cell_type": "markdown",
   "id": "39f4663f-1677-47f7-a9a2-7a53dde724ca",
   "metadata": {},
   "source": [
    "**Task:**\n",
    "\n",
    "Write a function `collision` which takes the velocity and the position as arguments and returns the projected velocity.\n",
    "\n",
    "Test the function with some configurations for which the results you already know (put the tests inside your solution cell with a description):\n",
    " * central collision ($\\vec{v}_1 = [1,0]$ and $\\vec{r}=[1,0]$)\n",
    " * 45 degrees collision ($\\vec{v}_1 = [1,0]$ and $\\vec{r}=[1,1]$)\n",
    " * double velocity for central collision and 45 degrees collision\n",
    " * create your own test (no duplication of the prior tests)"
   ]
  },
  {
   "cell_type": "markdown",
   "id": "0ba6805e-77eb-441a-93cb-601a3ece3857",
   "metadata": {},
   "source": [
    "**Hints:**\n",
    " * for a vector you can use a 1d numpy array"
   ]
  },
  {
   "cell_type": "code",
   "execution_count": 13,
   "id": "341cf23e-fa63-4383-b669-b7ddbf4799c3",
   "metadata": {
    "tags": []
   },
   "outputs": [],
   "source": [
    "# Your solution here please"
   ]
  },
  {
   "cell_type": "markdown",
   "id": "b9611772-7aff-4953-9167-b7d9b45366db",
   "metadata": {},
   "source": [
    "----"
   ]
  },
  {
   "cell_type": "markdown",
   "id": "78656db4-c3bd-435d-b7b6-5ac80589328b",
   "metadata": {},
   "source": [
    "## 2. The ideal gas (2d)"
   ]
  },
  {
   "cell_type": "markdown",
   "id": "e683acf3-eac4-4ab2-bbf0-7b16819f6eb8",
   "metadata": {},
   "source": [
    "In the second task we want to simulate how a number of $N$ particles behaves like an ideal gas. We want to show that during the simulation the starting homogeneous velocity distribution converges into a Maxwell-Boltzmann distribution ([see this Wikipedia article](https://en.wikipedia.org/wiki/Maxwell%E2%80%93Boltzmann_distribution)). "
   ]
  },
  {
   "cell_type": "markdown",
   "id": "3d7cbd55-4c31-476c-b701-8b8bfd01eebe",
   "metadata": {},
   "source": [
    "Inside the simulation we want to take into account collisions with the walls and with other particles. Rotation, friction and other external forces will be excluded. The simulation should start with a homogeneous velocity distribution."
   ]
  },
  {
   "cell_type": "markdown",
   "id": "0b0e7f83-578c-44f5-b731-12630cc2e4ba",
   "metadata": {},
   "source": [
    "In this task we will develop the simulation step by step while adding new features."
   ]
  },
  {
   "cell_type": "markdown",
   "id": "844b17fa-f9c0-45a1-a502-0479939e7bf6",
   "metadata": {},
   "source": [
    "### 1. Setup the simulation"
   ]
  },
  {
   "cell_type": "markdown",
   "id": "fb7fc643-6e7e-41b4-8a6a-b51175318c89",
   "metadata": {},
   "source": [
    "In this first setup we need to prepare all necessary variables for the simulation. \n",
    "\n",
    "We start with $N$ particles (for test purposes use $N=10$ in the beginning, you can change it afterwards). For the simulation, we need a position $r$ and a velocity vector $v$ for each particle (both vectors have an $x$ and a $y$ component). "
   ]
  },
  {
   "cell_type": "markdown",
   "id": "826727c9-2e05-48dd-915d-543f8976df75",
   "metadata": {},
   "source": [
    "**Task:**\n",
    " * setup a vector $r$ (with $x$ and $y$ components) for $N$ particles which are in a box with a length `box_len=10`; the positions should follow a uniform distribution\n",
    " * setup a vector $v$ (with $x$ and $y$ components) for $N$ particles  between `0` and `v_max=0.3` (also with a uniform distribution)\n",
    " * setup a simulation loop with a total time `T_max = 100` and a step size `dT = 0.5` for each simulation step\n",
    " * in each step do an update of the position $r$ according to the values in $v$ with $r = r + v dT$"
   ]
  },
  {
   "cell_type": "markdown",
   "id": "b8cf185c-b93d-4c08-80b4-27916bc66bc9",
   "metadata": {},
   "source": [
    "**Hints:**\n",
    " * have a look at the lecture materials to find a proper way to setup the arrays\n",
    " * `r[1]` should return a 1d-array with 2 elements\n",
    " * all calculations can be done with numpy commands, don't use loops (except for the simulation loop!)"
   ]
  },
  {
   "cell_type": "code",
   "execution_count": 17,
   "id": "2dfb919b-829b-40fa-9226-8ada055c1117",
   "metadata": {},
   "outputs": [],
   "source": [
    "# Your solution here please"
   ]
  },
  {
   "cell_type": "markdown",
   "id": "439427dd-830a-4c7f-a2e0-5e05389dee88",
   "metadata": {},
   "source": [
    "### 2. Wall collision"
   ]
  },
  {
   "cell_type": "markdown",
   "id": "729c4a4f-85a6-4684-b75b-af15572bffb5",
   "metadata": {},
   "source": [
    "The first feature to add is the *wall collision* . If a particle hits a wall, the velocity will be reverted. "
   ]
  },
  {
   "cell_type": "markdown",
   "id": "6457ac91-2c9d-472e-87a1-58ac4b5ac881",
   "metadata": {},
   "source": [
    "**Task:**\n",
    "\n",
    "Enhance the previous simulation with the *wall collision* feature."
   ]
  },
  {
   "cell_type": "markdown",
   "id": "292951e2-ab3a-4187-9065-74b448ca16ab",
   "metadata": {},
   "source": [
    "**Hints:**\n",
    " * you need to check the wall collision for the $x$ and $y$ component separately\n",
    " * use *numpy masking* to find particles which are affected by the collisions\n",
    " * have a look at masking on different arrays in the lecture materials\n",
    " * In case of a wall collision, only the corresponding component needs to be updated\n",
    " * the wall collision should take place before the update of the position!"
   ]
  },
  {
   "cell_type": "code",
   "execution_count": null,
   "id": "1b13e257-53ef-43e6-b9e0-996be3ceedca",
   "metadata": {},
   "outputs": [],
   "source": [
    "# Your solution here please"
   ]
  },
  {
   "cell_type": "markdown",
   "id": "8159bb04-22a2-47da-a540-4887364372f6",
   "metadata": {},
   "source": [
    "### 3. First animation"
   ]
  },
  {
   "cell_type": "markdown",
   "id": "8bbcfbc5-ac0f-40ce-b51e-ad61d78b8ac8",
   "metadata": {},
   "source": [
    "At this point we want to create a first animation with the data, where we want to show the positions of particles. To make the code as simple as possible, we can use previous code with some modifications. The idea is to save all positional data in each step in a numpy array which is then used by the animation routines for the animation."
   ]
  },
  {
   "cell_type": "markdown",
   "id": "3c6b7681-930f-425f-adbe-998077976120",
   "metadata": {},
   "source": [
    "**Task**: \n",
    "\n",
    "Use the simulation and create an animation from the result. Make a simple plot for all particles for each simulation step."
   ]
  },
  {
   "cell_type": "markdown",
   "id": "5f9b9307-4ddf-47e5-9de1-e21aa2962f44",
   "metadata": {},
   "source": [
    "**Hints:**\n",
    " * for saving the positions, create an array for all steps of the simulation\n",
    " * to fill this array, you need to iterate over an integer other than the time variable before"
   ]
  },
  {
   "cell_type": "code",
   "execution_count": null,
   "id": "be8ecde0-edba-40e0-b2e5-f5419809a3ff",
   "metadata": {},
   "outputs": [],
   "source": [
    "# Your solution here please"
   ]
  },
  {
   "cell_type": "markdown",
   "id": "af8f4d13-e15f-47f4-96f5-dc899591087a",
   "metadata": {},
   "source": [
    "### 4. Particle collision"
   ]
  },
  {
   "cell_type": "markdown",
   "id": "982a9566-9bf5-436e-9337-3b53b27d55d5",
   "metadata": {},
   "source": [
    "All particles perform inelastic collisions with other particles. In Task 1 we described how to calculate the change in velocity for two colliding particles. The implementation of a collision detection algorithm for 2 circular particles only is quite simple. One needs to check the distance between the both centers of mass and check if this is less than the radius of the particles (assume both have the same radius!). \n",
    "\n",
    "For $N$ particles we have to check more or less each combination of possible collision partners, that are $\\frac{N(N-1)}{2}$ collisions. (Remember that this means the number of computations is proportional to the square of the number of particles $\\propto N^2$!)"
   ]
  },
  {
   "cell_type": "markdown",
   "id": "ca01fea2-9e6a-4892-b046-27f463828d29",
   "metadata": {},
   "source": [
    "\n",
    "For this we can use a numpy trick, which automatically creates all combinations. For this we create a copy of $x$ and $y$ and write the vectors as column vectors instead of row vectors, i.e. the standard numpy array. We can now substract the swapped vector from the original vector, `numpy` is creating a matrix for us in which all difference combination will appear.  \n",
    "\n",
    "If we do this with $x$ and $y$ separately, we can calculate the real distance between two particles. The diagonal elements are always zero, because this is the difference between two identical elements.\n",
    "\n",
    "From this matrix we can create a mask, which selects all matrix elements whose values are below a certain distance. If you check the mask you will recognize that for all collisions two positions will have `True`. This is because we calculate all combinations $(i,j)$, so if $(i,j)$ is a collision, so is $(j,i)$! \n",
    "\n",
    "The next idea is to extract all combinations in an array, which we can use for the next step in our simulation. `np.nonzero` gives us two index arrays which have the positions of the elements which are `True`.\n",
    "\n",
    "`np.triu` will select only the part of the matrix which is above the diagonal elements, so we have only individual combinations. `np.transpose`  then will create an 2d-numpy-array which gives us the possibility to use the result for fancy indexing of the positions and of course also of the velocities.\n",
    "\n",
    "Have a close look at the following code to understand what is calculated."
   ]
  },
  {
   "cell_type": "code",
   "execution_count": 7,
   "id": "b6bc2455-ecd0-4a07-a9b2-ece49c343c36",
   "metadata": {},
   "outputs": [
    {
     "name": "stdout",
     "output_type": "stream",
     "text": [
      "[[0.         1.41421356 1.41421356 2.        ]\n",
      " [1.41421356 0.         2.82842712 3.16227766]\n",
      " [1.41421356 2.82842712 0.         1.41421356]\n",
      " [2.         3.16227766 1.41421356 0.        ]]\n",
      "[[0 1]\n",
      " [0 2]\n",
      " [0 3]\n",
      " [1 2]\n",
      " [1 3]\n",
      " [2 3]]\n",
      "[[2 2 2 1 1 3]\n",
      " [1 1 1 0 0 2]]\n",
      "[[1 3 4 3 4 4]\n",
      " [0 2 1 2 1 1]]\n"
     ]
    }
   ],
   "source": [
    "r = np.array([[2,1,3,4], [1,0,2,1]])\n",
    "\n",
    "radius = 2\n",
    "\n",
    "# get the distance in x- and y-dimension\n",
    "dx = r[0]-r[0,:,np.newaxis]\n",
    "dy = r[1]-r[1,:,np.newaxis]\n",
    "# calculate the absolute (radial) distance b/w particles\n",
    "d = np.sqrt(dx**2+dy**2)\n",
    "print(d)\n",
    "\n",
    "# mask collisions & neglect \"self-collisions\"\n",
    "mask = (d < 2*radius) & ( d>0)\n",
    "\n",
    "# extract indices of colliding particles\n",
    "ic = np.transpose(np.nonzero(np.triu(mask)))\n",
    "print(ic)\n",
    "\n",
    "# use the indices to get the positions of colliding particles,\n",
    "# where r1 are those of particle i and r2 those of particle j\n",
    "r1 = r[:,ic[:,0]]\n",
    "r2 = r[:,ic[:,1]]\n",
    "print(r1)\n",
    "print(r2)"
   ]
  },
  {
   "cell_type": "markdown",
   "id": "2d33d293-2154-456f-b1b2-f2cab37e0b14",
   "metadata": {},
   "source": [
    "To calculate the projected velocity after a collision for $M \\in N \\times N$ particle pairs at the same time, we have to look at some math equations. For the collision we define $\\vec{d_m} = \\vec{r_i} - \\vec{r_j}$ and $\\vec{dv_m} = \\vec{v_i} - \\vec{v_j}$ with $m \\in M$. \n",
    "\n",
    "We assume two matrices $A$ and $B$. If we do $C = A \\cdot B$, we can write:\n",
    "\n",
    "$$ c_{ik} = \\sum_{j} a_{ij} b_{jk} $$\n",
    "\n",
    "$A$ and $B$ should be compatible with the multiplication.\n",
    "\n",
    "If we now use our predefined vectors for the positions and velocities $\\vec{d_m}=(x_m,y_m)$ and $\\vec{dv_m}=(\\dot{x}_m, \\dot{y}_m)$ we can perform this matrix multiplication:\n",
    "\n",
    "\\begin{align}\n",
    " C & = dv^T \\cdot d \\\\\n",
    " c_{mn} & = \\sum_l dv^T_{ml} d_{ln} \\\\\n",
    "   & = \\sum_l dv_{lm} d_{ln}\n",
    "\\end{align}\n",
    "\n",
    "If we now look at the diagonal elements of this new matrix $j=k$:\n",
    "\n",
    "\\begin{align}\n",
    " c_{mm} = c_m &= \\sum_l dv_{lm} d_{lm} \\\\\n",
    "   c_m &= \\vec{dv}_m \\cdot \\vec{d}_m\n",
    "\\end{align}\n",
    "\n",
    "The result gives us exactly the wanted inner product of position $r$ and velocity $v$ for each particle $i$. "
   ]
  },
  {
   "cell_type": "markdown",
   "id": "8c5ad498-7dbb-4dc7-9c3b-40a0ac2cfd13",
   "metadata": {},
   "source": [
    "To implement the method in Python we need three new functions/commands:\n",
    " * `.T` calculates the transposed version of a matrix\n",
    " * the operator `@` on two 2d arrays calculates the matrix multiplications\n",
    " * `np.diag` returns the diagonal elements of a matrix as an array\n",
    " \n",
    "Have a look at the small example and to check how these commands are working."
   ]
  },
  {
   "cell_type": "code",
   "execution_count": 8,
   "id": "e9457679-8e50-42e2-9688-596add81383b",
   "metadata": {},
   "outputs": [
    {
     "name": "stdout",
     "output_type": "stream",
     "text": [
      "[[2 1 3 4]\n",
      " [1 0 2 1]]\n",
      "[[1.2 1. ]\n",
      " [1.1 1. ]\n",
      " [1.  1. ]\n",
      " [1.2 1. ]]\n",
      "[[3.4 1.2 5.6 5.8]\n",
      " [3.2 1.1 5.3 5.4]\n",
      " [3.  1.  5.  5. ]\n",
      " [3.4 1.2 5.6 5.8]]\n",
      "[3.4 1.1 5.  5.8]\n"
     ]
    }
   ],
   "source": [
    "r = np.array([[2, 1, 3, 4], \n",
    "              [1, 0, 2, 1]])\n",
    "v = np.array([[1.2, 1.1, 1.0, 1.2], \n",
    "              [1.0, 1.0, 1.0, 1.0]])\n",
    "\n",
    "print(r)\n",
    "print(v.T)\n",
    "print(v.T@r)\n",
    "print(np.diag(v.T@r))"
   ]
  },
  {
   "cell_type": "markdown",
   "id": "6634217c-7a34-47da-a254-295f6ad1fc48",
   "metadata": {},
   "source": [
    "**Task:**\n",
    "\n",
    "Implement the particle collision technique in the prior simulation and check if you can see particles colliding. It is useful to increase the number of particles now to $N=100$."
   ]
  },
  {
   "cell_type": "markdown",
   "id": "662106da-67cc-4bad-bc55-339c90f30b01",
   "metadata": {},
   "source": [
    "**Hints:**\n",
    " * use a particle size of `0.1` for the collision detection"
   ]
  },
  {
   "cell_type": "code",
   "execution_count": 87,
   "id": "5a04a57e-4733-4e7d-8af8-820b6174fb87",
   "metadata": {},
   "outputs": [],
   "source": [
    "# Your solution here please"
   ]
  },
  {
   "cell_type": "markdown",
   "id": "4ebb43f0-b07c-4347-9d59-c3a774097edd",
   "metadata": {},
   "source": [
    "---"
   ]
  },
  {
   "cell_type": "markdown",
   "id": "0617d5ed-7513-4084-9dc8-37825070378f",
   "metadata": {},
   "source": [
    "### 5. Maxwell-Boltzmann distribution"
   ]
  },
  {
   "cell_type": "markdown",
   "id": "159e8c9c-2677-4ad6-96e3-85e81eee9c97",
   "metadata": {},
   "source": [
    "After the first animation we want to demonstrate now, that after a certain number of timesteps the uniform absolute velocity distribution in our ideal gas simulation will converge to a Maxwell-Boltzmann distribution."
   ]
  },
  {
   "cell_type": "markdown",
   "id": "9d876190-a7c1-4e9f-965f-56077dedacfc",
   "metadata": {},
   "source": [
    "**Task**:\n",
    "\n",
    "Use the prior simulation and create a new animation in which you use the histogram function of matplotlib to show how the velocity distribution evolves in time."
   ]
  },
  {
   "cell_type": "markdown",
   "id": "0d068166-f4fc-4508-96a3-2ed66d500e9c",
   "metadata": {},
   "source": [
    "**Hints:**\n",
    " * the calculation of histograms takes some time, maybe start with a few simulation steps in the beginning\n",
    " * a recommended option to improve the performance of `ax.hist()` is `histtype='step'`\n",
    " * take a closer look at the first histogram of your animation -- it must resemble a uniform distribution!\n",
    " * if it is not uniform, maybe you did not assign the velocities correctly; the absolute velocity $||\\vec{v}||$ must be sampled uniformly as well as the direction $\\theta$, such that $\\vec{v} = ||\\vec{v}|| \\cdot (\\cos\\theta, \\sin\\theta)^T$"
   ]
  },
  {
   "cell_type": "code",
   "execution_count": 14,
   "id": "4f43e7ae-0ade-43d8-91f5-8368f784900e",
   "metadata": {
    "tags": []
   },
   "outputs": [],
   "source": [
    "# Your solution here please"
   ]
  },
  {
   "cell_type": "markdown",
   "id": "9dc4db66-c352-4c00-87b0-b5a6fd360cce",
   "metadata": {},
   "source": [
    "---"
   ]
  }
 ],
 "metadata": {
  "kernelspec": {
   "display_name": "Python 3 (ipykernel)",
   "language": "python",
   "name": "python3"
  },
  "language_info": {
   "codemirror_mode": {
    "name": "ipython",
    "version": 3
   },
   "file_extension": ".py",
   "mimetype": "text/x-python",
   "name": "python",
   "nbconvert_exporter": "python",
   "pygments_lexer": "ipython3",
   "version": "3.10.10"
  }
 },
 "nbformat": 4,
 "nbformat_minor": 5
}
