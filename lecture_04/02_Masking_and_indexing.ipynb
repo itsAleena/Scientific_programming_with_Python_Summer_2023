{
 "cells": [
  {
   "cell_type": "markdown",
   "id": "978fbd54-416e-4837-b747-efe3d6c1a7cf",
   "metadata": {},
   "source": [
    "# Masking and indexing of `numpy`-arrays"
   ]
  },
  {
   "cell_type": "markdown",
   "id": "aba39d15-b0be-4601-b9e8-561bcbbb726f",
   "metadata": {},
   "source": [
    "----\n",
    "Besides the classical indexing and slicing of container types, `numpy`-arrays provides additional features which were called fancy indexing and masking.\n",
    "\n",
    "----"
   ]
  },
  {
   "cell_type": "markdown",
   "id": "bf90f1c4-07cd-448d-8742-fabbc941eab5",
   "metadata": {
    "tags": []
   },
   "source": [
    "## 1. Repitition of ```numpy```-Arrays"
   ]
  },
  {
   "cell_type": "markdown",
   "id": "5623a829-1147-4ef7-bd42-538171c7ba87",
   "metadata": {},
   "source": [
    "Just as a brief repition of the indexing and slicing of `numpy`-arrays:"
   ]
  },
  {
   "cell_type": "code",
   "execution_count": null,
   "id": "1e549e67-1433-42de-ac4e-920f5d8227d1",
   "metadata": {},
   "outputs": [],
   "source": [
    "import numpy as np\n",
    "\n",
    "a = np.arange(0,10,1)\n",
    "print(a[1])        # second element\n",
    "print(a[-1])       # the last element\n",
    "print(a[2:4])      # slicing from index 2 to 4 (4 not included!)\n",
    "print(a[::2])      # ever second element\n",
    "print(a[:2:-1])    # all element from the last until the 3rd element"
   ]
  },
  {
   "cell_type": "markdown",
   "id": "9f96f8a3-f910-4583-bd72-53379af8306d",
   "metadata": {},
   "source": [
    "**Note:** Return values of the slicing process are not copies of the array but so called views, which point to the same data."
   ]
  },
  {
   "cell_type": "markdown",
   "id": "d24b1c02-59de-4cd7-91b2-4d6f0999a492",
   "metadata": {},
   "source": [
    "Elements can be modified, the selection can be done with indexing or slicing (left hand side) and the new values (right hand side) must have the same type and length:"
   ]
  },
  {
   "cell_type": "code",
   "execution_count": null,
   "id": "6c31da79-374a-43e9-86b1-c5b752cd14ad",
   "metadata": {},
   "outputs": [],
   "source": [
    "import numpy as np\n",
    "\n",
    "a = np.arange(0,10,1)\n",
    "a[1] = 100                # change the second element\n",
    "a[2:4] = -1               # change a sliced part with one value\n",
    "a[5:9] = np.arange(0,4,1) # change a sliced part with an array of the same length\n",
    "print(a)"
   ]
  },
  {
   "cell_type": "markdown",
   "id": "b32513ff-9e38-43aa-85cf-4a7a6607db50",
   "metadata": {},
   "source": [
    "----"
   ]
  },
  {
   "cell_type": "markdown",
   "id": "ae4f7df7-c479-4814-a32e-59abb4797a86",
   "metadata": {},
   "source": [
    "## 2. ```numpy```-array with bools"
   ]
  },
  {
   "cell_type": "markdown",
   "id": "84cfdc01-88d5-4820-8e1f-2aa9162d1caa",
   "metadata": {},
   "source": [
    "Similar to the classical mathematical operations you can also do comparisions:"
   ]
  },
  {
   "cell_type": "code",
   "execution_count": null,
   "id": "25d2ab06-6501-42cb-8fbd-c5c36e5af127",
   "metadata": {},
   "outputs": [],
   "source": [
    "import numpy as np\n",
    "\n",
    "a = np.arange(0,10,1)\n",
    "print(a>5)         # all elements larger than 5\n",
    "print(a==2)        # all elements equal to 2\n",
    "\n",
    "b = a < 1          # create a new array with the results a < 1\n",
    "print(b)       \n",
    "print(b.dtype)     # type is bool"
   ]
  },
  {
   "cell_type": "markdown",
   "id": "fdbbd164-a5ab-4827-adb5-2702ba40bf22",
   "metadata": {},
   "source": [
    "These operations will be done also **elementwise**!"
   ]
  },
  {
   "cell_type": "markdown",
   "id": "8642b481-bf2b-489c-a1c7-78dc4eadb176",
   "metadata": {},
   "source": [
    "Using of the array comparision method is not possible in `if`-clauses:"
   ]
  },
  {
   "cell_type": "code",
   "execution_count": null,
   "id": "51d65ec8-121e-43c1-b6b6-a188321e4d5f",
   "metadata": {},
   "outputs": [],
   "source": [
    "import numpy as np\n",
    "\n",
    "students_heights = np.array([1.65, 1.71, 1.69, 2.01, 1.83, 1.75])\n",
    "                            \n",
    "if students_heights > 1.8:\n",
    "    print('Students may be too little for playing baskedball!')\n"
   ]
  },
  {
   "cell_type": "markdown",
   "id": "9528c5c6-657c-40aa-9194-6d4834c7b127",
   "metadata": {},
   "source": [
    "In this you need a decision which you can use with `if`. `numpy` has two functions `.any` and `.all` which analyze the array. \n",
    " * `.any` returns `True` if at least one element is `True`  (thinking of `or`)\n",
    " * `.all` returns `True` if all elements are `True` (thinking of `and`)\n"
   ]
  },
  {
   "cell_type": "code",
   "execution_count": null,
   "id": "868dfcb1-9589-43b5-89b4-daef395de1b0",
   "metadata": {},
   "outputs": [],
   "source": [
    "b = students_heights > 1.8\n",
    "print(b.any())\n",
    "print(b.all())"
   ]
  },
  {
   "cell_type": "markdown",
   "id": "268607eb-0b11-4bec-b03d-9045c4c159aa",
   "metadata": {},
   "source": [
    "Additionally you can also combine more than one comparisons:"
   ]
  },
  {
   "cell_type": "code",
   "execution_count": null,
   "id": "4c36516f-bdb4-49f4-aa60-3727336b8f41",
   "metadata": {},
   "outputs": [],
   "source": [
    "import numpy as np\n",
    "\n",
    "students_heights = np.array([1.65, 1.71, 1.69, 2.01, 1.83, 1.75])\n",
    "\n",
    "cheerleader = (students_heights > 1.5 ) & (students_heights < 1.75)\n",
    "non_cheerleader = (students_heights < 1.5) | (students_heights > 1.75)\n",
    "print(cheerleader)\n",
    "print(non_cheerleader)\n"
   ]
  },
  {
   "cell_type": "markdown",
   "id": "3590f715-60f7-4816-8f6c-1f706440c023",
   "metadata": {},
   "source": [
    "`&` replaces the  `and`  and `|` `or`. In this case brackets are absolutely necessary, otherwise the operator precedence is not giving the correct results!"
   ]
  },
  {
   "cell_type": "markdown",
   "id": "a8462ed1-2988-45c3-be43-c382d45f6a1e",
   "metadata": {},
   "source": [
    "---"
   ]
  },
  {
   "cell_type": "markdown",
   "id": "0a88bfa6-1f23-41c8-937b-bb405dcc9d85",
   "metadata": {},
   "source": [
    "## 3. Fancy indexing"
   ]
  },
  {
   "cell_type": "markdown",
   "id": "fc90ec83-b528-4d78-8eeb-1ef92ab22cce",
   "metadata": {},
   "source": [
    "So far we have seen the normal, regular indexing, which follow simple rules.\n",
    "\n",
    "Assume that you want to access elements, e.g. the 2., 5., and 6. element out of an array with 10 elements:"
   ]
  },
  {
   "cell_type": "code",
   "execution_count": null,
   "id": "f28476b9-e18e-41f9-b43f-1aa2c606a55b",
   "metadata": {},
   "outputs": [],
   "source": [
    "import numpy as np\n",
    "\n",
    "a = np.arange(0,10,1)*100       # create an array\n",
    "print(a)\n",
    "ind = np.array([1,4,5])     # create an index array \n",
    "print(a[ind])               # cut all elements addressed by the indices"
   ]
  },
  {
   "cell_type": "markdown",
   "id": "631a7bc9-fc8a-4dd1-a4fd-c6cdb494d2c9",
   "metadata": {},
   "source": [
    "In this case we put all indices which we want to access into a new array and use this array as an index. This works on both on the right hand side __and__ on the left hand side:"
   ]
  },
  {
   "cell_type": "code",
   "execution_count": null,
   "id": "ad81c4ed-02a8-418f-8e3a-a2aec8c2f38b",
   "metadata": {},
   "outputs": [],
   "source": [
    "import numpy as np\n",
    "\n",
    "a = np.arange(0,10,1)*100       # create an array\n",
    "\n",
    "ind = np.array([1,4,5])     # create an index array\n",
    "a[ind] = -100\n",
    "print(a)"
   ]
  },
  {
   "cell_type": "markdown",
   "id": "05a6be2d-8ae0-49aa-8193-b555623593ee",
   "metadata": {},
   "source": [
    "*Fancy* is also a description for the situation that you address some elements multiple times!"
   ]
  },
  {
   "cell_type": "code",
   "execution_count": null,
   "id": "59a03999-c966-4e63-9b5e-76d30ba65b1b",
   "metadata": {},
   "outputs": [],
   "source": [
    "import numpy as np\n",
    "\n",
    "a = np.arange(0,10,1)*100\n",
    "\n",
    "ind = np.array([1,4,5,1])     # address the second element twice\n",
    "print(a[ind])\n",
    "a[ind] = np.array([2,4,8,10]) # overwrite the second element two times\n",
    "print(a)"
   ]
  },
  {
   "cell_type": "markdown",
   "id": "22c6edac-6858-48c6-a7b2-02f07d0e2643",
   "metadata": {},
   "source": [
    "**Note**: In this case the overwriting process is sequential, so that the second element will be overwritten two time and gets the last element from the new array!"
   ]
  },
  {
   "cell_type": "markdown",
   "id": "cb711750-8dfc-4895-9fbe-6130f784311f",
   "metadata": {},
   "source": [
    "---"
   ]
  },
  {
   "cell_type": "markdown",
   "id": "c6869700-8b6d-4d69-86de-3058b381667c",
   "metadata": {},
   "source": [
    "## 4. Masking"
   ]
  },
  {
   "cell_type": "markdown",
   "id": "ec56f9c8-def3-4ad2-8844-0d3e5b07982d",
   "metadata": {},
   "source": [
    "With `numpy`-arrays it is also possible to use a bool-array as an index. In this case the index of a `True` in the bool-array indicates, that this element will be addressed. The bool-array must have the same size as the `numpy`-array!"
   ]
  },
  {
   "cell_type": "code",
   "execution_count": null,
   "id": "b8239dcf-a58f-42a1-abd1-371689e13ca0",
   "metadata": {},
   "outputs": [],
   "source": [
    "import numpy as np\n",
    "\n",
    "a = np.arange(0,10,1)\n",
    "ind = np.array([True,True,False,False,False,True,False,False,False,False])   # same length as a!\n",
    "print(a[ind])"
   ]
  },
  {
   "cell_type": "markdown",
   "id": "5f2005ae-eddf-4b1f-b717-f7d7ab5a2ac7",
   "metadata": {},
   "source": [
    "`ind` is called a **mask** ! Elements with `False` will be ignored! Similar to all indexing/slicing operations it is working also on the left hand side:"
   ]
  },
  {
   "cell_type": "code",
   "execution_count": null,
   "id": "56e184e9-3879-4d16-8ec4-1c69804a6c2d",
   "metadata": {},
   "outputs": [],
   "source": [
    "import numpy as np\n",
    "\n",
    "a = np.arange(0,10,1)\n",
    "ind = np.array([True,True,False,False,False,True,False,False,False,False])\n",
    "\n",
    "a[ind] = -100                    # change the values of the addressed elements to a new value\n",
    "print(a)\n",
    "a[ind] = np.array([100,200,300]) # change all values with a different array\n",
    "print(a)"
   ]
  },
  {
   "cell_type": "markdown",
   "id": "fc4d4c54-51f2-46bb-89bf-d64e061e56de",
   "metadata": {},
   "source": [
    "### Creating of masks"
   ]
  },
  {
   "cell_type": "markdown",
   "id": "49302a48-6346-48a3-9495-e9a57583046f",
   "metadata": {},
   "source": [
    "Masks can be created manually, but a better approach is to use bool-arrays from comparisions:"
   ]
  },
  {
   "cell_type": "code",
   "execution_count": null,
   "id": "5dc34648-9bbf-42fa-8f58-440b525b86ab",
   "metadata": {},
   "outputs": [],
   "source": [
    "import numpy as np\n",
    "\n",
    "a = np.arange(0,10,1)\n",
    "\n",
    "print(a)\n",
    "ind = a > 4      # create a mask for all elements with values > 4\n",
    "print(ind)       # show mask\n",
    "print(a[ind])    # show masked elements"
   ]
  },
  {
   "cell_type": "markdown",
   "id": "4959ec00-ae2c-4dac-8c90-d8aacb459fd0",
   "metadata": {},
   "source": [
    "You can combine masks logically with `&` and `|`:"
   ]
  },
  {
   "cell_type": "code",
   "execution_count": null,
   "id": "2f7dd9fe-4d2d-4f88-8923-9ffd5146df59",
   "metadata": {},
   "outputs": [],
   "source": [
    "a = np.arange(0,10,1)\n",
    "\n",
    "ind = (a > 4) & (a < 7)     # (a > 4) and (a < 7)\n",
    "print(ind)\n",
    "print(a[ind])"
   ]
  },
  {
   "cell_type": "markdown",
   "id": "b4f1266f-d2b5-41a6-8411-dfc24072923c",
   "metadata": {},
   "source": [
    "or"
   ]
  },
  {
   "cell_type": "code",
   "execution_count": null,
   "id": "41edaf21-7cdf-46c7-ab66-2af8b6d5ef11",
   "metadata": {},
   "outputs": [],
   "source": [
    "a = np.arange(0,10,1)\n",
    "\n",
    "ind = (a == 2) | (a > 7)     # (a ==  2) or ( a > 7)\n",
    "print(ind)\n",
    "print(a[ind])"
   ]
  },
  {
   "cell_type": "markdown",
   "id": "97915fa5-6fdb-468f-884d-4cefaa30fd49",
   "metadata": {},
   "source": [
    "---"
   ]
  },
  {
   "cell_type": "markdown",
   "id": "2f7ca155-8a73-4159-9379-0c81bb65c73d",
   "metadata": {},
   "source": [
    "## 5. Array sorting"
   ]
  },
  {
   "cell_type": "markdown",
   "id": "44a8c295-158b-425b-a22f-9aa14d24f502",
   "metadata": {},
   "source": [
    "Sorting in general has nothing to do with indexing, but one use indexing to sort an arry. If you read carefully the fancy indexing, you can create a new array, with all elements but with a new order! This new order can be a sorted order!"
   ]
  },
  {
   "cell_type": "code",
   "execution_count": null,
   "id": "77b00af8-1a47-4698-a7e5-f648cc5e0356",
   "metadata": {},
   "outputs": [],
   "source": [
    "a = np.array([6,3,1,5,6])  # unsorted\n",
    "\n",
    "ind = np.argsort(a)        # create an index array with sorted elements \n",
    "print(ind)  \n",
    "print(a[ind])              # sort the array a"
   ]
  },
  {
   "cell_type": "markdown",
   "id": "4a2814ae-760b-42bd-9e5a-b2014b939b5a",
   "metadata": {},
   "source": [
    "---"
   ]
  },
  {
   "cell_type": "markdown",
   "id": "43ba1e3b-b1b9-42a3-b1da-2ee9447fdde8",
   "metadata": {
    "tags": []
   },
   "source": [
    "## 6. Use indexing on different arrays"
   ]
  },
  {
   "cell_type": "markdown",
   "id": "5cc84355-09a2-4542-90e3-f47ba0828fa2",
   "metadata": {
    "tags": []
   },
   "source": [
    "Assume that data of different arrays, e.g. $x$ and $y$ depend on each other. In this case a mask is useful if applied on both arrays:"
   ]
  },
  {
   "cell_type": "code",
   "execution_count": null,
   "id": "21c6685b-8c20-453a-89df-1298431ed1ac",
   "metadata": {},
   "outputs": [],
   "source": [
    "%matplotlib inline\n",
    "\n",
    "import matplotlib.pyplot as plt\n",
    "\n",
    "# create two arrays which depends on each other (have the same length)\n",
    "x = np.arange(-100,100,1)\n",
    "y = x**2\n",
    "\n",
    "# create a mask from one array\n",
    "ind = x >= 50\n",
    "\n",
    "# plot the masked values only\n",
    "\n",
    "fig, ax = plt.subplots()\n",
    "\n",
    "#ax.plot(x,y)\n",
    "ax.plot(x[ind], y[ind])"
   ]
  },
  {
   "cell_type": "markdown",
   "id": "ef4508e2-d3bb-4916-94c9-dd1a001c4bf9",
   "metadata": {},
   "source": [
    "**Note:** Sorting is another example, where you can sort with a mask several arrays which appear as a line swapping in tables!"
   ]
  },
  {
   "cell_type": "markdown",
   "id": "feec7f46-69b6-4fa5-ba85-11e0f4912b1e",
   "metadata": {},
   "source": [
    "----"
   ]
  },
  {
   "cell_type": "code",
   "execution_count": null,
   "id": "a355fe56-b1d6-4a5b-bc84-015bd7d43f02",
   "metadata": {},
   "outputs": [],
   "source": []
  }
 ],
 "metadata": {
  "kernelspec": {
   "display_name": "Python 3 (ipykernel)",
   "language": "python",
   "name": "python3"
  },
  "language_info": {
   "codemirror_mode": {
    "name": "ipython",
    "version": 3
   },
   "file_extension": ".py",
   "mimetype": "text/x-python",
   "name": "python",
   "nbconvert_exporter": "python",
   "pygments_lexer": "ipython3",
   "version": "3.10.10"
  }
 },
 "nbformat": 4,
 "nbformat_minor": 5
}
