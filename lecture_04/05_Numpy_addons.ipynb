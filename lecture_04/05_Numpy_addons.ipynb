{
 "cells": [
  {
   "cell_type": "markdown",
   "id": "98b2f399-dcb9-48ff-83df-e1b7a644ee3e",
   "metadata": {},
   "source": [
    "# Numpy-Addons"
   ]
  },
  {
   "cell_type": "markdown",
   "id": "4d2df61c-90af-4524-a458-f9e13cbad651",
   "metadata": {},
   "source": [
    "---"
   ]
  },
  {
   "cell_type": "markdown",
   "id": "bed50981-b674-434f-97b0-b6032f452a7b",
   "metadata": {},
   "source": [
    "In this notebook we want to briefly address a few additional things:\n",
    "\n",
    " * random numbers\n",
    " * brief introduction of multi-dimensional arrays"
   ]
  },
  {
   "cell_type": "markdown",
   "id": "fa58b280-805a-4b03-b5ff-2b7ff45c23ab",
   "metadata": {},
   "source": [
    "---"
   ]
  },
  {
   "cell_type": "markdown",
   "id": "40264be1-1114-4414-beda-823e56e7c774",
   "metadata": {},
   "source": [
    "## 1. Random numbers"
   ]
  },
  {
   "cell_type": "markdown",
   "id": "21bf853a-54da-4e26-982d-5c218adec556",
   "metadata": {},
   "source": [
    "A sub modul of `numpy` provides the access to random numbers:"
   ]
  },
  {
   "cell_type": "code",
   "execution_count": 10,
   "id": "e008c724-7d1d-4278-a782-14b6e1256a1b",
   "metadata": {},
   "outputs": [
    {
     "name": "stdout",
     "output_type": "stream",
     "text": [
      "[0.23703882 0.67681703 0.73267367 0.82697655 0.53752451]\n",
      "[0.21625109 0.91461341 0.96265383 0.76715558 0.67394131]\n"
     ]
    }
   ],
   "source": [
    "# standard header\n",
    "\n",
    "import numpy as np\n",
    "import numpy.random as nr\n",
    "\n",
    "\n",
    "print(nr.random(size=5))   # create 5 random numbers between 0 and <1 (open intervall)\n",
    "print(nr.uniform(size=5))  # the same ;-)"
   ]
  },
  {
   "cell_type": "markdown",
   "id": "27c887df-7b5b-4191-a181-ee632ca2b4af",
   "metadata": {},
   "source": [
    "`nr.random` creates *uniform* random numbers, whereas `nr.normal` creates random numbers which follows a gaussian distribution:"
   ]
  },
  {
   "cell_type": "code",
   "execution_count": 11,
   "id": "f081b825-ceaa-4022-b12b-66c3de6d7b7e",
   "metadata": {},
   "outputs": [
    {
     "name": "stdout",
     "output_type": "stream",
     "text": [
      "[3.70461266 5.82476628 5.10473351 5.44327257 3.46298127 4.83045628\n",
      " 6.23870633 6.46644158 5.48337018 3.66027847]\n"
     ]
    }
   ],
   "source": [
    "# standard header\n",
    "\n",
    "import numpy as np\n",
    "import numpy.random as nr\n",
    "\n",
    "print(nr.normal(5,1,size=10))  # create 10 random numbers with a locus of 5 and width of 1"
   ]
  },
  {
   "cell_type": "markdown",
   "id": "a08c50bd-1e78-4107-9f1e-f288d220a917",
   "metadata": {},
   "source": [
    "---"
   ]
  },
  {
   "cell_type": "markdown",
   "id": "3b2f4d47-adfd-4b04-9703-33e4cdcc7152",
   "metadata": {},
   "source": [
    "## 2. Multi-dimensional arrays"
   ]
  },
  {
   "cell_type": "markdown",
   "id": "29408557-b733-4109-815e-3903717bbfbe",
   "metadata": {},
   "source": [
    "In the previous lecture we have introduced 1d-`numpy`-arrays. In many cases it is necessary to have multi-dimensional arrays, e.g. matrices which can be represented as 2d-arrays. The general syntax in the creation is, that one defines a starting axis and the elements are not numbers but also arrays. So you can define recursively multi-dimensional arrays:"
   ]
  },
  {
   "cell_type": "code",
   "execution_count": 2,
   "id": "7b0d4d61-68d8-4417-84f5-297903a25d09",
   "metadata": {},
   "outputs": [
    {
     "name": "stdout",
     "output_type": "stream",
     "text": [
      "[[1 2]\n",
      " [3 4]]\n"
     ]
    }
   ],
   "source": [
    "import numpy as np\n",
    "\n",
    "a = np.array([[1,2], [3,4]])   # creation of a 2d array, keep an eye on the brackets!\n",
    "\n",
    "print(a)"
   ]
  },
  {
   "cell_type": "markdown",
   "id": "14732f7a-3427-455d-9d7c-a2806215358e",
   "metadata": {},
   "source": [
    "Indexing of multi-dimensional arrays is as easy as for 1d-arrays:"
   ]
  },
  {
   "cell_type": "code",
   "execution_count": 5,
   "id": "b63665ae-e6b3-43b0-88e6-abae02afbe6d",
   "metadata": {},
   "outputs": [
    {
     "name": "stdout",
     "output_type": "stream",
     "text": [
      "[[1 2 3 4]\n",
      " [5 6 7 8]]\n",
      "1\n",
      "8\n"
     ]
    }
   ],
   "source": [
    "import numpy as np\n",
    "\n",
    "a = np.array([[1,2,3,4], [5,6,7,8]])\n",
    "\n",
    "print(a)\n",
    "print(a[0,0])  # first element, first row\n",
    "print(a[1,-1]) # last element, second row"
   ]
  },
  {
   "cell_type": "markdown",
   "id": "8e386af8-6133-4177-a6de-505fef8d8baa",
   "metadata": {},
   "source": [
    "Indices for all dimensions have to be comma separated, starting with the first axis."
   ]
  },
  {
   "cell_type": "code",
   "execution_count": 7,
   "id": "3d351e11-271c-4e40-9c5f-ae04eb8dc52a",
   "metadata": {},
   "outputs": [
    {
     "name": "stdout",
     "output_type": "stream",
     "text": [
      "[[1 2 3 4]\n",
      " [5 6 7 8]]\n",
      "[1 2 3 4]\n",
      "[2 6]\n"
     ]
    }
   ],
   "source": [
    "import numpy as np\n",
    "\n",
    "a = np.array([[1,2,3,4], [5,6,7,8]])\n",
    "\n",
    "print(a)\n",
    "print(a[0])     # access the first row completely\n",
    "print(a[:,1])   # access the second column completely, the : is indicating all values!"
   ]
  },
  {
   "cell_type": "markdown",
   "id": "0c229803-c4a6-45fa-bc20-1489d0e0e887",
   "metadata": {},
   "source": [
    "Modifying arrays is working similar. You can simply transfer all methods from the 1d-arrays to the multi-dimensional arrays."
   ]
  },
  {
   "cell_type": "markdown",
   "id": "39e5d798-7bb6-429c-a607-e032eaa8b20d",
   "metadata": {},
   "source": [
    "**Note:** Alls mathematical operations on multi-dimensional arrays are working elementwise!"
   ]
  },
  {
   "cell_type": "markdown",
   "id": "073b641c-6737-4b66-8e91-a7c55a73dc87",
   "metadata": {},
   "source": [
    "---"
   ]
  },
  {
   "cell_type": "markdown",
   "id": "4f98394c-4508-4a88-93e6-0f98eabaeda8",
   "metadata": {},
   "source": [
    "For one of the coming projects it is necessary to initialize special arrays which holds the position $r = (x,y)$ and velocities $v=(v_x,v_y)$ for $N$ objects, lets have a look at an example with $N=10$:"
   ]
  },
  {
   "cell_type": "code",
   "execution_count": 23,
   "id": "706f14f2-3e95-4f52-a7d6-dddc8d508084",
   "metadata": {},
   "outputs": [
    {
     "name": "stdout",
     "output_type": "stream",
     "text": [
      "[[0.01276241 0.18190411 0.35842044 0.76091004 0.03723948 0.64821526\n",
      "  0.47704637 0.49869549 0.0179028  0.71122818]\n",
      " [0.11757684 0.51821668 0.71576306 0.27031487 0.7401418  0.9007943\n",
      "  0.62067077 0.31826053 0.50368039 0.0397421 ]]\n"
     ]
    }
   ],
   "source": [
    "import numpy as np\n",
    "import numpy.random as nr\n",
    "\n",
    "N = 10\n",
    "r = nr.random(size=(2,N))  # create a 2d array with all information\n",
    "\n",
    "print(r)"
   ]
  },
  {
   "cell_type": "markdown",
   "id": "401b7a41-ce57-4b8d-84a5-d5ef1713b79a",
   "metadata": {},
   "source": [
    "In this case size is not a number, but gives a layout of the created array, two rows with $N$ columns."
   ]
  },
  {
   "cell_type": "markdown",
   "id": "2c5199ea-8783-46d5-b831-ff42c8f489e7",
   "metadata": {},
   "source": [
    "If you need for example all $x$ positions in an array back, you can use:"
   ]
  },
  {
   "cell_type": "code",
   "execution_count": 24,
   "id": "9ffb06ab-cb59-47eb-a91e-7fb3b040e337",
   "metadata": {},
   "outputs": [
    {
     "name": "stdout",
     "output_type": "stream",
     "text": [
      "[0.01276241 0.18190411 0.35842044 0.76091004 0.03723948 0.64821526\n",
      " 0.47704637 0.49869549 0.0179028  0.71122818]\n",
      "[0.11757684 0.51821668 0.71576306 0.27031487 0.7401418  0.9007943\n",
      " 0.62067077 0.31826053 0.50368039 0.0397421 ]\n"
     ]
    }
   ],
   "source": [
    "x = r[0]  # the x positions of all N objects \n",
    "y = r[1]  # the y positions of all N objects\n",
    "\n",
    "print(x)\n",
    "print(y)"
   ]
  },
  {
   "cell_type": "markdown",
   "id": "30e82d2c-c8b2-4b50-9101-a07164c10e50",
   "metadata": {},
   "source": [
    "On the other hand, if you want to address the second object directly with the complete position:"
   ]
  },
  {
   "cell_type": "code",
   "execution_count": 25,
   "id": "2be218a3-6861-43f2-b107-32070c55f450",
   "metadata": {},
   "outputs": [
    {
     "name": "stdout",
     "output_type": "stream",
     "text": [
      "[0.18190411 0.51821668]\n"
     ]
    }
   ],
   "source": [
    "print(r[:,1]) # prints the vector belonging to the second object"
   ]
  },
  {
   "cell_type": "markdown",
   "id": "f61fe0e8-5bc5-45ee-a017-09a8aeb20e61",
   "metadata": {},
   "source": [
    "Updating all $x$ positions at the same time can be done with this command:"
   ]
  },
  {
   "cell_type": "code",
   "execution_count": 26,
   "id": "1b93d035-5c26-41a1-93e2-efdfe2bcf12d",
   "metadata": {},
   "outputs": [
    {
     "name": "stdout",
     "output_type": "stream",
     "text": [
      "[[0.01276241 0.18190411 0.35842044 0.76091004 0.03723948 0.64821526\n",
      "  0.47704637 0.49869549 0.0179028  0.71122818]\n",
      " [0.11757684 0.51821668 0.71576306 0.27031487 0.7401418  0.9007943\n",
      "  0.62067077 0.31826053 0.50368039 0.0397421 ]]\n",
      "[[10.01276241 10.18190411 10.35842044 10.76091004 10.03723948 10.64821526\n",
      "  10.47704637 10.49869549 10.0179028  10.71122818]\n",
      " [ 0.11757684  0.51821668  0.71576306  0.27031487  0.7401418   0.9007943\n",
      "   0.62067077  0.31826053  0.50368039  0.0397421 ]]\n"
     ]
    }
   ],
   "source": [
    "print(r)\n",
    "r[0] += 10    # change only the x positions\n",
    "print(r)"
   ]
  },
  {
   "cell_type": "markdown",
   "id": "90d04626-09fe-43f8-8f6c-a23406364efe",
   "metadata": {},
   "source": [
    "Also masking works fine for $x$ positions selections. Change only $x$ values which are larger than `0.5`:"
   ]
  },
  {
   "cell_type": "code",
   "execution_count": 15,
   "id": "51a3f745-de2f-42d2-84cc-08014625ea00",
   "metadata": {},
   "outputs": [
    {
     "name": "stdout",
     "output_type": "stream",
     "text": [
      "[0.38673008 0.84130512 0.66678384 0.94867973 0.52456688 0.10021775\n",
      " 0.13854047 0.92200934 0.46187114 0.42334037]\n",
      "[ 0.38673008 10.84130512 10.66678384 10.94867973 10.52456688  0.10021775\n",
      "  0.13854047 10.92200934  0.46187114  0.42334037]\n"
     ]
    }
   ],
   "source": [
    "N = 10\n",
    "r = nr.random(size=(2,N))  # create a 2d array with all information\n",
    "\n",
    "print(r[0])\n",
    "\n",
    "mask = r[0] > 0.5   # x > 5\n",
    "r[0,mask] += 10\n",
    "\n",
    "print(r[0])"
   ]
  },
  {
   "cell_type": "markdown",
   "id": "a4d31084-3d82-4aa5-912b-76c41d7cb77d",
   "metadata": {},
   "source": [
    "---"
   ]
  },
  {
   "cell_type": "code",
   "execution_count": null,
   "id": "4c708a69-b5f9-4a8a-b326-28aaae6b3eff",
   "metadata": {},
   "outputs": [],
   "source": []
  }
 ],
 "metadata": {
  "kernelspec": {
   "display_name": "Python 3 (ipykernel)",
   "language": "python",
   "name": "python3"
  },
  "language_info": {
   "codemirror_mode": {
    "name": "ipython",
    "version": 3
   },
   "file_extension": ".py",
   "mimetype": "text/x-python",
   "name": "python",
   "nbconvert_exporter": "python",
   "pygments_lexer": "ipython3",
   "version": "3.10.10"
  }
 },
 "nbformat": 4,
 "nbformat_minor": 5
}
