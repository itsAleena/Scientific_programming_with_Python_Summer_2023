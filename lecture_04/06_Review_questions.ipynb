{
 "cells": [
  {
   "cell_type": "markdown",
   "id": "00becf01-e5c7-4900-8ddc-ef35e156ceb3",
   "metadata": {
    "tags": []
   },
   "source": [
    "# Review Tasks for the lecture"
   ]
  },
  {
   "cell_type": "markdown",
   "id": "97381966-e88c-47d5-a182-a432c9caa013",
   "metadata": {},
   "source": [
    "Here some small tasks with that you should be able to do directly after the lecture. We strongly advise you to look at them before the exercise. It gives you the opportunity to check what you did not yet understand and to ask your tutor in the case of problems."
   ]
  },
  {
   "cell_type": "markdown",
   "id": "05347f85-7074-4b5f-b963-9ba48aec63c0",
   "metadata": {},
   "source": [
    "Take an integer array from `0` to `20` use masking to select:\n",
    "\n",
    " * all values in between 6 and 13\n",
    " * all values except 6 and 13\n",
    " * all values outside the intervall of 6 until 13"
   ]
  },
  {
   "cell_type": "code",
   "execution_count": 8,
   "id": "c55ca6b4-5b8e-42db-965f-1fa549bcdedf",
   "metadata": {},
   "outputs": [],
   "source": [
    "# Your solutions here please"
   ]
  },
  {
   "cell_type": "markdown",
   "id": "ebf45e75-5046-4ea2-8411-5a0ffce1678a",
   "metadata": {},
   "source": [
    "You have given this array $a$ and printed every second element. Create a mask which produces the same result!\n",
    "\n",
    "```Python\n",
    "a = np.array([1,5,2,9,3,6,4,7])\n",
    "\n",
    "print(a[1::2])\n",
    "```"
   ]
  },
  {
   "cell_type": "code",
   "execution_count": null,
   "id": "7fd99309-0047-434f-8c34-43ba7522f346",
   "metadata": {},
   "outputs": [],
   "source": [
    "# Your solution here please"
   ]
  },
  {
   "cell_type": "markdown",
   "id": "1a5431aa-5e8f-409a-900a-6def6d05f2fd",
   "metadata": {},
   "source": [
    "## Functions"
   ]
  },
  {
   "cell_type": "markdown",
   "id": "22b3dbbb-1ff5-46a9-bcdb-2d2f6cc4fa20",
   "metadata": {},
   "source": [
    "In the lecture a function `to_cartesian` was defined to calculate $x$ and $y$ from $r$ and $\\theta$. Please write the according function `from_cartesian` which takes $x$ and $y$ and returns $r$ and $\\theta$."
   ]
  },
  {
   "cell_type": "code",
   "execution_count": 3,
   "id": "1867f26f-37bb-4754-ac77-d0338c407a73",
   "metadata": {},
   "outputs": [],
   "source": [
    "# Your solution here please"
   ]
  },
  {
   "cell_type": "markdown",
   "id": "5f2fc744-46e0-4752-87f1-8e54bbe97cc9",
   "metadata": {},
   "source": [
    "---"
   ]
  },
  {
   "cell_type": "markdown",
   "id": "1044bb0d-dde4-4e77-8ac2-10f06d9dbc3e",
   "metadata": {},
   "source": [
    "## Random numbers"
   ]
  },
  {
   "cell_type": "markdown",
   "id": "2c09088d-ae61-4378-9634-aa312b67e4c9",
   "metadata": {},
   "source": [
    "When you use `nr.random` you will get uniform numbers out of the interval $[0,0)$. How do you get numbers from an interval $[a,b)$? (Use $a=-10$, $b=5$)! "
   ]
  },
  {
   "cell_type": "code",
   "execution_count": 1,
   "id": "c6289f33-d591-4a4d-b48d-c0f5b06c9e63",
   "metadata": {},
   "outputs": [],
   "source": [
    "# Your solution here please"
   ]
  },
  {
   "cell_type": "markdown",
   "id": "1fdbcfed-766a-44b3-8209-16cd0785c883",
   "metadata": {},
   "source": [
    "Show in two simple histograms, that $N=1000$ random numbers follow the desired distribution. Use in the first plot *uniform* numbers and in the second plot *gaussion* (loc=5, width=1) numbers."
   ]
  },
  {
   "cell_type": "code",
   "execution_count": 2,
   "id": "fa516c35-addc-4b72-89da-93141a6757dd",
   "metadata": {},
   "outputs": [],
   "source": [
    "# Your solution here please"
   ]
  }
 ],
 "metadata": {
  "kernelspec": {
   "display_name": "Python 3 (ipykernel)",
   "language": "python",
   "name": "python3"
  },
  "language_info": {
   "codemirror_mode": {
    "name": "ipython",
    "version": 3
   },
   "file_extension": ".py",
   "mimetype": "text/x-python",
   "name": "python",
   "nbconvert_exporter": "python",
   "pygments_lexer": "ipython3",
   "version": "3.9.10"
  }
 },
 "nbformat": 4,
 "nbformat_minor": 5
}
