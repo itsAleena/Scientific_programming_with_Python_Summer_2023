{
 "cells": [
  {
   "cell_type": "markdown",
   "id": "c23bbc4a-e138-4174-bbc2-6a77ba91ee57",
   "metadata": {},
   "source": [
    "# Functions"
   ]
  },
  {
   "cell_type": "markdown",
   "id": "a6c58fd1-6756-426e-b9d8-e3e06272818a",
   "metadata": {},
   "source": [
    "----\n",
    "\n",
    "In this notebook we will show how to write your own functions in Python.\n",
    "\n",
    "----"
   ]
  },
  {
   "cell_type": "markdown",
   "id": "46cd4b65-f9dd-48ee-b8c1-a5f3fac83565",
   "metadata": {},
   "source": [
    "Als Begleitmaterialien für den Python-Teil der Vorlesung haben wir auch ein Online-Tutorial eingerichtet. Dieses beinhaltet die Basis-Themen rund um Python so, wie wir es in der Vorlesung, Hausaufgaben und Projekten einsetzen werden.\n",
    "\n",
    "Sie finden das Online-Tutorial [hier](https://binderhub.astro.uni-bonn.de/v2/gh/ocordes/Python_Tutorial_Deutsch.git/HEAD?urlpath=%2Flab)\n",
    "\n",
    "Für einige Themen sind auch Video-Umsetzungen vorhanden. Die gezeigten Materialien können u.U. von dem im Tutorial abweichen! Beides soll sich ergänzen!\n",
    "\n",
    "\n",
    "Für die kommende Übung schauen Sie sich bitte diese Lektionen an:\n",
    "\n",
    " -  [Einführung](https://binderhub.astro.uni-bonn.de/v2/gh/ocordes/Python_Tutorial_Deutsch.git/HEAD?urlpath=%2Flab/tree/Lektion%2000%3A%20Wie%20benutze%20ich%20das%20Tutorial.ipynb)\n",
    " -  [Zahlen, Variablen und Zuweisungen](https://binderhub.astro.uni-bonn.de/v2/gh/ocordes/Python_Tutorial_Deutsch.git/HEAD?urlpath=%2Flab/tree/Lektion%2001%3A%20Zahlen%2C%20Variablen%20und%20Zuweisungen.ipynb)\n",
    " -  [Boolesche Ausdrücke und while-Schleifen](https://binderhub.astro.uni-bonn.de/v2/gh/ocordes/Python_Tutorial_Deutsch.git/HEAD?urlpath=%2Flab/tree/Lektion%2002%3A%20Boolesche%20Ausdr%C3%BCcke%2C%20Bedingungen%2C%20und%20while-Schleifen.ipynb)\n",
    " -  [Module, Konvertierungen und Hilfen](https://binderhub.astro.uni-bonn.de/v2/gh/ocordes/Python_Tutorial_Deutsch.git/HEAD?urlpath=%2Flab/tree/Lektion%2003%3A%20Module%2C%20Konvertierungen%20und%20Hilfen.ipynb)\n",
    "   \n",
    "   "
   ]
  },
  {
   "cell_type": "markdown",
   "id": "69ec06ef-9b9c-42e0-bdc8-43ee953a35d2",
   "metadata": {},
   "source": [
    "----"
   ]
  },
  {
   "cell_type": "markdown",
   "id": "0e8b1a1d-9c26-4ffb-825d-f164cc8526e2",
   "metadata": {},
   "source": [
    "## 1. Motivation of functions"
   ]
  },
  {
   "cell_type": "markdown",
   "id": "0a317a2d-f7f4-4bc1-b9aa-1be32ee9ac01",
   "metadata": {},
   "source": [
    "If you have the same code or parts of code in your program, you can put these parts into *functions*.\n",
    "\n",
    "**Advantages:**\n",
    " * you have to write the code (or algorithm) only once\n",
    " * easy to modify, then valid for the whole program\n",
    " * easy to test and to debug\n",
    " * exchange of code with others is easier with functions\n",
    " * algorithms can be fully working in the function independ of the other code (black boxing)"
   ]
  },
  {
   "cell_type": "markdown",
   "id": "839187ec-0a1c-46bd-8615-35222f8c9564",
   "metadata": {},
   "source": [
    "## 2. A sample function"
   ]
  },
  {
   "cell_type": "markdown",
   "id": "10d84d7a-30e3-4ed0-aa46-892ed3cd6916",
   "metadata": {},
   "source": [
    "A trivial example is the currency calculator:\n",
    "\n",
    "__How much are 10$ in Euros?__"
   ]
  },
  {
   "cell_type": "code",
   "execution_count": null,
   "id": "f26d3206-17ba-4e40-9360-4bb80fc54d91",
   "metadata": {},
   "outputs": [],
   "source": [
    "# the price for one dollar\n",
    "dollar = 1.09 # in euro\n",
    "\n",
    "print(10*dollar, '€')"
   ]
  },
  {
   "cell_type": "markdown",
   "id": "0b262f36-81b7-4fd8-a3ea-0c1be6ebca1d",
   "metadata": {},
   "source": [
    "This can be done inside a function:"
   ]
  },
  {
   "cell_type": "code",
   "execution_count": null,
   "id": "34a48564-a39a-4584-8960-8eeffdd27771",
   "metadata": {},
   "outputs": [],
   "source": [
    "def dollar2euro(euros):   # function with argument\n",
    "    # the price for one dollar\n",
    "    dollar = 1.09 # in euro\n",
    "\n",
    "    print(euros*dollar, '€')\n",
    "    \n",
    "dollar2euro(10)   # 10 dollars in euros\n",
    "dollar2euro(2.5)  # 2.5 dollars in euros"
   ]
  },
  {
   "cell_type": "markdown",
   "id": "0f26d8e6-802a-44a3-8772-5ed1ab86b22b",
   "metadata": {},
   "source": [
    "The general syntax is:\n",
    "\n",
    "```Python\n",
    "def functionname(arguments):  # arguments are optional\n",
    "    # block, if condition is true\n",
    " \n",
    "    return return_values # return definition is optional\n",
    "\n",
    "```"
   ]
  },
  {
   "cell_type": "markdown",
   "id": "1981d760-19db-48d4-b1fb-4ca9bcc56e3e",
   "metadata": {},
   "source": [
    "**Note:** Please choose a good describing name for your function!"
   ]
  },
  {
   "cell_type": "markdown",
   "id": "30e0cb12-06a9-4a50-b9e1-a64a05fc8a05",
   "metadata": {},
   "source": [
    "## 3. Return values"
   ]
  },
  {
   "cell_type": "markdown",
   "id": "09083cb0-6a2d-4514-9e99-f9ef4f5eec82",
   "metadata": {},
   "source": [
    "Functions can return results:"
   ]
  },
  {
   "cell_type": "code",
   "execution_count": null,
   "id": "a72b1a49-ea82-4e9e-bb98-f9f20ffdd0bd",
   "metadata": {},
   "outputs": [],
   "source": [
    "def dollar2euro(euros):   # function with argument\n",
    "    # the price for one dollar\n",
    "    dollar = 1.09 # in euro\n",
    "\n",
    "    return euros*dollar\n",
    "\n",
    "def dollar2euro_2(euros):   # function with argument\n",
    "    # the price for one dollar\n",
    "    dollar = 1.09 # in euro\n",
    "\n",
    "    print(euros*dollar, '€')\n",
    "    \n",
    "print(dollar2euro(10), '€')   # 10 dollars in euros\n",
    "print(dollar2euro(2.5), '€')  # 2.5 dollars in euros\n",
    "print('---')\n",
    "print(dollar2euro_2(10), '€')   # 10 dollars in euros\n",
    "print(dollar2euro_2(2.5), '€')  # 2.5 dollars in euros\n",
    "\n",
    "# you don't need to use the results\n",
    "dollar2euro(1234)\n",
    "\n",
    "print('Done.')   # this is an ugly trick to prevent of printing the last result!"
   ]
  },
  {
   "cell_type": "markdown",
   "id": "6e2d60f4-f1a4-4ff1-bf2e-df4d60c4763d",
   "metadata": {},
   "source": [
    "**Note:** Even if you don't define a return value, `None` will be returned. In any case you don't need to use the return values!"
   ]
  },
  {
   "cell_type": "markdown",
   "id": "b4aecc0a-ecae-4b05-b2f5-b180a300fed4",
   "metadata": {},
   "source": [
    "## 4. Arguments with names"
   ]
  },
  {
   "cell_type": "markdown",
   "id": "8373c263-df4c-413a-bf91-5ae8dbdc81d5",
   "metadata": {},
   "source": [
    "Arguments can also have names, which are optional. The named arguments have a default value which will be used if the argument is not addressed during the call."
   ]
  },
  {
   "cell_type": "code",
   "execution_count": null,
   "id": "93f242b6-2eff-458a-97e4-4213a06bdf29",
   "metadata": {},
   "outputs": [],
   "source": [
    "dollar = 1.02 # in euro\n",
    "pound = 0.88 # in euro\n",
    "\n",
    "def money2euro(euros, money=1.09):\n",
    "    return euros*money\n",
    "\n",
    "print(money2euro(10), '€')\n",
    "print(money2euro(100, money=pound), '€')\n",
    "print(money2euro(100, pound), '€')       # possible, but not best strategy, since you don't know which named argument is used!"
   ]
  },
  {
   "cell_type": "markdown",
   "id": "3342bdc5-14ac-413f-a0ec-e642e30c4268",
   "metadata": {},
   "source": [
    "**Note:** Named arguments must be defined after the unnamed arguments! In the function call use always the name of the arguments while setting values to prevent your code from generating problems!"
   ]
  },
  {
   "cell_type": "markdown",
   "id": "d6a984d5-d0ed-452f-aeb8-4eafaf89ee82",
   "metadata": {},
   "source": [
    "## 5. Multiple return values"
   ]
  },
  {
   "cell_type": "markdown",
   "id": "0a7dd562-4081-46a1-930f-0273a1208678",
   "metadata": {},
   "source": [
    "You can also return multiple values (comma separated):"
   ]
  },
  {
   "cell_type": "code",
   "execution_count": null,
   "id": "7322f3c2-28f6-4716-8b46-2161c8806000",
   "metadata": {},
   "outputs": [],
   "source": [
    "import numpy as np\n",
    "\n",
    "# to_cartesian\n",
    "#\n",
    "# calculate from polar coordinates r, theta to \n",
    "# cartesian coordinates x, y\n",
    "def to_cartesian(r, theta):\n",
    "    x = r * np.cos(theta)\n",
    "    y = r * np.sin(theta)\n",
    "    \n",
    "    return x, y\n",
    "\n",
    "\n",
    "x, y = to_cartesian(np.sqrt(2), 45*np.pi/180.)\n",
    "\n",
    "print(x, y)"
   ]
  },
  {
   "cell_type": "markdown",
   "id": "92361404-4f53-498d-828f-ab7de0c07078",
   "metadata": {},
   "source": [
    "## 6. Additionally notes for functions"
   ]
  },
  {
   "cell_type": "markdown",
   "id": "995dd6fe-52f2-47ba-83a2-f6f625a7d5ca",
   "metadata": {},
   "source": [
    "### 6.1 Arguments as variables"
   ]
  },
  {
   "cell_type": "markdown",
   "id": "82057521-6dd9-4ded-976b-58183f77c44b",
   "metadata": {},
   "source": [
    "All arguments acts like varibales inside the function bodies:\n",
    " * they can be changed\n",
    " * scalar argument types are **not** bounded to calling variables\n",
    " * container arguments can be modified, but not overwritten!"
   ]
  },
  {
   "cell_type": "code",
   "execution_count": null,
   "id": "f9b74b1b-a95d-4998-a757-418abc3eb196",
   "metadata": {},
   "outputs": [],
   "source": [
    "def func_a(y):\n",
    "    y = y + 1\n",
    "    y = 1.2\n",
    "    \n",
    "x = 100\n",
    "print(x)\n",
    "func_a(x)\n",
    "print(x)"
   ]
  },
  {
   "cell_type": "markdown",
   "id": "0a8997d0-bae3-4a17-8a30-85be71bc0eb3",
   "metadata": {},
   "source": [
    "but:"
   ]
  },
  {
   "cell_type": "code",
   "execution_count": null,
   "id": "b40635dc-f6df-4b7e-b7c8-edae0cee34e3",
   "metadata": {},
   "outputs": [],
   "source": [
    "import numpy as np\n",
    "\n",
    "def func_b(y):\n",
    "    y *= 10       # y will be modified\n",
    "    \n",
    "def func_c(y):\n",
    "    y = y * 10    # y will be overwritten\n",
    "    \n",
    "x = np.arange(1,10,1)\n",
    "print(x)\n",
    "func_b(x)\n",
    "print(x)\n",
    "func_c(x)\n",
    "print(x)"
   ]
  },
  {
   "cell_type": "markdown",
   "id": "2521f691-ed76-4416-bfe1-8ceb9fcba7ca",
   "metadata": {},
   "source": [
    "### 6.2 Variables inside functions"
   ]
  },
  {
   "cell_type": "markdown",
   "id": "bb4aa750-1ca8-4d57-8937-a89eb7e6c645",
   "metadata": {},
   "source": [
    "Variabels which are defined inside functions, cannot be accessed from outside. Identical variable names are allowed!"
   ]
  },
  {
   "cell_type": "code",
   "execution_count": null,
   "id": "38e5fbac-b430-4702-b23a-5f8180da2dce",
   "metadata": {},
   "outputs": [],
   "source": [
    "def func_a(y):\n",
    "    z2 = y + 1\n",
    "    \n",
    "func_a(100)\n",
    "print(z2)     # is not defined"
   ]
  },
  {
   "cell_type": "markdown",
   "id": "f3d4b583-6fff-4470-a543-63bad1cc2a8c",
   "metadata": {},
   "source": [
    "or:"
   ]
  },
  {
   "cell_type": "code",
   "execution_count": null,
   "id": "c9e6e3ee-5445-4617-a6bf-dea4e8d9dc96",
   "metadata": {},
   "outputs": [],
   "source": [
    "def func_a(y):\n",
    "    z2 = y + 1\n",
    "    \n",
    "z2 = 100\n",
    "func_a(z2)\n",
    "print(z2)    # does not interfere with the function variable y"
   ]
  },
  {
   "cell_type": "code",
   "execution_count": null,
   "id": "08736b94-e520-418e-9f1e-e99240e49f79",
   "metadata": {},
   "outputs": [],
   "source": []
  }
 ],
 "metadata": {
  "kernelspec": {
   "display_name": "Python 3 (ipykernel)",
   "language": "python",
   "name": "python3"
  },
  "language_info": {
   "codemirror_mode": {
    "name": "ipython",
    "version": 3
   },
   "file_extension": ".py",
   "mimetype": "text/x-python",
   "name": "python",
   "nbconvert_exporter": "python",
   "pygments_lexer": "ipython3",
   "version": "3.9.10"
  }
 },
 "nbformat": 4,
 "nbformat_minor": 5
}
