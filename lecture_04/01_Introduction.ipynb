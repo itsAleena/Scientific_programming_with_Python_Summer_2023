{
 "cells": [
  {
   "cell_type": "markdown",
   "id": "b695c187-1eb9-4096-aa4b-a133fa70b529",
   "metadata": {
    "tags": []
   },
   "source": [
    "# Lecture 4 - April 28 2023"
   ]
  },
  {
   "cell_type": "markdown",
   "id": "cb94e8da-bc8a-4046-be31-44de9e9bba1a",
   "metadata": {},
   "source": [
    "---\n",
    "\n",
    "**Topics of this lecture:**\n",
    "\n",
    " * Masking and indexing of numpy-arrays\n",
    " * Function in Python\n",
    " * Animation with Matplotlib\n",
    " * Random numbers and some ideas\n",
    " \n",
    "----"
   ]
  },
  {
   "cell_type": "code",
   "execution_count": null,
   "id": "d18ef429-0e57-4d36-9e40-b2d304590b22",
   "metadata": {},
   "outputs": [],
   "source": []
  }
 ],
 "metadata": {
  "kernelspec": {
   "display_name": "Python 3 (ipykernel)",
   "language": "python",
   "name": "python3"
  },
  "language_info": {
   "codemirror_mode": {
    "name": "ipython",
    "version": 3
   },
   "file_extension": ".py",
   "mimetype": "text/x-python",
   "name": "python",
   "nbconvert_exporter": "python",
   "pygments_lexer": "ipython3",
   "version": "3.10.10"
  }
 },
 "nbformat": 4,
 "nbformat_minor": 5
}
