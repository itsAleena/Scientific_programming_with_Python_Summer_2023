{
 "cells": [
  {
   "cell_type": "markdown",
   "id": "2a3aa8ac-8953-4845-867c-8e72c39dee8a",
   "metadata": {},
   "source": [
    "# Animations with matplotlib"
   ]
  },
  {
   "cell_type": "markdown",
   "id": "63069f58-0624-4e47-a6fd-f20d23f0311c",
   "metadata": {},
   "source": [
    "---\n",
    "\n",
    "In this notebook we want to show you some principles of doing animations with matplotlib.\n",
    "\n",
    "---"
   ]
  },
  {
   "cell_type": "markdown",
   "id": "9a344e21-3bb3-4981-b235-155e5e4cf000",
   "metadata": {},
   "source": [
    "## Motiviations"
   ]
  },
  {
   "cell_type": "markdown",
   "id": "1bc5adc9-f0af-4f46-b08b-9d0598e9afd4",
   "metadata": {},
   "source": [
    "Visualisation with matplotlib is always simple and fun, but for some tasks especially during simulations it sometimes necessary to visualize the progress or changes or variables. One can of course simply print the content of variables, but if you work with thousands of values printing is not working anymore. \n",
    "\n",
    "Animations, in which each frame represents a step in a simulation or data reduction/analysis (assume that all steps can be exchanged and have the same set of variables) can be a solution."
   ]
  },
  {
   "cell_type": "markdown",
   "id": "19d6302f-0850-4cee-847d-5f25f1cc40a3",
   "metadata": {},
   "source": [
    "The matplotlib module has the possibility to create animations. We will show you examples, to demonstrate how to write some nice animations very quickly:"
   ]
  },
  {
   "cell_type": "markdown",
   "id": "6b94d70a-b020-48ec-86b0-1579c40d7ffe",
   "metadata": {},
   "source": [
    "## Example 1 - Moving sine function"
   ]
  },
  {
   "cell_type": "code",
   "execution_count": null,
   "id": "6503ebad-1886-499e-af60-5e5dd449ceee",
   "metadata": {},
   "outputs": [],
   "source": [
    "%matplotlib inline\n",
    "\n",
    "import numpy as np\n",
    "import numpy.random as nr\n",
    "\n",
    "import matplotlib.pyplot as plt\n",
    "\n",
    "# for animation\n",
    "from matplotlib.animation import FuncAnimation\n",
    "from IPython.display import HTML\n",
    "\n",
    "# setup the figure environment\n",
    "fig, ax = plt.subplots(figsize=(10,5))\n",
    "\n",
    "# not usefull, since this will be overwritten by ax.clear()\n",
    "ax.set_xlim(0,2*np.pi)\n",
    "ax.set_ylim(-1.2,1.2)\n",
    "\n",
    "# define the animation variables\n",
    "x = np.linspace(0,2*np.pi,500)\n",
    "\n",
    "\n",
    "# init\n",
    "#\n",
    "# will be called at the beginning of the animation sequence\n",
    "def init():\n",
    "    ax.clear()\n",
    "    \n",
    "    \n",
    "# update\n",
    "#\n",
    "# will be called for every frame in the animation, \n",
    "# framenr is the number of frame which will be processed\n",
    "def update(framenr):\n",
    "    ax.clear()\n",
    "    ax.set_xlim(0,2*np.pi)\n",
    "    ax.set_ylim(-1.2,1.2)\n",
    "    ax.plot(x,np.sin(x-framenr/10))\n",
    "\n",
    "    \n",
    "# animation base\n",
    "anim = FuncAnimation(\n",
    "    fig, \n",
    "    update,\n",
    "    frames=np.arange(0,50),\n",
    "    init_func=init,\n",
    "    blit=False)\n",
    "\n",
    "# clear the setup figure\n",
    "plt.close(fig)\n",
    "\n",
    "# show the animation on the screen\n",
    "#HTML(anim.to_jshtml())\n",
    "    \n",
    "# Save animation\n",
    "anim.save('traveling_wave.mp4',\n",
    "          dpi=50,\n",
    "          fps=30,\n",
    "          writer='ffmpeg')"
   ]
  },
  {
   "cell_type": "markdown",
   "id": "4d4641d0-4cee-417a-afcc-c4cbdc46a721",
   "metadata": {},
   "source": [
    "If you saved the video on disk, you can watch the movie with:"
   ]
  },
  {
   "cell_type": "code",
   "execution_count": null,
   "id": "3a497824-a2b4-46a4-8a1a-a23ca1c65807",
   "metadata": {},
   "outputs": [],
   "source": [
    "from IPython.display import Video\n",
    "\n",
    "Video('traveling_wave.mp4')\n"
   ]
  },
  {
   "cell_type": "markdown",
   "id": "133fcf70-6b0c-4460-81a9-3b59a88fac6a",
   "metadata": {},
   "source": [
    "## Example 2 - Animated histogram"
   ]
  },
  {
   "cell_type": "code",
   "execution_count": null,
   "id": "38464ffb-93e1-4745-93dd-c0eca7847b85",
   "metadata": {},
   "outputs": [],
   "source": [
    "%matplotlib inline\n",
    "\n",
    "import numpy as np\n",
    "import numpy.random as nr\n",
    "\n",
    "import matplotlib.pyplot as plt\n",
    "\n",
    "# for animation\n",
    "from matplotlib.animation import FuncAnimation\n",
    "from IPython.display import HTML\n",
    "\n",
    "\n",
    "# define the number of random numbers\n",
    "N = 50\n",
    "\n",
    "# setup the figure environment\n",
    "fig, ax = plt.subplots(figsize=(10,5))\n",
    "\n",
    "\n",
    "# init\n",
    "#\n",
    "# will be called at the beginning of the animation sequence\n",
    "def init():\n",
    "    ax.clear()\n",
    "\n",
    "# update\n",
    "#\n",
    "# will be called for every frame in the animation, \n",
    "# framenr is the number of frame which will be processed\n",
    "def update(framenr):\n",
    "    ax.clear()\n",
    "    x = nr.uniform(0,10, N)\n",
    "    ax.set_ylim(0, N/4)\n",
    "    ax.hist(x,range=(0,10), bins=11)\n",
    "\n",
    "\n",
    "    \n",
    "# animation base\n",
    "anim = FuncAnimation(\n",
    "    fig, \n",
    "    update,\n",
    "    frames=np.arange(0,50),\n",
    "    init_func=init,\n",
    "    blit=False)\n",
    "\n",
    "# clear the setup figure\n",
    "plt.close(fig)\n",
    "\n",
    "# show the animation on the screen\n",
    "HTML(anim.to_jshtml())"
   ]
  },
  {
   "cell_type": "markdown",
   "id": "49e7a01f-5dbb-4c28-90c8-8de53599340a",
   "metadata": {},
   "source": [
    "## Hints and notes for an animation"
   ]
  },
  {
   "cell_type": "markdown",
   "id": "c8e096b2-936d-4ea2-994d-3899a2f2b4f0",
   "metadata": {},
   "source": [
    "Animation can be created following a straight forward procedure:"
   ]
  },
  {
   "cell_type": "markdown",
   "id": "7a6570da-062b-4fad-9a99-1f8d494dffe3",
   "metadata": {},
   "source": [
    " 1. setup the figure environment\n",
    " 1. setup all variables which are static in the animation\n",
    " 1. write an `init`-function which clears the figure\n",
    " 1. write an `update`-function which creates a complete plot, start with clearing the figure, the argument `framenr` can be used as the number of the current frame\n",
    " 1. use `FuncAnimation`to setup the animation environment\n",
    " 1. clear all plots with `plt.close()``\n",
    " 1. show the animation in the notebook or save the movie on disk"
   ]
  },
  {
   "cell_type": "markdown",
   "id": "1a43a418-35dd-49ed-a2ee-421589e4dd72",
   "metadata": {},
   "source": [
    "There also other ways to create simulations, this method is quickly and should work with all matplotlib-functions. For further information and other examples, have a look at the [matplotlib-documentation for animations](https://matplotlib.org/stable/api/animation_api.html)."
   ]
  },
  {
   "cell_type": "code",
   "execution_count": null,
   "id": "1a49b763-1bb8-4b1f-98c1-875c2c3c99ac",
   "metadata": {},
   "outputs": [],
   "source": []
  }
 ],
 "metadata": {
  "kernelspec": {
   "display_name": "Python 3 (ipykernel)",
   "language": "python",
   "name": "python3"
  },
  "language_info": {
   "codemirror_mode": {
    "name": "ipython",
    "version": 3
   },
   "file_extension": ".py",
   "mimetype": "text/x-python",
   "name": "python",
   "nbconvert_exporter": "python",
   "pygments_lexer": "ipython3",
   "version": "3.10.10"
  }
 },
 "nbformat": 4,
 "nbformat_minor": 5
}
