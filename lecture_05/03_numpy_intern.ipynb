{
 "cells": [
  {
   "cell_type": "markdown",
   "id": "5daa262e-c45c-4ae6-92dc-ce6bc5b94b03",
   "metadata": {},
   "source": [
    "# Numpy internals"
   ]
  },
  {
   "cell_type": "markdown",
   "id": "5fdfe523-bc78-4541-9cb9-50ddb12905d4",
   "metadata": {},
   "source": [
    "---\n",
    "\n",
    "In this notebook I want to show you some of the internals of numpy arrays and the consequences for working with arrays.\n",
    "\n",
    "---"
   ]
  },
  {
   "cell_type": "markdown",
   "id": "6f7946ee-7d42-446b-9266-ae13a5d6dbed",
   "metadata": {},
   "source": [
    "After introducing `numpy`-arrays some informations may be irritating, e.g. what operations will create a copy of an array, which operations will create a view. This has direct consequences in how much memory your program is using during the process or how you can speed up the code."
   ]
  },
  {
   "cell_type": "markdown",
   "id": "e409fd5b-4165-4c76-b203-317927cfe17c",
   "metadata": {},
   "source": [
    "## 1. Memory layout"
   ]
  },
  {
   "cell_type": "markdown",
   "id": "8dee6452-e0a2-43fd-a578-291526f5e047",
   "metadata": {},
   "source": [
    "To understand `numpy`-arrays it is necessary to understand how `numpy` is organizing the data. Let's start with a 2d-`numpy`-array:"
   ]
  },
  {
   "cell_type": "code",
   "execution_count": null,
   "id": "5084b868-236e-4f84-bd57-ca39007d21b0",
   "metadata": {
    "tags": []
   },
   "outputs": [],
   "source": [
    "import numpy as np\n",
    "\n",
    "a = (np.arange(1,13,1)*5).reshape((3,4))\n",
    "\n",
    "print(a)"
   ]
  },
  {
   "cell_type": "markdown",
   "id": "0038544f-fee6-4af5-b7e9-d31d4ff2454d",
   "metadata": {},
   "source": [
    "<center>\n",
    "    <img src=\"figs/memory_layout.png\" style=\"width:75%\" />\n",
    "    <br>Memory layout: Array representation (left), contiguous block memory (right)\n",
    "</center>"
   ]
  },
  {
   "cell_type": "markdown",
   "id": "4e5f4882-28bc-4f5f-8ee7-d8c4e05bcfa1",
   "metadata": {},
   "source": [
    "In this representation (we assume C notation) all the data of all axes are stored linear in the computers memory. (For advanced users, `numpy` can store memory also in Fortran F notation, which is column orientatet. In this case it means, 5,25,45,10,30,50,... !)"
   ]
  },
  {
   "cell_type": "markdown",
   "id": "032e76f9-8845-47b1-91ef-782d4a6c19cd",
   "metadata": {},
   "source": [
    "For accessing the data `numpy` needs exactly 3 parameters:\n",
    " * pointer to the memory block\n",
    " * shape of the array representation\n",
    " * so called `strides`, which defines the distance between elements for each axis (jump values)"
   ]
  },
  {
   "cell_type": "code",
   "execution_count": null,
   "id": "794ac8a6-5978-4eab-b5ac-654fe97928b5",
   "metadata": {
    "tags": []
   },
   "outputs": [],
   "source": [
    "print(a.__array_interface__)  # data the pointer\n",
    "print(a.shape)                # shape of the array\n",
    "print(a.strides)              # jump bytes for next elements\n",
    "print(a.dtype)                # int64 => 8 bytes"
   ]
  },
  {
   "cell_type": "markdown",
   "id": "eddd5a92-650b-40b5-96b0-2748d2178df5",
   "metadata": {},
   "source": [
    "Starting with the element `a[1,1] = 30` how we can jump to the elements `a[1,2] = 35` and `a[2,1] = 50`:\n",
    "  *  `a[1,2]`: 1 element in the axis 1 (=> 8 bytes -> 1 element in the contiguous block)\n",
    "  *  `a[2,1]`: 1 element in the axis 0 (=> 32 bytes -> 4 elements in the contiguous block)"
   ]
  },
  {
   "cell_type": "markdown",
   "id": "ff232281-7005-460d-abb7-1e4ac2698f18",
   "metadata": {},
   "source": [
    "For higher dimensional arrays, the data are similar organized. For a 3d-array all 2d-slices are stored linear one after the other. Striding works for indexing."
   ]
  },
  {
   "cell_type": "markdown",
   "id": "38e95dff-1c76-4882-8e92-72da72e71542",
   "metadata": {},
   "source": [
    "---"
   ]
  },
  {
   "cell_type": "markdown",
   "id": "7661f787-b7f5-47eb-9303-2a2770fcce95",
   "metadata": {},
   "source": [
    "## 2. Reshaping"
   ]
  },
  {
   "cell_type": "markdown",
   "id": "3d57b153-7266-4bfa-a16c-16f099afcfb0",
   "metadata": {},
   "source": [
    "If you reshape the array, e.g. now in 4 rows with 3 column, only the metadata will change, the data is the same:"
   ]
  },
  {
   "cell_type": "code",
   "execution_count": null,
   "id": "a6402491-6632-4e01-a615-80607048d704",
   "metadata": {
    "tags": []
   },
   "outputs": [],
   "source": [
    "b = a.reshape((4,3))\n",
    "print(b)\n",
    "print(b.__array_interface__)  # data the pointer\n",
    "print(b.shape)                # shape of the array\n",
    "print(b.strides)              # jump bytes for next elements"
   ]
  },
  {
   "cell_type": "code",
   "execution_count": null,
   "id": "fdb7e562-7e77-46c0-b72e-40719e403c62",
   "metadata": {
    "tags": []
   },
   "outputs": [],
   "source": [
    "c = a.reshape((12))\n",
    "print(c)\n",
    "print(c.__array_interface__)  # data the pointer\n",
    "print(c.shape)                # shape of the array\n",
    "print(c.strides)              # jump bytes for next elements"
   ]
  },
  {
   "cell_type": "markdown",
   "id": "93f4e998-01b5-49db-a1b7-4f6b3e71c10b",
   "metadata": {},
   "source": [
    "---"
   ]
  },
  {
   "cell_type": "markdown",
   "id": "c1433f48-3aaf-431b-97f9-1c487e6bbc06",
   "metadata": {},
   "source": [
    "## 3. Slicing"
   ]
  },
  {
   "cell_type": "markdown",
   "id": "932a21c0-5d42-44dd-b575-b06ede560d3f",
   "metadata": {},
   "source": [
    "Slicing may sounds difficult in handling, but in fact, you can mathematically represent all slicing operations with a change of the 3 parameter, `pointer`, `shape`, and `strides`:"
   ]
  },
  {
   "cell_type": "code",
   "execution_count": null,
   "id": "9d93d419-b328-4909-9aa4-a0497e0a56f8",
   "metadata": {
    "tags": []
   },
   "outputs": [],
   "source": [
    "d = a[0:2,1:3]\n",
    "print(d)"
   ]
  },
  {
   "cell_type": "markdown",
   "id": "c2c0a3b3-7858-48f2-b021-ee3e07b3f13e",
   "metadata": {},
   "source": [
    "<center>\n",
    "    <img src=\"figs/memory_layout2.png\" style=\"width:75%\" />\n",
    "    <br>Memory layout after slicing: Array representation (left), contiguous block memory (right)\n",
    "</center>"
   ]
  },
  {
   "cell_type": "code",
   "execution_count": null,
   "id": "436f604a-6769-4944-b73d-fbd4e3c643aa",
   "metadata": {
    "tags": []
   },
   "outputs": [],
   "source": [
    "print(a.__array_interface__)\n",
    "print(a.shape)\n",
    "print(a.strides)\n",
    "print(d.__array_interface__)  # data the pointer\n",
    "print(d.shape)                # shape of the array\n",
    "print(d.strides)              # jump bytes for next elements"
   ]
  },
  {
   "cell_type": "markdown",
   "id": "24607345-69c7-44d8-97d8-43c71b5d2b46",
   "metadata": {},
   "source": [
    "In this case the `strides` may be the same, but for this example:"
   ]
  },
  {
   "cell_type": "code",
   "execution_count": null,
   "id": "252d13e6-3a01-472f-b7a6-924ad5c42303",
   "metadata": {
    "tags": []
   },
   "outputs": [],
   "source": [
    "e = a[::2,::2]  # access every second column and row\n",
    "\n",
    "print(e)\n",
    "\n",
    "print(a.__array_interface__)\n",
    "print(a.shape)\n",
    "print(a.strides)\n",
    "print(e.__array_interface__)  # data the pointer\n",
    "print(e.shape)                # shape of the array\n",
    "print(e.strides)              # jump bytes for next elements"
   ]
  },
  {
   "cell_type": "markdown",
   "id": "6b63c1bc-f1fb-4494-9279-b66f66e3e4b4",
   "metadata": {},
   "source": [
    "---"
   ]
  },
  {
   "cell_type": "markdown",
   "id": "23b17fce-9e71-4c21-8cc8-b5bfa11f71c4",
   "metadata": {},
   "source": [
    "## 4. Transpose"
   ]
  },
  {
   "cell_type": "markdown",
   "id": "a7b60133-d7e2-42d2-9086-d19579bea039",
   "metadata": {},
   "source": [
    "If you use the `.T` transpose function, you swap basically the two axes in the 2d example. This can be done with changing the parameters as well."
   ]
  },
  {
   "cell_type": "code",
   "execution_count": null,
   "id": "ac2d7a25-35d2-4cbd-aed7-1dda8fb1a17d",
   "metadata": {
    "tags": []
   },
   "outputs": [],
   "source": [
    "f = a.T\n",
    "print(f)\n",
    "print(a.__array_interface__)\n",
    "print(a.shape)\n",
    "print(a.strides)\n",
    "print(f.__array_interface__)  # data the pointer\n",
    "print(f.shape)                # shape of the array\n",
    "print(f.strides)         "
   ]
  },
  {
   "cell_type": "markdown",
   "id": "03b3a6d9-b408-42f8-99a2-508b8d98b825",
   "metadata": {},
   "source": [
    "(For advanced user, this is a nice example, to show, that also the F notation, as mentioned above, can be used without any problems, since all operations are working similar!)"
   ]
  },
  {
   "cell_type": "markdown",
   "id": "900d3184-f846-4139-a9d4-577d099cf51c",
   "metadata": {},
   "source": [
    "---"
   ]
  },
  {
   "cell_type": "markdown",
   "id": "cd829bec-aeb7-42c4-8181-b3b70eac3a05",
   "metadata": {},
   "source": [
    "## 5. Copy vs. view"
   ]
  },
  {
   "cell_type": "markdown",
   "id": "7ba71867-91a6-4b55-8a5f-c30f8d4f672e",
   "metadata": {},
   "source": [
    "As you have maybe briefly seen, after reshaping of arrays, the pointer to the data block has not changed. In this case, the new variable points to the same data block as before and is called `view`. "
   ]
  },
  {
   "cell_type": "markdown",
   "id": "aa7a775d-8e82-4e25-aeff-58cb77b4d6df",
   "metadata": {},
   "source": [
    "Let's have a look at this more generally."
   ]
  },
  {
   "cell_type": "markdown",
   "id": "d59bc541-193d-4d00-9486-4d3ee2428dea",
   "metadata": {},
   "source": [
    "`numpy` is optimized in several ways, which means that one goal is not to use additional memory for operations if not necessary. This means of course that if a operation means to change only the meta data, e.g. `shape` and `strides` always a `view` will be created. If a changed `pointer` will point to the same memory region as before, also a `view` is created. \n",
    "\n",
    "We can simply prove this:"
   ]
  },
  {
   "cell_type": "code",
   "execution_count": null,
   "id": "d8432b92-8f35-40c3-a5e8-8e2043de826a",
   "metadata": {
    "tags": []
   },
   "outputs": [],
   "source": [
    "import numpy as np\n",
    "\n",
    "a = np.array([[1,2,3,4],[5,6,7,8]])\n",
    "print(a)\n",
    "print(a.base)   # if none, a is a real data block\n",
    "\n",
    "b = a.reshape((4,2))\n",
    "print(b)\n",
    "print(b.base)   # points to the original data block"
   ]
  },
  {
   "cell_type": "markdown",
   "id": "162f6872-aeb2-42c0-b405-671aee54079b",
   "metadata": {},
   "source": [
    "also the return values of slicing operations are `views`:"
   ]
  },
  {
   "cell_type": "code",
   "execution_count": null,
   "id": "664d9f9d-eb1e-41a9-999d-46fb98f5998b",
   "metadata": {
    "tags": []
   },
   "outputs": [],
   "source": [
    "c = a[1:,2:]\n",
    "print(c)\n",
    "print(c.base)\n",
    "\n",
    "print(a.__array_interface__)\n",
    "print(c.__array_interface__)  # data has changed"
   ]
  },
  {
   "cell_type": "markdown",
   "id": "99c78caa-c240-48f3-85b5-69c2cf91dfb0",
   "metadata": {},
   "source": [
    "In this example, also the `pointer` has changed, but it is still a `view`."
   ]
  },
  {
   "cell_type": "markdown",
   "id": "5680d674-a4d0-45a4-b1d0-5961a4869a8e",
   "metadata": {
    "tags": []
   },
   "source": [
    "---"
   ]
  },
  {
   "cell_type": "markdown",
   "id": "b9673bd8-a5cd-4f8d-92ed-9748cc09d86b",
   "metadata": {},
   "source": [
    "## 6. Fancy indexing"
   ]
  },
  {
   "cell_type": "markdown",
   "id": "a40b5057-4fac-4eee-9ff1-6f0c9fa276ef",
   "metadata": {},
   "source": [
    "Fancy indexing, indexing with index-arrays or book-arrays, is special to the numpy internals. In general there is no way to adjust the metadata parameters to fulfill the indexing wish on the same real data block. So in this case there is the only possibility to create a copy of the selected data block:"
   ]
  },
  {
   "cell_type": "code",
   "execution_count": null,
   "id": "99debdbd-cddc-48b0-820c-58ea1169028e",
   "metadata": {
    "tags": []
   },
   "outputs": [],
   "source": [
    "import numpy as np\n",
    "\n",
    "a = np.arange(1,13,1).reshape((3,4))\n",
    "\n",
    "print(a)\n",
    "\n",
    "b = a[np.array([1,2])]\n",
    "\n",
    "print(b)\n",
    "print(b.base)   # not a view anymore"
   ]
  },
  {
   "cell_type": "markdown",
   "id": "ca3a8dad-9fd3-4a75-84d5-5fe06355af2c",
   "metadata": {},
   "source": [
    "**Note:** Whenever fancy indexing is in the game, a copy will be created, even if the fancy index is a slicing rule!"
   ]
  },
  {
   "cell_type": "markdown",
   "id": "b92a2af2-4bde-465d-9ebe-047a19461a56",
   "metadata": {},
   "source": [
    "---"
   ]
  },
  {
   "cell_type": "markdown",
   "id": "d7dee427-6dcf-4bc3-a386-c777eb9341c3",
   "metadata": {},
   "source": [
    "## 7. Left hand side operations"
   ]
  },
  {
   "cell_type": "markdown",
   "id": "2033f0c2-60bf-4852-9414-e282310a489c",
   "metadata": {},
   "source": [
    "As presented in all the notebooks, with `numpy`-arrays all indexing/slicing operations can be used also on the left hand side operations, in assignments:"
   ]
  },
  {
   "cell_type": "code",
   "execution_count": null,
   "id": "7e8e1a42-991b-4c49-97aa-4104b49208c7",
   "metadata": {
    "tags": []
   },
   "outputs": [],
   "source": [
    "import numpy as np\n",
    "\n",
    "a = np.arange(1,13,1).reshape((3,4))\n",
    "print(a)\n",
    "\n",
    "a[1] = -100\n",
    "a[2,1:3] = np.array([-1,-5])\n",
    "\n",
    "print(a)"
   ]
  },
  {
   "cell_type": "markdown",
   "id": "5d4e0af3-a7c8-430f-b35d-d3795de237d4",
   "metadata": {},
   "source": [
    "Applying the operations on views, you will get the same results:"
   ]
  },
  {
   "cell_type": "code",
   "execution_count": null,
   "id": "a9aebea8-a4b8-4104-9c07-6f399dfd9a75",
   "metadata": {
    "tags": []
   },
   "outputs": [],
   "source": [
    "a = np.arange(1,13,1)\n",
    "\n",
    "b = a.reshape((3,4))\n",
    "print(b)\n",
    "\n",
    "b[1] = -100\n",
    "b[2,1:3] = np.array([-1,-5])\n",
    "\n",
    "print(b)\n",
    "print(a)  # elements are modified also!"
   ]
  },
  {
   "cell_type": "markdown",
   "id": "07155c18-a3b5-4286-87d9-70a330dd6e09",
   "metadata": {},
   "source": [
    "To change all values at the same time, you need to *slice* with all elements:"
   ]
  },
  {
   "cell_type": "code",
   "execution_count": null,
   "id": "4692eeec-3eb4-4457-a025-bb531f24d88f",
   "metadata": {
    "tags": []
   },
   "outputs": [],
   "source": [
    "a = np.arange(1,13,1)\n",
    "\n",
    "a[:] = -100\n",
    "# obviously a = -100 is not working ;-)"
   ]
  },
  {
   "cell_type": "markdown",
   "id": "5f46bdf7-f620-4122-ae4e-f4236127dfdc",
   "metadata": {},
   "source": [
    "Fancy indexing is in this case also special:"
   ]
  },
  {
   "cell_type": "code",
   "execution_count": null,
   "id": "da12e96d-ae12-4eda-9a05-7d1f4892b99c",
   "metadata": {
    "tags": []
   },
   "outputs": [],
   "source": [
    "a = np.arange(1,13,1)\n",
    "\n",
    "mask = np.array([2,3,7,8,9])\n",
    "b = a[mask]\n",
    "\n",
    "print(b)\n",
    "b[:] = -100      # change all values, \n",
    "\n",
    "print(b)      # working on a copy!\n",
    "print(a)      # nothing has changed!"
   ]
  },
  {
   "cell_type": "markdown",
   "id": "259506f7-4d7f-46bd-a6f8-8314e68ec7b3",
   "metadata": {},
   "source": [
    "In this example, we only changed the copied data, if you need to modify the orginal data, you have to use this:"
   ]
  },
  {
   "cell_type": "code",
   "execution_count": null,
   "id": "72b7dc39-fd8b-4060-9bd0-5197a2ae6e56",
   "metadata": {
    "tags": []
   },
   "outputs": [],
   "source": [
    "a = np.arange(1,13,1)\n",
    "\n",
    "mask = np.array([2,3,7,8,9])\n",
    "\n",
    "a[mask] = -100\n",
    "\n",
    "print(a)"
   ]
  },
  {
   "cell_type": "markdown",
   "id": "9118c913-b209-44c0-a8a8-26c84b5e2f08",
   "metadata": {},
   "source": [
    "In this case the left hand side object acts like a view."
   ]
  },
  {
   "cell_type": "markdown",
   "id": "d6c5548a-4d89-46d2-8a13-bf37bce999eb",
   "metadata": {},
   "source": [
    "---"
   ]
  },
  {
   "cell_type": "markdown",
   "id": "332b6b84-7358-4e17-ae3d-405777e61aaf",
   "metadata": {},
   "source": [
    "## 8. `np.nonzero` handling"
   ]
  },
  {
   "cell_type": "markdown",
   "id": "747369b6-ba16-4ece-a352-a9333b846798",
   "metadata": {},
   "source": [
    "In several occasions in the exercises/projects I refer to a function `np.nonzero`. \n",
    "\n",
    "The technical function is very simple, `np.nonzero` returns the indices of all elements in an array which are `!=0`. For each axis of the array, an array with the indices will be returned. \n",
    "\n",
    "Usually with normal numbers, the function makes no real sense, but if you analyse fancy indexing masks with `np.nonzero` you will get indices of all `True`elements."
   ]
  },
  {
   "cell_type": "code",
   "execution_count": null,
   "id": "22fd670a-2317-4159-a7f3-f82ea77be4e0",
   "metadata": {
    "tags": []
   },
   "outputs": [],
   "source": [
    "import numpy as np\n",
    "\n",
    "a = np.arange(0,12,1).reshape((3,4))\n",
    "\n",
    "print(a)\n",
    "\n",
    "mask = (a < 4) | (a > 8)\n",
    "\n",
    "print(mask)\n",
    "\n",
    "nz = np.nonzero(mask)\n",
    "print(nz)"
   ]
  },
  {
   "cell_type": "markdown",
   "id": "ada95abf-40dc-4c80-96c7-2314d7f295e4",
   "metadata": {},
   "source": [
    "In this example we will get two numpy-arrays back for each axis. To understand what the indices mean, you can use these to address the elements in the main array:"
   ]
  },
  {
   "cell_type": "code",
   "execution_count": null,
   "id": "13acadb0-10fa-4628-a701-b45582093d4f",
   "metadata": {
    "tags": []
   },
   "outputs": [],
   "source": [
    "print(a[nz])            # applying the index arrays, both at the same time\n",
    "# print(a[nz[0],nz[1]])\n",
    "\n",
    "# equivalent to\n",
    "\n",
    "print(a[mask])          # applying mask instead"
   ]
  },
  {
   "cell_type": "markdown",
   "id": "6c27df51-5cfe-40de-bbd3-1eb62a375f56",
   "metadata": {},
   "source": [
    "This may quite helpful, if you select data points from an array with fancy indexing first, but needs to have indices for another operations."
   ]
  },
  {
   "cell_type": "code",
   "execution_count": null,
   "id": "468187e4-892f-4cd3-88da-d2ebdc367510",
   "metadata": {},
   "outputs": [],
   "source": []
  }
 ],
 "metadata": {
  "kernelspec": {
   "display_name": "Python 3 (ipykernel)",
   "language": "python",
   "name": "python3"
  },
  "language_info": {
   "codemirror_mode": {
    "name": "ipython",
    "version": 3
   },
   "file_extension": ".py",
   "mimetype": "text/x-python",
   "name": "python",
   "nbconvert_exporter": "python",
   "pygments_lexer": "ipython3",
   "version": "3.10.10"
  }
 },
 "nbformat": 4,
 "nbformat_minor": 5
}
