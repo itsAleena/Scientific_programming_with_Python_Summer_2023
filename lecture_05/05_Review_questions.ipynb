{
 "cells": [
  {
   "cell_type": "markdown",
   "id": "5fef4e39-cf86-4c7c-a42b-84ae329479ff",
   "metadata": {},
   "source": [
    "# Review Tasks for the lecture"
   ]
  },
  {
   "cell_type": "markdown",
   "id": "c8a67b90-9be8-4b0b-b802-6aed02f67946",
   "metadata": {},
   "source": [
    "Here some small tasks with that you should be able to do directly after the lecture. I strongly advise you to look at them before the exercise. It gives you the opportunity to check what you did not yet understand and to ask your tutor in the case of problems."
   ]
  },
  {
   "cell_type": "markdown",
   "id": "72d5242b-4821-486c-8c28-d6960c728eb3",
   "metadata": {},
   "source": [
    "## 1. Review tasks on multi-dimensional `numpy`-arrays"
   ]
  },
  {
   "cell_type": "markdown",
   "id": "bd744ce8-9a38-4e0f-986e-edcfa52517d8",
   "metadata": {},
   "source": [
    "**Please try to answer the following questions before executing any code. Do this only to verify your answers and use appropriate help-utilities if you are uncertain! For each problem you should be able to explain WHY you obtain a certain result!**"
   ]
  },
  {
   "cell_type": "markdown",
   "id": "83060008-65fa-4737-9378-18b3c30766f7",
   "metadata": {},
   "source": [
    "- What is the output of the follwing code:\n",
    "  ```\n",
    "  import numpy as np\n",
    "  \n",
    "  a = np.ones(30).reshape((6, 5))\n",
    "  \n",
    "  print(a * a)\n",
    "  print(a.dot(a.T))  # a.T transposes 'a'\n",
    "  print(a.sum())\n",
    "  print(a.sum(axis=0))\n",
    "  print(a.mean(axis=1))\n",
    "  ```"
   ]
  },
  {
   "cell_type": "markdown",
   "id": "160d3974-1c8f-4301-9d07-0991c31dd2c2",
   "metadata": {},
   "source": [
    "- What is the result of the following code:\n",
    "  ```\n",
    "  import numpy as np\n",
    "  \n",
    "  a = np.ones(30).reshape((6, 5))\n",
    "  b = np.arange(30).reshape((6, 5))\n",
    "  \n",
    "  a[b <= 4] = 100\n",
    "  print(a)\n",
    "  ```"
   ]
  },
  {
   "cell_type": "markdown",
   "id": "303b0a8b-1ae7-42dd-86a1-feadd729f954",
   "metadata": {},
   "source": [
    "- What is the result of the following code:\n",
    "  ```\n",
    "  import numpy as np\n",
    "  \n",
    "  a = np.zeros(36).reshape((6, 6))\n",
    "  a[:, [1, 2]] = 1\n",
    "  \n",
    "  print(a)\n",
    "  ```"
   ]
  },
  {
   "cell_type": "markdown",
   "id": "194a8bd6-e795-4676-8fbb-ae2503a57721",
   "metadata": {},
   "source": [
    "- What is the output of the following code:\n",
    "  ```\n",
    "  import numpy as np\n",
    "  \n",
    "  a = np.zeros(36).reshape((6, 6))\n",
    "  a[:,::3] = 1\n",
    "  a[::3,:] = 1\n",
    "  \n",
    "  print(a)\n",
    "  ```"
   ]
  },
  {
   "cell_type": "markdown",
   "id": "81a2c0b6-61d4-41c6-a612-745cd607000c",
   "metadata": {},
   "source": [
    "- What is the output of the following code:\n",
    "  ```\n",
    "  import numpy as np\n",
    "  \n",
    "  a = np.zeros((2, 5))\n",
    "  a[1,:] = 1\n",
    "  \n",
    "  mask = a.sum(axis=1) > 1\n",
    "  a[mask,:] = 100\n",
    "  \n",
    "  print(a)\n",
    "  ```"
   ]
  },
  {
   "cell_type": "markdown",
   "id": "8d00eeb0-6516-419c-81cd-3538ab1d1fc6",
   "metadata": {},
   "source": [
    "### Creation of multidimensional numpy-arrays"
   ]
  },
  {
   "cell_type": "markdown",
   "id": "17ca7998-c80c-443a-9271-7101890ce798",
   "metadata": {},
   "source": [
    "Use a maximum of three commands for each of the following:"
   ]
  },
  {
   "cell_type": "markdown",
   "id": "872cec89-17f8-499a-b860-40c4a20e46a7",
   "metadata": {},
   "source": [
    "- Create a 2d-array of size $10\\times 10$ with 1 on the border and zero inside.\n",
    "- Create a $5\\times 5$ matrix with the values $1, 2, 3, 4$ below the main diagonal and zero everywhere else.\n",
    "- Create a $8\\times 8$ checkerboard matrix with zeros and ones."
   ]
  },
  {
   "cell_type": "markdown",
   "id": "c80e1ad1-90b1-4d17-a6cb-146b9988c229",
   "metadata": {},
   "source": [
    "### Slicing of 2d arrays"
   ]
  },
  {
   "cell_type": "markdown",
   "id": "e4077d85-07b6-4e39-a14a-c1a3a4b83f83",
   "metadata": {},
   "source": [
    "- Read the file [data/slicing.txt](data/slicing.txt) into a two-dimensional `numpy`-array `a`.\n",
    "- Obtain the sub-arrays indicated by different colors with one numpy slice-command on `a` for each case.\n",
    "\n",
    "<img src=\"figs/slicing.png\" style=\"width: 400px;\" style=\"height: 400px;\">"
   ]
  },
  {
   "cell_type": "code",
   "execution_count": null,
   "id": "039447ef-1484-4a64-8269-f0eec22c3576",
   "metadata": {},
   "outputs": [],
   "source": [
    "# Your solution here please"
   ]
  },
  {
   "cell_type": "markdown",
   "id": "9e48ac72-0e6a-4a27-bb73-f6fe1ce415f6",
   "metadata": {},
   "source": [
    "---"
   ]
  },
  {
   "cell_type": "markdown",
   "id": "a7a8440d-d26a-4231-88c4-2a1bd7513fae",
   "metadata": {},
   "source": [
    "## 2. Review tasks on `numpy`-internals and `numpy`-functions"
   ]
  },
  {
   "cell_type": "markdown",
   "id": "c97c5098-8dbd-4b55-a2e1-2032543626db",
   "metadata": {},
   "source": [
    "### Rolling window"
   ]
  },
  {
   "cell_type": "markdown",
   "id": "9b6f21a0-ff9f-4403-b70a-eb0513033cfc",
   "metadata": {},
   "source": [
    "The `rolling window` technique is somewhat special to numpy-arrays. One typical task is, that you want analyse a special part of a 1d-array, which is called window. Of course you can use slicing operations to move a window over the complete array, but this is not the best pythonic way. The idea of the `rolling window` is to create a new view, which gives you access to all possible windows of the 1d-array. \n",
    "\n",
    "Assume an array like this:\n",
    "```\n",
    "[0 1 2 3 4 5 6 7 8 9]\n",
    "```\n",
    "\n",
    "After the windowing task, you will have a 2d-(pseudo)-array like this:\n",
    "```\n",
    "[[0 1 2 3]\n",
    " [1 2 3 4]\n",
    " [2 3 4 5]\n",
    " [3 4 5 6]\n",
    " [4 5 6 7]\n",
    " [5 6 7 8]\n",
    " [6 7 8 9]]\n",
    "```"
   ]
  },
  {
   "cell_type": "markdown",
   "id": "87195d05-704d-49f9-8fec-78932e30f521",
   "metadata": {},
   "source": [
    "The `numpy` function `np.lib.stride_tricks.as_strided` can create a new view on the data:\n",
    "\n",
    "```\n",
    "new_view = np.lib.stride_tricks.as_strided(old_array, shape=new_shape, strides=new_strides, writeable=False)\n",
    "```\n",
    "(`writeable=False` is used for safety reasons, if will create a read only view!)\n",
    "\n",
    "\n",
    "**Your task:**\n",
    "\n",
    "Write a function `rolling_window` which takes the original data and the number of elements in the window `size` as arguments. The return value should be the new view of the data. You have to find a proper setup for `new_shape` and `new_strides` which can be defined with the original values.\n",
    "Reproduce the previous output for the test array.\n",
    "\n",
    "**Hints:**\n",
    " * create your solution on a piece of paper to see how the values must be set\n",
    " * for the `shape` and `strides` have a look at the [lecture materials](Python_tutors_SS2023/week05/03_numpy_intern.ipynb) itself!"
   ]
  },
  {
   "cell_type": "code",
   "execution_count": null,
   "id": "602600ca-cdab-4bbb-b3f0-bc0db9eb8d26",
   "metadata": {},
   "outputs": [],
   "source": [
    "a = np.arange(0,10,1)\n",
    "print(a)\n",
    "\n",
    "# You solution here please"
   ]
  },
  {
   "cell_type": "markdown",
   "id": "3d68fbd1-0cbf-4f05-a092-a7e955306cf6",
   "metadata": {},
   "source": [
    "### `np.isclose` on `numpy`-arrays"
   ]
  },
  {
   "cell_type": "markdown",
   "id": "c5261aab-4117-416a-b85d-4d451a1071bd",
   "metadata": {},
   "source": [
    "You know alread `np.isclose` on values as a replacement for a `==` comparison. Assume the following 2d-array:\n",
    "\n",
    "```\n",
    "[[0 1 2 3]\n",
    " [0 1 2 2]\n",
    " [1 2 1 1]\n",
    " [2 1 2 1]\n",
    " [2 0 2 2]]\n",
    "```\n",
    "\n",
    "It is possible to check with `np.isclose` if there is array `t=[1,2,1,1]` inside the array. `numpy` checks in this case every row with the array `t` and gives the result as a boolean array with the same dimension as `a`. The parameter `atol=limit` can be used to control the check of `np.isclose`. \n",
    "\n",
    "**Task:**\n",
    "\n",
    "When you check the array `a` of the occurence `t` a 2 dimensional result is not really helpful. Apply the same strategy as for comparisons of numpy arrays in week 4 and collapse the results into a linear array!"
   ]
  },
  {
   "cell_type": "code",
   "execution_count": null,
   "id": "97289d04-17ae-4b7d-99bb-2ad77720f1ab",
   "metadata": {
    "tags": []
   },
   "outputs": [],
   "source": [
    "# Your solution here please"
   ]
  },
  {
   "cell_type": "markdown",
   "id": "ca85c3ff-4789-416d-bdbf-a4831a8d979d",
   "metadata": {},
   "source": [
    "---"
   ]
  },
  {
   "cell_type": "markdown",
   "id": "a49b4558-95f8-48d3-ab93-0a14f71d6cdc",
   "metadata": {},
   "source": [
    "## 3. Review tasks for Python `strings`"
   ]
  },
  {
   "cell_type": "markdown",
   "id": "c88d65ba-85ff-4b30-a69c-dc4c73072af4",
   "metadata": {},
   "source": [
    "**Please try to answer the following questions *before* without running any code. Only do so to verify your answer.**"
   ]
  },
  {
   "cell_type": "markdown",
   "id": "775e79b0-3b88-499c-945b-84520f18dba3",
   "metadata": {},
   "source": [
    "- What is the output of the following code:\n",
    "  ```python\n",
    "  s = \"Jane Doe\"\n",
    "    \n",
    "  print(s[1], s[2:6], s[-1])\n",
    "  print(s[20])    \n",
    "  ```\n",
    "\n",
    "- What is the output of the following code:\n",
    "  ```python\n",
    "  n = 12345\n",
    "  s = 0\n",
    "\n",
    "  for c in str(n):\n",
    "      s = s + int(c)\n",
    "    \n",
    "  print(s)    \n",
    "  ```\n",
    "\n",
    "  **Note:** The function `int` converts a string to an integer number (if possible).\n",
    "  \n",
    "- What is the output of the following code:\n",
    "  ```python\n",
    "  n = 12345\n",
    "  s = \"\"\n",
    "\n",
    "  for c in str(n):\n",
    "      s = s + c\n",
    "    \n",
    "  print(s)    \n",
    "  ```\n",
    " "
   ]
  },
  {
   "cell_type": "code",
   "execution_count": null,
   "id": "fd025798-70bb-45e4-a558-4357727f28e5",
   "metadata": {},
   "outputs": [],
   "source": [
    "# You can use this cell for tests"
   ]
  },
  {
   "cell_type": "markdown",
   "id": "d5bb4780-30b3-4bc6-bd59-d5f5a219568c",
   "metadata": {},
   "source": [
    "## Multiplication tables"
   ]
  },
  {
   "cell_type": "markdown",
   "id": "64600b29-02cb-4ab6-8a5b-22b137a7517c",
   "metadata": {},
   "source": [
    "The following code prints out a multiplication table"
   ]
  },
  {
   "cell_type": "code",
   "execution_count": null,
   "id": "617422c8-846e-464f-8166-45942c01a606",
   "metadata": {},
   "outputs": [],
   "source": [
    "i = 1\n",
    "\n",
    "while i <= 10:\n",
    "    j = 1\n",
    "    while j <= 10:\n",
    "        # Note the 'end'-parameter in teh follwing print-statement\n",
    "        # What does it do?\n",
    "        print(i * j, end=\" \")\n",
    "        j = j + 1\n",
    "    i = i + 1\n",
    "    print() # just print a newline"
   ]
  },
  {
   "cell_type": "markdown",
   "id": "8c8accce-e9d0-4c23-9b70-10bf59083e2a",
   "metadata": {},
   "source": [
    "Modify the code so that the following form of the table is printed.\n",
    "\n",
    "**Hint:** f-strings"
   ]
  },
  {
   "cell_type": "markdown",
   "id": "891c563e-0c62-44fd-94ea-dc8f468485d7",
   "metadata": {},
   "source": [
    "```\n",
    "001 002 003 004 005 006 007 008 009 010 \n",
    "002 004 006 008 010 012 014 016 018 020 \n",
    "003 006 009 012 015 018 021 024 027 030 \n",
    "004 008 012 016 020 024 028 032 036 040 \n",
    "005 010 015 020 025 030 035 040 045 050 \n",
    "006 012 018 024 030 036 042 048 054 060 \n",
    "007 014 021 028 035 042 049 056 063 070 \n",
    "008 016 024 032 040 048 056 064 072 080 \n",
    "009 018 027 036 045 054 063 072 081 090 \n",
    "010 020 030 040 050 060 070 080 090 100\n",
    "```"
   ]
  },
  {
   "cell_type": "markdown",
   "id": "c0fbd03b-15f5-40f3-afc3-5c19732ea15e",
   "metadata": {},
   "source": [
    "## Task 8 of Project Euler"
   ]
  },
  {
   "cell_type": "markdown",
   "id": "7dd77a2c-93a9-4b76-ac4b-3c0a4e9e7d3e",
   "metadata": {},
   "source": [
    "[Project Euler](https://projecteuler.net) is a great source for programming tasks at all levels. Please solve [problem 8](https://projecteuler.net/problem=8) which is a great application for operations with the Python string type.\n",
    "\n",
    "**Hint:** The second task of the `strings`part of this notebook shows you how to calculates the crosssum of an integer number. For this problem, a similar code-block to obtain the  `cross_product` of an integer will come in very handy."
   ]
  },
  {
   "cell_type": "code",
   "execution_count": null,
   "id": "87939272-fed2-4e6b-88a1-3f5bded534b7",
   "metadata": {},
   "outputs": [],
   "source": [
    "# your solution here\n",
    "\n",
    "# The variable 'number' below contains the 1000-digit\n",
    "# number of the Euler-problem as a string\n",
    "\n",
    "number = \"\"\"\n",
    "73167176531330624919225119674426574742355349194934\n",
    "96983520312774506326239578318016984801869478851843\n",
    "85861560789112949495459501737958331952853208805511\n",
    "12540698747158523863050715693290963295227443043557\n",
    "66896648950445244523161731856403098711121722383113\n",
    "62229893423380308135336276614282806444486645238749\n",
    "30358907296290491560440772390713810515859307960866\n",
    "70172427121883998797908792274921901699720888093776\n",
    "65727333001053367881220235421809751254540594752243\n",
    "52584907711670556013604839586446706324415722155397\n",
    "53697817977846174064955149290862569321978468622482\n",
    "83972241375657056057490261407972968652414535100474\n",
    "82166370484403199890008895243450658541227588666881\n",
    "16427171479924442928230863465674813919123162824586\n",
    "17866458359124566529476545682848912883142607690042\n",
    "24219022671055626321111109370544217506941658960408\n",
    "07198403850962455444362981230987879927244284909188\n",
    "84580156166097919133875499200524063689912560717606\n",
    "05886116467109405077541002256983155200055935729725\n",
    "71636269561882670428252483600823257530420752963450\n",
    "\"\"\""
   ]
  }
 ],
 "metadata": {
  "kernelspec": {
   "display_name": "Python 3 (ipykernel)",
   "language": "python",
   "name": "python3"
  },
  "language_info": {
   "codemirror_mode": {
    "name": "ipython",
    "version": 3
   },
   "file_extension": ".py",
   "mimetype": "text/x-python",
   "name": "python",
   "nbconvert_exporter": "python",
   "pygments_lexer": "ipython3",
   "version": "3.10.10"
  }
 },
 "nbformat": 4,
 "nbformat_minor": 5
}
