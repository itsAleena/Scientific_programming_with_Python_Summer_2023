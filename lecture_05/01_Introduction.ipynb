{
 "cells": [
  {
   "cell_type": "markdown",
   "id": "f3c468a9-b912-4324-9974-082398662e7f",
   "metadata": {
    "tags": []
   },
   "source": [
    "# Lecture 5 - May 5th 2023"
   ]
  },
  {
   "cell_type": "markdown",
   "id": "98e2a2cb-203e-4999-85b1-84fc2eebbba6",
   "metadata": {},
   "source": [
    "---\n",
    "\n",
    "**Topics of this lecture:**\n",
    "\n",
    " * Multidimensional `numpy`-arrays\n",
    " * `numpy`-internals\n",
    " * `strings` in Python\n",
    " \n",
    "----"
   ]
  }
 ],
 "metadata": {
  "kernelspec": {
   "display_name": "Python 3 (ipykernel)",
   "language": "python",
   "name": "python3"
  },
  "language_info": {
   "codemirror_mode": {
    "name": "ipython",
    "version": 3
   },
   "file_extension": ".py",
   "mimetype": "text/x-python",
   "name": "python",
   "nbconvert_exporter": "python",
   "pygments_lexer": "ipython3",
   "version": "3.10.10"
  }
 },
 "nbformat": 4,
 "nbformat_minor": 5
}
