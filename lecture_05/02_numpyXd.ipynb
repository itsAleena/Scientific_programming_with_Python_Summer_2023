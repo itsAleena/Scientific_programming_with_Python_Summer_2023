{
 "cells": [
  {
   "cell_type": "markdown",
   "id": "246b1e3f-3820-4386-95ee-0d8a6099ba79",
   "metadata": {},
   "source": [
    "# Multi-Dimensionional `numpy`-arrays"
   ]
  },
  {
   "cell_type": "markdown",
   "id": "61648509-deb3-48e7-988f-13bdd8992e07",
   "metadata": {},
   "source": [
    "---\n",
    "\n",
    "In this notebook I want to show how to use properly multi-dimensional `numpy`-arrays.\n",
    "\n",
    "---"
   ]
  },
  {
   "cell_type": "markdown",
   "id": "8ff8dd41-25eb-4aad-8fd7-a6fe84c231e3",
   "metadata": {},
   "source": [
    "In principal you can transfer everything what you've learned for 1d-`numpy`-arrays into the multi-dimensional arrays. "
   ]
  },
  {
   "cell_type": "markdown",
   "id": "c869db3e-d4c1-4e0e-a06e-8c07dd68265a",
   "metadata": {},
   "source": [
    "## 1. Creation of arrays"
   ]
  },
  {
   "cell_type": "code",
   "execution_count": null,
   "id": "6e4b3899-7ff7-4dfd-85a8-93642c472be2",
   "metadata": {
    "tags": []
   },
   "outputs": [],
   "source": [
    "import numpy as np\n",
    "\n",
    "a = np.array([[[1,2,3,4],[5,6,7,8],[9,10,11,12]],[[13,14,15,16],[17,18,19,20],[21,22,23,24]]], dtype=np.float64)\n",
    "\n",
    "# all metadata\n",
    "print(a)\n",
    "print(a.dtype)   # choose the dtype if you need\n",
    "print(a.shape)   # gives the shape of the array\n",
    "print(a.ndim)    # number of dimensions\n",
    "print(len(a))    # use with care, it gives you the number of elements of the first axis!"
   ]
  },
  {
   "cell_type": "markdown",
   "id": "cc844b01-6da0-40d9-8f22-0125181228cc",
   "metadata": {},
   "source": [
    "Typically higher dimensional arrays are created by algorithms, but if you need to create these manually, you can also use a so called `reshaping` function to change a 1d-array into a multi-dimensional array. "
   ]
  },
  {
   "cell_type": "code",
   "execution_count": null,
   "id": "6064dda1-7d79-4a17-bafc-8f6535066bfc",
   "metadata": {
    "tags": []
   },
   "outputs": [],
   "source": [
    "a = np.arange(0,12,1).reshape(4,3)\n",
    "#a = np.arange(0,12,1).reshape((4,3))\n",
    "print(a)\n",
    "\n",
    "# or\n",
    "\n",
    "b = np.linspace(0.,1.,6).reshape(2,3)\n",
    "print(b)"
   ]
  },
  {
   "cell_type": "markdown",
   "id": "9192d858-1b54-44c4-8754-0ae8dbe835df",
   "metadata": {},
   "source": [
    "Some creation functions, e.g. random numbers, can create multi dimensional arrays directly:"
   ]
  },
  {
   "cell_type": "code",
   "execution_count": null,
   "id": "41c80c78-b240-495b-82fb-a13126596dab",
   "metadata": {
    "tags": []
   },
   "outputs": [],
   "source": [
    "import numpy as np\n",
    "import numpy.random as nr\n",
    "\n",
    "a = nr.random(size=10).reshape((2,5))\n",
    "\n",
    "print(a)\n",
    "\n",
    "# is equivalent to\n",
    "\n",
    "b = nr.random(size=(2,5))\n",
    "print(b)"
   ]
  },
  {
   "cell_type": "markdown",
   "id": "92863805-3ebf-4fa3-a8f3-6b2744f085ee",
   "metadata": {},
   "source": [
    "---"
   ]
  },
  {
   "cell_type": "markdown",
   "id": "b6002822-b141-40bb-969b-3ca09a6efc24",
   "metadata": {},
   "source": [
    "## 2. Access of array elements (indexing/slicing)"
   ]
  },
  {
   "cell_type": "markdown",
   "id": "9e41763a-4dff-4dc5-9b0f-706f3054472f",
   "metadata": {},
   "source": [
    "Accessing elements of multi-dimensional arrays is quite simple. For each axis (dimension), you need to give an index. If you specify for each axis one index, you will get a single element/value, otherwise you will get arrays back."
   ]
  },
  {
   "cell_type": "code",
   "execution_count": null,
   "id": "c4471b2d-11d0-4e50-b2b0-201b1daf4f8e",
   "metadata": {
    "tags": []
   },
   "outputs": [],
   "source": [
    "import numpy as np\n",
    "\n",
    "a = np.arange(0,30,1).reshape((5,2,3))\n",
    "\n",
    "print(a)\n",
    "\n",
    "# indexing\n",
    "print(a[1,1,1])  # get an single element\n",
    "print(a[0,1])    # get an 1d array\n",
    "print(a[1])      # get a 2d matrix"
   ]
  },
  {
   "cell_type": "markdown",
   "id": "aa72f19f-092b-4c60-8be3-fb63d3536858",
   "metadata": {},
   "source": [
    "Slicing works as well:"
   ]
  },
  {
   "cell_type": "code",
   "execution_count": null,
   "id": "7269796b-104f-4c19-8715-5874c0dd2206",
   "metadata": {
    "tags": []
   },
   "outputs": [],
   "source": [
    "import numpy as np\n",
    "\n",
    "a = np.arange(0,30,1).reshape((5,6))\n",
    "\n",
    "print(a)\n",
    "\n",
    "# slicing\n",
    "print(a[1,2:6])     # cut out the second row, element 3 to 6\n",
    "print(a[2:5,1])     # cut out the second column from row 3 to 5\n",
    "print(a[:,::2])     # cut out every second column for each row\n",
    "print(a[1:-1,1:-1]) # cut out the middle matrix of a\n",
    "print(a[1:3])       # cut out complete rows"
   ]
  },
  {
   "cell_type": "markdown",
   "id": "7a7fabb9-02fc-4d7f-bec4-1203e9b015db",
   "metadata": {},
   "source": [
    "**Note:** All slicing operations returns a view on the same data (see next notebook!).\n",
    "\n",
    "Working with slicing and indices with multidimensional arrays is sometimes complicated and needs some experiences and endurance!"
   ]
  },
  {
   "cell_type": "markdown",
   "id": "a7eff675-c57c-4740-99c1-db8d5dbd5cf7",
   "metadata": {},
   "source": [
    "Left hand side operations are also allowed:"
   ]
  },
  {
   "cell_type": "code",
   "execution_count": null,
   "id": "ea3555e3-5300-46f7-a371-24439c4b2f55",
   "metadata": {
    "tags": []
   },
   "outputs": [],
   "source": [
    "import numpy as np\n",
    "\n",
    "a = np.arange(0,30,1).reshape((5,6))\n",
    "\n",
    "a[1,2] = -100\n",
    "a[2:-1,4] = np.arange(1,3,1)*-1000\n",
    "\n",
    "print(a)"
   ]
  },
  {
   "cell_type": "markdown",
   "id": "71288b03-36e8-4b66-9959-fb50d14dfdb2",
   "metadata": {},
   "source": [
    "---"
   ]
  },
  {
   "cell_type": "markdown",
   "id": "0849f5f7-a8ab-41bd-b760-e4344b1a468d",
   "metadata": {},
   "source": [
    "## 3. Fancy indexing"
   ]
  },
  {
   "cell_type": "markdown",
   "id": "a2b76914-26fe-41ca-ac02-25dbbf782da2",
   "metadata": {},
   "source": [
    "Fancy indexing works also as exepected:"
   ]
  },
  {
   "cell_type": "code",
   "execution_count": null,
   "id": "63baab85-dd30-4a2c-81f7-8e564d3670d0",
   "metadata": {
    "tags": []
   },
   "outputs": [],
   "source": [
    "import numpy as np\n",
    "\n",
    "a = np.arange(0,30,1).reshape((5,6))\n",
    "\n",
    "mask = a > 15    # element wise, despite of the shape\n",
    "\n",
    "a[mask] = -100\n",
    "\n",
    "print(a)"
   ]
  },
  {
   "cell_type": "markdown",
   "id": "b8872bc9-ff7a-4d29-a669-dccb50121c5d",
   "metadata": {},
   "source": [
    "Using index arrays is a little bit different, since you can address several elements at the same time. Doing this, you need to specify an index array for any of the wanted axes, so 2 arrays for a 2d-array:"
   ]
  },
  {
   "cell_type": "code",
   "execution_count": null,
   "id": "4cd38703-ff54-4328-b099-1d7613faaf58",
   "metadata": {
    "tags": []
   },
   "outputs": [],
   "source": [
    "import numpy as np\n",
    "\n",
    "a = np.arange(0,30,1).reshape((5,6))\n",
    "\n",
    "indx1 = np.array([0,2,3])\n",
    "indx2 = np.array([1,2,5])\n",
    "\n",
    "print(a[indx1,indx2])\n",
    "\n",
    "a[indx1,indx2] = -100\n",
    "\n",
    "print(a)"
   ]
  },
  {
   "cell_type": "markdown",
   "id": "12bece8b-d888-427b-bfa1-02090451a0f7",
   "metadata": {},
   "source": [
    "and an example of a mix between fancy indexing for the first axis (rows) and slicing for the second axis (columns):"
   ]
  },
  {
   "cell_type": "code",
   "execution_count": null,
   "id": "81f80fa5-df4b-44b3-9d38-1b5cfbe259f4",
   "metadata": {
    "tags": []
   },
   "outputs": [],
   "source": [
    "import numpy as np\n",
    "\n",
    "a = np.arange(0,30,1).reshape((5,6))\n",
    "\n",
    "indx1 = np.array([0,2,3])\n",
    "\n",
    "print(a[indx1,2:4])\n",
    "\n",
    "a[indx1,2:4] = -100\n",
    "\n",
    "print(a)"
   ]
  },
  {
   "cell_type": "markdown",
   "id": "9064a68b-c8d7-4856-81c3-b0afaefd4e5b",
   "metadata": {},
   "source": [
    "---"
   ]
  },
  {
   "cell_type": "markdown",
   "id": "36d2fd94-41bd-4a31-9639-52293cedc609",
   "metadata": {},
   "source": [
    "## 4. Array operations"
   ]
  },
  {
   "cell_type": "markdown",
   "id": "9e2c15d1-7ee7-46ba-9b72-4751d1ac534d",
   "metadata": {},
   "source": [
    "Array operations are working element-wise:"
   ]
  },
  {
   "cell_type": "code",
   "execution_count": null,
   "id": "8a25d15f-50e7-4bc5-8da0-5bb1bfce79f0",
   "metadata": {
    "tags": []
   },
   "outputs": [],
   "source": [
    "import numpy as np\n",
    "\n",
    "a = np.arange(1,10,1).reshape((3,3))\n",
    "b = np.arange(10,19,1).reshape((3,3))\n",
    "\n",
    "print(a)\n",
    "print(b)\n",
    "\n",
    "print(a+b)\n",
    "print(a*b)          # not a matrix multiplication!\n",
    "print(np.sqrt(a))\n",
    "print(np.dot(a,b))  # real matrix multiplication!\n",
    "print(a.T)          # transposed matrix, swap axes!\n",
    "print(np.diag(a))"
   ]
  },
  {
   "cell_type": "markdown",
   "id": "e346d723-a8fb-4fd9-95ba-739827fd7dd3",
   "metadata": {},
   "source": [
    "### Linear algebra"
   ]
  },
  {
   "cell_type": "markdown",
   "id": "39d86467-33a4-4847-a4f2-b17db165f2ec",
   "metadata": {},
   "source": [
    "Some linear algebra calculations:"
   ]
  },
  {
   "cell_type": "code",
   "execution_count": null,
   "id": "97f10784-aa31-4c82-a712-d46b25b67367",
   "metadata": {
    "tags": []
   },
   "outputs": [],
   "source": [
    "import numpy as np\n",
    "import numpy.linalg as nl\n",
    "\n",
    "a = np.arange(1,5,1).reshape((2,2))\n",
    "b = np.arange(10,14,1).reshape((2,2))\n",
    "\n",
    "print(a)\n",
    "print(b)\n",
    "\n",
    "print(a.T)          # tranposed matrix\n",
    "print(np.dot(a,b))  # dot product\n",
    "print(a@b)          # also the dot product\n",
    "print(nl.inv(a))    # inverse matrix\n",
    "print(np.diag(a))   # diagonal elements\n",
    "print(nl.det(a))    # determinant of matrix"
   ]
  },
  {
   "cell_type": "markdown",
   "id": "11929130-6ef6-42cc-9cd3-9a8f52efcb47",
   "metadata": {},
   "source": [
    "---"
   ]
  },
  {
   "cell_type": "markdown",
   "id": "d96078b6-6935-4c21-acac-4d6d1cde2480",
   "metadata": {},
   "source": [
    "## 5. Data from text files"
   ]
  },
  {
   "cell_type": "markdown",
   "id": "ae662577-55c5-4e9a-aff4-4411fd802048",
   "metadata": {},
   "source": [
    "With `numpy` it is easy to read data values from text files. Often the data are organized like tables in which columns represents some measured values and the rows the number of measurements. \n",
    "\n",
    "One example you can find in [data/values.txt](data/values.txt):"
   ]
  },
  {
   "cell_type": "code",
   "execution_count": null,
   "id": "5bb26c77-13e7-4ec5-8804-6be6cc0863fd",
   "metadata": {
    "tags": []
   },
   "outputs": [],
   "source": [
    "!tail data/values.txt"
   ]
  },
  {
   "cell_type": "markdown",
   "id": "1db7c24d-c280-4bb8-bddc-8d4eea8b8fc8",
   "metadata": {},
   "source": [
    "With `np.loadtxt` you can read the data from the disk. The data itself will then be organized as a 2d-numpy-array:"
   ]
  },
  {
   "cell_type": "code",
   "execution_count": null,
   "id": "968c64d7-9b30-4bcd-8699-b6e5a048fea1",
   "metadata": {
    "tags": []
   },
   "outputs": [],
   "source": [
    "import numpy as np\n",
    "\n",
    "data = np.loadtxt('data/values.txt')\n",
    "\n",
    "print(data)\n",
    "\n",
    "print(data.dtype)\n",
    "print(data.shape)"
   ]
  },
  {
   "cell_type": "markdown",
   "id": "9a34a232-855f-4460-94c6-65ddb42bc117",
   "metadata": {},
   "source": [
    "Without any additional arguments, `np.loadtxt` will simply read numbers and automatically convert the type if necessary. Have a look at the documentation for `np.loadtxt` how to use the command for some complex formatted text files."
   ]
  },
  {
   "cell_type": "markdown",
   "id": "a36c7fa3-2905-4472-8f0e-0a306786c9a9",
   "metadata": {},
   "source": [
    "Usually one will not work with the 2d-numpy-array after the reading directly. We suggest to split the data into columns, which then can be handled individually. At this point don't have the fear that splitting will cost you more memory, since all slices produces new views to the data."
   ]
  },
  {
   "cell_type": "code",
   "execution_count": null,
   "id": "f1c802d6-a4d9-43c3-8575-45d2be3f11ff",
   "metadata": {
    "tags": []
   },
   "outputs": [],
   "source": [
    "col1 = data[:,0]\n",
    "col2 = data[:,1]\n",
    "col3 = data[:,2]\n",
    "\n",
    "print(col1)\n",
    "print(col2)\n",
    "print(col3)"
   ]
  },
  {
   "cell_type": "code",
   "execution_count": null,
   "id": "a30b846a-5f0a-4de5-8f48-39683c8c9ae4",
   "metadata": {
    "tags": []
   },
   "outputs": [],
   "source": [
    "%matplotlib inline\n",
    "\n",
    "import matplotlib.pyplot as plt\n",
    "\n",
    "fig, ax = plt.subplots()\n",
    "\n",
    "ax.errorbar(col1, col2, yerr=col3, fmt='r.', capsize=3)"
   ]
  },
  {
   "cell_type": "code",
   "execution_count": null,
   "id": "4cfd07bb-0dbc-4c50-90f9-ee99d96c9f5d",
   "metadata": {},
   "outputs": [],
   "source": []
  }
 ],
 "metadata": {
  "kernelspec": {
   "display_name": "Python 3 (ipykernel)",
   "language": "python",
   "name": "python3"
  },
  "language_info": {
   "codemirror_mode": {
    "name": "ipython",
    "version": 3
   },
   "file_extension": ".py",
   "mimetype": "text/x-python",
   "name": "python",
   "nbconvert_exporter": "python",
   "pygments_lexer": "ipython3",
   "version": "3.10.10"
  }
 },
 "nbformat": 4,
 "nbformat_minor": 5
}
