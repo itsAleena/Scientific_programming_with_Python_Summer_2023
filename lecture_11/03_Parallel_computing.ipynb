{
 "cells": [
  {
   "cell_type": "markdown",
   "id": "a58f8ca9-19c3-4a89-8b15-2a6ade61f4d0",
   "metadata": {},
   "source": [
    "# Parallel computing"
   ]
  },
  {
   "cell_type": "markdown",
   "id": "093d5cc5-0bdd-44b6-8b60-def0b4e8ec86",
   "metadata": {},
   "source": [
    "--- \n",
    "\n",
    "This notebook is about parallel computing.\n",
    "\n",
    "---"
   ]
  },
  {
   "cell_type": "markdown",
   "id": "ce220c0b-9f98-473f-aef5-4ceb07a711e1",
   "metadata": {},
   "source": [
    "## 1. Threading / multiprocessing and the GIL"
   ]
  },
  {
   "cell_type": "markdown",
   "id": "4cde27e1-20c9-4b14-ae40-0c7ab1ca2102",
   "metadata": {},
   "source": [
    "Before we can discuss the possibilities I need to introduce the so called GIL, the *Global Interpreter Lock*.\n",
    "\n",
    "As you may know a typical OS even with a single CPU is using threads which in the scheme of multitasking can perform different tasks at the same time (for a single CPU this is not possible, but the system switches between tasks so fast, that a user sees multiple tasks at the time!).\n",
    "\n",
    "The GIL is a protective feature, that only one Python command is executed at the same time. The reason is that e.g. the internal memory management gets confused, when e.g. the same object is modified from two or more threads.\n",
    "\n",
    "In fact that makes parallel processing with Python very complicated."
   ]
  },
  {
   "cell_type": "markdown",
   "id": "d7e89c86-0c9b-41d8-8cfd-e0b2d7d7e3a5",
   "metadata": {},
   "source": [
    "One very old implementation is the threading modul. It is useful, whenever some tasks needs to be parallelized e.g. communication with external devices or handling of web requests. For numerical calculations this module which is limited by the GIL is not a good choice."
   ]
  },
  {
   "cell_type": "markdown",
   "id": "cb2f5537-cee4-42bd-b8e1-8af860a570da",
   "metadata": {
    "tags": []
   },
   "source": [
    "## 2. Simple parallelisation of jobs with multiprocessing"
   ]
  },
  {
   "cell_type": "markdown",
   "id": "71e02d4f-d661-4a92-b694-6d4810db869a",
   "metadata": {},
   "source": [
    "Python offers the module `multiprocessing` to use multi-processor (multi-core) machines for job parallelization.\n",
    "\n",
    "Assume this situation:\n",
    "* we want to parallelize a `Python`-function\n",
    "* each individual run of the function is completely independent of each other (no communication between parallel jobs is necessary)."
   ]
  },
  {
   "cell_type": "code",
   "execution_count": null,
   "id": "3fff2818-d89e-4800-a07e-7cbd2a06615a",
   "metadata": {
    "tags": []
   },
   "outputs": [],
   "source": [
    "%%time\n",
    "import numpy as np\n",
    "\n",
    "# simple script to test a list of numbers on the\n",
    "# prime-number property:\n",
    "def is_prime(n):\n",
    "    \"\"\"\n",
    "    tests whether an integer is a prime number\n",
    "    \n",
    "    input: the number to be tested\n",
    "    return: the number if it is a prime and -1 otherwise\n",
    "    \"\"\"\n",
    "        \n",
    "    if n != 2 and n%2 == 0:\n",
    "        return -1\n",
    "    else:\n",
    "        for i in range(3, int(np.sqrt(n) + 1)):\n",
    "            if n%i == 0:\n",
    "                return -1\n",
    "\n",
    "    return n\n",
    "\n",
    "# The map-function applies a function to each element of\n",
    "# an iterable and returns a new iterable with the results of the\n",
    "# function application.\n",
    "# Note that we typically use 'list-comprehension' for this task.\n",
    "# However, the 'map'-function is used for parallelisation below.\n",
    "result = list(map(is_prime, range(2, 1000000)))\n",
    "#print([i for i in result if i > 0])"
   ]
  },
  {
   "cell_type": "markdown",
   "id": "3fc31f16-483c-44d9-aae6-dd4eac80ad5d",
   "metadata": {},
   "source": [
    "Test of how many CPU cores you may can use:"
   ]
  },
  {
   "cell_type": "code",
   "execution_count": 2,
   "id": "673edeeb-077a-4117-9631-bf928bf3d174",
   "metadata": {
    "tags": []
   },
   "outputs": [
    {
     "name": "stdout",
     "output_type": "stream",
     "text": [
      "Your machine has 6 CPUs / cores\n"
     ]
    }
   ],
   "source": [
    "import multiprocessing\n",
    "\n",
    "print(\"Your machine has {} CPUs / cores\".format(multiprocessing.cpu_count()))"
   ]
  },
  {
   "cell_type": "markdown",
   "id": "41fc3a8f-6ade-41c5-9f77-42e820df74bb",
   "metadata": {},
   "source": [
    "Here a full example (Note: Don't work in Jupyter Notebooks ... see [prime_para.py](prime_para.py)!)"
   ]
  },
  {
   "cell_type": "code",
   "execution_count": null,
   "id": "995b6d9d-a632-4ecb-aa05-d014f7a93484",
   "metadata": {
    "tags": []
   },
   "outputs": [],
   "source": [
    "%%time\n",
    "# The same script as above but with parallelisation\n",
    "# Testing individual prime numbers is independent of each other\n",
    "# and hence this is an ideal case for the multiprocessing module!\n",
    "import numpy as np\n",
    "import multiprocessing\n",
    "\n",
    "\n",
    "# simple script to test a list of numbers on the\n",
    "# prime-number property:\n",
    "def is_prime(n):\n",
    "    \"\"\"\n",
    "    tests whether an integer is a prime number\n",
    "    \n",
    "    input: the number to be testes\n",
    "    return: the number if it is a prime and -1 otherwise\n",
    "    \"\"\"\n",
    "        \n",
    "    if n != 2 and n%2 == 0:\n",
    "        return -1\n",
    "    else:\n",
    "        for i in range(3, int(np.sqrt(n) + 1)):\n",
    "            if n%i == 0:\n",
    "                return -1\n",
    "\n",
    "    return n\n",
    "\n",
    "\n",
    "if __name__ == '__main__':\n",
    "    # initialize a process pool;\n",
    "    # just play with the number of processes to see\n",
    "    # the time difference; note the method\n",
    "    # multiprocessing.cpu_count() which gives you the\n",
    "    # number of CPUs / cores of your machine:\n",
    "    print(\"Your machine has {} CPUs / cores\".format(multiprocessing.cpu_count()))\n",
    "    #pool = multiprocessing.Pool(processes = 4)\n",
    "\n",
    "    with multiprocessing.Pool() as pool:\n",
    "\n",
    "        # and perform prime-number testing in parallel:\n",
    "        # The pool.map command takes a function and an iterable\n",
    "        # (typically a list) of arguments which are evaluated\n",
    "        # in parallel!\n",
    "        # Note that pool-map returns a list, not an iterable!\n",
    "        result = pool.map(is_prime, list(range(2, 1000000)))\n",
    "        #result = pool.map(defs.is_prime, list(range(2, 10)))\n",
    "\n",
    "    #print([i for i in result if i > 0])"
   ]
  },
  {
   "cell_type": "markdown",
   "id": "bb2b575d-83b3-411f-aceb-9c1ca31edb2d",
   "metadata": {},
   "source": [
    "**Notes:**\n",
    "\n",
    "* the code is not working in Jupyter Notebooks anymore\n",
    "* the number of usable cores may be not correct (Hyperthreading, Limits of accessable CPUs!)\n",
    "* the resulting list of `pool.map` respects the order of elements in the input list!\n",
    "* for small data samples, the parallelised version may be *slower* than the unparallelised!\n",
    "  In that case, the overhead to initialise and to execute parallelisation is not a negigible\n",
    "  part of the complete program execution time.  \n",
    "* the `pool.map` command only works with *single argument functions*\n",
    "  by default. If you need to provide multiple arguments to a function,\n",
    "  you need to collect these arguments in a list / tuple."
   ]
  },
  {
   "cell_type": "code",
   "execution_count": null,
   "id": "6fa4d16a-6423-4462-b9d5-2f14b51eb5b7",
   "metadata": {
    "tags": []
   },
   "outputs": [],
   "source": [
    "# simple (useless) program to show how to give multiple\n",
    "# arguments to a pool.map function\n",
    "\n",
    "import multiprocessing\n",
    "\n",
    "# of course you NEVER EVER would do the following\n",
    "# in a real-life scenario (numpy!):\n",
    "def line(args):\n",
    "    # The line function needs three arguments:\n",
    "    # x, a and b. To parallelise it with multiprocessing\n",
    "    # we artificially make one list-argument containing\n",
    "    # the three individual arguments\n",
    "    x, a, b = args\n",
    "    return a * x + b\n",
    "\n",
    "if __name__ == '__main__':\n",
    "    pool = multiprocessing.Pool(processes = 2)\n",
    "    result = pool.map(line, [(1, 2, 3), (4, 5, 6)])\n",
    "\n",
    "    print(result)"
   ]
  },
  {
   "cell_type": "markdown",
   "id": "158af7dd-7a96-488b-8bdf-483f51c69c9f",
   "metadata": {},
   "source": [
    "**Note:**\n",
    "\n",
    "The `multiprocessing` module offers much more. Check it out if you need to deal with more complex job-parallelisation!"
   ]
  },
  {
   "cell_type": "code",
   "execution_count": null,
   "id": "5e7e5a6c-98f7-4168-b9e3-3e8cc383b520",
   "metadata": {},
   "outputs": [],
   "source": []
  }
 ],
 "metadata": {
  "kernelspec": {
   "display_name": "Python 3 (ipykernel)",
   "language": "python",
   "name": "python3"
  },
  "language_info": {
   "codemirror_mode": {
    "name": "ipython",
    "version": 3
   },
   "file_extension": ".py",
   "mimetype": "text/x-python",
   "name": "python",
   "nbconvert_exporter": "python",
   "pygments_lexer": "ipython3",
   "version": "3.10.11"
  }
 },
 "nbformat": 4,
 "nbformat_minor": 5
}
