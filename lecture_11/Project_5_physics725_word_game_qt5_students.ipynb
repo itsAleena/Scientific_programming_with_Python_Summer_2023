{
 "cells": [
  {
   "cell_type": "markdown",
   "id": "8dedbf7b-d156-4451-81b8-7495c63f999c",
   "metadata": {},
   "source": [
    "# Project 5 - The physics725 Word-Game (qt5 graphical version)\n",
    "(This project is based on a project from MIT Open Course Ware [course 6-00](https://ocw.mit.edu/courses/electrical-engineering-and-computer-science/6-00-introduction-to-computer-science-and-programming-fall-2008/))"
   ]
  },
  {
   "cell_type": "markdown",
   "id": "c1bcbeee-9fdc-4c1a-88e8-eeff6091af5a",
   "metadata": {
    "tags": []
   },
   "source": [
    "**Project deadline:** This project is due for submission on Thursday, 06.07.2023, 23:55. Please check carefully the *About the Projects* section below for further details."
   ]
  },
  {
   "cell_type": "markdown",
   "id": "aed05df2-162c-441e-a52e-c15cbb89e754",
   "metadata": {},
   "source": [
    "**Important:** You have the choice between two projects. In this one you are asked to bring the computer game from Project 3 and 4 into a playable graphical version. The other one focus on modular simulation engine, in which you can define forces and walls. Both projects working with Python classes and objects."
   ]
  },
  {
   "cell_type": "markdown",
   "id": "a99864e6-0899-4874-a670-f53be625fd30",
   "metadata": {},
   "source": [
    "**Remark:** This project is stand-alone and you also can work on it if you *did not* work on the Word-Game in Project 3 and Project 4. However, you need to go through the notebook of Project 3 and Project 4 and associated codes in this case."
   ]
  },
  {
   "cell_type": "markdown",
   "id": "0249e98f-abdd-453c-804d-0fbe00519013",
   "metadata": {
    "tags": []
   },
   "source": [
    "## About the Projects\n",
    "- You will get one project approximately every other week.\n",
    "- Besides the homework-assignments, you need to solve the projects in order to pass the course. Your final course mark consists of the mean of your project marks. We aim to hand-out six projects during the term and we do not consider the worst project mark for your final course mark. Projects that you do not hand in are counted with a mark of 4.\n",
    "- The projects needs to be submitted by uploading a Unix-`tar` archive containing the files in the `word_game_qt5_students` folder to [Projects/Project 5](https://ecampus.uni-bonn.de/goto_ecampus_exc_3025921.html) on eCampus. The name of your `tar`-archive should be `YOUR_NAME.tgz`. Please only include the two files mentioned above and *no* other files. Your project must be on eCampus by Thursday, 22.06.2023, 23:55. **No late uploads can be accepted!**\n",
    "- **In contrast to the homework exercises, each student must hand in an own solution for the projects! Of course you can and should discuss problems with each other! However, you need to be able to explain your solution in detail to your tutor and/or the lecturers! We might ask you for an interview about your project if the solution is (close to) identical to another students submission.**\n",
    "\n",
    "**Notes:** (1) This project asks you to write and modify `Python`-scripts and -modules which needs to be developed for and executed on a `Linux`-environment, e.g. the `Desktop` within our Jupyterlab system; (2) The tutors, and I are very happy to help you out with difficulties you might have with the project tasks! You can ask questions any time but please do so well in advance of the deadlines!"
   ]
  },
  {
   "cell_type": "markdown",
   "id": "ba0baaee-96af-4b55-b07f-dd79edef92a0",
   "metadata": {},
   "source": [
    "## The Physics725 Word-Game (qt5 graphical version)\n",
    "\n",
    "Those of you who worked on the Word-Game for project 3 and project 4 you can use parts of the solution for the finished project *The Physics725 Word-Game (Level 1 and 2)*.\n",
    "\n",
    "**Note:** To work on this project you need to use the files in the folder word_game_qt5_students.\n",
    "\n",
    "\n",
    "**Please read the complete notebook once BEFORE doing anything with the codes!**\n",
    "\n",
    "I assume in the following that you are familiar with the notebook from project 3 (rules of the game and codes from that project)."
   ]
  },
  {
   "cell_type": "markdown",
   "id": "9e52ce97-62fd-46cc-99d1-c2606b128dc6",
   "metadata": {},
   "source": [
    "**Note:** Before you start with any coding and looking for a solution. \n",
    "\n",
    " * the graphical UI is optimized for running in the Desktop-part of the online jupyterlab-system, on Linux- and MacOS systems. For Windows Users the UI will not be displayed properly, I'm working on this issue, but for the time being, use the our online system. For Linux and MacOS systems, we used an anaconda python installation in which you need the packages `qt` and `pyqt`. \n",
    " * starting the UI you can go to the `word_game_qt5` directory, which contains a script `word_game.sh` which runs the program properly. Despite of any previous projects, for this project it is absolutely necessary that you don't modify any of the provided files except `player.py` which has the user logic of the game\n",
    " * there are many special files for the implementation of the graphical UI which is not perfect, but it does what it should. If you want to modify the UI, have a look for the program `Qt creator` and the `pyqt5`-programming interface. We cannot give support for the details of the `Qt5` implementation, but if you have some questions also after the semester I'm happy to share my experience!"
   ]
  },
  {
   "cell_type": "markdown",
   "id": "02563fad-7f0d-4209-aa2d-b87175d537bf",
   "metadata": {},
   "source": [
    "**How to play:**\n",
    "\n",
    " 1. You need to setup the players, use the main menu `Game->Players`. There is the possibility to define up to 6 players. Either put in the name of the player or use the check button if you want to have a computer player. If you leave a slot empty, no player will be generated.\n",
    " 1. After players are defined, you can start a game with `Game->Start`\n",
    " 1. Playing a computer player is mostly invisible, the UI stops if a *human* player can play. You see that the players name appears on the UI and the buttons `Submit` and `Finish game` are usable. And your `hand` is displayed as cards in the UI.\n",
    " 1. Select a word and press `Submit` if a valid word is submitted, you will see a modified hand and the accoring new score\n",
    " 1. If you want to finish your complete turn, press `Finish game`\n",
    " 1. If all player have played the same `hand`, the program is generating a final score list\n",
    " 1. You can play a new game with the same player or change the players\n",
    " \n",
    "**Note:**\n",
    " * you can play with computer players only, to see how the strategies are working if you have more than one computer player"
   ]
  },
  {
   "cell_type": "markdown",
   "id": "f1114e5c-f740-4572-99ed-6c43a29941d3",
   "metadata": {},
   "source": [
    "---"
   ]
  },
  {
   "cell_type": "markdown",
   "id": "33aef20b-5129-4f6c-a6d1-2d9bf374ac86",
   "metadata": {},
   "source": [
    "### 0. What is already implemented?"
   ]
  },
  {
   "cell_type": "markdown",
   "id": "35901ddf-3747-420d-8521-13db8cf806bb",
   "metadata": {},
   "source": [
    "Besides the UI layout and interfaces routines, some parts of the word games are already implemented. \n",
    " * `WordGameWords` implements the `wordlist` used for the game, according to the level 2 project, we have already a dictionary with the number of points for the worth of the word\n",
    " * `WordGameHand` implements the `hand` described from level 1, it has the previous described functions as methods and a transition from functions to operators, e.g. length of the `hand`"
   ]
  },
  {
   "cell_type": "markdown",
   "id": "c2418689-e8d2-4758-b06c-4ff62270c9b1",
   "metadata": {},
   "source": [
    "---"
   ]
  },
  {
   "cell_type": "markdown",
   "id": "b6a8ee9c-f31d-4b8a-86cd-7e750c91a904",
   "metadata": {},
   "source": [
    "### 1. Implementation players"
   ]
  },
  {
   "cell_type": "markdown",
   "id": "b12c646b-e8b9-43d4-8095-c675df62fed5",
   "metadata": {},
   "source": [
    "At the start the program is not working. Before you can try the first test, you need to implement a base structure for the players."
   ]
  },
  {
   "cell_type": "markdown",
   "id": "32fd320b-d324-4b39-96a3-2283e477476e",
   "metadata": {},
   "source": [
    "In `player.py` there are a few `classes` defined. We have the `base class` for a player which already implements a `name`, the `wordlist`, the `score` and the `hand`. The `__init__` method should do all the initialization which is necessary."
   ]
  },
  {
   "cell_type": "markdown",
   "id": "2da8aecf-9010-4dc1-bac4-7e6dfbdcb88e",
   "metadata": {},
   "source": [
    "**Task:**\n",
    "\n",
    "Implement a class for the human and the computer player. The class names __must be__ `WordGameHumanPlayer` and `WordGameComputerPlayer`.  The classes need some defined methods:\n",
    "\n",
    "WordGameHumanPlayer:\n",
    " * `isComputerplayer` without additional arguments, should return always `False`\n",
    " * `play` with the additional argument `word`, which will be the word, the user submits by the UI , for the beginning `play` should return `False`\n",
    "\n",
    "WordGameComputerPlayer:\n",
    " * `isComputerplayer` without additional arguments, should return always `True`\n",
    " * `play_hand` without additional arguments\n",
    " \n",
    " \n",
    "**Hints:**\n",
    "\n",
    "With these definitions the UI should start and you can select player and play, but as you can see, the human player is not able to get a score even for a valid word. The computer player will be called, but get also 0 points."
   ]
  },
  {
   "cell_type": "markdown",
   "id": "f5645ec5-7295-4761-8310-191b449ed0e8",
   "metadata": {},
   "source": [
    "---"
   ]
  },
  {
   "cell_type": "markdown",
   "id": "09660eff-6c8c-492e-a5ef-c7de6e3cd2ef",
   "metadata": {},
   "source": [
    "### 2. Game logic"
   ]
  },
  {
   "cell_type": "markdown",
   "id": "747ee7f7-0f85-407a-8efd-9fc0a747a547",
   "metadata": {},
   "source": [
    "Before we can play, you need to implement some game logic."
   ]
  },
  {
   "cell_type": "markdown",
   "id": "61f31c4d-2763-4697-b4dc-c65118d0fd19",
   "metadata": {},
   "source": [
    "**Task:** Implement the open methods in the `WordGame` class in the python file `word_game.py`:\n",
    "\n",
    " * `start(self, playerlist)`: should initialize a list of player from the name list `playerlist`\n",
    " * `nextPlayer(self)`: returns the next player\n",
    " * `final_scores(self)`: creates a text with the final scores\n"
   ]
  },
  {
   "cell_type": "markdown",
   "id": "79ab1485-f2d0-41a8-a231-22147bf4664b",
   "metadata": {},
   "source": [
    "**Hints:** \n",
    " * player should be organized in a list, which should be a class property\n",
    " * in `start` you should process the argument `playerlist` which is a list of strings and/or `None`s. A string is the name for a human player, a `None` stands for a computer player; `start` returns the first player\n",
    " * `final_scores` returns a strings, which can have multiple lines, each line should end with `\\n`"
   ]
  },
  {
   "cell_type": "markdown",
   "id": "82c4b39b-2f26-4c24-9b0b-cc65e3194c9a",
   "metadata": {},
   "source": [
    "---"
   ]
  },
  {
   "cell_type": "markdown",
   "id": "3596231a-993a-4ea1-91ee-8d5bdf227a16",
   "metadata": {},
   "source": [
    "### 3. Human player"
   ]
  },
  {
   "cell_type": "markdown",
   "id": "39784c46-740b-4c1f-985e-30b595a7eb68",
   "metadata": {},
   "source": [
    "The next task is to implement the human player. "
   ]
  },
  {
   "cell_type": "markdown",
   "id": "8cd76a20-d4e0-4f02-9bc6-2c69db4fd3d0",
   "metadata": {},
   "source": [
    "**Task:**\n",
    "\n",
    "Create the human player logic inside the method `play` of the `WordGameHumanPlayer` class.\n",
    "\n",
    "\n",
    "**Hints:**\n",
    "\n",
    " * Refer to the previous project definitions how to handle a submitted word. Have a look at the defined methods of the class `WordGameWords` (wordlist) and `WordGameHand` (hand)\n",
    " * `play` should return `True` is the word is valid and also the `score` of the word should be added, the `hand` needs to be updated\n",
    " * test the complete UI with a human player, you can use e.g. print commands for debugging in the console from which you started the game"
   ]
  },
  {
   "cell_type": "markdown",
   "id": "843e316c-2df7-4e03-a567-f7e0b4a42921",
   "metadata": {},
   "source": [
    "---"
   ]
  },
  {
   "cell_type": "markdown",
   "id": "18d52871-5f33-4cd9-be73-0e6e011152b8",
   "metadata": {},
   "source": [
    "### 4. Computer player"
   ]
  },
  {
   "cell_type": "markdown",
   "id": "d14b4e17-a440-428b-a537-b36994f0f16c",
   "metadata": {},
   "source": [
    "The most complex task is to implement the computer player."
   ]
  },
  {
   "cell_type": "markdown",
   "id": "1d4d58e6-6d32-41b0-9c7d-f2134fb4853e",
   "metadata": {},
   "source": [
    "**Task:**\n",
    "\n",
    "Create the computer player logic inside the method, `play_hand` of the `WordGameComputerPlayer` class.\n",
    "\n",
    "**Hints:**\n",
    "\n",
    " * `play_hand` plays the complete `hand` in one turn, so no interruption is planned from the game UI\n",
    " * it is useful to create a list of possible words from the `hand` and choose a strategy which word of the list should be played\n",
    " * add the score for each individual word into players `score` and update the `hand` when a word is played\n",
    " * test the complete UI with a computer player, you can use e.g. print commands for debugging in the console from which you started the game"
   ]
  },
  {
   "cell_type": "markdown",
   "id": "52c68837-6d59-470d-84bd-79471874bc1c",
   "metadata": {},
   "source": [
    "---"
   ]
  },
  {
   "cell_type": "markdown",
   "id": "1a71fc42-2c87-400d-9996-ce48c120b762",
   "metadata": {},
   "source": [
    "## General notes\n",
    "\n",
    "* you are working with classes, so in your solution you can add new methods and properties if needed\n",
    "* write a useful documentation for each method you created or modified (e.g. the logic behind the method, argument, return values)\n",
    "* write the code step by step, if you unsure about the first task, ask your tutor or ask the question in the forum or mail me (Oliver)\n",
    "* don't focus on the existing code and try to modify these parts; I know the code is not perfect, but fits in the frame of the game"
   ]
  },
  {
   "cell_type": "markdown",
   "id": "6202e445-5379-402c-9b25-ce654ea084fe",
   "metadata": {},
   "source": [
    "---"
   ]
  },
  {
   "cell_type": "markdown",
   "id": "c50a8f56-fb8d-4da2-b72c-66a7f5884ca2",
   "metadata": {},
   "source": [
    "## Have fun playing with the graphical game!"
   ]
  }
 ],
 "metadata": {
  "kernelspec": {
   "display_name": "Python 3 (ipykernel)",
   "language": "python",
   "name": "python3"
  },
  "language_info": {
   "codemirror_mode": {
    "name": "ipython",
    "version": 3
   },
   "file_extension": ".py",
   "mimetype": "text/x-python",
   "name": "python",
   "nbconvert_exporter": "python",
   "pygments_lexer": "ipython3",
   "version": "3.10.11"
  }
 },
 "nbformat": 4,
 "nbformat_minor": 5
}
