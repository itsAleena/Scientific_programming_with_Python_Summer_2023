{
 "cells": [
  {
   "cell_type": "markdown",
   "id": "af55b9f6-74b2-4a73-9731-219f8182fcd8",
   "metadata": {
    "tags": []
   },
   "source": [
    "# Lecture 11 - June 23th 2023"
   ]
  },
  {
   "cell_type": "markdown",
   "id": "922f41cf-b237-4b5d-b185-5fe45ed598f7",
   "metadata": {},
   "source": [
    "---\n",
    "\n",
    "**Topics of this lecture:**\n",
    "\n",
    " * `Specials` in Python `classes`\n",
    " * Scientific working with parallelizing\n",
    " * *Garbage collection*\n",
    " \n",
    "----"
   ]
  },
  {
   "cell_type": "markdown",
   "id": "65df1db5-a59f-49a3-a347-26ba937b0059",
   "metadata": {},
   "source": [
    "## Project/Homework submissions"
   ]
  },
  {
   "cell_type": "markdown",
   "id": "c0cca054-cf4f-4aa0-a2bc-c4ed9b341402",
   "metadata": {},
   "source": [
    " * if the project/homework relay on additional files, **do not change the filenames or modify the files**\n",
    " * don't change the filepath to the additional files in your submissions, otherwise we cannot run your solution!\n",
    " * if you work on your own devices, before submission, test your solution on our Jupyterhub-Online-System. If the code is not running in this enviroment, we cannot grade your solution with good marks!\n",
    " * we strongly recommend to work __only__ in the Jupyterhub-Online-System, because these systems provides all necessary modules with the correct versions; self maintained systems can produce unwanted side effects and errors!\n",
    " * for projects: please create individual plots if there aren't other specific requirements in the task descriptions; these plots should be readable if the notebook is converted to A4 paper PDFs when inspected for grading (you can check the output, when selecting `File->Save and Export Notebooks as->PDF` menu)\n",
    " * please have a look at the [coding style presentation](coding_style.pdf) to write better code!"
   ]
  },
  {
   "cell_type": "markdown",
   "id": "0a0a0a0f-db05-4458-a900-2d9e9a95413f",
   "metadata": {},
   "source": [
    "---"
   ]
  },
  {
   "cell_type": "markdown",
   "id": "adc4e4eb-a72b-4201-88b4-1b44c5bebfb4",
   "metadata": {},
   "source": [
    "## Multiple list comprehensions"
   ]
  },
  {
   "cell_type": "markdown",
   "id": "9209aea7-8857-49e6-b108-ac60baae3a78",
   "metadata": {},
   "source": [
    "As seen again in the submitted projects for project2, especially the Ice map project:"
   ]
  },
  {
   "cell_type": "markdown",
   "id": "7fec5c15-5be7-4c88-b517-f470783582c5",
   "metadata": {},
   "source": [
    "In one of the tasks data files should be loaded and examined. Some solutions show something like this:"
   ]
  },
  {
   "cell_type": "code",
   "execution_count": null,
   "id": "051bc9ac-05b0-4179-9333-2a8ee6a9a21a",
   "metadata": {},
   "outputs": [],
   "source": [
    "datasets = [np.loadtxt(filename) for filename in filelist]\n",
    "values1 = np.array([eval1(dataset) for dataset in datasets])\n",
    "values2 = np.array([eval2(dataset) for dataset in datasets])"
   ]
  },
  {
   "cell_type": "markdown",
   "id": "611331a7-b53f-449f-9418-9e7c4b688d84",
   "metadata": {},
   "source": [
    "This code is not really effective and actually you need enough memory to process the whole dataset."
   ]
  },
  {
   "cell_type": "markdown",
   "id": "f3356024-c3f6-4934-9f4c-d52f0328f3e9",
   "metadata": {},
   "source": [
    "The better solution is:"
   ]
  },
  {
   "cell_type": "code",
   "execution_count": null,
   "id": "4e9d08ec-8535-4ddc-87e5-53a37b4203cf",
   "metadata": {},
   "outputs": [],
   "source": [
    "values1 = np.zeros(len(filelist),dtype=np.float64)\n",
    "values2 = np.zeros(len(filelist),dtype=np.float64)\n",
    "\n",
    "for i, filename in enumerate(filelist):\n",
    "    dataset = np.loadtxt(filename)\n",
    "    values1[i] = eval1(dataset)\n",
    "    values2[i] = eval2(dataset)"
   ]
  },
  {
   "cell_type": "markdown",
   "id": "07b5fbb4-08e8-486b-9b6f-2fb03406edba",
   "metadata": {},
   "source": [
    "This code is slightly longer but much more effective and less memory consuming."
   ]
  }
 ],
 "metadata": {
  "kernelspec": {
   "display_name": "Python 3 (ipykernel)",
   "language": "python",
   "name": "python3"
  },
  "language_info": {
   "codemirror_mode": {
    "name": "ipython",
    "version": 3
   },
   "file_extension": ".py",
   "mimetype": "text/x-python",
   "name": "python",
   "nbconvert_exporter": "python",
   "pygments_lexer": "ipython3",
   "version": "3.9.10"
  }
 },
 "nbformat": 4,
 "nbformat_minor": 5
}
