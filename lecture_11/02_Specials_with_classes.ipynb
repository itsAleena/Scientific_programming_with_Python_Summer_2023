{
 "cells": [
  {
   "cell_type": "markdown",
   "id": "b6119e68-7750-4a75-b591-ffaf2f06c567",
   "metadata": {},
   "source": [
    "# Specials with classes"
   ]
  },
  {
   "cell_type": "markdown",
   "id": "5da28137-b3c8-42d8-a9c6-a4b405e80c23",
   "metadata": {},
   "source": [
    "---\n",
    "\n",
    "Additional notes and comments for Python classes.\n",
    "\n",
    "---"
   ]
  },
  {
   "cell_type": "markdown",
   "id": "ed3501ff-f7b7-4c52-9c78-65b850d75ec4",
   "metadata": {},
   "source": [
    "## 1. Special definitions in classes"
   ]
  },
  {
   "cell_type": "markdown",
   "id": "c61eb372-075d-4d08-8482-98dbd9770292",
   "metadata": {},
   "source": [
    "Sometimes it is useful to add some constants to a class definition, e.g. physical or mathematical constants which are needed by some calculations. Constants are defined similar to properties, with the `self.` part and **outside** any method:"
   ]
  },
  {
   "cell_type": "code",
   "execution_count": 5,
   "id": "619fa8a3-250b-4f5d-9c06-0fee28780732",
   "metadata": {},
   "outputs": [
    {
     "name": "stdout",
     "output_type": "stream",
     "text": [
      "x=1 y=2\n"
     ]
    }
   ],
   "source": [
    "class A(object):\n",
    "    x = 1\n",
    "    y = 2\n",
    "    \n",
    "    def __str__(self):\n",
    "        return f'x={self.x} y={self.y}'\n",
    "    \n",
    "a = A()\n",
    "print(a)"
   ]
  },
  {
   "cell_type": "markdown",
   "id": "55bdb40d-ad17-472e-b0d4-e290d635e560",
   "metadata": {},
   "source": [
    "Inside the class, the constants can be accessed as usual with `self.x`."
   ]
  },
  {
   "cell_type": "markdown",
   "id": "8a896959-4a1d-4753-be0a-413fd70733b3",
   "metadata": {},
   "source": [
    "Can constants be modified or what happened then to different instances?"
   ]
  },
  {
   "cell_type": "code",
   "execution_count": 8,
   "id": "cf141515-769b-475c-86ae-c4c5b73f47f5",
   "metadata": {},
   "outputs": [
    {
     "name": "stdout",
     "output_type": "stream",
     "text": [
      "x=1 y=2\n",
      "x=100 y=202\n",
      "x=1000 y=2\n"
     ]
    }
   ],
   "source": [
    "a = A()\n",
    "print(a)\n",
    "\n",
    "# change the variables\n",
    "a.x = 100   \n",
    "a.y += 200   \n",
    "\n",
    "print(a)        \n",
    "\n",
    "# create a second instance\n",
    "b = A()\n",
    "print(b)\n"
   ]
  },
  {
   "cell_type": "markdown",
   "id": "8dea9f67-e4c3-4028-a643-fa0c443f22c1",
   "metadata": {},
   "source": [
    "When changed the constants are then converted to normal properties."
   ]
  },
  {
   "cell_type": "markdown",
   "id": "774f048e-8f40-48a2-b04f-29b42bdb6858",
   "metadata": {},
   "source": [
    "Possible, but I suggest not to use it, you can modify the class definition directly:"
   ]
  },
  {
   "cell_type": "code",
   "execution_count": 9,
   "id": "3f019b8d-1f45-4523-a1ff-c8449d349aa9",
   "metadata": {},
   "outputs": [
    {
     "name": "stdout",
     "output_type": "stream",
     "text": [
      "x=-1234 y=2\n"
     ]
    }
   ],
   "source": [
    "A.x = -1234   # overwrite existing values, dangerous\n",
    "\n",
    "a = A()\n",
    "print(a)"
   ]
  },
  {
   "cell_type": "markdown",
   "id": "3d4f49ce-7200-44a8-94df-e2ef622b56d4",
   "metadata": {},
   "source": [
    "---"
   ]
  },
  {
   "cell_type": "markdown",
   "id": "50a09650-3938-477c-83d1-1a9fd9d85929",
   "metadata": {},
   "source": [
    "## 2. Special method definitions"
   ]
  },
  {
   "cell_type": "markdown",
   "id": "e7413c1d-3256-4593-8534-e24b9fafa328",
   "metadata": {},
   "source": [
    "Similar to the constants also methods can be added:"
   ]
  },
  {
   "cell_type": "code",
   "execution_count": 13,
   "id": "ebe02142-4e95-4c51-9949-38cce451dad1",
   "metadata": {},
   "outputs": [
    {
     "name": "stdout",
     "output_type": "stream",
     "text": [
      "a.print =  x=1 y=2\n",
      "print(a) =  x=1 y=2\n"
     ]
    }
   ],
   "source": [
    "class A(object):\n",
    "    x = 1\n",
    "    y = 2\n",
    "    \n",
    "    def print(self):\n",
    "        return f'x={self.x} y={self.y}'\n",
    "    \n",
    "    __str__ = print\n",
    "    \n",
    "a = A()\n",
    "print('a.print = ', a.print())\n",
    "print('print(a) = ', a)"
   ]
  },
  {
   "cell_type": "markdown",
   "id": "38a7da75-7eac-48a0-8e53-7e5074334987",
   "metadata": {},
   "source": [
    "The most use case is, that to avoid double implementation the same method is used with a different name. In general, for class definitions, all lines in the class definition are treated as normal code, so it possible to write code, which generate methods or constants dynamically. \n",
    "\n",
    "With Python it is very easy to write function generators, but the science applications there are not really useful."
   ]
  },
  {
   "cell_type": "markdown",
   "id": "039595ad-567a-4a18-a98f-8f2ef95021f8",
   "metadata": {},
   "source": [
    "---"
   ]
  },
  {
   "cell_type": "markdown",
   "id": "b4e96026-f1f7-4a80-a466-c57d655515c9",
   "metadata": {},
   "source": [
    "## 3. External access of classes"
   ]
  },
  {
   "cell_type": "markdown",
   "id": "1c872ba6-23c4-4715-98f3-4167ee902d7d",
   "metadata": {},
   "source": [
    "This topic is somehow dangerous, but I will present these possibilities for the completeness."
   ]
  },
  {
   "cell_type": "markdown",
   "id": "d08a434d-f36b-41ca-97f5-71f93ea45de3",
   "metadata": {},
   "source": [
    "Since class definitions are simply Python code which will be interpreted, all class definitions can be modified after the general defintion:"
   ]
  },
  {
   "cell_type": "code",
   "execution_count": 15,
   "id": "523bc828-9356-4f95-b135-1afc89265e62",
   "metadata": {},
   "outputs": [
    {
     "name": "stdout",
     "output_type": "stream",
     "text": [
      "-1234\n"
     ]
    }
   ],
   "source": [
    "class A(object):\n",
    "    x = 1\n",
    "    y = 2\n",
    "    \n",
    "    def __str__(self):\n",
    "        return f'x={self.x} y={self.y}'\n",
    "    \n",
    "\n",
    "def new_func(self):\n",
    "    print(self.z)\n",
    "\n",
    "    \n",
    "A.x = 100.  # changing the class definition\n",
    "\n",
    "# or\n",
    "\n",
    "A.z = -1234            # new constant\n",
    "\n",
    "A.new_func = new_func  # new method\n",
    "\n",
    "a = A()                # new instance \n",
    "\n",
    "a.new_func()           # call the new function"
   ]
  },
  {
   "cell_type": "markdown",
   "id": "0a4a723c-9957-4657-b452-ad148487b40a",
   "metadata": {},
   "source": [
    "This method is possible, but this is absolutely for experts only! Again, for normal science applications it is not necessary and produces more *points of failures*."
   ]
  },
  {
   "cell_type": "markdown",
   "id": "27499dc5-580e-4c79-9d0d-4c881cc29889",
   "metadata": {},
   "source": [
    "---"
   ]
  },
  {
   "cell_type": "markdown",
   "id": "b36cfc2b-1f07-4547-bc9b-1935a1f999d2",
   "metadata": {},
   "source": [
    "## 4. Design of classes"
   ]
  },
  {
   "cell_type": "markdown",
   "id": "a703eb03-7d04-4a7e-82b2-b245a7065a06",
   "metadata": {},
   "source": [
    "Typically before you write some code which includes classes and objects, each special need create a different design:"
   ]
  },
  {
   "cell_type": "markdown",
   "id": "cbfbeb0a-131a-4809-b0df-4010ee35a2da",
   "metadata": {},
   "source": [
    "### 4.1 Share same algorithms or properties for different classes"
   ]
  },
  {
   "cell_type": "markdown",
   "id": "c6ca081d-2d9a-456f-b03c-a9ba45bba333",
   "metadata": {},
   "source": [
    "In this case you can define an abstract class with these methods and properties. Then you create specialized classes which are used by the user:"
   ]
  },
  {
   "cell_type": "code",
   "execution_count": 18,
   "id": "293343f4-3a4f-4c8a-9835-8f56e3ef37ea",
   "metadata": {},
   "outputs": [
    {
     "name": "stdout",
     "output_type": "stream",
     "text": [
      "you took Book Hello world! (nr: 1234)\n",
      "you brought back Book Hello world! (nr: 1234)\n"
     ]
    }
   ],
   "source": [
    "class LibraryItem(object):\n",
    "    def __init__(self, number):\n",
    "        self._number = number\n",
    "        self._istaken = False\n",
    "        \n",
    "    def take(self):\n",
    "        self._istaken = True\n",
    "        print(f'you took {self.__str__()}') \n",
    "        \n",
    "    def untake(self):\n",
    "        self._istaken = False\n",
    "        print(f'you brought back {self.__str__()}') \n",
    "        \n",
    "    def __str__(self):\n",
    "        return f'item {self._number}'\n",
    "        \n",
    "        \n",
    "class Book(LibraryItem):\n",
    "    def __init__(self, number, title):\n",
    "        super().__init__(number)\n",
    "        self._title = title\n",
    "        \n",
    "    def __str__(self):\n",
    "        return f'Book {self._title} (nr: {self._number})'\n",
    "        \n",
    "\n",
    "# example        \n",
    "a = Book(1234, 'Hello world!')\n",
    "\n",
    "a.take()\n",
    "a.untake()"
   ]
  },
  {
   "cell_type": "markdown",
   "id": "ce65e417-245d-4072-a1e8-ee14c79f447f",
   "metadata": {},
   "source": [
    "`LibraryItem` is a abstract class and because it is not really usable will never be instanciated. Most users will just use `Book` for defining Books! Book is then called also the specialization of `LibraryItem`."
   ]
  },
  {
   "cell_type": "markdown",
   "id": "ae7db444-e856-4e60-afd9-413c4227663b",
   "metadata": {},
   "source": [
    "### 4.2 Adding special properties to classes"
   ]
  },
  {
   "cell_type": "markdown",
   "id": "d49339de-6e13-49db-aabe-30d76213e60b",
   "metadata": {},
   "source": [
    "During the design one think of having special properties or features available for a new class. E.g. for the `Rpn` from the homework exercise sheet, a `Stack` is necessary to implement the algorithm. The stack is nothing which you should add as a baseclass into you Rpn class:"
   ]
  },
  {
   "cell_type": "code",
   "execution_count": 19,
   "id": "88eb98b3-a11a-4c83-a685-3616d215c7d8",
   "metadata": {},
   "outputs": [],
   "source": [
    "class Stack(object):\n",
    "    pass\n",
    "\n",
    "class Rpn_wrong(Stack):\n",
    "    pass\n",
    "    # implement something\n",
    "    \n",
    "    \n",
    "class Rpn_correct(object):\n",
    "    def __init__(self):\n",
    "        self._stack = Stack()     # use a stack as an internal instance of the stack class\n",
    "        \n",
    "    # implement something"
   ]
  },
  {
   "cell_type": "markdown",
   "id": "29d4339b-e447-4c41-98ef-c27f312f8a92",
   "metadata": {},
   "source": [
    "`Rpn_wrong` is the wrong approach for implementing a `Stack` inside a `Rpn` class. Always define special properties as `Tools` which you can use internally in the class definition. "
   ]
  },
  {
   "cell_type": "code",
   "execution_count": null,
   "id": "b7d0aeca-1e47-4e5b-b590-6fa6ccaefa1a",
   "metadata": {},
   "outputs": [],
   "source": []
  }
 ],
 "metadata": {
  "kernelspec": {
   "display_name": "Python 3 (ipykernel)",
   "language": "python",
   "name": "python3"
  },
  "language_info": {
   "codemirror_mode": {
    "name": "ipython",
    "version": 3
   },
   "file_extension": ".py",
   "mimetype": "text/x-python",
   "name": "python",
   "nbconvert_exporter": "python",
   "pygments_lexer": "ipython3",
   "version": "3.9.10"
  }
 },
 "nbformat": 4,
 "nbformat_minor": 5
}
