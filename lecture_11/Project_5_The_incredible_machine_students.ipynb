{
 "cells": [
  {
   "cell_type": "markdown",
   "id": "8dedbf7b-d156-4451-81b8-7495c63f999c",
   "metadata": {},
   "source": [
    "# Project 5 - The incredible machine"
   ]
  },
  {
   "cell_type": "markdown",
   "id": "c1bcbeee-9fdc-4c1a-88e8-eeff6091af5a",
   "metadata": {
    "tags": []
   },
   "source": [
    "**Project deadline:** This project is due for submission on Thursday, 06.07.2023, 23:55. Please check carefully the *About the Projects* section below for further details."
   ]
  },
  {
   "cell_type": "markdown",
   "id": "aed05df2-162c-441e-a52e-c15cbb89e754",
   "metadata": {},
   "source": [
    "**Important:** You have the choice between two projects. In this one you can create a dynamical simulation, in which you define setups with forces and bouncing walls. The other project will bring the computer game from Project 3 and 4 into a playable graphical version. Both projects include the work with Python classes and objects."
   ]
  },
  {
   "cell_type": "markdown",
   "id": "0249e98f-abdd-453c-804d-0fbe00519013",
   "metadata": {
    "tags": []
   },
   "source": [
    "## About the Projects\n",
    "- You will get one project approximately every other week.\n",
    "- Besides the homework-assignments, you need to solve the projects in order to pass the course. Your final course mark consists of the mean of your project marks. We aim to hand-out six projects during the term and we do not consider the worst project mark for your final course mark. Projects that you do not hand in are counted with a mark of 4.\n",
    "- The projects needs to be submitted by uploading a Unix-`tar` archive containing the modified files `machine.py`, this notebook and probable additional files to [Projects/Project 5](https://ecampus.uni-bonn.de/goto_ecampus_exc_3025921.html) on eCampus. The name of your `tar`-archive should be `YOUR_NAME.tgz`. Please only include the  mentioned files above and *no* other files. Your project must be on eCampus by Thursday, 22.06.2023, 23:55. **No late uploads can be accepted!**\n",
    "- **In contrast to the homework exercises, each student must hand in an own solution for the projects! Of course you can and should discuss problems with each other! However, you need to be able to explain your solution in detail to your tutor and/or the lecturers! We might ask you for an interview about your project if the solution is (close to) identical to another students submission.**\n",
    "\n",
    "**Notes:** (1) In this project you can decide if you work in total with `Python`-scripts and -modules which needs to be developed for and executed on a `Linux`-environment, e.g. the `Desktop` within our Jupyterlab system or you can use the Jupyterlab-Editor and -Notebook (2) The tutors,  and I are very happy to help you out with difficulties you might have with the project tasks! You can ask questions any time but please do so well in advance of the deadlines!"
   ]
  },
  {
   "cell_type": "markdown",
   "id": "ba0baaee-96af-4b55-b07f-dd79edef92a0",
   "metadata": {},
   "source": [
    "## The incredible machine\n",
    "\n",
    "More than 25 years ago, there was a famous computer game \"The incredible machine\". I've see only a later version but the idea was to create a machine in which you can lead a ball through a labyrinth of walls and different small machines and tools which then solve a problem. \n",
    "\n",
    "However, this is not the task to write a game like this. What the most impression in these games was, that it based on physical rules and that you can start/stop features.\n",
    "\n",
    "The brought me to the idea that I want to create a simulation in which you can add simply forces $F$ which changes the movement of a defined particle $p$ or for which you can simply add a wall, which is useful to reflect the particle. \n",
    "\n",
    "The best approach for this task is that all parts can be defined as classes which is then controlled by a supervisor system engine. For testing you can activate or deactivate any part, like an individual setup of a physical experimental."
   ]
  },
  {
   "cell_type": "markdown",
   "id": "f1114e5c-f740-4572-99ed-6c43a29941d3",
   "metadata": {},
   "source": [
    "---"
   ]
  },
  {
   "cell_type": "markdown",
   "id": "33aef20b-5129-4f6c-a6d1-2d9bf374ac86",
   "metadata": {},
   "source": [
    "### 0. What is already implemented?"
   ]
  },
  {
   "cell_type": "markdown",
   "id": "35901ddf-3747-420d-8521-13db8cf806bb",
   "metadata": {},
   "source": [
    "For this task the supervisor system engine is already defined which plays the role of an interface between defined parts, particles, forces and walls, and the animation engine, which were shown in the 2nd lecture. "
   ]
  },
  {
   "cell_type": "markdown",
   "id": "3085f86f-223c-4702-8834-0f7d5a6268b7",
   "metadata": {},
   "source": [
    "Also for demonstration a basic Particle class is defined, which has the these properties:\n",
    " * a `vector` $x$ for the position\n",
    " * a `vector` $v$ for the velocity\n",
    " * a float for the mass $m$\n",
    " \n",
    "For creating a usable vector you can use the function `vector` which takes a $x$ and $y$ value to form a vector. \n",
    "\n",
    "However, these are the basic properties. One extension would be to add more physical parameters which are special to certain kind of particle."
   ]
  },
  {
   "cell_type": "markdown",
   "id": "ce0be000-3df4-4115-9744-e38a86cb90d4",
   "metadata": {},
   "source": [
    "In the next cell, there is a test setup of an experiment. There is one particle which starts at $(0,0)$ with a speed `vector` in 45 degrees into the upper right direction. The simulation lasts for `10` seconds with a time step of `0.1` seconds."
   ]
  },
  {
   "cell_type": "code",
   "execution_count": null,
   "id": "537c655f-644e-4f01-91cf-d5fb6ffe5fff",
   "metadata": {},
   "outputs": [],
   "source": [
    "from IPython.display import HTML\n",
    "\n",
    "from machine import vector, System, Particle\n",
    "\n",
    "s = System(10,0.1,xlimits=(-10,10))\n",
    "p1 = Particle(vector(0,0), vector(1,1),0.1)\n",
    "s.add_particle(p1)\n",
    "\n",
    "anim = s.simulate()\n",
    "\n",
    "# show the animation\n",
    "HTML(anim.to_jshtml())"
   ]
  },
  {
   "cell_type": "markdown",
   "id": "ff7c45fd-4da2-4b97-a13e-c52f1a5ddd9b",
   "metadata": {},
   "source": [
    "As you can see, the simulation is basically doing nothing, since there is no physics implemented for the `Particle` class."
   ]
  },
  {
   "cell_type": "markdown",
   "id": "693e54e8-344b-45b6-99c3-6d3fb3360f76",
   "metadata": {},
   "source": [
    "---"
   ]
  },
  {
   "cell_type": "markdown",
   "id": "04f4ab59-588c-4df7-82e7-008182e006bc",
   "metadata": {},
   "source": [
    "There is also a basic `Update` class defined, which will be inherited by the classes `Force`, `Wall` and `Particle`. The idea is, that during a simulation for each step properties of these classes can change. For a `Particle` this is of course the new position and velocity according to the time step. But also a `Force` can be dynamically modified during a simulation as well a `Wall` can e.g. change position. Dynamical processes are not part of these tasks, but feel free to implement further features."
   ]
  },
  {
   "cell_type": "markdown",
   "id": "639f8fae-3bf3-43c2-8e0d-2e37471ce34e",
   "metadata": {},
   "source": [
    "---"
   ]
  },
  {
   "cell_type": "markdown",
   "id": "f267a164-95bf-4d41-b4d4-0f2fff1cc1c0",
   "metadata": {},
   "source": [
    "## 1. Add physics to the Particle class"
   ]
  },
  {
   "cell_type": "markdown",
   "id": "38fd4a6f-fc2a-4f20-8651-11524e621bb9",
   "metadata": {},
   "source": [
    "As shown before the Particle class has an unimplemented method update, which is used to update the position and velocity of the particle. The start position is given and since this a force free start the velocity will not change."
   ]
  },
  {
   "cell_type": "markdown",
   "id": "5231a793-5a7f-4bfc-9a96-cb6fddf42992",
   "metadata": {},
   "source": [
    "**Task:**\n",
    "Implement a proper `update` method. Work directly in the file `machine.py`. Test your modified particle with the demo code above. "
   ]
  },
  {
   "cell_type": "markdown",
   "id": "68789fa2-9fe0-45dc-9990-8abc5686b02d",
   "metadata": {},
   "source": [
    "**Hints:**\n",
    " * The tasks are a combination of writing a module script and some test codes. I prefer to watch the animation in the notebook, however for doing this you need to restart the notebook kernel for each modification `Kernel->Restart Kernel`. Alternatively you run the demo code in a script as well and saves the animation in a .mp4 video. Please document you decision at this point in the notebook!\n",
    " * for the `update` method, you will find the `deltaT` argument quite useful"
   ]
  },
  {
   "cell_type": "code",
   "execution_count": null,
   "id": "0ad816a8-1ab0-49c0-8aa0-75920becc590",
   "metadata": {},
   "outputs": [],
   "source": [
    "# How is your solution organized?"
   ]
  },
  {
   "cell_type": "markdown",
   "id": "c386cff0-b316-4ca9-a1d8-67a5646f3c36",
   "metadata": {},
   "source": [
    "---"
   ]
  },
  {
   "cell_type": "markdown",
   "id": "642c04b8-331b-4e1a-9fc4-9523c7afd6de",
   "metadata": {},
   "source": [
    "## 2. Definition of Forces (I)"
   ]
  },
  {
   "cell_type": "markdown",
   "id": "aa42b3fc-4217-4cd6-b6eb-99c909a4693e",
   "metadata": {},
   "source": [
    "To add physical forces which work on a particle is part of the simulation. Physically if we have the force `F` which works on a particle `p` with a mass `m` it will generate an additional acceleration:\n",
    "\n",
    "$$ a = \\frac{F}{m} $$\n",
    "\n",
    "and for a small time step $\\Delta t$ produces a speed change $\\Delta v$:\n",
    "\n",
    "$$ \\Delta v = a\\cdot \\Delta T$$\n",
    "\n",
    "Of course you can use vectors for $F$, $a$  and $v$.\n",
    "\n",
    "If you have defined multiple Forces $F_1$,$F_2$,$F_3$,... you can define $F$ as:\n",
    "\n",
    "$$ F = \\sum_i F_i $$"
   ]
  },
  {
   "cell_type": "markdown",
   "id": "836da936-7b63-49ff-bc8f-e130107502d1",
   "metadata": {},
   "source": [
    "Before we start to define special forces, we need to apply the handling of forces in the `Particle` class. \n",
    "\n",
    "The setup of the `Particle` class has already a list of all defined forces in the property `self._forces` as a list of objects which bases on the class `Force`. The `calculate` method of a `Force` object returns the real force (as a vector) for a given position $x$, velocity $v$ and mass $m$. "
   ]
  },
  {
   "cell_type": "markdown",
   "id": "9f994b5d-b2db-4a03-b4fc-40bcc9970deb",
   "metadata": {},
   "source": [
    "**Task:**\n",
    "\n",
    "Add the use of forces to the `update` method of the `Particle` class. "
   ]
  },
  {
   "cell_type": "markdown",
   "id": "c1620ccc-143b-45b3-85c9-a67e455f99ec",
   "metadata": {},
   "source": [
    "**Hints:**\n",
    " * do the modification of the velocity $v$ before you apply the velocity to the position $x$"
   ]
  },
  {
   "cell_type": "markdown",
   "id": "c9ee177f-cd49-46ee-b909-2f60d16fd86e",
   "metadata": {},
   "source": [
    "---"
   ]
  },
  {
   "cell_type": "markdown",
   "id": "9a4c1edb-edbb-4872-879e-21c27ddd9c68",
   "metadata": {},
   "source": [
    "## 3. Definition of Forces (II)"
   ]
  },
  {
   "cell_type": "markdown",
   "id": "f7961061-6862-4e7d-96dd-cf1c737cce4d",
   "metadata": {},
   "source": [
    "Now that we have the possibility to use forces for our simulation, we should define a new `Force` e.g. gravity."
   ]
  },
  {
   "cell_type": "markdown",
   "id": "395b6588-74e9-48c7-8c74-dc568a678e59",
   "metadata": {},
   "source": [
    "For all new `Force` definition you need to create a new class definition which inherits the base class `Force`. To use the new class, you also need to define a new \n",
    "`calculate` method, in which you return the new force accordingly to the given parameter."
   ]
  },
  {
   "cell_type": "markdown",
   "id": "ac2644ab-f656-4893-b9a5-9f56d0595859",
   "metadata": {},
   "source": [
    "**Task**: Create a new class definition in the module `machine.py` `Gravity`. For initialization of the new class the user should give a value for the gravity. Test the following demo code:"
   ]
  },
  {
   "cell_type": "code",
   "execution_count": null,
   "id": "6a9a86a0-1289-4d7e-9c48-71c3810febfc",
   "metadata": {},
   "outputs": [],
   "source": [
    "# new gravity force\n",
    "g = Gravity(-2)  \n",
    "        \n",
    "s = System(20,0.1,xlimits=(0,20))\n",
    "p1 = Particle(vector(0,0), vector(1,4), 0.1)\n",
    "s.add_particle(p1)\n",
    "s.add_force(g)\n",
    "\n",
    "# calculate the simulation\n",
    "anim = s.simulate()\n",
    "\n",
    "# show the animation\n",
    "HTML(anim.to_jshtml())"
   ]
  },
  {
   "cell_type": "markdown",
   "id": "44c41ecd-0ca6-4146-a408-3b9320cf1d2e",
   "metadata": {},
   "source": [
    "---"
   ]
  },
  {
   "cell_type": "markdown",
   "id": "ad05582b-133d-47f6-a721-5a13fc8e8f1d",
   "metadata": {},
   "source": [
    "## 4. Definition of Walls"
   ]
  },
  {
   "cell_type": "markdown",
   "id": "0f3dd283-356d-4eee-beb9-ae6bd2fdc353",
   "metadata": {},
   "source": [
    "After adding forces we want to add *boundaries* to the simulation which can be implemented as `Walls`. The task for a wall is, for a given `position` and `velocity`(and probably mass), to return a new `velocity` and an updated position. "
   ]
  },
  {
   "cell_type": "markdown",
   "id": "03473dc9-ab71-4a54-822f-b5efae0df2f3",
   "metadata": {},
   "source": [
    "A `Wall` can be implemented as a inherited class with `Wall` as the base class. Similar to `Force` the method `calculate` will be called for the `Wall`s algorithm. It should return a `position` and a `velocity`."
   ]
  },
  {
   "cell_type": "markdown",
   "id": "8b04e3fb-d9e2-4681-a16e-fc43e45515cf",
   "metadata": {},
   "source": [
    "**Task:** For our demo example where we have a ball flying to the sky and who is returning to the floor by gravity, a wall which will define the `floor` is a nice task. Implement a `Floor` class which is doing nothing, except if the $y$ position of a particle is below 0, then the wall should reflect the particle. Obviously, the particle should have now the $y$-position 0 instead of a negative value. Modify also the `update` method of the `Particle` class to work with `Wall` instances."
   ]
  },
  {
   "cell_type": "markdown",
   "id": "d6682b8c-90f8-493c-bd7b-dab5f632d3c2",
   "metadata": {},
   "source": [
    "**Hints:**\n",
    "\n",
    " * the system engine has all `Wall` instances and hand these over to the particle instance as a property `self._walls`\n",
    " * Walls should have an effect after all forces are applied, to be sure that positions and velocities are correct"
   ]
  },
  {
   "cell_type": "markdown",
   "id": "471c09be-6b05-477c-98ca-263ee33beb56",
   "metadata": {},
   "source": [
    "My demo code looks like this now:"
   ]
  },
  {
   "cell_type": "code",
   "execution_count": null,
   "id": "a6d1436a-18b2-43b0-8e36-a3d12bd3cda8",
   "metadata": {},
   "outputs": [],
   "source": [
    "# new gravity force\n",
    "g = Gravity(-2)  \n",
    "        \n",
    "s = System(20,0.1,xlimits=(0,20))\n",
    "p1 = Particle(vector(0,0), vector(1,4), 0.1)\n",
    "s.add_particle(p1)\n",
    "s.add_force(g)\n",
    "\n",
    "# add the floor for the simulation\n",
    "w = Floor(y=0)\n",
    "\n",
    "s.add_wall(w)\n",
    "\n",
    "anim = s.simulate()\n",
    "\n",
    "# show the animation\n",
    "HTML(anim.to_jshtml())"
   ]
  },
  {
   "cell_type": "markdown",
   "id": "bb362429-e676-4c74-8834-2af1a8d84e8c",
   "metadata": {},
   "source": [
    "The next cell shows the video of my solution! I've added an additional wall at $x=10$."
   ]
  },
  {
   "cell_type": "code",
   "execution_count": 1,
   "id": "5ad9bbe7-1ab2-4b31-af1e-9d38fd064a95",
   "metadata": {
    "tags": []
   },
   "outputs": [
    {
     "data": {
      "text/html": [
       "<video src=\"./figs/bouncing.mp4\" controls  >\n",
       "      Your browser does not support the <code>video</code> element.\n",
       "    </video>"
      ],
      "text/plain": [
       "<IPython.core.display.Video object>"
      ]
     },
     "execution_count": 1,
     "metadata": {},
     "output_type": "execute_result"
    }
   ],
   "source": [
    "from IPython.display import Video\n",
    "\n",
    "Video(\"./figs/bouncing.mp4\")"
   ]
  },
  {
   "cell_type": "markdown",
   "id": "52c68837-6d59-470d-84bd-79471874bc1c",
   "metadata": {},
   "source": [
    "---"
   ]
  },
  {
   "cell_type": "markdown",
   "id": "8adab061-016b-46a7-bf38-0f2b269c78d4",
   "metadata": {},
   "source": [
    "## 5. Analyzing data"
   ]
  },
  {
   "cell_type": "markdown",
   "id": "b3e83ec6-6acf-4ce3-8c6c-d329956618da",
   "metadata": {},
   "source": [
    "If you have a look at the defined System engine, a special method analyze will be called after every simulation step. This method can be used to create some additional plots with the data from the simulation."
   ]
  },
  {
   "cell_type": "markdown",
   "id": "536b782c-c37e-4fcc-926c-8d59b77858d5",
   "metadata": {},
   "source": [
    "**Task:** \n",
    "Create a plot to the previous created simulation of the bouncing ball, in which the total velocity $v$ is plotted vs. the simulation time index $t$. Create a new class SystemVelocity, which records the current velocity in the method analyze. Write a new method get_speed_data which returns a numpy array for the recorded times and total velocities individually."
   ]
  },
  {
   "cell_type": "markdown",
   "id": "73d83761-0ea4-44aa-8af5-839ae2b9106d",
   "metadata": {},
   "source": [
    "**Hints:**\n",
    " * despite the possibility to have multiple particles, you can record the data from the first particle only\n",
    " * you need to initialize the numpy arrays before the simulation starts, the size of the array can be calculated from the arguments for __init__\n",
    " * the use of Python lists for the recorded data is forbidden!"
   ]
  },
  {
   "cell_type": "markdown",
   "id": "3a41941e-6978-45a6-9e41-525e81c6fa30",
   "metadata": {},
   "source": [
    "---"
   ]
  },
  {
   "cell_type": "markdown",
   "id": "1a71fc42-2c87-400d-9996-ce48c120b762",
   "metadata": {},
   "source": [
    "## General notes\n",
    "\n",
    "* you are working with classes, so in your solution you can add new methods and properties if needed\n",
    "* write a useful documentation for each method you created or modified (e.g. the logic behind the method, argument, return values)\n",
    "* write the code step by step, if you unsure about any of the tasks, ask your tutor or ask the question in the forum or mail me (Oliver)"
   ]
  },
  {
   "cell_type": "markdown",
   "id": "6202e445-5379-402c-9b25-ce654ea084fe",
   "metadata": {},
   "source": [
    "---"
   ]
  },
  {
   "cell_type": "markdown",
   "id": "c50a8f56-fb8d-4da2-b72c-66a7f5884ca2",
   "metadata": {},
   "source": [
    "## Epilogue\n",
    "\n",
    "In this project, we only use a few parts of the possibilities of the simulation engine. One idea of the concept, that you can e.g. create forces or wall which works only for specific regions. So it is possible to simulate a bullet flying through different materials to see how this material changes the speed over time. Also you can create complex setup of walls and check which initial speed is necessary to bring a ball in a special target position. I guess that this simple program has a lot of possibilities and can create also a little bit fun!"
   ]
  }
 ],
 "metadata": {
  "kernelspec": {
   "display_name": "Python 3 (ipykernel)",
   "language": "python",
   "name": "python3"
  },
  "language_info": {
   "codemirror_mode": {
    "name": "ipython",
    "version": 3
   },
   "file_extension": ".py",
   "mimetype": "text/x-python",
   "name": "python",
   "nbconvert_exporter": "python",
   "pygments_lexer": "ipython3",
   "version": "3.10.11"
  }
 },
 "nbformat": 4,
 "nbformat_minor": 5
}
