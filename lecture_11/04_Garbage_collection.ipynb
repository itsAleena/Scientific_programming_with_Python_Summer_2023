{
 "cells": [
  {
   "cell_type": "markdown",
   "id": "f561c9d3-2107-4061-aa59-3490382adc14",
   "metadata": {},
   "source": [
    "# Garbage collection"
   ]
  },
  {
   "cell_type": "markdown",
   "id": "b3f3c1ce-1125-4ea0-8efb-23672a45318c",
   "metadata": {},
   "source": [
    "--- \n",
    "\n",
    "In this notebook I want to give you some ideas and strategies to optimize you python programs.\n",
    "\n",
    "---"
   ]
  },
  {
   "cell_type": "markdown",
   "id": "b8be3c67-2dc2-4e88-9512-146fe8523b4d",
   "metadata": {},
   "source": [
    "## 1. Garbage"
   ]
  },
  {
   "cell_type": "markdown",
   "id": "ee73ea5c-af53-4150-bf15-bfdfb9bd2973",
   "metadata": {},
   "source": [
    "When using Python normally you will never get in touch with memory management as you need to know when using C or C++. Whenever you create an object in Python, Python will take care of the memory management."
   ]
  },
  {
   "cell_type": "markdown",
   "id": "4e27fcce-3920-4775-bfcf-9bab24928312",
   "metadata": {},
   "source": [
    "To explain `Garbage` you may think of, that during a Python program many objects will be created and at certain points these objects are not used anymore and in may cases the memory an object is occupying can be freed. The internal procedure of freeing unused memory is called `Garbage collection` and unused objects can be called `Garbage`."
   ]
  },
  {
   "cell_type": "markdown",
   "id": "7692da7e-41b9-4398-80fc-40f3ba66d62d",
   "metadata": {},
   "source": [
    "---"
   ]
  },
  {
   "cell_type": "markdown",
   "id": "4536c363-365d-423c-934f-bbc39e7db8c4",
   "metadata": {},
   "source": [
    "## 2. Unused objects"
   ]
  },
  {
   "cell_type": "markdown",
   "id": "d28ed0f5-7bb3-4318-ac20-16a6fe7c84c3",
   "metadata": {},
   "source": [
    "This big question is what are unused objects or when become an object unused?"
   ]
  },
  {
   "cell_type": "markdown",
   "id": "c2daafc9-3cdc-4d28-b68c-061fbf6155cc",
   "metadata": {},
   "source": [
    " * at the end of a function -> all local defined variables will be freed if possible\n",
    " * when an object will be overwritten be a new value\n",
    " * when objects are removed with  `del` \n",
    " \n",
    "not if:\n",
    " * full objects or part of objects which are used by other objects"
   ]
  },
  {
   "cell_type": "code",
   "execution_count": 16,
   "id": "c5b4f430-1fa0-4aaa-a124-86d48e62271a",
   "metadata": {},
   "outputs": [],
   "source": [
    "# example\n",
    "\n",
    "def test():\n",
    "    a = 123\n",
    "    b = [1,2,3]\n",
    "    \n",
    "\n",
    "test()\n",
    "# after the call the memory of a and b is freed"
   ]
  },
  {
   "cell_type": "markdown",
   "id": "c59e93a0-720e-4250-94ce-36ba7f524a12",
   "metadata": {},
   "source": [
    "but:"
   ]
  },
  {
   "cell_type": "code",
   "execution_count": 17,
   "id": "cc6f2621-c068-4b55-ade0-664f7dea7f73",
   "metadata": {
    "tags": []
   },
   "outputs": [],
   "source": [
    "def test(l):\n",
    "    a = 123\n",
    "    \n",
    "    l.append(a)\n",
    "    \n",
    "l = []\n",
    "test(l)\n",
    "# after the call a is unused in the function, but there is a reference to the object in l, so a will be freed, if l will be deleted!"
   ]
  },
  {
   "cell_type": "markdown",
   "id": "4eb70f2c-be8c-4a83-845d-b651cfe5867f",
   "metadata": {},
   "source": [
    "To demonstrate what a reference of an object is, have a look at the next cell:"
   ]
  },
  {
   "cell_type": "code",
   "execution_count": 2,
   "id": "361dd0e7-8834-41b5-acbf-c936e4765207",
   "metadata": {},
   "outputs": [
    {
     "data": {
      "text/plain": [
       "3"
      ]
     },
     "execution_count": 2,
     "metadata": {},
     "output_type": "execute_result"
    }
   ],
   "source": [
    "import sys\n",
    "\n",
    "a = []\n",
    "b = a\n",
    "\n",
    "sys.getrefcount(a)"
   ]
  },
  {
   "cell_type": "markdown",
   "id": "8a58f5d8-94b1-41b3-91de-f99ca4faf23a",
   "metadata": {},
   "source": [
    "As you can see during the call 3 references are counted for $a$ and only if the counter is zero, $a$ will be removed from the memory. (the 3rd reference comes from the function call itself!)"
   ]
  },
  {
   "cell_type": "markdown",
   "id": "848829cd-b75f-40e3-a2bc-2594417879c3",
   "metadata": {},
   "source": [
    "---"
   ]
  },
  {
   "cell_type": "markdown",
   "id": "d480e2f2-aad2-4a69-8e1a-828968f84dc6",
   "metadata": {},
   "source": [
    "## 3. Garbage collection"
   ]
  },
  {
   "cell_type": "markdown",
   "id": "adbaddb2-a431-4c8b-bc6b-063db987f720",
   "metadata": {},
   "source": [
    "In general in python the interpreter looks from time to time, if there are unused objects and free the memory. \n",
    "\n",
    "To be honest, there are a few additional mechanism in which you can define strategies to free memory also in other situations, but for most situations this is the best description."
   ]
  },
  {
   "cell_type": "markdown",
   "id": "f11b1a16-db32-4ef4-9b92-43623f325ff7",
   "metadata": {},
   "source": [
    "---"
   ]
  },
  {
   "cell_type": "markdown",
   "id": "844260bc-c3d6-4000-b8ba-cf0b0a92e990",
   "metadata": {},
   "source": [
    "## 4. Memory usage and mistakes"
   ]
  },
  {
   "cell_type": "markdown",
   "id": "16480b82-cd91-49f5-aaf5-6cdb3da53b76",
   "metadata": {},
   "source": [
    "Of course using python in different situations can create different problems with memory. As seen while using the animation frameworks, the same animation created for watching in notebooks takes less memory as when you want to produce a video file in `.gif` or `.mp4` format."
   ]
  },
  {
   "cell_type": "markdown",
   "id": "5550b841-b9d4-47f5-96e6-ce6850595b35",
   "metadata": {},
   "source": [
    "However, there are other difficult situations:"
   ]
  },
  {
   "cell_type": "markdown",
   "id": "1dbf8f51-7925-404e-964f-901879b9e266",
   "metadata": {},
   "source": [
    " * how to handle big data sets, e.g. Ice maps file sets\n",
    " * working on individual big data files"
   ]
  },
  {
   "cell_type": "markdown",
   "id": "fd886646-5028-4e21-9633-dd1032c5ed3b",
   "metadata": {},
   "source": [
    "1. As seen for the Ice maps project, the data set consists of a few files with a total size of ~500 MB. The strategy is to extract values from each file individually and combine these data for a plot.\n",
    " * in many of the solutions, all data is read in one loop (bad idea, if you have less memory)\n",
    " * create a loop in which you work on each file (file by file) and extract the necessary data, good idea, the data will be overwritten in each loop step and the old data will be freed -> less memory is needed"
   ]
  },
  {
   "cell_type": "markdown",
   "id": "ee9f47bc-a186-4d0a-9048-dfdc5b84e397",
   "metadata": {},
   "source": [
    "2.  I've seen a lot of python programs in which in a main program without any function one big file was read and analysed and using a new variable, the next data set was read, ... -> at a certain point the memory of the server was exhausted and the program was killed by the linux  OS\n",
    "   \n",
    "The solution in this case is, to either put the analysis in a special function which, when done, will free the used memory, of to use `del` to remove unwanted objects."
   ]
  },
  {
   "cell_type": "markdown",
   "id": "0416175f-d58a-4082-837c-1e3dd5bd093d",
   "metadata": {},
   "source": [
    "---"
   ]
  },
  {
   "cell_type": "code",
   "execution_count": null,
   "id": "3d8df891-908e-406d-a9da-050ded887ab7",
   "metadata": {},
   "outputs": [],
   "source": []
  }
 ],
 "metadata": {
  "kernelspec": {
   "display_name": "Python 3 (ipykernel)",
   "language": "python",
   "name": "python3"
  },
  "language_info": {
   "codemirror_mode": {
    "name": "ipython",
    "version": 3
   },
   "file_extension": ".py",
   "mimetype": "text/x-python",
   "name": "python",
   "nbconvert_exporter": "python",
   "pygments_lexer": "ipython3",
   "version": "3.9.10"
  }
 },
 "nbformat": 4,
 "nbformat_minor": 5
}
