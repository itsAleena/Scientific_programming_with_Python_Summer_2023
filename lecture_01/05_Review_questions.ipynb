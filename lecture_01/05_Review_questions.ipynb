{
 "cells": [
  {
   "cell_type": "markdown",
   "id": "52cda64c-366c-4af1-8c5f-e7a632364425",
   "metadata": {},
   "source": [
    "# Review questions"
   ]
  },
  {
   "cell_type": "markdown",
   "id": "4071e5ad-5b88-475c-bae4-8066c346bac1",
   "metadata": {},
   "source": [
    "For every lecture we provide *review questions* which should help you to verify your understanding of the lecture. You should read and answer these question as a preparation of the following exercise class and will be then discussed in the beginning of each exercise class.\n",
    "\n",
    "---"
   ]
  },
  {
   "cell_type": "markdown",
   "id": "80f8878c-ddf7-4f05-99bd-5dd7affd8594",
   "metadata": {},
   "source": [
    "The *review question* for this lecture will not be *questions* but consists of some small tasks:\n",
    "\n",
    " * open the JupyterHub online system via eCampus; check if you can properly login and see you home directory\n",
    " * visit the public git repository for the lecture materials\n",
    " * download the mentioned script from github and upload the script into the JupyterHub online system\n",
    " * download all materials\n",
    " * get familiar with the online system, you have two possibilities:\n",
    "    * Thomas Erben created three videos that explain `Jupyter notebooks` and the `JupyterLab`-environment in more detail. Watch them in [this YouTube playlist](https://youtube.com/playlist?list=PL0FqMC_xCtjRvXC1R55U5ufx0vxajpZqi) if you want to (highly recommended). \n",
    "    * (alternative:) in the course materials of this week, there is PDF manual for the JupyterHub online system [jupyterhub_hrz_en.pdf](jupyterhub_hrz_en.pdf)"
   ]
  },
  {
   "cell_type": "code",
   "execution_count": null,
   "id": "4833b9d1-7b2f-4525-939a-6b952560ee27",
   "metadata": {},
   "outputs": [],
   "source": []
  }
 ],
 "metadata": {
  "kernelspec": {
   "display_name": "Python 3 (ipykernel)",
   "language": "python",
   "name": "python3"
  },
  "language_info": {
   "codemirror_mode": {
    "name": "ipython",
    "version": 3
   },
   "file_extension": ".py",
   "mimetype": "text/x-python",
   "name": "python",
   "nbconvert_exporter": "python",
   "pygments_lexer": "ipython3",
   "version": "3.10.10"
  }
 },
 "nbformat": 4,
 "nbformat_minor": 5
}
