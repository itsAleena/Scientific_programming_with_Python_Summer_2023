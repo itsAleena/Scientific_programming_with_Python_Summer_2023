{
 "cells": [
  {
   "cell_type": "markdown",
   "metadata": {},
   "source": [
    "# Week 01: Exercise and Homework notebook"
   ]
  },
  {
   "cell_type": "markdown",
   "metadata": {},
   "source": [
    "The first exercises homework consists of the tasks:\n",
    "\n",
    "- Form a homework/project group with two of your peers\n",
    "- Your tutor gives you a short introduction into the JuypterHub online system (Launcher, Linux Desktop environment, integration of lecture material into your JupyterLab environment)\n",
    "- Together with your tutor, get in first contact with the Jupyter notebook, the cell handling and the markdown language. Use the notebook [04_Using_the_Jupyter_notebook.ipynb](04_Using_the_Jupyter_notebook.ipynb) as a *very* short reference to the topic. In 2020, Thomas Erben created three videos that explain `Jupyter notebooks` and the `JupyterLab`-environment in more detail. You can watch them in [this YouTube playlist](https://youtube.com/playlist?list=PL0FqMC_xCtjRvXC1R55U5ufx0vxajpZqi) if you want to (highly recommended). Alternatively read the PDF file of the JupyterHub online system [jupyterhub_hrz_en.pdf](jupyterhub_hrz_en.pdf).\n",
    "- In the directory of the materials you find a PDF of a demo notebook [Lorenz.pdf](Lorenz.pdf) which you should reproduce\n",
    "- Create a new notebook with the name ```Lorentz``` and reproduce this notebook after the heading *Homework Sheet 01*. Please\n",
    "  find the source file for the main code cell in [lorenz.py](code/lorenz.py) in the code directory of this lecture (you can use the %load magic).\n",
    "- There is a [*voluntary* homework sheet on some basic Linux](06_Voluntary_Exercise_Linux.ipynb) that you need to know. As I explained to you in lecture, your group can fail two homework sheets during the term. Doing and passing the Linux sheet, your homework group can fail a third homework sheet during the semester!\n",
    "  \n",
    "**Notes:**\n",
    "1. With the Notebook you of course already have the solution of the homework. It is up to you how much you cheat on yourself :-)\n",
    "2. Your tutor will explain to you how to hand-in homework sheets and please use this opportunity to test the submission process with your *Bessel functions* sheet. It will not give you any points though."
   ]
  },
  {
   "cell_type": "markdown",
   "metadata": {},
   "source": [
    "# Homework Sheet 01\n",
    "\n",
    "The sheet can be handed in until **20st of April 2023, 11:55 pm**\n",
    "\n",
    "The procedure to hand in your sheet will be explained to you by your tutor."
   ]
  },
  {
   "cell_type": "markdown",
   "metadata": {},
   "source": [
    "### Homework group ID: *Please put the ID of your homework group here :-)*"
   ]
  },
  {
   "cell_type": "markdown",
   "metadata": {},
   "source": [
    "---"
   ]
  },
  {
   "cell_type": "markdown",
   "metadata": {},
   "source": [
    "# The Lorenz Differential Equations"
   ]
  },
  {
   "cell_type": "code",
   "execution_count": 4,
   "metadata": {
    "tags": []
   },
   "outputs": [],
   "source": [
    "# Your solution here!"
   ]
  }
 ],
 "metadata": {
  "kernelspec": {
   "display_name": "Python 3 (ipykernel)",
   "language": "python",
   "name": "python3"
  },
  "language_info": {
   "codemirror_mode": {
    "name": "ipython",
    "version": 3
   },
   "file_extension": ".py",
   "mimetype": "text/x-python",
   "name": "python",
   "nbconvert_exporter": "python",
   "pygments_lexer": "ipython3",
   "version": "3.10.10"
  }
 },
 "nbformat": 4,
 "nbformat_minor": 4
}
