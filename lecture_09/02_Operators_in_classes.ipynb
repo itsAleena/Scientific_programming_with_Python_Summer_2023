{
 "cells": [
  {
   "cell_type": "markdown",
   "id": "e9761a92-e16d-4c5f-bd97-f71f199af775",
   "metadata": {},
   "source": [
    "# Operators in Python classes "
   ]
  },
  {
   "cell_type": "markdown",
   "id": "46a86142-0293-4859-b8e0-9c8f56bba22d",
   "metadata": {},
   "source": [
    "---\n",
    "\n",
    "This notebook should give you an introduction in operators in Python `classes`.\n",
    "\n",
    "---"
   ]
  },
  {
   "cell_type": "markdown",
   "id": "0ecb0625-0c4c-4f42-9ae8-8fb683407eeb",
   "metadata": {},
   "source": [
    "As shown in the previous lecture all Python objects have some special methods with such names `__XXXX__` (besides some classical methods, e.g. `append` for `list`):"
   ]
  },
  {
   "cell_type": "code",
   "execution_count": null,
   "id": "c1030e6e-a464-485e-a2b6-28813270cc05",
   "metadata": {},
   "outputs": [],
   "source": [
    "l = [1,2,3]\n",
    "\n",
    "print(dir(l))"
   ]
  },
  {
   "cell_type": "markdown",
   "id": "dfe5f43a-c6a9-4180-90f9-2b6339376fca",
   "metadata": {},
   "source": [
    "The `__init__` method was described as a `initialization` whenever a new object is created."
   ]
  },
  {
   "cell_type": "markdown",
   "id": "eb10c750-9c06-4d17-a4b2-dc80a6ed4f80",
   "metadata": {},
   "source": [
    "These special methods are called operators. The specialty is, that these methods are rarely called directly, but these methods are bound to the Python language.\n",
    "\n",
    "Assume `A` and `B` are instantiated objects, then commands are translated:\n",
    "\n",
    "```\n",
    "A + B  =>   A.__add__(B)\n",
    "A - B  =>   A.__sub__(B)\n",
    "...\n",
    "```"
   ]
  },
  {
   "cell_type": "markdown",
   "id": "078f398d-95a6-48cd-8579-38a7a989fd02",
   "metadata": {},
   "source": [
    "So if you create a new object, then you need to define these special operators."
   ]
  },
  {
   "cell_type": "markdown",
   "id": "ea9b0657-663e-4595-a68e-9baf5028019b",
   "metadata": {},
   "source": [
    "## 1. Example - new number types"
   ]
  },
  {
   "cell_type": "markdown",
   "id": "72ef3d85-f567-4448-9f69-8c4654fd9622",
   "metadata": {},
   "source": [
    "One nice example for creating a new class is the `lpf` module which you already know from exercises:"
   ]
  },
  {
   "cell_type": "code",
   "execution_count": null,
   "id": "4bce481f-c9af-4129-8ecf-20680d79c161",
   "metadata": {},
   "outputs": [],
   "source": [
    "#import lpf\n",
    "import lpf_debug as lpf\n",
    "\n",
    "a = lpf.LPF(0.1)\n",
    "b = lpf.LPF(4)\n",
    "\n",
    "print(a)     # use a.__str__()\n",
    "\n",
    "a            # use a.__repr__()"
   ]
  },
  {
   "cell_type": "code",
   "execution_count": null,
   "id": "73ed25dd-3228-48f6-bfcc-424cf003ef0e",
   "metadata": {},
   "outputs": [],
   "source": [
    "# mathematical operations\n",
    "print(a+b)   # use a.__add__(b)\n",
    "print(a-b)   # use a.__sub__(b)\n",
    "print(a*b)   # use a.__mul__(b)\n",
    "print(a/b)   # use a.__truediv(b)"
   ]
  },
  {
   "cell_type": "code",
   "execution_count": null,
   "id": "86e57893-41d5-46e3-b82c-f4cc07db5e6f",
   "metadata": {},
   "outputs": [],
   "source": [
    "%load lpf_debug.py"
   ]
  },
  {
   "cell_type": "markdown",
   "id": "0fbe6e1d-fd4e-4b6f-92cb-4750c450642e",
   "metadata": {
    "tags": []
   },
   "source": [
    "## Important notes for the implementation"
   ]
  },
  {
   "cell_type": "markdown",
   "id": "905ae71c-0f4b-46ff-bb71-3978983b5027",
   "metadata": {},
   "source": [
    "### Missing methods"
   ]
  },
  {
   "cell_type": "markdown",
   "id": "022900c6-44de-40e5-86cd-d4bd498116e0",
   "metadata": {},
   "source": [
    "If you miss some of the used `methods` you will retrieve an error:"
   ]
  },
  {
   "cell_type": "code",
   "execution_count": null,
   "id": "c1fdea41-4639-431b-85fd-1133831b3b69",
   "metadata": {},
   "outputs": [],
   "source": [
    "print(a//b)  # use a.__div__(b), which is not defined"
   ]
  },
  {
   "cell_type": "markdown",
   "id": "c1914f4e-08a2-4b76-af62-e2649ecb97bc",
   "metadata": {},
   "source": [
    "## Mixed types"
   ]
  },
  {
   "cell_type": "markdown",
   "id": "2e09219f-a294-438c-afe6-49252b3fa664",
   "metadata": {},
   "source": [
    "There is also a different problem, if you mix types with operators:"
   ]
  },
  {
   "cell_type": "code",
   "execution_count": null,
   "id": "83f69692-ab21-45b4-b690-205e22b31797",
   "metadata": {},
   "outputs": [],
   "source": [
    "print(a * 1234)"
   ]
  },
  {
   "cell_type": "markdown",
   "id": "e350f551-baff-480a-bdde-bc51e9efef52",
   "metadata": {},
   "source": [
    "but:"
   ]
  },
  {
   "cell_type": "code",
   "execution_count": null,
   "id": "7773b75e-28a4-4f76-ac38-0954c7413a1f",
   "metadata": {},
   "outputs": [],
   "source": [
    "print(1234 / a)"
   ]
  },
  {
   "cell_type": "markdown",
   "id": "e9ad6848-6e8e-4195-92ad-163873bf0d31",
   "metadata": {},
   "source": [
    "what happened? \n",
    "\n",
    "Usually:\n",
    "\n",
    "```\n",
    "1234 / a  # int(1234).__truediv__(a) is called\n",
    "```"
   ]
  },
  {
   "cell_type": "code",
   "execution_count": null,
   "id": "cc2438ee-9291-4166-a234-904bd41e990f",
   "metadata": {},
   "outputs": [],
   "source": [
    "int(1234).__truediv__(a)"
   ]
  },
  {
   "cell_type": "markdown",
   "id": "80a0240c-86ab-475a-bd79-62492a6cef9c",
   "metadata": {},
   "source": [
    "Python will try a different strategy:\n",
    "\n",
    "```\n",
    "1234 / a  # is equivalent to: a.__rtruediv__(1234) !\n",
    "```"
   ]
  },
  {
   "cell_type": "code",
   "execution_count": null,
   "id": "56968f45-089e-4249-b0bd-1f026044b22f",
   "metadata": {},
   "outputs": [],
   "source": [
    "a.__rtruediv__(1234)"
   ]
  },
  {
   "cell_type": "markdown",
   "id": "c9f50889-30fe-4bae-abc4-e334650e6b9f",
   "metadata": {},
   "source": [
    "**Note:** Different from C++ Python will not check all possible implementations:\n",
    "\n",
    "```\n",
    "1234 / a # int(1234) / a.__float__() would be possible\n",
    "```"
   ]
  },
  {
   "cell_type": "code",
   "execution_count": null,
   "id": "12ea5fa4-7b02-4339-81fc-56d933af8c53",
   "metadata": {},
   "outputs": [],
   "source": [
    "1234 / a.__float__()"
   ]
  },
  {
   "cell_type": "markdown",
   "id": "0bbb1720-4337-4850-9093-eae0dc38e0a5",
   "metadata": {},
   "source": [
    "---"
   ]
  },
  {
   "cell_type": "markdown",
   "id": "3f804c68-fb9a-4c46-a44f-cc082b99b474",
   "metadata": {},
   "source": [
    "## 2. Example - Fancy indexing and masking with lists"
   ]
  },
  {
   "cell_type": "markdown",
   "id": "2b0e2102-dc0b-4384-b6a2-e23b153af8e2",
   "metadata": {},
   "source": [
    "Working with `numpy`-arrays offers nice possibilities in addressing elements in the array which are more or less unique for `numpy`-arrays, *fancy indexing* and *masking*. Unfortunately this type of indexing is not available for standard python lists. \n",
    "\n",
    "This example is a demonstration how one can implement fancy indexing to python lists and to learn how to apply special operators to mikik list functionality."
   ]
  },
  {
   "cell_type": "markdown",
   "id": "7a941c96-5f4f-4c5f-8f1a-23db8c2169eb",
   "metadata": {},
   "source": [
    "First a short demo:"
   ]
  },
  {
   "cell_type": "code",
   "execution_count": null,
   "id": "c6960b0b-061a-4445-b70b-9f8ee4fe8c04",
   "metadata": {},
   "outputs": [],
   "source": [
    "from fancylists import FList\n",
    "\n",
    "           \n",
    "# main\n",
    "a = FList(['Ananas', 'Apple', 'Banana', 'Mango', 'Kiwi', 'Kiwi'])\n",
    "\n",
    "print(a)\n",
    "print(len(a))\n",
    "\n",
    "# append a new item\n",
    "a.append('Melon')\n",
    "print(a)\n",
    "\n",
    "# normal indexing\n",
    "print(a[2])\n",
    "\n",
    "# masking\n",
    "mask =  a.contains('ana')\n",
    "print(mask)\n",
    "\n",
    "print(a[mask])\n",
    "\n",
    "# fancy indexing\n",
    "print(a[1,0,1])\n",
    "\n",
    "# similar to numpy arrays\n",
    "print(a[a=='Kiwi'])\n",
    "\n",
    "# simple slicing also works\n",
    "print(a[1:])"
   ]
  },
  {
   "cell_type": "markdown",
   "id": "e3db14c4-7a4a-4a5b-b9ec-5e5c5a7eec94",
   "metadata": {},
   "source": [
    "Now let's have a look inside the class definition:"
   ]
  },
  {
   "cell_type": "code",
   "execution_count": null,
   "id": "a628297e-c903-4ab0-be3f-11312c166289",
   "metadata": {},
   "outputs": [],
   "source": [
    "%load fancylists.py"
   ]
  },
  {
   "cell_type": "markdown",
   "id": "b2f0145f-08d8-4960-9ada-7cc5c0c99283",
   "metadata": {},
   "source": [
    "---"
   ]
  },
  {
   "cell_type": "markdown",
   "id": "487a0616-4051-463b-b052-5e2169e07527",
   "metadata": {},
   "source": [
    "## 3. Summary"
   ]
  },
  {
   "cell_type": "markdown",
   "id": "e6aaa52e-2e32-4bf7-ad68-c5cb88c03792",
   "metadata": {},
   "source": [
    "`Operators` are the link between the python language and the work with objects. If used one can create simple code which is more readable. \n",
    "\n",
    "The full description of the possibility you can find on this page [https://docs.python.org/3/reference/datamodel.html](https://docs.python.org/3/reference/datamodel.html). There are much more things as one can present in a lecture. \n",
    "\n",
    "**Notes:**\n",
    "* in general, for most class definition `__str__` and `__repr__` is important\n",
    "* during development, it is wise to try first a python language construct before implementing too much methods, which will not be used\n",
    "* have a closer look at the python `operator` definitions, e.g. not all operators have free return values, `__contains__` will return only single `bool`, other methods have no limited return types\n",
    "* if defining number similar types, take care for mixed types, `isinstance` can help\n",
    "* ..."
   ]
  },
  {
   "cell_type": "code",
   "execution_count": null,
   "id": "97b49570-79ea-4615-9810-426e925ac55c",
   "metadata": {},
   "outputs": [],
   "source": []
  }
 ],
 "metadata": {
  "kernelspec": {
   "display_name": "Python 3 (ipykernel)",
   "language": "python",
   "name": "python3"
  },
  "language_info": {
   "codemirror_mode": {
    "name": "ipython",
    "version": 3
   },
   "file_extension": ".py",
   "mimetype": "text/x-python",
   "name": "python",
   "nbconvert_exporter": "python",
   "pygments_lexer": "ipython3",
   "version": "3.9.10"
  }
 },
 "nbformat": 4,
 "nbformat_minor": 5
}
