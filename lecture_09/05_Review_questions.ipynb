{
 "cells": [
  {
   "cell_type": "markdown",
   "id": "b313f59d-c6b0-48a2-a681-478075a2d89b",
   "metadata": {
    "tags": []
   },
   "source": [
    "# Review Tasks for the lecture"
   ]
  },
  {
   "cell_type": "markdown",
   "id": "1c0d2e90-8c43-4691-aa80-112ea6163daf",
   "metadata": {},
   "source": [
    "Here some small tasks with that you should be able to do directly after the lecture. I strongly advise you to look at them before the exercise. It gives you the opportunity to check what you did not yet understand and to ask your tutor in the case of problems."
   ]
  },
  {
   "cell_type": "markdown",
   "id": "83d8f148-fd01-48f9-83dd-092273bf01f0",
   "metadata": {},
   "source": [
    "**Please try to answer the following questions before executing any code. Do this only to verify your answers and use appropriate help-utilities if you are uncertain! For each problem you should be able to explain WHY you obtain a certain result!**"
   ]
  },
  {
   "cell_type": "markdown",
   "id": "f0224f9b-c171-4012-9cab-541bf9f8d836",
   "metadata": {},
   "source": [
    "### Operators"
   ]
  },
  {
   "cell_type": "markdown",
   "id": "a3113a8a-0191-4827-82e0-05720eb44e33",
   "metadata": {},
   "source": [
    "#### 1. Printing"
   ]
  },
  {
   "cell_type": "markdown",
   "id": "e3d74684-1c91-410a-9a60-76e0f758d4cf",
   "metadata": {},
   "source": [
    "If you use one of the example modules from the lecture, assume you have an object `A`. Why gives these code two differen results?\n",
    "\n",
    "```\n",
    "print(A)\n",
    "\n",
    "A\n",
    "```"
   ]
  },
  {
   "cell_type": "markdown",
   "id": "21b951ea-45aa-4afd-a144-e24742da61db",
   "metadata": {},
   "source": [
    "#### 2. Types"
   ]
  },
  {
   "cell_type": "markdown",
   "id": "b9d7ab86-fd36-42ca-8a66-0ae524e4116b",
   "metadata": {},
   "source": [
    "Assume you have the objects `A` and `B` and both are of the same type, what methods you have to define, when you want to calculate:\n",
    "\n",
    "```\n",
    "A * B\n",
    "```"
   ]
  },
  {
   "cell_type": "markdown",
   "id": "e9e08919-5a2a-4adc-b619-5316da8ca81d",
   "metadata": {},
   "source": [
    "What happened if `A` is now of the type `float`? Can you run the code from above? If not, what is needed to fix the code?"
   ]
  },
  {
   "cell_type": "markdown",
   "id": "f1f63fc0-95fb-4899-a338-52a315fbfe1d",
   "metadata": {},
   "source": [
    "#### 3. Additional tasks"
   ]
  },
  {
   "cell_type": "markdown",
   "id": "a9479f8a-8f39-4a6d-9f14-b0a374194dd7",
   "metadata": {},
   "source": [
    "The next two tasks are for modifying the existing `FList` class. Take the original file and make a copy of the code. We know from the Python that `lists` have some limited mathematical implementation `+` and `*`. \n",
    "\n",
    "1. Add a method, so that `FList` accepts a `+` operation. Different from the standard list definitions, `FList` should accepts any value which then will be appended to the inside list. Only if the value is a `list`, `tuple` or `FList` the value should be added completely.\n",
    "2. Add a method which accept a `-` operation which removes all entries of the inside list which are equivalent to the value (`==` test). You can use the implemented masking procedure with an inverted mask (using comprehensions).\n",
    "\n",
    "In both implementations a new object should be returned!\n",
    "\n",
    "Test cases:\n",
    "```Python\n",
    "a = FList(['Ananas', 'Apple', 'Banana', 'Mango', 'Kiwi', 'Kiwi'])\n",
    "b = FList(['Tomato', 'Paprika'])\n",
    "\n",
    "c = a + b\n",
    "d = a + 'Strawberry'\n",
    "e = a - 'Kiwi'\n",
    "```"
   ]
  },
  {
   "cell_type": "code",
   "execution_count": null,
   "id": "b47e86a9-db1d-4b4a-b3b8-d4ef30c0a1b3",
   "metadata": {},
   "outputs": [],
   "source": []
  }
 ],
 "metadata": {
  "kernelspec": {
   "display_name": "Python 3 (ipykernel)",
   "language": "python",
   "name": "python3"
  },
  "language_info": {
   "codemirror_mode": {
    "name": "ipython",
    "version": 3
   },
   "file_extension": ".py",
   "mimetype": "text/x-python",
   "name": "python",
   "nbconvert_exporter": "python",
   "pygments_lexer": "ipython3",
   "version": "3.9.10"
  }
 },
 "nbformat": 4,
 "nbformat_minor": 5
}
