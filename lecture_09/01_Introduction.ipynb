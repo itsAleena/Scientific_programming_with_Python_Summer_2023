{
 "cells": [
  {
   "cell_type": "markdown",
   "id": "af55b9f6-74b2-4a73-9731-219f8182fcd8",
   "metadata": {
    "tags": []
   },
   "source": [
    "# Lecture 9 - June 9th 2023"
   ]
  },
  {
   "cell_type": "markdown",
   "id": "922f41cf-b237-4b5d-b185-5fe45ed598f7",
   "metadata": {},
   "source": [
    "---\n",
    "\n",
    "**Topics of this lecture:**\n",
    "\n",
    " * `operators` in Python `classes`\n",
    " * pretty plots with `matplotlib`\n",
    " * table export to $\\LaTeX$ with Python\n",
    " \n",
    "----"
   ]
  },
  {
   "cell_type": "markdown",
   "id": "65df1db5-a59f-49a3-a347-26ba937b0059",
   "metadata": {},
   "source": [
    "## Project/Homework submissions"
   ]
  },
  {
   "cell_type": "markdown",
   "id": "c0cca054-cf4f-4aa0-a2bc-c4ed9b341402",
   "metadata": {},
   "source": [
    " * if the project/homework relay on additional files, **do not change the filenames or modify the files**\n",
    " * don't change the filepath to the additional files in your submissions, otherwise we cannot run your solution!\n",
    " * if you work on your own devices, before submission, test your solution on our Jupyterhub-Online-System. If the code is not running in this enviroment, we cannot grade your solution with good marks!\n",
    " * we strongly recommend to work __only__ in the Jupyterhub-Online-System, because these systems provides all necessary modules with the correct versions; self maintained systems can produce unwanted side effects and errors!\n",
    " * for projects: please create individual plots if there aren't other specific requirements in the task descriptions; these plots should be readable if the notebook is converted to A4 paper PDFs when inspected for grading (you can check the output, when selecting `File->Save and Export Notebooks as->PDF` menu)\n",
    " * please have a look at the [coding style presentation](coding_style.pdf) to write better code!"
   ]
  },
  {
   "cell_type": "code",
   "execution_count": null,
   "id": "935ce141-3914-4ffe-837e-841e0a64057b",
   "metadata": {},
   "outputs": [],
   "source": []
  }
 ],
 "metadata": {
  "kernelspec": {
   "display_name": "Python 3 (ipykernel)",
   "language": "python",
   "name": "python3"
  },
  "language_info": {
   "codemirror_mode": {
    "name": "ipython",
    "version": 3
   },
   "file_extension": ".py",
   "mimetype": "text/x-python",
   "name": "python",
   "nbconvert_exporter": "python",
   "pygments_lexer": "ipython3",
   "version": "3.9.10"
  }
 },
 "nbformat": 4,
 "nbformat_minor": 5
}
