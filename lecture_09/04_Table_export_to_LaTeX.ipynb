{
 "cells": [
  {
   "cell_type": "markdown",
   "id": "00b8e529-4881-4ab6-8d6c-84d9f7e98046",
   "metadata": {},
   "source": [
    "# Export Python tables to $\\LaTeX$"
   ]
  },
  {
   "cell_type": "markdown",
   "id": "88657b01-4540-49fb-a829-5414fbb39f0e",
   "metadata": {},
   "source": [
    "---\n",
    "\n",
    "In this notebook I will give you a simple to use module at hand to create $\\LaTeX$-tables from numpy arrays.\n",
    "\n",
    "---"
   ]
  },
  {
   "cell_type": "markdown",
   "id": "fab69eb0-60c2-4647-8df0-68958240f1dc",
   "metadata": {},
   "source": [
    "At a certain point you will need to export your data into tables which you need to include in $\\LaTeX$ documents. I've done this so far with Copy&Paste which was really annoying for me. As a solution I've written a simple module with you can create easily $\\LaTeX$ tables from numpy arrays."
   ]
  },
  {
   "cell_type": "code",
   "execution_count": null,
   "id": "ca60f7bb-ae87-4073-a825-af240f0e6ae2",
   "metadata": {},
   "outputs": [],
   "source": [
    "import latex_table as tab\n",
    "import numpy as np\n",
    "\n",
    "a = np.arange(0, 10, dtype=np.float64)\n",
    "b = a / 7\n",
    "\n",
    "table = tab.LatexTable([a,b],   # list of columns\n",
    "                       # header description is mandatory\n",
    "                       # use of raw-string convention similar to the plots!\n",
    "                       header=[r'$x$', r'$\\frac{x}{7}$' ]) \n",
    "\n",
    "print(table)  # check the output"
   ]
  },
  {
   "cell_type": "markdown",
   "id": "4069d280-44a7-42e8-bef6-f729cf7e04c7",
   "metadata": {},
   "source": [
    "### Save the table"
   ]
  },
  {
   "cell_type": "markdown",
   "id": "de3ee992-b5d6-4c11-be2e-1e1e5e120ecf",
   "metadata": {},
   "source": [
    "You can redirect `table.__str__()` into a file or using the save-command directly:"
   ]
  },
  {
   "cell_type": "code",
   "execution_count": null,
   "id": "8732fbff-d9b5-4030-8e38-3a406d763d50",
   "metadata": {},
   "outputs": [],
   "source": [
    "table.save_file('table.tex')"
   ]
  },
  {
   "cell_type": "code",
   "execution_count": null,
   "id": "b7aa63c3-9ea0-4ec8-bb7e-d32a4c246d48",
   "metadata": {},
   "outputs": [],
   "source": [
    "!cat table.tex"
   ]
  },
  {
   "cell_type": "markdown",
   "id": "7890ceb4-2332-4077-be20-7a120b03594d",
   "metadata": {},
   "source": [
    "### Options"
   ]
  },
  {
   "cell_type": "markdown",
   "id": "0108914a-044b-4ba2-b584-e48161a0d031",
   "metadata": {},
   "source": [
    "With additional options you can specify the layout of the table. This options are according to the most important parameters of the $\\LaTeX$ `tabular` command:"
   ]
  },
  {
   "cell_type": "code",
   "execution_count": null,
   "id": "060ae00a-958e-49cb-85e6-1b32345d6d60",
   "metadata": {},
   "outputs": [],
   "source": [
    "table = tab.LatexTable([a,b],   # list of columns\n",
    "                       # header description is mandatory\n",
    "                       col_type='l',                  # all columns are on the left\n",
    "                       header=[r'$x$', r'$\\frac{x}{7}$' ])\n",
    "print(table)\n",
    "\n",
    "table = tab.LatexTable([a,b],   # list of columns\n",
    "                       col_descr='l|c',               # overwrite the column description\n",
    "                       header=[r'$x$', r'$\\frac{x}{7}$' ])\n",
    "print(table)"
   ]
  },
  {
   "cell_type": "markdown",
   "id": "e87ccb0f-0af3-4edd-a61e-206172c28fd7",
   "metadata": {},
   "source": [
    "Usually you want to have the values also formatted, e.g. cut unwanted fractions:"
   ]
  },
  {
   "cell_type": "code",
   "execution_count": null,
   "id": "dd1bac49-e498-4a13-b804-82dd46d90b34",
   "metadata": {},
   "outputs": [],
   "source": [
    "table = tab.LatexTable([a,b],   # list of columns\n",
    "                       # header description is mandatory\n",
    "                       col_type='l',                  # all columns are on the left\n",
    "                       col_precision=[':.0f', ':.2f'],  # use f-string formatting\n",
    "                       header=[r'$x$', r'$\\frac{x}{7}$' ])\n",
    "\n",
    "print(table)"
   ]
  },
  {
   "cell_type": "markdown",
   "id": "00c22e4f-2689-47c8-9d25-b85d11967103",
   "metadata": {},
   "source": [
    "Please use the `f-string` conventions. **Note:** it is difficult to check if in your description is an error, so check by yourself the correct output with `print` and also with $\\LaTeX$ itself!"
   ]
  },
  {
   "cell_type": "markdown",
   "id": "e5581aa1-48f6-4eee-a1c8-98de26624522",
   "metadata": {},
   "source": [
    "There is some support for `siunitx` formatting, but the logic is not complete yet."
   ]
  },
  {
   "cell_type": "code",
   "execution_count": 21,
   "id": "ba6f1581-4f4b-4bb6-8338-9632403023f7",
   "metadata": {},
   "outputs": [
    {
     "name": "stdout",
     "output_type": "stream",
     "text": [
      "\\begin{tabular}{ll}\n",
      "$x$ & $\\frac{x}{7}$ \\\\ \n",
      "\\hline\n",
      "\\num{0.0} & \\ang{0.0} \\\\ \n",
      "\\num{1.0} & \\ang{0.14285714285714285} \\\\ \n",
      "\\num{2.0} & \\ang{0.2857142857142857} \\\\ \n",
      "\\num{3.0} & \\ang{0.42857142857142855} \\\\ \n",
      "\\num{4.0} & \\ang{0.5714285714285714} \\\\ \n",
      "\\num{5.0} & \\ang{0.7142857142857143} \\\\ \n",
      "\\num{6.0} & \\ang{0.8571428571428571} \\\\ \n",
      "\\num{7.0} & \\ang{1.0} \\\\ \n",
      "\\num{8.0} & \\ang{1.1428571428571428} \\\\ \n",
      "\\num{9.0} & \\ang{1.2857142857142858} \\\\ \n",
      "\\end{tabular} \n",
      "\n"
     ]
    }
   ],
   "source": [
    "table = tab.LatexTable([a,b],   # list of columns\n",
    "                       # header description is mandatory\n",
    "                       col_type='l',                  # all columns are on the left\n",
    "                       col_siunitx=[r'\\num', r'\\ang'],\n",
    "                       header=[r'$x$', r'$\\frac{x}{7}$' ])\n",
    "\n",
    "print(table)"
   ]
  },
  {
   "cell_type": "markdown",
   "id": "fbbf22cd-6353-4e27-8d70-f91ce360e432",
   "metadata": {},
   "source": [
    "### Documentation"
   ]
  },
  {
   "cell_type": "markdown",
   "id": "d564e87a-7077-4cb3-b883-d12e02726e3b",
   "metadata": {},
   "source": [
    "I've written some documentation directly inside the class definition."
   ]
  },
  {
   "cell_type": "code",
   "execution_count": null,
   "id": "0ef7f66e-a869-4af0-9660-e13b4675b237",
   "metadata": {},
   "outputs": [],
   "source": [
    "help(tab.LatexTable)"
   ]
  },
  {
   "cell_type": "markdown",
   "id": "fa747acb-8844-4764-90b6-f72b58eeb07c",
   "metadata": {},
   "source": [
    "### Future plans"
   ]
  },
  {
   "cell_type": "markdown",
   "id": "fd983718-8e5b-429c-957b-645875ab1ba3",
   "metadata": {},
   "source": [
    "For most cases this module works flawless. As you can see, the parameter given are not so simple as expected, there is a lot of checking for small output. One idea is to put all column description in separate objects which then gives all necessary results for the whole table and also do the formatting of the values. This is also a nice task for you, if you want to apply some object orientated programming for your scientific work. These modules can be a good partner for your scientific life."
   ]
  },
  {
   "cell_type": "code",
   "execution_count": null,
   "id": "76dd4aad-168c-4ad0-844b-38c291c5e650",
   "metadata": {},
   "outputs": [],
   "source": []
  }
 ],
 "metadata": {
  "kernelspec": {
   "display_name": "Python 3 (ipykernel)",
   "language": "python",
   "name": "python3"
  },
  "language_info": {
   "codemirror_mode": {
    "name": "ipython",
    "version": 3
   },
   "file_extension": ".py",
   "mimetype": "text/x-python",
   "name": "python",
   "nbconvert_exporter": "python",
   "pygments_lexer": "ipython3",
   "version": "3.9.10"
  }
 },
 "nbformat": 4,
 "nbformat_minor": 5
}
