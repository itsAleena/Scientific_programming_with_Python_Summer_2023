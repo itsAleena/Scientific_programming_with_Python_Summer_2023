{
 "cells": [
  {
   "cell_type": "markdown",
   "id": "3a9e6fb4-ef88-4197-954a-3acdbb7a9aa6",
   "metadata": {},
   "source": [
    "# Project 4 - The double spring pendulum"
   ]
  },
  {
   "cell_type": "markdown",
   "id": "ae080528-2683-4819-a5b4-d67de4fe0b1d",
   "metadata": {
    "tags": []
   },
   "source": [
    "**Project deadline:** This project is due for submission on Thursday, 22.06.2023, 23:55. Please check carefully the *About the Projects* section below for further details."
   ]
  },
  {
   "cell_type": "markdown",
   "id": "24558a7a-b7ad-494e-9db4-7e3874ab246f",
   "metadata": {},
   "source": [
    "**Imprtant:** You again have the choice between two projects. This project is similar to a [*Lagragian mechanics* lecture](https://youtu.be/Sj7V65RVfuE) and it should motivate to teach yourself more about the powerful `sympy`-library. If you choose this project, you also will need to know how to [numerically solve ordinary differential equations](https://youtu.be/wfjqpa2Dsnk?t=3915) with `scipy`. \n",
    "\n",
    "The other project focuses on an extension (level 2) from the physics725 word game (project 3). \n",
    "\n",
    "**Note:** Although both projects build up on project 3, you can easily switch the path if you like (`sympy/scipy` to the word game or vice versa). "
   ]
  },
  {
   "cell_type": "markdown",
   "id": "6c95c57e-2c30-4ae0-8b20-c0825e8deaa1",
   "metadata": {},
   "source": [
    "**Note:** The project is close to what I show you in a [video](https://youtu.be/Sj7V65RVfuE) on `Lagragian mechanics` with `sympy`. Perhaps you have another *non-trivial* mechanics problem from your Bachelor studies that you always wanted to solve - typically in class only *easy and analytically solvable* problems are treated. During my first theoretical physics class (theoretical mechanics), I wanted to solve the problem of this project with `Maple`. I did not succeed at the time. If you have such a problem, please talk to me. If it is non-trivial, you are very welcome to solve *your* problem in this project! "
   ]
  },
  {
   "cell_type": "markdown",
   "id": "ce602cd4-0ec7-445b-b774-dca33d7ca4a2",
   "metadata": {
    "tags": []
   },
   "source": [
    "## About the Projects\n",
    "- You will get one project approximately every other week.\n",
    "- Besides the homework-assignments, you need to solve the projects in order to pass the course. Your final course mark consists of the mean of your project marks. We hand-out four projects during the term and we do not consider the worst project mark for your final course mark. Projects that you do not hand in are counted with a mark of 4.\n",
    "- The project needs to be submitted by uploading this notebook on eCampus. You do not need to modify the notebooks name before your upload. Your project must be on eCampus by Thursday 22nd of June, 23:55. **No late uploads can be accepted!**\n",
    "- **In contrast to the homework exercises, each student must hand in an own solution for the projects! Of course you can and should discuss problems with each other! However, you need to be able to explain your solution in detail to your tutor and/or the lecturers! We might ask you for an interview about your project if the solution is (close to) identical to another students submission.**\n",
    "\n",
    "**Note:** The tutors, Oliver and I are very happy to help you out with difficulties you might have with the project tasks! You can ask questions any time but please do so well in advance of the deadlines!"
   ]
  },
  {
   "cell_type": "markdown",
   "id": "c92edd6a-c658-4b17-b218-5467caf50161",
   "metadata": {},
   "source": [
    "## This project"
   ]
  },
  {
   "cell_type": "markdown",
   "id": "b19de10f-9f09-4c28-9c4f-8d7f7f6f8068",
   "metadata": {},
   "source": [
    "We consider the double spring pendulum; see the following figure:"
   ]
  },
  {
   "cell_type": "markdown",
   "id": "3e5ca8ee-dcae-4cc9-8717-eb0f5536c2b7",
   "metadata": {},
   "source": [
    "<img src=\"figs/double_spring_pendulum.png\" height=100 />"
   ]
  },
  {
   "cell_type": "markdown",
   "id": "0b6f020c-30bf-42fe-be7c-d5932b0c0153",
   "metadata": {},
   "source": [
    "Two masses $m_1$ and $m_2$ are connected via two springs (spring constants $k_1$ and $k_2$. In rest, the springs have a length of $l_1$ and $l_2$ respectively. The origin (red dot) is fixed but otherwise the two masses can move freely (gravity acts in the negative $y$-direction)."
   ]
  },
  {
   "cell_type": "markdown",
   "id": "9cb32f4e-184d-4b17-814a-f8aa234433a2",
   "metadata": {},
   "source": [
    "### Your tasks:"
   ]
  },
  {
   "cell_type": "markdown",
   "id": "0fc9653e-5170-4b5e-b5bd-0c4c985ee321",
   "metadata": {},
   "source": [
    "**Note:** You probably will have difficulties to under stand the task before watching the [video](https://youtu.be/Sj7V65RVfuE) on Lagragian mechanics with sympy."
   ]
  },
  {
   "cell_type": "markdown",
   "id": "90927a7e-18c8-4fe4-9690-f30f69c39019",
   "metadata": {},
   "source": [
    "1. Write down the Lagragian of the system.\n",
    "2. Use `sympy` and `odeint` to solve the equations of motions for the system. Consider a timeframe of 60 seconds.\n",
    "3. Create a movie visualising the movements of the system. Please use the internet to obtain more information about it if the lecture material is not sufficient. Of course, you are also very welcome to start discussing it on the `eCampus` forum. Again, I received excellent animations from your peers in the past. I show two examples below and they form the reference of full credits for this task. "
   ]
  },
  {
   "cell_type": "markdown",
   "id": "ebc25b99-31dd-4b2a-9b94-e1b65e2b7b3e",
   "metadata": {},
   "source": [
    "<img src=\"figs/double_spring_pendulum.gif\" style=\"height: 200px;\"><img src=\"figs/double_spring_pendulum_2.gif\" style=\"height: 200px;\">"
   ]
  },
  {
   "cell_type": "code",
   "execution_count": null,
   "id": "8755d8f1-07bb-48d1-b8ad-7ef4d7010ed2",
   "metadata": {},
   "outputs": [],
   "source": [
    "# your solution in the following cells please"
   ]
  },
  {
   "cell_type": "code",
   "execution_count": null,
   "id": "905bb982-bf78-47e0-8848-f35504bae4af",
   "metadata": {},
   "outputs": [],
   "source": []
  }
 ],
 "metadata": {
  "kernelspec": {
   "display_name": "Python 3 (ipykernel)",
   "language": "python",
   "name": "python3"
  },
  "language_info": {
   "codemirror_mode": {
    "name": "ipython",
    "version": 3
   },
   "file_extension": ".py",
   "mimetype": "text/x-python",
   "name": "python",
   "nbconvert_exporter": "python",
   "pygments_lexer": "ipython3",
   "version": "3.9.16"
  }
 },
 "nbformat": 4,
 "nbformat_minor": 5
}
