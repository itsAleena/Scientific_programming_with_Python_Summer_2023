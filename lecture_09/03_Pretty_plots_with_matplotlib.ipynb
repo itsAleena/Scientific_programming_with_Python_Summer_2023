{
 "cells": [
  {
   "cell_type": "markdown",
   "id": "d8d8a70e-3834-46a7-8a8e-19c01882a0cd",
   "metadata": {},
   "source": [
    "# Pretty plots with `matplotlib`"
   ]
  },
  {
   "cell_type": "markdown",
   "id": "793588f4-a243-41dc-b93a-fc2ad70ba551",
   "metadata": {},
   "source": [
    "---\n",
    "\n",
    "This notebook should show you how to export your plots with matplotlib and use these in $\\LaTeX$ documents.\n",
    "\n",
    "---"
   ]
  },
  {
   "cell_type": "markdown",
   "id": "c11816ae-00f6-481d-9854-d58dd3b2bb4c",
   "metadata": {},
   "source": [
    "One typical problem in creating plots with matplotlib is that you usually do it directly with your screen/computer configuration. Even a nice output can be much worse if displayed on other screens/computers or if you export the notebook directly as a PDF. \n",
    "\n",
    "The second problem is that you want to use the created plots in other documents and in science we mostly using $\\LaTeX$.\n",
    "\n",
    "This should give a nice example what happened if you do some simple workflow:"
   ]
  },
  {
   "cell_type": "code",
   "execution_count": null,
   "id": "539f059d-5508-41ee-b88b-a4d112bd69b8",
   "metadata": {},
   "outputs": [],
   "source": [
    "%matplotlib inline\n",
    "\n",
    "import numpy as np\n",
    "import matplotlib.pyplot as plt\n",
    "\n",
    "\n",
    "x  = np.linspace(0,2*np.pi, 1000)\n",
    "y1 = np.sin(x)\n",
    "y2 = np.cos(x)\n",
    "\n",
    "# create the plot\n",
    "fig, ax = plt.subplots()\n",
    "fig, ax = plt.subplots(figsize=(5,5))  # if you need the plot with aspect ratio=1\n",
    "\n",
    "ax.set_ylim(-1.2,1.7)   # give some room for the legend box\n",
    "ax.plot(x, y1, 'r-', label=r'$y=\\sin(x)$')\n",
    "ax.plot(x, y2, 'b-', label=r'$y=\\cos(x)$')\n",
    "ax.set_title('Some simple plot')\n",
    "ax.legend(loc='upper right')\n",
    "\n",
    "# save the plot in a file\n",
    "plt.savefig('someplot.png')"
   ]
  },
  {
   "cell_type": "markdown",
   "id": "3e416409-87f1-4dd2-b252-513d325bb7e1",
   "metadata": {},
   "source": [
    "If you include this plot in a $\\LaTeX$ file you directly see that $\\LaTeX$ is downscaling the plot to fit into the text flow, but on the other hand the downscaling makes labels, marks etc. in most cases unreadable. Also for some perfectionist in styling, the fonts are different in the plot and the text!"
   ]
  },
  {
   "cell_type": "markdown",
   "id": "f9beec97-c3bd-44ee-98c1-8654fee22624",
   "metadata": {},
   "source": [
    "Thomas Erben has developed a nice additional module for Python which is meant to create plots which you can use directly in your $\\LaTeX$ documents. "
   ]
  },
  {
   "cell_type": "code",
   "execution_count": null,
   "id": "8d63580e-5dce-4461-844d-42bc391af294",
   "metadata": {},
   "outputs": [],
   "source": [
    "%matplotlib inline\n",
    "\n",
    "import numpy as np\n",
    "import matplotlib.pyplot as plt\n",
    "\n",
    "import homogenize_plot as hp\n",
    "\n",
    "\n",
    "hp.set_params(columns=2)\n",
    "\n",
    "x  = np.linspace(0,2*np.pi, 1000)\n",
    "y1 = np.sin(x)\n",
    "y2 = np.cos(x)\n",
    "\n",
    "# create the plot\n",
    "fig, ax = plt.subplots()\n",
    "#fig, ax = plt.subplots(figsize=(3.5,3.5)) # for aspect ratio =1\n",
    "\n",
    "ax.set_ylim(-1.2,1.7)   # give some room for the legend box\n",
    "ax.plot(x, y1, 'r-', label=r'$y=\\sin(x)$')\n",
    "ax.plot(x, y2, 'b-', label=r'$y=\\cos(x)$')\n",
    "ax.set_title('Some simple plot')\n",
    "ax.legend(loc='upper right')\n",
    "\n",
    "# save the plot in a file\n",
    "plt.savefig('niceplot.png')\n",
    "\n",
    "hp.revert_params()   # restore old parameters"
   ]
  },
  {
   "cell_type": "markdown",
   "id": "521f3b08-7993-479c-9a0b-d7173c2572f7",
   "metadata": {},
   "source": [
    "As you can see, the plot looks horrible in the notebook but perfect when you include the plot in a $\\LaTeX$ document."
   ]
  },
  {
   "cell_type": "markdown",
   "id": "c5214889-85f6-4627-a049-469c3af6b172",
   "metadata": {},
   "source": [
    "**Note:** When using `plot.subplots` with the `figsize=` argument, this argument will break down the correct scaling."
   ]
  },
  {
   "cell_type": "markdown",
   "id": "8521f83f-9146-4fb5-9035-36fe63955b60",
   "metadata": {},
   "source": [
    "In general the most used option is the `columns` option which defines if you want to use the twocolumn feature in $\\LaTeX$ or not. For all other parameters have a look at the [module](homogenize_plot.py) directly."
   ]
  },
  {
   "cell_type": "code",
   "execution_count": null,
   "id": "30ab66b6-622a-4f09-82d2-673214c4d3e5",
   "metadata": {},
   "outputs": [],
   "source": []
  }
 ],
 "metadata": {
  "kernelspec": {
   "display_name": "Python 3 (ipykernel)",
   "language": "python",
   "name": "python3"
  },
  "language_info": {
   "codemirror_mode": {
    "name": "ipython",
    "version": 3
   },
   "file_extension": ".py",
   "mimetype": "text/x-python",
   "name": "python",
   "nbconvert_exporter": "python",
   "pygments_lexer": "ipython3",
   "version": "3.9.10"
  }
 },
 "nbformat": 4,
 "nbformat_minor": 5
}
