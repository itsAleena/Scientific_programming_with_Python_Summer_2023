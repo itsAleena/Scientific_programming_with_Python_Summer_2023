{
 "cells": [
  {
   "cell_type": "markdown",
   "id": "1cd30dcf-22bf-477d-859e-f4f6667e5b9d",
   "metadata": {},
   "source": [
    "# Container in Python and numpy Arrays"
   ]
  },
  {
   "cell_type": "markdown",
   "id": "0e38dc16-e7b2-40e4-b22f-66631557d23e",
   "metadata": {},
   "source": [
    "---\n",
    "\n",
    "In this notebook we will show the basic concept of containers in Python and gives an introduction into 1d numpy arrays as a good example of a container type.\n",
    "\n",
    "---"
   ]
  },
  {
   "cell_type": "markdown",
   "id": "1bc5a361-a03a-435d-85f2-ace6a08b3666",
   "metadata": {},
   "source": [
    "## 1. Container types in Python"
   ]
  },
  {
   "cell_type": "markdown",
   "id": "e095e33c-d367-4239-88a7-e23bf68339e7",
   "metadata": {},
   "source": [
    "Besides the basic scalar types Python provides another class of types, the *container* types, including Strings, Lists, Dictionaries, Sets and `numpy`-Arrays, which we will show later."
   ]
  },
  {
   "cell_type": "markdown",
   "id": "717f385b-3157-4eb5-b6e8-6d10b3165b28",
   "metadata": {},
   "source": [
    "All of the container types share similar features and operations. In principle a *container* is a pool of scalar type elements which have an unique identifier, e.g. a number which can be used as an index to a certain element. All container types have a so called *length*  property `len`, which gives you the number of stored elements in the container. However, different containers have special features:\n",
    "\n",
    " * `numpy`-arrays, have indices, homogeneous element types\n",
    " * strings, have indices, are immutable\n",
    " * python lists, have indices, inhomogeneous element types\n",
    " * python tuples, similar to lists, are immutable\n",
    " * dictionaries, have names as indices\n",
    " * sets, similar to lists, no duplicate elements possible"
   ]
  },
  {
   "cell_type": "markdown",
   "id": "fc1a47b5-8c8b-44d3-9d68-3ea5ed60430c",
   "metadata": {},
   "source": [
    "---"
   ]
  },
  {
   "cell_type": "markdown",
   "id": "066d1093-50aa-4ffa-a2c8-b8b36be32b74",
   "metadata": {
    "tags": []
   },
   "source": [
    "## 2. `numpy`-Arrays"
   ]
  },
  {
   "cell_type": "markdown",
   "id": "fdd6cfa0-b321-47f4-959a-0a0d70072e0e",
   "metadata": {},
   "source": [
    "As said, a `numpy`-array is a container type, which has for his elements a homogeneous scalar (mostly numerical) type. A list of types can be found [here](https://numpy.org/doc/stable/user/basics.types.html). The basic idea behind the `numpy`-Arrays is to provide very fast vectored operation for numerical calculations.\n",
    "\n",
    "**Note:** In comparison to the scalar integer number type, the `numpy`-integers are limited to special bit sizes (64bit, 32bit, etc.)."
   ]
  },
  {
   "cell_type": "markdown",
   "id": "a22b5097-ec86-4cbc-80b7-7795ef4c8bec",
   "metadata": {},
   "source": [
    "For handling of `numpy`-arrays we need to talk about so called `meta`-data of an array, which mainly describes the array data structure:"
   ]
  },
  {
   "cell_type": "code",
   "execution_count": 2,
   "id": "69f6e179-26eb-41c3-abcd-d27d4b1520ac",
   "metadata": {
    "tags": []
   },
   "outputs": [
    {
     "name": "stdout",
     "output_type": "stream",
     "text": [
      "<class 'numpy.ndarray'>\n",
      "float64\n",
      "1\n",
      "(4,)\n",
      "4\n"
     ]
    }
   ],
   "source": [
    "import numpy as np\n",
    "\n",
    "# numpy-array creation from a list of numbers:\n",
    "a = np.array([1.0, 2.0, 3.0, 4.0]) # np.array is a type-conversion function\n",
    "print(type(a))     # the type is numpy-array\n",
    "print(a.dtype)     # the data-type object.\n",
    "print(a.ndim)      # number of array dimensions\n",
    "print(a.shape)     # shape of an array (important mainly for multi-dimensional arrays)\n",
    "print(len(a))      # 'length of the array'. This corresponfs to the number of\n",
    "                   # array elements for a one-dimensional array!"
   ]
  },
  {
   "cell_type": "markdown",
   "id": "b69d415d-8811-4c9f-b4bb-a506a117f6b2",
   "metadata": {},
   "source": [
    "---"
   ]
  },
  {
   "cell_type": "markdown",
   "id": "a1e9a911-e1a8-4e10-8086-ee3ba625e0a2",
   "metadata": {},
   "source": [
    "## 2. Creation of arrays"
   ]
  },
  {
   "cell_type": "markdown",
   "id": "32f5df5c-9c9b-4792-b4bd-9a79dde74316",
   "metadata": {},
   "source": [
    "Here are a few manual creation methods for `numpy`-arrays:"
   ]
  },
  {
   "cell_type": "code",
   "execution_count": 7,
   "id": "2d4b1093-51b3-432a-b7b1-797c02065d90",
   "metadata": {
    "tags": []
   },
   "outputs": [
    {
     "name": "stdout",
     "output_type": "stream",
     "text": [
      "[1 2 3 4] int64\n",
      "[1. 2. 3. 4.] float64\n"
     ]
    }
   ],
   "source": [
    "a = np.array([1,2,3,4])   # automatic guessing of the number type\n",
    "print(a, a.dtype)\n",
    "\n",
    "b = np.array([1,2,3,4], dtype=np.float64)\n",
    "print(b, b.dtype)"
   ]
  },
  {
   "cell_type": "markdown",
   "id": "7890cdb7-7321-462c-ae91-bef1eeb99d0c",
   "metadata": {},
   "source": [
    "Creating an array of numbers between limits:"
   ]
  },
  {
   "cell_type": "code",
   "execution_count": 33,
   "id": "e7c6f5bc-2816-41ad-bf0c-5516b5c33f8a",
   "metadata": {
    "tags": []
   },
   "outputs": [
    {
     "name": "stdout",
     "output_type": "stream",
     "text": [
      "[ 0  2  4  6  8 10 12 14 16 18] int64\n",
      "[ 0  1  2  3  4  5  6  7  8  9 10] int32\n"
     ]
    }
   ],
   "source": [
    "a = np.arange(0,20,2)   # the intervall is open on the right side!\n",
    "\n",
    "print(a, a.dtype)\n",
    "\n",
    "# or\n",
    "\n",
    "b = np.linspace(0,10,11, dtype=np.int32)  # the intervall is closed!\n",
    "print(b, b.dtype)"
   ]
  },
  {
   "cell_type": "markdown",
   "id": "1a3a7a02-7983-4529-9e81-319224c9ac9c",
   "metadata": {},
   "source": [
    "Creating an array with `0`s:"
   ]
  },
  {
   "cell_type": "code",
   "execution_count": 19,
   "id": "0672d782-dce2-4d34-8397-b17e3a5b8dda",
   "metadata": {
    "tags": []
   },
   "outputs": [
    {
     "name": "stdout",
     "output_type": "stream",
     "text": [
      "[0. 0. 0. 0. 0.] float64\n"
     ]
    }
   ],
   "source": [
    "a = np.zeros(5, dtype=np.float64) # create 5 float zeros!\n",
    "print(a, a.dtype)"
   ]
  },
  {
   "cell_type": "markdown",
   "id": "2b0a2541-b5a4-479a-bd8d-42901864df29",
   "metadata": {},
   "source": [
    "---"
   ]
  },
  {
   "cell_type": "markdown",
   "id": "956c6b20-6df6-4de9-884c-efb755730c1d",
   "metadata": {},
   "source": [
    "## 3. Accessing elements"
   ]
  },
  {
   "cell_type": "markdown",
   "id": "a6a63307-331a-4a65-a6b3-bc3570e23acf",
   "metadata": {},
   "source": [
    "`numpy´-array elements can be addressed by an index. The index starts always with `0` until `len(array)-1` . Indices outside the defined number raise an error.\n",
    "\n",
    "Invidual elements can be accessed (similar to C):"
   ]
  },
  {
   "cell_type": "code",
   "execution_count": 22,
   "id": "ad7d111e-4989-4219-b332-aff0f22821c0",
   "metadata": {
    "tags": []
   },
   "outputs": [
    {
     "name": "stdout",
     "output_type": "stream",
     "text": [
      "[0 1 2 3 4 5 6 7 8 9]\n",
      "0\n",
      "1\n",
      "9\n",
      "9\n"
     ]
    }
   ],
   "source": [
    "a = np.arange(0,10,1)\n",
    "print(a)\n",
    "print(a[0])    # first element\n",
    "print(a[1])    # second element\n",
    "print(a[-1])   # last element"
   ]
  },
  {
   "cell_type": "markdown",
   "id": "a5fe22fc-a818-48de-be3c-6e6a1ec4ecfe",
   "metadata": {},
   "source": [
    "**Note:** Indices with negative numbers are counted from the end of the array. Please use always this notation not `len(a)-1`!"
   ]
  },
  {
   "cell_type": "markdown",
   "id": "b77bce55-155f-418e-a73b-78f273e85af1",
   "metadata": {},
   "source": [
    "You can also modify individual elements using the same notation on the left side of an assignment:"
   ]
  },
  {
   "cell_type": "code",
   "execution_count": 34,
   "id": "03daf663-7d27-4f67-b397-1ff75bf14a44",
   "metadata": {
    "tags": []
   },
   "outputs": [
    {
     "name": "stdout",
     "output_type": "stream",
     "text": [
      "[ 0  1 10  3  4  5  6  7  8  9]\n"
     ]
    }
   ],
   "source": [
    "a = np.arange(0,10,1)\n",
    "a[2] = a[-1] + a[1]   \n",
    "\n",
    "print(a)"
   ]
  },
  {
   "cell_type": "markdown",
   "id": "e0e63c3a-d2a8-4d8d-a052-9e8e83933648",
   "metadata": {},
   "source": [
    "Special to the container types in Python is, that you can address multiple elements of a container at the same time, this is called **slicing**:"
   ]
  },
  {
   "cell_type": "code",
   "execution_count": 35,
   "id": "6f6d915a-30c6-41b5-b364-831896278050",
   "metadata": {
    "tags": []
   },
   "outputs": [
    {
     "name": "stdout",
     "output_type": "stream",
     "text": [
      "[1 2]\n",
      "[1]\n",
      "[4 5 6 7 8 9]\n",
      "[0 1 2 3 4 5 6 7 8]\n",
      "[0 2 4 6 8]\n",
      "[8 7 6 5 4 3 2]\n",
      "[9 8 7 6 5 4 3 2 1 0]\n"
     ]
    }
   ],
   "source": [
    "a = np.arange(0,10,1)\n",
    "\n",
    "print(a[1:3])     # the second and third element\n",
    "print(a[1:2])     # the second element only\n",
    "print(a[4:])      # everything, starting at the 5. element\n",
    "print(a[:-1])     # everything except the last element\n",
    "print(a[::2])     # everything but every second element\n",
    "print(a[-2:1:-1]) # reverse from the second last until the third elemnt\n",
    "print(a[::-1])    # everything reverse"
   ]
  },
  {
   "cell_type": "markdown",
   "id": "2e74a9a9-c100-4948-b9ca-9b6ec5724001",
   "metadata": {},
   "source": [
    "These are some basic **slicing** operations, you can find a more formal set of slicing rules [at the end of the notebook](#formal_slicing)."
   ]
  },
  {
   "cell_type": "markdown",
   "id": "6aabb8f9-5f24-4428-97da-a12457ab730a",
   "metadata": {},
   "source": [
    "Sliced arrays can also be used on the left side of an assignment:"
   ]
  },
  {
   "cell_type": "code",
   "execution_count": 41,
   "id": "61d82fff-72aa-4117-adf5-82800e91f180",
   "metadata": {
    "tags": []
   },
   "outputs": [
    {
     "name": "stdout",
     "output_type": "stream",
     "text": [
      "[0 1 1 3 4 5 6 7 8 9]\n",
      "[  0   1   1   3   4 100 200 300   8   9]\n"
     ]
    }
   ],
   "source": [
    "a = np.arange(0,10,1)\n",
    "\n",
    "a[1:3] = 1                       # change multiple elements to one value\n",
    "print(a)\n",
    "\n",
    "# or\n",
    "\n",
    "a[5:8] = np.array([100,200,300]) # change multiple elments with a array of the same length\n",
    "print(a)"
   ]
  },
  {
   "cell_type": "markdown",
   "id": "9f5e8697-ce59-4205-b331-8bce3a0e54ea",
   "metadata": {},
   "source": [
    "Container types provide also a very easy fail save possibility to address all elements:"
   ]
  },
  {
   "cell_type": "code",
   "execution_count": null,
   "id": "94fb8ea1-3800-4927-bd48-d7f7dd06782f",
   "metadata": {},
   "outputs": [],
   "source": [
    "a = np.arange(0,10,1)\n",
    "\n",
    "for num in a:      # similar to bash in Linux/Unix\n",
    "    print(num)"
   ]
  },
  {
   "cell_type": "markdown",
   "id": "bffb2b16-bd0a-422a-8856-0b7351600446",
   "metadata": {},
   "source": [
    "You can use the `for`-loop to get all elements `in` the container `a`. You don't need to generate a special running variable, you may possibly know from other programming languages or if you use a `while`-loop:"
   ]
  },
  {
   "cell_type": "code",
   "execution_count": 36,
   "id": "d92acb4b-52a6-445a-9edf-bd961f4ca503",
   "metadata": {
    "tags": []
   },
   "outputs": [
    {
     "name": "stdout",
     "output_type": "stream",
     "text": [
      "0\n",
      "1\n",
      "2\n",
      "3\n",
      "4\n",
      "5\n",
      "6\n",
      "7\n",
      "8\n",
      "9\n"
     ]
    }
   ],
   "source": [
    "a = np.arange(0,10,1)\n",
    "\n",
    "i = 0              # trap 1\n",
    "while i < len(a):  # trap 2\n",
    "    print(a[i])\n",
    "    i = i + 1      # trap 3"
   ]
  },
  {
   "cell_type": "markdown",
   "id": "427445aa-adbf-42bd-a214-d0251e0c843d",
   "metadata": {},
   "source": [
    "Same results, but `3` points of possible failures ;-)"
   ]
  },
  {
   "cell_type": "markdown",
   "id": "a469bb9e-6459-4caa-b798-5a83f3feeb1d",
   "metadata": {},
   "source": [
    "---"
   ]
  },
  {
   "cell_type": "markdown",
   "id": "c1df3532-50e5-4117-97c3-66c4b8cc0f7e",
   "metadata": {},
   "source": [
    "## 4. Array operations"
   ]
  },
  {
   "cell_type": "markdown",
   "id": "74dbba2f-f232-4de0-8ebb-b06bbc924dd5",
   "metadata": {},
   "source": [
    "`numpy`-arrays provides some special vectorized operations, which make array operations very easy to use and very efficient:"
   ]
  },
  {
   "cell_type": "code",
   "execution_count": 1,
   "id": "ba164b65-d96e-4115-9acc-c0dcb2bd000f",
   "metadata": {
    "tags": []
   },
   "outputs": [
    {
     "ename": "NameError",
     "evalue": "name 'np' is not defined",
     "output_type": "error",
     "traceback": [
      "\u001b[0;31m---------------------------------------------------------------------------\u001b[0m",
      "\u001b[0;31mNameError\u001b[0m                                 Traceback (most recent call last)",
      "Cell \u001b[0;32mIn[1], line 1\u001b[0m\n\u001b[0;32m----> 1\u001b[0m x \u001b[38;5;241m=\u001b[39m \u001b[43mnp\u001b[49m\u001b[38;5;241m.\u001b[39marray([\u001b[38;5;241m1\u001b[39m,\u001b[38;5;241m2\u001b[39m,\u001b[38;5;241m3\u001b[39m,\u001b[38;5;241m4\u001b[39m])\n\u001b[1;32m      2\u001b[0m y \u001b[38;5;241m=\u001b[39m np\u001b[38;5;241m.\u001b[39marray([\u001b[38;5;241m5\u001b[39m,\u001b[38;5;241m6\u001b[39m,\u001b[38;5;241m7\u001b[39m,\u001b[38;5;241m8\u001b[39m])\n\u001b[1;32m      4\u001b[0m \u001b[38;5;28mprint\u001b[39m(x\u001b[38;5;241m+\u001b[39m\u001b[38;5;241m10\u001b[39m)   \u001b[38;5;66;03m# add a constant\u001b[39;00m\n",
      "\u001b[0;31mNameError\u001b[0m: name 'np' is not defined"
     ]
    }
   ],
   "source": [
    "x = np.array([1,2,3,4])\n",
    "y = np.array([5,6,7,8])\n",
    "\n",
    "print(x+10)   # add a constant\n",
    "print(x*10)   # multiply with constant\n",
    "print(x+y)    # add two arrays with the same length\n",
    "print(x/y)    # divide two arrays with the same length\n",
    "print(x+2*y)  # complex operations"
   ]
  },
  {
   "cell_type": "markdown",
   "id": "72dfcbd7-347f-4fdc-a89a-f406e7cb4867",
   "metadata": {},
   "source": [
    "All the operations are done element wise, so if you are use two or more arrays, all the arrays must have the same length!"
   ]
  },
  {
   "cell_type": "markdown",
   "id": "4aabceae-ba01-4693-93a6-6f12d55535eb",
   "metadata": {},
   "source": [
    "The `numpy`-library also provides numerical functions which can be used on numbers (as shown last week) or on arrays:"
   ]
  },
  {
   "cell_type": "code",
   "execution_count": 5,
   "id": "cc0dfb9c-1c4b-4ec4-952f-eda6cd70b411",
   "metadata": {
    "tags": []
   },
   "outputs": [
    {
     "name": "stdout",
     "output_type": "stream",
     "text": [
      "1.4142135623730951\n",
      "[1.         1.41421356 1.73205081 2.        ]\n",
      "[ 0.00000000e+00  1.27877162e-01  2.53654584e-01  3.75267005e-01\n",
      "  4.90717552e-01  5.98110530e-01  6.95682551e-01  7.81831482e-01\n",
      "  8.55142763e-01  9.14412623e-01  9.58667853e-01  9.87181783e-01\n",
      "  9.99486216e-01  9.95379113e-01  9.74927912e-01  9.38468422e-01\n",
      "  8.86599306e-01  8.20172255e-01  7.40277997e-01  6.48228395e-01\n",
      "  5.45534901e-01  4.33883739e-01  3.15108218e-01  1.91158629e-01\n",
      "  6.40702200e-02 -6.40702200e-02 -1.91158629e-01 -3.15108218e-01\n",
      " -4.33883739e-01 -5.45534901e-01 -6.48228395e-01 -7.40277997e-01\n",
      " -8.20172255e-01 -8.86599306e-01 -9.38468422e-01 -9.74927912e-01\n",
      " -9.95379113e-01 -9.99486216e-01 -9.87181783e-01 -9.58667853e-01\n",
      " -9.14412623e-01 -8.55142763e-01 -7.81831482e-01 -6.95682551e-01\n",
      " -5.98110530e-01 -4.90717552e-01 -3.75267005e-01 -2.53654584e-01\n",
      " -1.27877162e-01 -2.44929360e-16]\n",
      "-3.0044051106072847e-16\n"
     ]
    }
   ],
   "source": [
    "x = 2\n",
    "y = np.array([1,2,3,4])\n",
    "print(np.sqrt(x))\n",
    "print(np.sqrt(y))\n",
    "\n",
    "z = np.linspace(0.0, 2*np.pi, 50)\n",
    "z2 = np.sin(z)\n",
    "\n",
    "print(z2)\n",
    "print(np.sum(z2))   # should be close to zero"
   ]
  },
  {
   "cell_type": "markdown",
   "id": "3dc87fef-1627-4c66-a579-a33efba0cb01",
   "metadata": {},
   "source": [
    "Sometimes in the literature there are two different ways, e.g. to sum all array elements:"
   ]
  },
  {
   "cell_type": "code",
   "execution_count": 6,
   "id": "44d04f1a-69a2-4a58-ad54-b458bd72d7d9",
   "metadata": {
    "tags": []
   },
   "outputs": [
    {
     "name": "stdout",
     "output_type": "stream",
     "text": [
      "10\n",
      "10\n"
     ]
    }
   ],
   "source": [
    "a = np.array([1,2,3,4])\n",
    "\n",
    "print(np.sum(a))\n",
    "\n",
    "# or\n",
    "\n",
    "print(a.sum())"
   ]
  },
  {
   "cell_type": "markdown",
   "id": "a001dc0b-f707-422e-bed5-c7abe727a674",
   "metadata": {},
   "source": [
    "The first one is less confusing that the second one and not all `np.`-functions are always implemented. However, you can use an array itself in a code cell to find out, what functions are implemented:"
   ]
  },
  {
   "cell_type": "code",
   "execution_count": 7,
   "id": "78a70e20-0210-46c0-87ad-16db3eaadfbe",
   "metadata": {
    "tags": []
   },
   "outputs": [],
   "source": [
    "arr = np.array([1,2,3,4])\n",
    "# to look for implemented functions, write the name of the defined array with a . and the press TAB\n",
    "#arr."
   ]
  },
  {
   "cell_type": "markdown",
   "id": "b52a849a-322b-42e7-8b51-519ecc69ecf2",
   "metadata": {},
   "source": [
    "**Important**: All mathematical operations with arrays creates a new array as a result!"
   ]
  },
  {
   "cell_type": "markdown",
   "id": "aa9a4aae-57e9-4bf3-ba16-c91b5282b11e",
   "metadata": {},
   "source": [
    "---"
   ]
  },
  {
   "cell_type": "markdown",
   "id": "b04e15c0-d647-4faf-98b6-f6d56dce6353",
   "metadata": {},
   "source": [
    "## 5. Example for using `numpy`"
   ]
  },
  {
   "cell_type": "markdown",
   "id": "9d95f74a-6fc4-4993-bb45-c049921167ee",
   "metadata": {},
   "source": [
    "After the introduction of of the `numpy` modules and the arrays I want to show a nice example to use vectorized operations to calculate numerically the derivative of functions."
   ]
  },
  {
   "cell_type": "markdown",
   "id": "200c7c32-6939-4848-b37f-803ea74802c0",
   "metadata": {
    "tags": []
   },
   "source": [
    "A derivative of a function $f(x)$ is defined with:\n",
    "\n",
    "$$ f'(x) = \\lim_{h \\rightarrow 0} \\frac{f(x-h)-f(x+h)}{h}$$\n",
    "\n",
    "If the function is defined of discrete values $f = f_1, f_2, f_3, \\ldots, f_n$ , which all have the same distance $h$, then the derivative \n",
    "can be defined with:\n",
    "    \n",
    "$$ f' = f'_1, f'_2, f'_3, \\ldots f`_{n-1} $$ with\n",
    "\n",
    "$$ f'_n = \\frac{f_n - f_{n+1}}{h} $$\n",
    "\n",
    "Wählt man das $h$ sehr klein, dann nähert sich die numerische Ableitung der richtigen Ableitung an.\n",
    "If one choose a very small $h$, the numerical result reaches the real derivative."
   ]
  },
  {
   "cell_type": "markdown",
   "id": "ef0e2c12-c809-4b67-a6ec-59e3b5d793ff",
   "metadata": {},
   "source": [
    "### How to calculate the numerical derivative?"
   ]
  },
  {
   "cell_type": "markdown",
   "id": "c887ed96-d5ca-4b17-926d-f3fe2f693593",
   "metadata": {},
   "source": [
    "The simplest idea is to calculate the $f'_n$ element wise, but `numpy` arrays provides are better solution."
   ]
  },
  {
   "cell_type": "markdown",
   "id": "c6a2e9f8-5783-41b7-8a53-48394502ff4b",
   "metadata": {},
   "source": [
    "Let's have a loot at the array $f = f_1, f_2, f_3,\\ldots$:\n",
    "\n",
    "<center> <img src=\"figs/elements.png\" style=\"\" /> </center>"
   ]
  },
  {
   "cell_type": "markdown",
   "id": "d8cff725-d3de-40e9-be0b-925de0d2abd3",
   "metadata": {},
   "source": [
    "Use now the the **same** array but write the elements in the second row shifted by one position to the left, so that $f_1$  is below $f_0$:"
   ]
  },
  {
   "cell_type": "markdown",
   "id": "2e86b8db-07e7-4427-8b06-4be5b64939c2",
   "metadata": {},
   "source": [
    "<center> <img src=\"figs/diff_elements.png\" /> </center>"
   ]
  },
  {
   "cell_type": "markdown",
   "id": "6590a884-fb33-47c9-8f56-ddd0203a6063",
   "metadata": {},
   "source": [
    "Now we have $n-1$ pairs of elements, which defines exactly the enumerical derivative if one array will be substracted from the other."
   ]
  },
  {
   "cell_type": "markdown",
   "id": "f33131da-4e98-4bb3-bc8e-0dc7f8a5645c",
   "metadata": {},
   "source": [
    "In Python we can see this methon in a full example:"
   ]
  },
  {
   "cell_type": "code",
   "execution_count": 48,
   "id": "388fa537-860a-423e-a0cc-6d6b3abd0067",
   "metadata": {
    "tags": []
   },
   "outputs": [],
   "source": [
    "%matplotlib inline\n",
    "\n",
    "import numpy as np\n",
    "\n",
    "import matplotlib.pyplot as plt\n",
    "\n",
    "\n",
    "\n",
    "x = np.linspace(0.,10,1000)\n",
    "\n",
    "#f = np.sin(x)\n",
    "#f = 1/(x+1)\n",
    "f = x**3-5*x**2+1\n",
    "\n",
    "# calculate the derivative\n",
    "f_prime = (f[1:]-f[:-1])/(x[1]-x[0])\n",
    "\n",
    "#print(f.shape)\n",
    "#print(f_prime.shape)\n",
    "\n",
    "# adjust the x array, calculate the value of the middle\n",
    "x_prime = (x[1:] + x[:-1])/2\n",
    "#print(x_prime.shape)\n",
    "\n",
    "\n",
    "# plot the results\n",
    "\n",
    "#fig, ax = plt.subplots()\n",
    "#ax.plot(x, f, label='f(x)')\n",
    "#ax.plot(x_prime, f_prime, label='f\\'(x)')\n",
    "#ax.legend(loc='upper right')\n",
    "#ax.set_xlabel('x')\n",
    "#ax.set_ylabel('y')"
   ]
  },
  {
   "cell_type": "markdown",
   "id": "89bcbd5f-aa8a-4f9b-8d07-c809a6b6a148",
   "metadata": {},
   "source": [
    "---"
   ]
  },
  {
   "cell_type": "markdown",
   "id": "cc74d075-9913-4318-a092-b7de902d2c54",
   "metadata": {},
   "source": [
    "## 6. Traps with arrays"
   ]
  },
  {
   "cell_type": "markdown",
   "id": "d6ede8a6-acbc-4fcf-ae30-a3e75de27c28",
   "metadata": {},
   "source": [
    "There are some traps with arrays:"
   ]
  },
  {
   "cell_type": "code",
   "execution_count": 51,
   "id": "15f9851a-976b-42a8-9400-35852faf7620",
   "metadata": {
    "tags": []
   },
   "outputs": [
    {
     "name": "stdout",
     "output_type": "stream",
     "text": [
      "9876 1234\n"
     ]
    }
   ],
   "source": [
    "# values in variable a should be copied into b\n",
    "a = 1234\n",
    "b = a\n",
    "\n",
    "# change variable a\n",
    "a = 9876\n",
    "\n",
    "print(a, b)"
   ]
  },
  {
   "cell_type": "markdown",
   "id": "3955729e-23f1-48d4-8cfc-14200c8bd361",
   "metadata": {},
   "source": [
    "but:"
   ]
  },
  {
   "cell_type": "code",
   "execution_count": 52,
   "id": "b299b161-3ed7-4467-adb5-8b6e787a4d76",
   "metadata": {
    "tags": []
   },
   "outputs": [
    {
     "name": "stdout",
     "output_type": "stream",
     "text": [
      "[100   2   3   4] [100   2   3   4]\n"
     ]
    }
   ],
   "source": [
    "import numpy as np\n",
    "\n",
    "# values in variable a should be copied into b\n",
    "a = np.array([1,2,3,4])\n",
    "b = a\n",
    "\n",
    "# change a value in variable a\n",
    "a[0] = 100\n",
    "\n",
    "print(a, b)"
   ]
  },
  {
   "cell_type": "markdown",
   "id": "11633e57-680a-4fb5-b3ca-fb808c534bcd",
   "metadata": {},
   "source": [
    "**Note**: `b=a` is not a copy of the array, but `b` is now a new __view__ to the same array!"
   ]
  },
  {
   "cell_type": "code",
   "execution_count": null,
   "id": "74c701a5-a86b-4a56-ae54-b62d4e56e480",
   "metadata": {},
   "outputs": [],
   "source": [
    "import numpy as np\n",
    "\n",
    "# values in variable a should be copied into b\n",
    "a = np.array([1,2,3,4])\n",
    "\n",
    "# make a real copy\n",
    "b = a * 1.\n",
    "\n",
    "# or make a real copy\n",
    "#b = a.copy()\n",
    "\n",
    "# change a value in variable a\n",
    "a[0] = 100\n",
    "\n",
    "print(a, b)"
   ]
  },
  {
   "cell_type": "markdown",
   "id": "917e5d64-6f47-45c1-91d0-2a632ee9073b",
   "metadata": {},
   "source": [
    "<a id='formal_slicing'></a>\n",
    "# Appendix: Slicing Rules"
   ]
  },
  {
   "cell_type": "markdown",
   "id": "a11d8fe4-227d-4629-a4a5-1bf6ad2fd18e",
   "metadata": {},
   "source": [
    "You absolutely need to master the `Python` slicing rules. Besides with `numpy`-arrays, they are essential for many other Python containers such as lists or strings.\n",
    "\n",
    "Many students have difficulties to perform or to understand certain slicing operations. I therefore do a *formal* summary of the slicing rules in this appendix."
   ]
  },
  {
   "cell_type": "markdown",
   "id": "f296fd05-7afd-46df-a754-3be93adf723d",
   "metadata": {},
   "source": [
    "The following applies to a larger number of `Python` containers such as lists, strings, tuples, `numpy`-arrays. We just talk about *arrays* for all these container types and we use the following `numpy`-array `x` as a concrete example."
   ]
  },
  {
   "cell_type": "code",
   "execution_count": null,
   "id": "56c17d01-7b0d-492b-b71c-07b9ddf2c955",
   "metadata": {},
   "outputs": [],
   "source": [
    "x = np.array([1, 2, 3, 4, 5, 6, 7, 8, 9, 10])"
   ]
  },
  {
   "cell_type": "markdown",
   "id": "871f5559-0e33-4cbb-9736-d2cb888b44c9",
   "metadata": {},
   "source": [
    "- An individual element $i$ is accessed with the syntax `x[i]`. $i$ can take the positive values $i\\in [0, n-1]$, where $n$ is the number of elements in the array. `x[0]` accesses the first and `x[n-1]` the last element of the array. If $i$ is negative, the element `x[n-i]` is accessed."
   ]
  },
  {
   "cell_type": "code",
   "execution_count": null,
   "id": "724d3347-a077-4d7d-8c3a-6d0eb59c1c31",
   "metadata": {},
   "outputs": [],
   "source": [
    "# examples for single element array access:\n",
    "print(x[1], x[-1], x[3])\n",
    "print(x[10])  # invalid index - python raises an error"
   ]
  },
  {
   "cell_type": "markdown",
   "id": "13695b4c-e516-4682-bcb7-cb46a5febacf",
   "metadata": {},
   "source": [
    "- To access multiple array-elements simultaneously and to work on a *subarray*, we need to use an array-slice. The basic slice syntax is `x[i:j:k]`. $i$ is the starting index, $j$ is the stopping index, and $k$ is the step $(k\\neq0)$. This selects the $m$ elements with index values $i, i + k, \\dots, i + (m - 1) k$ where $m = q + (r\\neq0)$ and $q$ and $r$ are the quotient and remainder obtained by dividing $j - i$ by $k$: $j - i = q k + r$, so that $i + (m - 1) k < j$.\n",
    "\n",
    "**Note: Slicing operations are always inclusive the starting index $i$ BUT exclusive the stopping index $j$!**"
   ]
  },
  {
   "cell_type": "code",
   "execution_count": null,
   "id": "9d0239a7-1988-45a8-a735-c82513073239",
   "metadata": {},
   "outputs": [],
   "source": [
    "print(x[1:7:2])"
   ]
  },
  {
   "cell_type": "markdown",
   "id": "d15e9477-9b1f-48eb-8ad7-16edd6f07901",
   "metadata": {},
   "source": [
    "- Negative $i$ and $j$ are interpreted as $n + i$ and $n + j$ where $n$ is the number of elements in the array. Negative $k$ makes stepping go towards smaller indices."
   ]
  },
  {
   "cell_type": "code",
   "execution_count": null,
   "id": "aab32ad5-54e9-404d-a2b6-109c5f00a756",
   "metadata": {},
   "outputs": [],
   "source": [
    "print(x[-2:10], x[-3:3:-1])"
   ]
  },
  {
   "cell_type": "markdown",
   "id": "c50bdfd4-e982-42f9-8f51-eaae10a29df2",
   "metadata": {},
   "source": [
    "- Assume $n$ is the number of elements in the array. Then, if $i$ is not given it defaults to $0$ for $k > 0$ and $n - 1$ for $k < 0$. If $j$ is not given it defaults to $n$ for $k > 0$ and $-1$ for $k < 0$. If $k$ is not given it defaults to $1$. Note that `::` is the same as : and means select all elements."
   ]
  },
  {
   "cell_type": "code",
   "execution_count": null,
   "id": "8f5149dc-9bec-4bd6-9075-7cd718c0a23f",
   "metadata": {},
   "outputs": [],
   "source": [
    "print(x[5:], x[::-2])"
   ]
  },
  {
   "cell_type": "markdown",
   "id": "6a766c67-ed3f-472e-89dd-02adc5cfdac3",
   "metadata": {},
   "source": [
    "- *Remark:* A slicing operation `x[i:j:k]` *always* returns a *subarray*, while accessing a single element with `x[i]` returns an object of corresponding type. Note carefully the outout of the following example:"
   ]
  },
  {
   "cell_type": "code",
   "execution_count": null,
   "id": "693f4e86-c434-4e86-8230-6031a28b4d4e",
   "metadata": {},
   "outputs": [],
   "source": [
    "print(x[3])   # accessing the fourth element\n",
    "print(x[3:4]) # accessing a *subarray* containg only the fourth argument!"
   ]
  },
  {
   "cell_type": "markdown",
   "id": "58405bba-17bd-4be7-9f5e-4c4592bc4742",
   "metadata": {},
   "source": []
  }
 ],
 "metadata": {
  "kernelspec": {
   "display_name": "Python 3 (ipykernel)",
   "language": "python",
   "name": "python3"
  },
  "language_info": {
   "codemirror_mode": {
    "name": "ipython",
    "version": 3
   },
   "file_extension": ".py",
   "mimetype": "text/x-python",
   "name": "python",
   "nbconvert_exporter": "python",
   "pygments_lexer": "ipython3",
   "version": "3.10.10"
  }
 },
 "nbformat": 4,
 "nbformat_minor": 5
}
