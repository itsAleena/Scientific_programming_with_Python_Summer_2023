{
 "cells": [
  {
   "cell_type": "markdown",
   "id": "5564c618-6e4c-48ea-83d8-a30a0fd950ab",
   "metadata": {},
   "source": [
    "# Creating simple 2d-plots with matplotlib"
   ]
  },
  {
   "cell_type": "markdown",
   "id": "7424b6d7-05e4-4193-bc82-cbb60e65943f",
   "metadata": {},
   "source": [
    "---\n",
    "\n",
    "In this notebook we will show some basic plot types using the matplotlib library of Python.\n",
    "\n",
    "---"
   ]
  },
  {
   "cell_type": "markdown",
   "id": "a90eac71-92b4-42a8-a537-2cd17e404397",
   "metadata": {},
   "source": [
    "Matplotlib is the Python plotting module based on `numpy`-arrays. It offers numerous possibilities from *quick-look* 2D and 3D data visualizations up to publication-quality figures in many varieties.\n",
    "\n",
    "The best way to explore its possibilities and to widen your knowledge is to read relevant parts of the [matplotlib guide](https://matplotlib.org/stable/users/getting_started/), the [Quick start guide](https://matplotlib.org/stable/tutorials/introductory/quick_start.html#sphx-glr-tutorials-introductory-quick-start-py) and to look at examples at \n",
    "[The matplotlib Gallery](http://matplotlib.org/stable/gallery/index)."
   ]
  },
  {
   "cell_type": "markdown",
   "id": "4debe887-2b9b-4bdb-a94b-23a2a95b95bd",
   "metadata": {},
   "source": [
    "I will show you in a few steps, how to create simple plots:"
   ]
  },
  {
   "cell_type": "markdown",
   "id": "cd939d24-20c2-4c4c-a968-3372f3fb53cf",
   "metadata": {},
   "source": [
    "## 1. Setup of plots"
   ]
  },
  {
   "cell_type": "markdown",
   "id": "010208a6-3e71-4ee7-b0a9-d56c0c992afa",
   "metadata": {},
   "source": [
    "All plots need the access to a few libraries and functions:"
   ]
  },
  {
   "cell_type": "code",
   "execution_count": null,
   "id": "2ef54347-b4bc-4411-ba87-66d7fb89961f",
   "metadata": {
    "tags": []
   },
   "outputs": [],
   "source": [
    "%matplotlib inline\n",
    "# for notebooks only\n",
    "\n",
    "import numpy as np                # always combined with matplotlib\n",
    "import matplotlib.pyplot as plt   # matplotlib header"
   ]
  },
  {
   "cell_type": "markdown",
   "id": "66dbdd11-0a06-41cc-94b5-6cf3f2898178",
   "metadata": {},
   "source": [
    "---"
   ]
  },
  {
   "cell_type": "markdown",
   "id": "f4853c31-a80f-484a-8e62-72bfda889e81",
   "metadata": {},
   "source": [
    "## 2. Simple plots"
   ]
  },
  {
   "cell_type": "markdown",
   "id": "dec1f00b-1137-4308-bec3-1311c195edba",
   "metadata": {},
   "source": [
    "### Complete plot"
   ]
  },
  {
   "cell_type": "code",
   "execution_count": null,
   "id": "ef55a85b-f968-491f-bfa1-53e2ed3ce5ea",
   "metadata": {
    "tags": []
   },
   "outputs": [],
   "source": [
    "fig, ax = plt.subplots() \n",
    "\n",
    "x = np.linspace(0,2*np.pi,500)\n",
    "\n",
    "ax.plot(x, np.sin(x))\n",
    "ax.set_xlabel('x')\n",
    "ax.set_ylabel('y')\n",
    "ax.set_title('Sine plot with full period')"
   ]
  },
  {
   "cell_type": "markdown",
   "id": "b7e4b4bb-7872-4e77-b532-5ada796d6870",
   "metadata": {
    "tags": []
   },
   "source": [
    "---"
   ]
  },
  {
   "cell_type": "markdown",
   "id": "6644ef37-5e4c-41b8-a77b-f2045d1c25af",
   "metadata": {},
   "source": [
    "## 3. Complex figure"
   ]
  },
  {
   "cell_type": "markdown",
   "id": "0f17cdd5-1d58-42f0-b2ed-8b0cca7bab0f",
   "metadata": {},
   "source": [
    "This is a complex figure, which creates two independent plots, one with trigonometrical functions and the other with measurements from a pendulum experiment. In the code there are a few examples how to control the result of the plot with additional arguments and parameters. Please have a look at the possibilities for each plot-type or style-command."
   ]
  },
  {
   "cell_type": "code",
   "execution_count": null,
   "id": "6d34a9ef-85ce-4fd3-8b4e-492d581cb5dc",
   "metadata": {
    "tags": []
   },
   "outputs": [],
   "source": [
    "%matplotlib inline\n",
    "import numpy as np\n",
    "import matplotlib\n",
    "import matplotlib.pyplot as plt\n",
    "\n",
    "# font size of labels etc,\n",
    "#matplotlib.rcParams['font.size'] = 18\n",
    "# line width of coordinate axes\n",
    "#matplotlib.rcParams['axes.linewidth'] = 2.0\n",
    "\n",
    "# matplotlib plots numpy-arrays:\n",
    "x = np.linspace(-np.pi, np.pi, 50)\n",
    "c = np.cos(x)\n",
    "s = np.sin(x)\n",
    "\n",
    "# Create a figure of size 8x6 inches, 80 dots per inch, 2 plots in 2 rows\n",
    "fig, ax = plt.subplots(2,1,figsize=(8,10))\n",
    "\n",
    "# add padding between the two lines of plots\n",
    "fig.tight_layout(pad=4.0)\n",
    "\n",
    "# Plot cosine with a blue continuous line of width 1 (pixels)\n",
    "ax[0].plot(x, c, color=\"blue\", linestyle=\"-\", linewidth=2.0, label=r\"$\\cos(x)$\")\n",
    "\n",
    "# Plot sine with a green dashed line of width 1 (pixels)\n",
    "ax[0].plot(x, s, 'g--', linewidth=2.0, label=r\"$\\sin(x)$\")\n",
    "\n",
    "# the labels only appear if you directly call plt.legend()\n",
    "# locate the legend on the upper left part of the plot\n",
    "ax[0].legend(loc='upper left')\n",
    "\n",
    "# x- and y-labels\n",
    "ax[0].set_xlabel(r'$x$')\n",
    "ax[0].set_ylabel(r'$y$')\n",
    "\n",
    "# Set x limits (fixed limits)\n",
    "ax[0].set_xlim(-np.pi, np.pi)\n",
    "\n",
    "# Set x ticks\n",
    "ax[0].set_xticks(np.linspace(-np.pi, np.pi, 9, endpoint=True))\n",
    "\n",
    "# nicer x-ticks with LaTeX labels!\n",
    "#plt.xticks([-np.pi, -np.pi/2, 0, np.pi/2, np.pi],\n",
    "#          [r'$-\\pi$', r'$-\\pi/2$', r'$0$', r'$+\\pi/2$', r'$+\\pi$'])\n",
    "\n",
    "# Set y limits (get limits from data)\n",
    "ax[0].set_ylim(c.min(), c.max())\n",
    "\n",
    "# Set y ticks\n",
    "ax[0].set_yticks(np.linspace(-1, 1, 5, endpoint=True))\n",
    "\n",
    "# Set a title\n",
    "ax[0].set_title(\"trigonometric functions\", y=1.02)\n",
    "\n",
    "\n",
    "# read some data\n",
    "data = np.loadtxt('data/pendulum.dat')\n",
    "x1 = data[:,0]\n",
    "y1 = data[:,1]\n",
    "e1 = data[:,2]\n",
    "\n",
    "ax[1].set_title('Pendulum measurements')\n",
    "ax[1].errorbar(x1, y1, yerr=e1,fmt='.', capsize=5 )\n",
    "ax[1].plot(x1, y1, 'r--')\n",
    "ax[1].set_xlabel(r'length $l$')\n",
    "ax[1].set_ylabel(r'time $t$')\n",
    "\n",
    "# Save figure as pdf or png\n",
    "#plt.savefig(\"complex.pdf\")\n",
    "#plt.savefig(\"complex.png\")"
   ]
  },
  {
   "cell_type": "markdown",
   "id": "26790b43-fb49-4b02-b57c-c4b9343e4aa9",
   "metadata": {},
   "source": [
    "---"
   ]
  },
  {
   "cell_type": "markdown",
   "id": "9f8bec5d-9bd0-4391-a904-e3b33260ef61",
   "metadata": {
    "tags": []
   },
   "source": [
    "## 4. `matplotlib` outside of notebooks"
   ]
  },
  {
   "cell_type": "markdown",
   "id": "aed9c731-a115-4b0f-aa25-23ed3519ad32",
   "metadata": {},
   "source": [
    "If you are using `matplotlib` commands in scrips outside of notebooks, you need to remove the magic line in the beginning of the code cell. To show the plot you need to use `plt.show()` at the end of the scripts or use `plt.savefig(...)` to save the created image."
   ]
  },
  {
   "cell_type": "markdown",
   "id": "f026eab6-ce07-46c7-8b09-83fcd1ee1b3a",
   "metadata": {},
   "source": [
    "The example above can also be found in [complex_plot.py](code/complex_plot.py). Run it with `python3`:"
   ]
  },
  {
   "cell_type": "code",
   "execution_count": null,
   "id": "5c36d16d-c944-41d6-9c84-30857256c0c0",
   "metadata": {
    "tags": []
   },
   "outputs": [],
   "source": [
    "%load code/complex_plot.py"
   ]
  },
  {
   "cell_type": "code",
   "execution_count": null,
   "id": "e9926b70-2156-4312-8cd3-4b2ea1e3b5b0",
   "metadata": {
    "tags": []
   },
   "outputs": [],
   "source": [
    "!python3 code/complex_plot.py"
   ]
  }
 ],
 "metadata": {
  "kernelspec": {
   "display_name": "Python 3 (ipykernel)",
   "language": "python",
   "name": "python3"
  },
  "language_info": {
   "codemirror_mode": {
    "name": "ipython",
    "version": 3
   },
   "file_extension": ".py",
   "mimetype": "text/x-python",
   "name": "python",
   "nbconvert_exporter": "python",
   "pygments_lexer": "ipython3",
   "version": "3.10.10"
  }
 },
 "nbformat": 4,
 "nbformat_minor": 5
}
