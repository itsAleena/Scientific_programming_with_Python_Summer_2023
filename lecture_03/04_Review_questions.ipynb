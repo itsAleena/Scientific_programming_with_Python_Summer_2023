{
 "cells": [
  {
   "cell_type": "markdown",
   "metadata": {},
   "source": [
    "# Review Tasks for the lecture"
   ]
  },
  {
   "cell_type": "markdown",
   "metadata": {},
   "source": [
    "Here some small tasks with that you should be able to do directly after the lecture. I strongly advise you to look at them before the exercise. It gives you the opportunity to check what you did not yet understand and to ask your tutor in the case of problems."
   ]
  },
  {
   "cell_type": "markdown",
   "metadata": {},
   "source": [
    "### Array creation and slicing"
   ]
  },
  {
   "cell_type": "markdown",
   "metadata": {},
   "source": [
    "- Create a `numpy`-array with five elements of your choice.\n",
    "\n",
    "- Create a `numpy`-array with the integer numbers from 0 to 500 in steps of 1. Print the elements 3, 25 and 100 to 110 of the array you just created.\n",
    "\n",
    "- create an array with 10 logarithmically spaced elements between 1 and 100. (**Hints:** (1) You know that there is a function `linspace` within `numpy`. What is a likely name for the function to accomplish this task?; (2) Read the documentation of that function.)\n",
    "\n",
    "- Create a `numpy`-array of size 10 with random float numbers between 0 an 1.\n",
    "\n",
    "  **Hint:** function `random_sample` within the `numpy.random` module."
   ]
  },
  {
   "cell_type": "code",
   "execution_count": null,
   "metadata": {},
   "outputs": [],
   "source": [
    "# your solution here"
   ]
  },
  {
   "cell_type": "markdown",
   "metadata": {},
   "source": [
    "### Simple `numpy`-array manipulations"
   ]
  },
  {
   "cell_type": "markdown",
   "metadata": {},
   "source": [
    "- Create an array `a` with the numbers from 1 to 100 in steps of 1 (integer-type array).\n",
    "- Create an array `b` with the square numbers of `a`.\n",
    "- Create an array `c` with the `sin` of `a`.\n",
    "- Calculate the sum of the elements of `a`.\n",
    "- Calculate the `scalar` product of two numpy arrays: $s=\\sum_{i=1}^Na_ib_i$.\n",
    "\n",
    "  **Hint**: The function `np.sum` calculates the sum of the elements of an array.\n",
    "- Use the function `random_sample` witin the module `numpy.random` to create a numpy array $x$ of 1000 uniformly distributed random numbers within $[-1;1)$. Calculate then the mean $\\bar{x}=\\frac 1N\\sum_{i=1}^N x_i$ and the standard deviation\n",
    "$s_x=\\sqrt{\\frac 1{N-1}\\sum_{i=1}^N(x_i-\\bar{x})^2}$ of the elements in $x$. Does the result meet your expectations?\n",
    "\n",
    "  **Note:** You can use the function `np.sum` **but not** the functions `np.mean` and `np.std` for this exercise!\n"
   ]
  },
  {
   "cell_type": "code",
   "execution_count": null,
   "metadata": {},
   "outputs": [],
   "source": [
    "# your solution here"
   ]
  },
  {
   "attachments": {},
   "cell_type": "markdown",
   "metadata": {},
   "source": [
    "### Basic plotting\n",
    "\n",
    "Plot the three functions \n",
    "- $y = \\sin(x)$\n",
    "- $ y = x$ and\n",
    "-  $y = x-\\frac{x^3}{3!}$ for $x\\in [0, \\frac \\pi 2]$.\n",
    "\n",
    " Please create a plot with proper axes labels, appropriate font sizes and line thickness and include a legend. Please have a look at the notebook [02_matplotlib.ipynb](02_matplotlib.ipynb). It contains a collection of basic commands to create line plots."
   ]
  },
  {
   "cell_type": "code",
   "execution_count": null,
   "metadata": {},
   "outputs": [],
   "source": [
    "# your solution here"
   ]
  },
  {
   "cell_type": "markdown",
   "metadata": {},
   "source": [
    "### Something to think about"
   ]
  },
  {
   "cell_type": "markdown",
   "metadata": {},
   "source": [
    "`C` and `C++` programmers know two ways to multiply the value of a numerical variable by some number. They also exist in Python:"
   ]
  },
  {
   "cell_type": "code",
   "execution_count": null,
   "metadata": {},
   "outputs": [],
   "source": [
    "# method 1 \n",
    "m = 5\n",
    "m = m * 2  # multiply m by two"
   ]
  },
  {
   "cell_type": "code",
   "execution_count": null,
   "metadata": {},
   "outputs": [],
   "source": [
    "# method 2; often prefered as it is shorter\n",
    "m = 5\n",
    "m *= 2     # multiply m by two"
   ]
  },
  {
   "cell_type": "markdown",
   "metadata": {},
   "source": [
    "Please watch carefully what happens within the next cell! If you are a `C` or `C++`-programmer: Can you tell what Python does internally (pointers and references) and which difference Python makes between the two operators? If you are a beginner: Please discuss this question next week with your tutor as it is a source for many difficult to find errors and confusions! "
   ]
  },
  {
   "cell_type": "code",
   "execution_count": null,
   "metadata": {
    "tags": []
   },
   "outputs": [],
   "source": [
    "import numpy as np\n",
    "\n",
    "m = 5\n",
    "l = m\n",
    "l = l * 2\n",
    "print(l, m)\n",
    "\n",
    "m = 5\n",
    "l = m\n",
    "l *= 2\n",
    "print(l, m)\n",
    "\n",
    "a = np.array([1, 2, 3])\n",
    "b = a\n",
    "b = b * 2\n",
    "print(a, b)\n",
    "\n",
    "a = np.array([1, 2, 3])\n",
    "b = a\n",
    "b *= 2\n",
    "print(a, b)"
   ]
  },
  {
   "cell_type": "markdown",
   "metadata": {},
   "source": [
    "---"
   ]
  }
 ],
 "metadata": {
  "kernelspec": {
   "display_name": "Python 3 (ipykernel)",
   "language": "python",
   "name": "python3"
  },
  "language_info": {
   "codemirror_mode": {
    "name": "ipython",
    "version": 3
   },
   "file_extension": ".py",
   "mimetype": "text/x-python",
   "name": "python",
   "nbconvert_exporter": "python",
   "pygments_lexer": "ipython3",
   "version": "3.10.10"
  }
 },
 "nbformat": 4,
 "nbformat_minor": 4
}
