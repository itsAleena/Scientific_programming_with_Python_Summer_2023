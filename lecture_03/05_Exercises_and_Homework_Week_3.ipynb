{
 "cells": [
  {
   "cell_type": "markdown",
   "metadata": {
    "nbgrader": {
     "grade": false,
     "grade_id": "cell-515e01b25bda86a9",
     "locked": true,
     "schema_version": 3,
     "solution": false,
     "task": false
    }
   },
   "source": [
    "# Exercises and Homework for week 3"
   ]
  },
  {
   "cell_type": "markdown",
   "metadata": {
    "nbgrader": {
     "grade": false,
     "grade_id": "cell-14ca577e70096fbf",
     "locked": true,
     "schema_version": 3,
     "solution": false,
     "task": false
    }
   },
   "source": [
    "## physics725: Scientific Programming with Python (SS 2023)\n",
    "\n",
    "Oliver Cordes & Thomas Erben\n",
    "\n",
    "---"
   ]
  },
  {
   "cell_type": "markdown",
   "metadata": {
    "nbgrader": {
     "grade": false,
     "grade_id": "cell-58e8949e2e41603c",
     "locked": true,
     "schema_version": 3,
     "solution": false,
     "task": false
    }
   },
   "source": [
    "Homework is due on **Thursday, 04/05/2023, 11:55pm**\n",
    "\n",
    " * You only learn a programming language by actively praticing and using it! We therefore **strongly** advise you to work on the homework problems.\n",
    " * Please discuss the problems with your student peers and with your tutor.\n",
    " * Your code(s) need(s) to be well and appropriately commented!\n",
    " * Submit this notebook and, if necessary, additional files in a `tar`-archive with name `Homework_3_group_XX.tgz` (replace `XX` with your group number) to your tutor.\n",
    "\n",
    "**Topics of this exercise:**\n",
    " * First contact with `numpy`-arrays\n",
    " * Basic plots with matplotliba"
   ]
  },
  {
   "cell_type": "markdown",
   "metadata": {},
   "source": [
    "**Your group number here please:**  Group XX"
   ]
  },
  {
   "cell_type": "markdown",
   "metadata": {},
   "source": [
    "## 1. Lecture Review (0 points)"
   ]
  },
  {
   "cell_type": "markdown",
   "metadata": {},
   "source": [
    "If you did the lecture review questions [05_Review_questions.ipynb](05_Review_questions.ipynb) (strongly recommended!): \n",
    "Please discuss with your tutor and your group any issues/problems you had with them.\n",
    "\n",
    "---"
   ]
  },
  {
   "cell_type": "markdown",
   "metadata": {},
   "source": [
    "## 2. Numerical Integration (15 points)"
   ]
  },
  {
   "cell_type": "markdown",
   "metadata": {
    "nbgrader": {
     "grade": false,
     "grade_id": "cell-9c1d31c09a952d4a",
     "locked": true,
     "schema_version": 3,
     "solution": false,
     "task": false
    }
   },
   "source": [
    "We want to estimate the integral:\n",
    "\n",
    "$$\\int_1^2 \\frac{1}{x}{\\rm d} x = \\log 2 \\approx 0.693147 $$\n",
    "\n",
    "For the calculation we want to compare different mathematical methods. Be $f(x)$ a continuous function on the interval $I=[a;b]$. Be $x_i$ with $a < x_0 < \\dots < x_n < b$ a decomposition of the interval $I$. The integral area below the function can be divided into a finite number of small areas $A_i$. The sum of these areas approximates the integral:\n",
    "$$ \\int_a^bf(x)\\,{\\rm d}x\\approx \\sum_{i=0}^{n-1} A_i$$\n",
    "\n",
    "These numerical approximations can be reduced in the way how the small areas are calculated:\n",
    "1. The simplest approximation is the use of the Riemann sums. The area below the function $f$ will be described by a series of rectangles. One rectangle between $x_i$ and $x_{i+1}$ can be calculated with:\n",
    "    $$A_i = (x_{i+1}-x_i) \\cdot f\\left(\\frac{x_i+x_{i+1}}2\\right)$$\n",
    "2. Instead of a rectangle one can also define a trapezium:\n",
    "    $$A_i = (x_{i+1}-x_i) \\cdot \\left( \\frac{f(x_i)+f(x_{i+1})}{2} \\right)$$\n",
    "3. A further approximation is the Simpsons method in which the part below the function is approximated by a parabel. The area can be calculated by:\n",
    "    $$A_i = (x_{i+1}-x_i)\\cdot \\frac{1}{6} \\left( f(x_i) + 4\\cdot f\\left(\\frac{x_i+x_{i+1}}2\\right) + f(x_{i+1}) \\right)$$\n",
    "    \n",
    "    \n",
    "To illustrate the different approximations, the small areas for each method are drawn for the $f(x)=\\frac{1}{x}$ function:\n",
    "<table>\n",
    "<tr>\n",
    "    <td>\n",
    "        <img src=\"figs/riemann.png\">\n",
    "    </td>\n",
    "    <td>\n",
    "        <img src=\"figs/trapez.png\">\n",
    "    </td>\n",
    "    <td>\n",
    "        <img src=\"figs/simpson.png\">\n",
    "    </td>\n",
    "</tr>\n",
    "</table>\n",
    "    \n",
    "**Your tasks:**\n",
    "\n",
    " Implement each of the approximation for the given integral with numpy arrays and compare the results. Which method gives the best value in comparison to the exact value of $\\log 2$ (use a print command for your decision!)?  You can assume a separation of the intervall $I=[a;b]$ in $n=50$ equally spaced parts. \n",
    " \n",
    "**Hints:**\n",
    "\n",
    "For the calculation of the function values $f(x)$ we pre defined a simple function which you can use. You can use this function with ```y=f(x)```. ```x``` can be a float or integer variable or a numpy-array!"
   ]
  },
  {
   "cell_type": "code",
   "execution_count": null,
   "metadata": {
    "tags": []
   },
   "outputs": [],
   "source": [
    "import numpy as np\n",
    "\n",
    "def f(x):\n",
    "    \"\"\"The simple function that returns 1/x.\"\"\"\n",
    "    return 1/x\n",
    "\n",
    "# Your solution here please"
   ]
  },
  {
   "cell_type": "markdown",
   "metadata": {},
   "source": [
    "---"
   ]
  },
  {
   "cell_type": "markdown",
   "metadata": {},
   "source": [
    "## 3. Numerical gauss function (15 points)"
   ]
  },
  {
   "cell_type": "markdown",
   "metadata": {},
   "source": [
    "For the next exercise a Gaussian distribution with zero mean and a variance $\\sigma = 1$ is given by\n",
    "\n",
    "$$ y(x) = C \\exp \\left(-\\frac{x^2}{2}\\right) $$\n",
    "\n",
    "The constant C is fixed so that the integral from $-\\infty$ to $\\infty$ is 1."
   ]
  },
  {
   "cell_type": "markdown",
   "metadata": {},
   "source": [
    "**Your tasks:**\n",
    " * make a complete plot of the distribution function against x, with $C=1$. Choose a useful interval.\n",
    " * choose one of the methods from exercise 2 to numerically integrate the function over a wide enough range to capture virtually all of the important area. Use the integral result to determine the value of $C$. Compare your results with the correct value of $C$ (use again $\\sigma = 1$).\n",
    " * what fraction of the area is contained between `-1` and `1`?\n",
    " * what fraction of the area is contained between `-3` and `3`? Give the meaning of both fractions!\n"
   ]
  },
  {
   "cell_type": "markdown",
   "metadata": {},
   "source": [
    "**Hints**:\n",
    " * you can use one code cell for all solutions\n",
    " * you can choose a good interval for the numerical integration from the first plot\n",
    " * give the result of the fractions of the area in percent of the total area of the integral"
   ]
  },
  {
   "cell_type": "code",
   "execution_count": null,
   "metadata": {
    "tags": []
   },
   "outputs": [],
   "source": [
    "# Your solution here please"
   ]
  },
  {
   "cell_type": "markdown",
   "metadata": {},
   "source": [
    "---"
   ]
  },
  {
   "cell_type": "markdown",
   "metadata": {},
   "source": [
    "## 4. Traps while plottting"
   ]
  },
  {
   "cell_type": "markdown",
   "metadata": {},
   "source": [
    "Somebody wants to plot the function $f(x) = \\frac{\\sin(30x)}x$ with $x\\in [1,10]$. The submitted code looks like:"
   ]
  },
  {
   "cell_type": "code",
   "execution_count": 15,
   "metadata": {
    "tags": []
   },
   "outputs": [
    {
     "data": {
      "text/plain": [
       "[<matplotlib.lines.Line2D at 0x1092bd750>]"
      ]
     },
     "execution_count": 15,
     "metadata": {},
     "output_type": "execute_result"
    },
    {
     "data": {
      "image/png": "[encoded data removed]",
      "text/plain": [
       "<Figure size 640x480 with 1 Axes>"
      ]
     },
     "metadata": {},
     "output_type": "display_data"
    }
   ],
   "source": [
    "%matplotlib inline\n",
    "\n",
    "import numpy as np\n",
    "import matplotlib.pyplot as plt\n",
    "\n",
    "x = np.linspace(1, 10, 100)\n",
    "y = np.sin(30. * x) / x\n",
    "\n",
    "fig, ax = plt.subplots()\n",
    "\n",
    "ax.plot(x, y, linewidth=2.0)"
   ]
  },
  {
   "cell_type": "markdown",
   "metadata": {},
   "source": [
    "Obviously the result was not really wanted. *What's wrong with the code?*"
   ]
  },
  {
   "cell_type": "markdown",
   "metadata": {},
   "source": [
    "A lecturer creates this plot to demonstrate a better solution:\n",
    "\n",
    "<img src=\"figs/trapsplotting.png\" style=\"width:50%\"/>"
   ]
  },
  {
   "cell_type": "markdown",
   "metadata": {},
   "source": [
    "**Tasks**:\n",
    "\n",
    "Recreate the plot which includes the faulty (blue plot) and corrected code (red plot) for the function $f(x) = \\frac{\\sin(30x)}x$ with $x\\in [1,10]$. The corrected plot is shifted by `+2` on the y-axis. Please create also the legend box and all labels. Write the reason why the original code is not correct as a comment into the code."
   ]
  },
  {
   "cell_type": "code",
   "execution_count": null,
   "metadata": {},
   "outputs": [],
   "source": [
    "# Your solution here please"
   ]
  },
  {
   "cell_type": "markdown",
   "metadata": {},
   "source": [
    "---"
   ]
  }
 ],
 "metadata": {
  "celltoolbar": "Create Assignment",
  "kernelspec": {
   "display_name": "Python 3 (ipykernel)",
   "language": "python",
   "name": "python3"
  },
  "language_info": {
   "codemirror_mode": {
    "name": "ipython",
    "version": 3
   },
   "file_extension": ".py",
   "mimetype": "text/x-python",
   "name": "python",
   "nbconvert_exporter": "python",
   "pygments_lexer": "ipython3",
   "version": "3.10.10"
  }
 },
 "nbformat": 4,
 "nbformat_minor": 4
}
