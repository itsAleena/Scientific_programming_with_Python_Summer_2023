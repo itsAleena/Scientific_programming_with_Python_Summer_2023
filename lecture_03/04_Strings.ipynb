{
 "cells": [
  {
   "cell_type": "markdown",
   "id": "4119b4f4-93c6-4588-ac5e-9807735d870c",
   "metadata": {},
   "source": [
    "# Strings"
   ]
  },
  {
   "cell_type": "markdown",
   "id": "a867008c-ccc1-4c61-98e0-444c32063c7a",
   "metadata": {},
   "source": [
    "---\n",
    "\n",
    "In this notebook we will, how to use Python Strings in Python.\n",
    "\n",
    "---"
   ]
  },
  {
   "cell_type": "markdown",
   "id": "c2fe93e2-8b31-4005-9c20-48e985ad401e",
   "metadata": {},
   "source": [
    "## 1. What are strings or `str`?"
   ]
  },
  {
   "cell_type": "markdown",
   "id": "16024281-b1ce-4c75-94b6-f664fad4381a",
   "metadata": {},
   "source": [
    "Strings in Python are represented as a container compound type similar to the `numpy`-arrays. The basic type is `str`. In comparison to `numpy`-arrays Strings are immutable, but all other features are quite similar."
   ]
  },
  {
   "cell_type": "markdown",
   "id": "5c71bd04-0ddb-4bdb-9b06-e22464062950",
   "metadata": {},
   "source": [
    "## 2. Creation"
   ]
  },
  {
   "cell_type": "markdown",
   "id": "6ca36d0c-68d2-425d-bae0-9962aa908dc6",
   "metadata": {},
   "source": [
    "These are the possibilities to create a string:"
   ]
  },
  {
   "cell_type": "code",
   "execution_count": null,
   "id": "8a91defb-bfb5-48e1-8107-7eee981953d6",
   "metadata": {
    "tags": []
   },
   "outputs": [],
   "source": [
    "s = 'This is a string!'\n",
    "t = \"This is also a string!\"  # don't mix the quotes\n",
    "\n",
    "c = 'a'  # single characters are also strings\n",
    "l = ''   # also empty strings are strings ;-)\n",
    "\n",
    "print(s)\n",
    "print(t)\n",
    "print(c)\n",
    "print(l)\n",
    "print(len(s))"
   ]
  },
  {
   "cell_type": "markdown",
   "id": "28b158bc-e23e-41ee-8370-f42736f5a43e",
   "metadata": {},
   "source": [
    "Also multiline strings are allowed:"
   ]
  },
  {
   "cell_type": "code",
   "execution_count": null,
   "id": "54c870cc-0af1-484b-b88b-f9ad57be1606",
   "metadata": {
    "tags": []
   },
   "outputs": [],
   "source": [
    "# multiline strings are quoted with tripple quotes\n",
    "\n",
    "message = \"\"\"This is       # comments have no effect here\n",
    "a multiline message\"\"\"\n",
    "\n",
    "print(message)"
   ]
  },
  {
   "cell_type": "markdown",
   "id": "8a9a8e39-06e1-416b-9436-70494349d4b9",
   "metadata": {},
   "source": [
    "The length of a string is only limited to the computers memory."
   ]
  },
  {
   "cell_type": "markdown",
   "id": "417076f1-d1b9-403c-8223-873ddee4dada",
   "metadata": {},
   "source": [
    "Special characters are also allowed:"
   ]
  },
  {
   "cell_type": "code",
   "execution_count": null,
   "id": "aa62a4c3-56f8-49de-a2df-b729a57a1d60",
   "metadata": {
    "tags": []
   },
   "outputs": [],
   "source": [
    "s = '\\\"'                                       # quote \"\n",
    "t = '\\''                                       # quote ',\n",
    "u = 'Hello\\nOliver'                            # Return character\n",
    "v = 'Hello\\tOliver'                            # tab character\n",
    "w = 'This is an unicode string: \\U0001F606'    # unicode characters\n",
    "\n",
    "print(s)\n",
    "print(t)\n",
    "print(u)\n",
    "print(v)\n",
    "print(w)"
   ]
  },
  {
   "cell_type": "markdown",
   "id": "90306c74-e0e0-4a0a-862f-662b835c6370",
   "metadata": {},
   "source": [
    "## 3. Accessing of strings"
   ]
  },
  {
   "cell_type": "markdown",
   "id": "335b123d-cffe-4154-8d66-78d448679a9e",
   "metadata": {},
   "source": [
    "Similar to `numpy`-arrays individual elements (characters) or parts (substrings) can be addressed by indices:"
   ]
  },
  {
   "cell_type": "code",
   "execution_count": null,
   "id": "709e9ebe-4825-4a10-8ce4-0dc2e499e903",
   "metadata": {
    "tags": []
   },
   "outputs": [],
   "source": [
    "s = 'Hello World!'\n",
    "\n",
    "print(s[0])      # first element\n",
    "print(s[-1])     # last element\n",
    "print(s[3:5])    # substring\n",
    "print(s[6:0:-1]) # reverse substring"
   ]
  },
  {
   "cell_type": "markdown",
   "id": "c00854ce-5184-41dd-86c5-719a7ce4112f",
   "metadata": {},
   "source": [
    "Also the `for`-loop works (similar to `numpy`-arrays) fine with strings:"
   ]
  },
  {
   "cell_type": "code",
   "execution_count": null,
   "id": "a0993d4f-4ee5-4497-bab7-74758fa8f735",
   "metadata": {
    "tags": []
   },
   "outputs": [],
   "source": [
    "s = 'Hello World!'\n",
    "\n",
    "for c in s:\n",
    "    print(c)"
   ]
  },
  {
   "cell_type": "markdown",
   "id": "204dd890-d556-4b2e-add8-31d91d191236",
   "metadata": {},
   "source": [
    "## 4. String operations"
   ]
  },
  {
   "cell_type": "markdown",
   "id": "f74d8e35-6700-4e6b-a136-54641541bc97",
   "metadata": {},
   "source": [
    "Funny aspect, you can do math with strings, but only the operation `+` and `*` are allowed:"
   ]
  },
  {
   "cell_type": "code",
   "execution_count": null,
   "id": "8214636f-4a09-4d6c-8c48-f34bf7948081",
   "metadata": {
    "tags": []
   },
   "outputs": [],
   "source": [
    "a = 'Oliver' + ' Cordes'  # strings can be combined (added) to a final string\n",
    "b = 'echo!' * 3           # multiplication does what it mean, multiply the string!\n",
    "c = 'null' * -2           # allowed but useless\n",
    "\n",
    "print(a)\n",
    "print(b)\n",
    "print(c)"
   ]
  },
  {
   "cell_type": "markdown",
   "id": "36fb335e-fe52-4ade-b26c-8cf85ac09f7d",
   "metadata": {},
   "source": [
    "Strings have wide variety of additional feature functions like:"
   ]
  },
  {
   "cell_type": "code",
   "execution_count": null,
   "id": "a12f38ae-b77d-4f34-b7dd-2abd944334c3",
   "metadata": {
    "tags": []
   },
   "outputs": [],
   "source": [
    "s = 'Hello world!'\n",
    "\n",
    "print(s.upper())         \n",
    "print(s.lower())\n",
    "print(s.replace('o','O'))"
   ]
  },
  {
   "cell_type": "markdown",
   "id": "5bcb5ea7-c951-4c75-85d1-342bcc87a362",
   "metadata": {},
   "source": [
    "**Note:** Functions can return a new modified version of the string or do also a modification in place. So read the descriptions of the function carefully!"
   ]
  },
  {
   "cell_type": "code",
   "execution_count": null,
   "id": "bf8cae81-5283-4d93-87a6-8ddd67b67adf",
   "metadata": {
    "tags": []
   },
   "outputs": [],
   "source": [
    "help(str)"
   ]
  },
  {
   "cell_type": "markdown",
   "id": "b1dda0c9-be27-4512-a8ad-542f72351b85",
   "metadata": {},
   "source": [
    "## 5. Format Strings or f-strings"
   ]
  },
  {
   "cell_type": "markdown",
   "id": "f171f502-26f0-478a-9afc-9d76dbb675c2",
   "metadata": {},
   "source": [
    "There are some special strings (after the relase of Python 3.6) available, which helps to create very easily complex strings:"
   ]
  },
  {
   "cell_type": "code",
   "execution_count": null,
   "id": "2a3727ab-1f5f-49b9-9c2d-2522ba4c27ef",
   "metadata": {
    "tags": []
   },
   "outputs": [],
   "source": [
    "# old example of concenation\n",
    "first_name = 'Oliver'\n",
    "last_name = 'Cordes'\n",
    "\n",
    "print(first_name+' '+last_name)\n",
    "\n",
    "# easier with f-strings:\n",
    "print(f'{first_name} {last_name}')   # python variables or code can be evaluated in `{...}`\n",
    "\n",
    "i = 10\n",
    "print(f'{i*10}')                     # also calculations are allowed"
   ]
  },
  {
   "cell_type": "markdown",
   "id": "79db5a3e-8733-4e5b-b554-6774a3db3d52",
   "metadata": {},
   "source": [
    "**Note:** In the evaluated python parts no strings are allowed!"
   ]
  },
  {
   "cell_type": "code",
   "execution_count": null,
   "id": "e3c6b3ea-7acb-4d66-a3ab-2f2bd6977e85",
   "metadata": {
    "tags": []
   },
   "outputs": [],
   "source": [
    "print(f'{10}')         # but\n",
    "#print(f'{'hello'}')   # gives an error "
   ]
  },
  {
   "cell_type": "markdown",
   "id": "20d38db3-e01c-45fc-b789-edad052ddebe",
   "metadata": {},
   "source": [
    "## 6. Manipulating strings"
   ]
  },
  {
   "cell_type": "markdown",
   "id": "47412bbe-e27e-4212-8dd1-a689baa140ac",
   "metadata": {},
   "source": [
    "Since strings are immutable, you cannot change a character or a substring:"
   ]
  },
  {
   "cell_type": "code",
   "execution_count": null,
   "id": "64f0afa5-f6cc-483a-a350-6974521dc110",
   "metadata": {
    "tags": []
   },
   "outputs": [],
   "source": [
    "s = 'Hallo'  # wants to change into Hello\n",
    "\n",
    "s[1] = 'e'   # gives an error"
   ]
  },
  {
   "cell_type": "markdown",
   "id": "eb993867-012f-4392-b3e7-7e1c0cdad847",
   "metadata": {},
   "source": [
    "Alternative solution:"
   ]
  },
  {
   "cell_type": "code",
   "execution_count": null,
   "id": "c168fd39-0279-4b84-b0b4-6f126674a5b2",
   "metadata": {
    "tags": []
   },
   "outputs": [],
   "source": [
    "s = 'Hallo'\n",
    "\n",
    "s = s[0] + 'e' + s[2:]   # complex, not the best code, but working, if necessary\n",
    "\n",
    "print(s)"
   ]
  },
  {
   "cell_type": "markdown",
   "id": "492c1263-1b58-4682-afcb-5bb86cd59c3e",
   "metadata": {},
   "source": [
    "## 7. Raw Strings or r-strings"
   ]
  },
  {
   "cell_type": "markdown",
   "id": "f9722dad-ae81-4620-9667-3c257fd3e240",
   "metadata": {},
   "source": [
    "Raw strings did not mask any backslash characters: "
   ]
  },
  {
   "cell_type": "code",
   "execution_count": null,
   "id": "0baeb890-98dd-4620-bde2-a1331e81d2c1",
   "metadata": {
    "tags": []
   },
   "outputs": [],
   "source": [
    "s = r'Oliver \\t Cordes'\n",
    "\n",
    "print(s)"
   ]
  },
  {
   "cell_type": "markdown",
   "id": "5a3d11f9-d2b6-4e72-abd1-89933a99a011",
   "metadata": {},
   "source": [
    "This is useful for labels in matplotlib, where you can use $\\LaTeX$-commands:"
   ]
  },
  {
   "cell_type": "code",
   "execution_count": null,
   "id": "f447c2eb-a302-4b60-af02-513d9e7815d4",
   "metadata": {
    "tags": []
   },
   "outputs": [],
   "source": [
    "%matplotlib inline\n",
    "import numpy as np\n",
    "import matplotlib.pyplot as plt\n",
    "\n",
    "x = np.linspace(0.2, 2.0 * np.pi, 100)\n",
    "y = np.sin(x) / x\n",
    "\n",
    "# Without using a raw string, the following\n",
    "# lines throws an error:\n",
    "plt.title(r'$\\frac {\\sin(x)}{x}$')\n",
    "plt.plot(x, y)"
   ]
  },
  {
   "cell_type": "markdown",
   "id": "fbf8c2fc-ec08-4056-ba70-5cd0b3d88b5d",
   "metadata": {},
   "source": [
    "# Appendix: Some useful options to format numbers in f-strings"
   ]
  },
  {
   "cell_type": "markdown",
   "id": "aac9f9eb-3f41-45ea-b2df-cb15c4c765b6",
   "metadata": {},
   "source": [
    "No formatting of the number"
   ]
  },
  {
   "cell_type": "code",
   "execution_count": null,
   "id": "f107d501-1825-4e6d-877e-dc6735858723",
   "metadata": {},
   "outputs": [],
   "source": [
    "x = 2. / 3.\n",
    "\n",
    "f\"Two thirds are {x}\""
   ]
  },
  {
   "cell_type": "markdown",
   "id": "7c545bf9-72d4-4d4f-9041-989556551a59",
   "metadata": {},
   "source": [
    "Round the float after the third digit."
   ]
  },
  {
   "cell_type": "code",
   "execution_count": null,
   "id": "0875a1b4-57aa-4d48-a5d5-fad14b49b770",
   "metadata": {},
   "outputs": [],
   "source": [
    "x = 2. / 3.\n",
    "\n",
    "# The 'f' stands for float.\n",
    "f\"Two thirds are {x:.3f}\""
   ]
  },
  {
   "cell_type": "markdown",
   "id": "ba8e7c66-ca2e-4644-be35-bde45d42365a",
   "metadata": {},
   "source": [
    "Round the float after the third digit and print the whole number with a total length of 10."
   ]
  },
  {
   "cell_type": "code",
   "execution_count": null,
   "id": "983083e6-78c7-48d3-af78-1050034b8aa6",
   "metadata": {},
   "outputs": [],
   "source": [
    "f\"Two thirds are {x:10.3f}\""
   ]
  },
  {
   "cell_type": "markdown",
   "id": "61302981-be9a-40cb-a128-135e3e2e19c9",
   "metadata": {},
   "source": [
    "We can do something similar for integers (without the number of decimal places)"
   ]
  },
  {
   "cell_type": "code",
   "execution_count": null,
   "id": "7c8a2ac9-7042-4fa4-a6be-b2cce8975308",
   "metadata": {},
   "outputs": [],
   "source": [
    "n = 42\n",
    "f\"The truth is {n:10d}\""
   ]
  },
  {
   "cell_type": "markdown",
   "id": "0a9cfa6c-fa6a-40f5-85b2-12243cedb691",
   "metadata": {},
   "source": [
    "We can also add leading zeros"
   ]
  },
  {
   "cell_type": "code",
   "execution_count": null,
   "id": "5ffb6473-b3f4-425f-8382-29eef521e8f7",
   "metadata": {},
   "outputs": [],
   "source": [
    "n = 42\n",
    "f\"The truth is {n:010d}\""
   ]
  },
  {
   "cell_type": "markdown",
   "id": "a8d96cc0-0ec6-416c-9996-3c46309bc1d2",
   "metadata": {},
   "source": [
    "or align to the left"
   ]
  },
  {
   "cell_type": "code",
   "execution_count": null,
   "id": "397f462d-3d4a-454c-9817-ea71925a3180",
   "metadata": {
    "tags": []
   },
   "outputs": [],
   "source": [
    "n = 42\n",
    "f\"The truth is {n:<10d}. This we must accept!\""
   ]
  },
  {
   "cell_type": "code",
   "execution_count": null,
   "id": "646ca16b-a239-4f73-81f1-817ed94cb51d",
   "metadata": {},
   "outputs": [],
   "source": []
  }
 ],
 "metadata": {
  "kernelspec": {
   "display_name": "Python 3 (ipykernel)",
   "language": "python",
   "name": "python3"
  },
  "language_info": {
   "codemirror_mode": {
    "name": "ipython",
    "version": 3
   },
   "file_extension": ".py",
   "mimetype": "text/x-python",
   "name": "python",
   "nbconvert_exporter": "python",
   "pygments_lexer": "ipython3",
   "version": "3.10.10"
  }
 },
 "nbformat": 4,
 "nbformat_minor": 5
}
