{
 "cells": [
  {
   "cell_type": "markdown",
   "id": "7b8bf56b-1e6f-4772-ad2f-514efaa5e9ff",
   "metadata": {},
   "source": [
    "# Lecture 3 - April 14 2023"
   ]
  },
  {
   "cell_type": "markdown",
   "id": "12680d6a-a92a-4f83-a4c0-bc55481004c9",
   "metadata": {},
   "source": [
    "---\n",
    "\n",
    "**Topics of this lecture:**\n",
    "\n",
    " * Container Type in Python\n",
    " * numpy-Arrays\n",
    " * Plots with matplotlib\n",
    " * Strings\n",
    " \n",
    "----"
   ]
  },
  {
   "cell_type": "markdown",
   "id": "e71ddca7-2215-4ae1-ab09-ce73044f51cd",
   "metadata": {},
   "source": [
    "## 1. Formalities"
   ]
  },
  {
   "cell_type": "markdown",
   "id": "81605454-22ff-44fa-b46b-f1db4e395d81",
   "metadata": {},
   "source": [
    "Bonn students need to register in Basis for credits!\n",
    "\n",
    " * register until Friday, **April 28th 2023**\n",
    " * unregistering is possible until **June 30th 2023**\n",
    " \n",
    "**Please register as soon as possible!**"
   ]
  },
  {
   "cell_type": "markdown",
   "id": "f6de4bfb-99ef-429c-96f0-b725ffa533a3",
   "metadata": {},
   "source": [
    "---"
   ]
  },
  {
   "cell_type": "markdown",
   "id": "50ba1fa7-d5cc-4692-814d-8596bd7128bc",
   "metadata": {},
   "source": [
    "## 2. Additional python code in homeworks and projects"
   ]
  },
  {
   "cell_type": "markdown",
   "id": "44d10ea2-7840-40e0-a2a0-0c8795a0c2ed",
   "metadata": {},
   "source": [
    " * please use only python structures, types and modules which were shown so far in class \n",
    " * if you want to use special libraries, tools, functions to solve a problem, you need to explicitly write down in a comment, why you want to use `code` and how this new part is working and how it is `superior` to the suggested functions and methods to make it clear to us, that you fully understand what you're doing!"
   ]
  },
  {
   "cell_type": "markdown",
   "id": "66102fff-ce40-48e5-9afe-6e44bba5eaae",
   "metadata": {},
   "source": [
    "---"
   ]
  }
 ],
 "metadata": {
  "kernelspec": {
   "display_name": "Python 3 (ipykernel)",
   "language": "python",
   "name": "python3"
  },
  "language_info": {
   "codemirror_mode": {
    "name": "ipython",
    "version": 3
   },
   "file_extension": ".py",
   "mimetype": "text/x-python",
   "name": "python",
   "nbconvert_exporter": "python",
   "pygments_lexer": "ipython3",
   "version": "3.10.10"
  }
 },
 "nbformat": 4,
 "nbformat_minor": 5
}
