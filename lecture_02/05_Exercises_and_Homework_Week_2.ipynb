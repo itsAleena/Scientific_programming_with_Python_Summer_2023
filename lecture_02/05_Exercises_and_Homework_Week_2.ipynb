{
 "cells": [
  {
   "cell_type": "markdown",
   "metadata": {
    "nbgrader": {
     "grade": false,
     "grade_id": "cell-515e01b25bda86a9",
     "locked": true,
     "schema_version": 3,
     "solution": false,
     "task": false
    }
   },
   "source": [
    "# Exercises and Homework for week 2"
   ]
  },
  {
   "cell_type": "markdown",
   "metadata": {
    "nbgrader": {
     "grade": false,
     "grade_id": "cell-14ca577e70096fbf",
     "locked": true,
     "schema_version": 3,
     "solution": false,
     "task": false
    }
   },
   "source": [
    "## physics725: Scientific Programming with Python (SS 2023)\n",
    "\n",
    "Oliver Cordes & Thomas Erben\n",
    "\n",
    "---"
   ]
  },
  {
   "cell_type": "markdown",
   "metadata": {
    "nbgrader": {
     "grade": false,
     "grade_id": "cell-58e8949e2e41603c",
     "locked": true,
     "schema_version": 3,
     "solution": false,
     "task": false
    }
   },
   "source": [
    "Homework is due on **Thursday, 27/04/2023, 11:55pm**\n",
    "\n",
    " * You only learn a programming language by actively praticing and using it! We therefore **strongly** advise you to work on the homework problems.\n",
    " * Please discuss the problems with your student peers and with your tutor.\n",
    " * Your code(s) need(s) to be well and appropriately commented!\n",
    " * Submit this notebook and, if necessary, additional files in a `tar`-archive with name `Homework_2_group_XX.tgz` (replace `XX` with your group number) to your tutor.\n",
    "\n",
    "**Topics of this exercise:**\n",
    " * scalar data types in Python *int*, *float* and *bool*\n",
    " * control structures *if* and *while*\n",
    " * floating poing accuracy"
   ]
  },
  {
   "cell_type": "markdown",
   "metadata": {},
   "source": [
    "**Your group number here please:**  Group XX"
   ]
  },
  {
   "cell_type": "markdown",
   "metadata": {},
   "source": [
    "## 1. Lecture Review (0 points)"
   ]
  },
  {
   "cell_type": "markdown",
   "metadata": {},
   "source": [
    "If you did the lecture review questions [04_Lecture_Review.ipynb](04_Lecture_Review.ipynb) (strongly recommended!): \n",
    "Please discuss with your tutor and your group any issues/problems you had with them.\n",
    "\n",
    "---"
   ]
  },
  {
   "cell_type": "markdown",
   "metadata": {},
   "source": [
    "## 2. Something to think about (10 points)"
   ]
  },
  {
   "cell_type": "markdown",
   "metadata": {},
   "source": [
    "We saw in lecture that numerics with floats is *not exact*. Thomas Erben developed a small module, `lpf` which allows us to perform float operations with an accuracy of four digits. We want to investigate consequences that we can do calculations only with a limit number of digits. \n",
    "\n",
    "Please have a look at the following code cells, to understand the usage of the `lpf` module and the problems pointed out."
   ]
  },
  {
   "cell_type": "code",
   "execution_count": null,
   "metadata": {
    "tags": []
   },
   "outputs": [],
   "source": [
    "import lpf\n",
    "\n",
    "# usual Python float arithmetics\n",
    "x = 1.0\n",
    "y = 1.2229\n",
    "print(x + y)\n",
    "\n",
    "# LPF-numbers do all floating point operations with four digits:\n",
    "a = lpf.LPF(1.0)\n",
    "b = lpf.LPF(1.2229)\n",
    "\n",
    "print(a + b)"
   ]
  },
  {
   "cell_type": "markdown",
   "metadata": {},
   "source": [
    "The following cell demonstrates that mathematical identities that we take for granted are not valid in numerical computations!"
   ]
  },
  {
   "cell_type": "code",
   "execution_count": null,
   "metadata": {
    "tags": []
   },
   "outputs": [],
   "source": [
    "import lpf\n",
    "\n",
    "# Demonstration for numeric problems in computing with 'low-precision-floats\n",
    "# (lpf)'\n",
    "# The file 'lpf.py' must be in the same folder as this script.\n",
    "\n",
    "# Note that all problems demonstrated in this script also occur with the\n",
    "# Python-float types. They only difference is that lpf does all\n",
    "# float-calculations with four significant digits, while the Python-float type\n",
    "# uses 15.\n",
    "\n",
    "# show failure of associative and commutative laws:\n",
    "u, v, w = lpf.LPF(1113), lpf.LPF(-1111), lpf.LPF(7.511)\n",
    "\n",
    "print((u + v) + w, u + (v + w))\n",
    "print(u + v + w, v + w + u)\n",
    "\n",
    "# Show failure of the distributive law\n",
    "u, v, w = lpf.LPF(2000), lpf.LPF(-6), lpf.LPF(6.003)\n",
    "\n",
    "print(u * v, u * w, v + w)\n",
    "print(u * v + u * w, u * (v + w))\n",
    "\n",
    "# show that the relation 'eps > 0' is not equaivalent to 'a + eps > a':\n",
    "a = lpf.LPF(1.0)\n",
    "\n",
    "eps = 0.0001\n",
    "\n",
    "print(eps > 0, a + eps > a)\n"
   ]
  },
  {
   "cell_type": "markdown",
   "metadata": {},
   "source": [
    "**Your tasks:**"
   ]
  },
  {
   "cell_type": "markdown",
   "metadata": {},
   "source": [
    "We want to calculate the sum $\\sum_{n=1}^{1000} \\frac 1n$ with low precision floats and with different algorithms which are  *mathematically equaivalent*. The first implementation is a forward loop which starts with $n=1$. The second implementation should is the backward implementation and starts with $n=1000$.\n",
    "\n",
    "Explain in an additional markdown cell, which algorithm is more correct and give a rule,\n",
    "how such sums should be evaluated.\n",
    "\n",
    "**Bonus:** Can you argue, why sich sums should be calculated in that way?"
   ]
  },
  {
   "cell_type": "code",
   "execution_count": null,
   "metadata": {},
   "outputs": [],
   "source": [
    "# Your solution here please for the forward sum"
   ]
  },
  {
   "cell_type": "code",
   "execution_count": null,
   "metadata": {
    "tags": []
   },
   "outputs": [],
   "source": [
    "# Your solution here please for the backward sum"
   ]
  },
  {
   "cell_type": "markdown",
   "metadata": {},
   "source": [
    "**Your explanation here**"
   ]
  },
  {
   "cell_type": "markdown",
   "metadata": {},
   "source": [
    "## 3. Alternative algorithms for calculating the square root (25 = 10+10 points)"
   ]
  },
  {
   "cell_type": "markdown",
   "metadata": {},
   "source": [
    "In this exercise you should implement 2 different algorithms for calculating the square root. Both methods are not a perfect solution of a square root but after certain steps the code will converge within a small $\\epsilon$ error. The final goal is to find out which algorithm needs less steps for the convergence."
   ]
  },
  {
   "cell_type": "markdown",
   "metadata": {
    "tags": []
   },
   "source": [
    "### 3.1 Heron algorithm (10 points)\n",
    "\n",
    "Square roots are mathematically positive solutions of functions like:\n",
    "\n",
    "$$f(x) = x^2 - a$$\n",
    "\n",
    "with $a$ as the number for which the square root should be calculated. The idea of the heron algorithm is \n",
    "to linearize the function around $x_n$ as a tangent. The zero crossing of the tangent is nearer to the square \n",
    "root value and can be used in a next step for a new tangent. The function for the tangent (1. order of the taylor expansion)\n",
    "at $x_n$ is:\n",
    "\n",
    "\\begin{equation*}\n",
    "t(x):=f(x_{n})+f^{\\prime }(x_{n})(x-x_{n})\n",
    "\\end{equation*}\n",
    "\n",
    "For the zero crossing $0 = t(x_{n+1})$  you will get:\n",
    "\n",
    "\\begin{equation*}\n",
    "x_{n+1} = x_n - \\frac{f(x_n)}{f^{\\prime}(x_n)} = \\frac{x_n + a/x_n}{2}\n",
    "\\end{equation*}\n",
    "\n",
    "\n",
    "\n",
    "It easy to show that if the series  $\\xi =\\lim _{n\\to \\infty }x_{n}$ converge, the function value of this value $f(\\xi) = 0$ is and $\\xi$ the square root of $a$ is."
   ]
  },
  {
   "cell_type": "markdown",
   "metadata": {},
   "source": [
    "<img src=\"figs/tangente_en.png\" style=\"width:40%\"><img src=\"figs/tangente2_en.png\" style=\"width:40%\">\n",
    "\n",
    "Abbildung: The first two steps to determine the zero crossings of $f(x)=x^2-2$. As a starting value we set $x_0=2$. The result  $x_1 \\approx 1.4166$ is nearer to the value we were looking for."
   ]
  },
  {
   "cell_type": "markdown",
   "metadata": {},
   "source": [
    "**Your tasks:**\n",
    "\n",
    "Implement the Heron algorithm in the following code cell and print the result. Use this equation to calculate the next value:\n",
    "\n",
    "\\begin{equation*}\n",
    "\tx_{n+1} = \\frac{x_n + a/x_n}{2}\n",
    "\\end{equation*}  \n",
    "\n",
    "You can stop calculating if the difference of the recent and the previous value is below an\n",
    "$\\epsilon = 1e^{-10}$. \n",
    "\n",
    "Test your algorithms for different values for $a$, e.g. 0, 2, 0.5, -2 ."
   ]
  },
  {
   "cell_type": "markdown",
   "metadata": {},
   "source": [
    "__Hints:__\n",
    " * calculate only for positive values of $a$, for all other values, write a useful message\n",
    " * use a `while` loop for the implementation, where you can use $x:=x_n$ and $y:=x_{n+1}$ for the new value. \n",
    " Choose an useful starting point for $x$ and $y$. $y$ should not be the same as $x$, why?\n",
    " * the `while` condition should include the difference of the values for the recent and the previous steps, use `np.abs(a,b)` for the difference"
   ]
  },
  {
   "cell_type": "code",
   "execution_count": null,
   "metadata": {},
   "outputs": [],
   "source": [
    "# Your solution here please"
   ]
  },
  {
   "cell_type": "markdown",
   "metadata": {},
   "source": [
    "### 3.2 Bisection method (10 points)"
   ]
  },
  {
   "cell_type": "markdown",
   "metadata": {},
   "source": [
    "The bisection method based on nested intervals. The square root value $x$ is always inside the interval $[a,b]$ and with consecutive steps we make the search interval smaller and smaller. "
   ]
  },
  {
   "cell_type": "markdown",
   "metadata": {},
   "source": [
    "The algorithm can be described as follows:\n",
    " 1. start with an interval $[a,b]$\n",
    " 1. calculate the middle of the interval $m$\n",
    " 1. if $m^2$ is smaller then x, then move the left border of the interval to $m$, otherwise move the right border to $m$\n",
    " 1. proceed with step 2 until the intervall length is smaller than a given $\\epsilon$"
   ]
  },
  {
   "cell_type": "markdown",
   "metadata": {},
   "source": [
    "One example for $x=2$. To show the iterations a table gives the best view:\n",
    "\n",
    "\n",
    "| $a$  | $b$  | $m$  |\n",
    "|---|---|---|\n",
    "| 0.  | 2.  | 1.  |\n",
    "| 1.  | 2.  | 1.5  |\n",
    "| 1.  | 1.5  | 1.25  |\n",
    "| 1.25  | 1.5  | 1.375 |\n",
    "| 1.375  | 1.5  | 1.4375  |\n",
    "| ...| ...| ... |"
   ]
  },
  {
   "cell_type": "markdown",
   "metadata": {},
   "source": [
    "As you can see after 5 steps we are closer to the real value for $\\sqrt{2}$."
   ]
  },
  {
   "cell_type": "markdown",
   "metadata": {},
   "source": [
    "**Your tasks:**\n",
    "\n",
    "Implement the bisection method in the following code cell and print the result. You can stop the iteration if the itervall length is smaller than $\\epsilon = 1e^{-10}$.\n",
    "\n",
    "Test your algorithms for different values for $a$, e.g. 0, 2, 0.5, -2 ."
   ]
  },
  {
   "cell_type": "markdown",
   "metadata": {},
   "source": [
    "**Hints:**\n",
    " * use a start interval $[a,b] = [0,x]$\n",
    " * use a `while` loop for the implementation, where the condition is the length of the interval  "
   ]
  },
  {
   "cell_type": "code",
   "execution_count": null,
   "metadata": {
    "tags": []
   },
   "outputs": [],
   "source": [
    "# Your solution here please"
   ]
  },
  {
   "cell_type": "markdown",
   "metadata": {},
   "source": [
    "---"
   ]
  },
  {
   "cell_type": "markdown",
   "metadata": {},
   "source": [
    "## 4. Chicken McNuggets (15 points)"
   ]
  },
  {
   "cell_type": "markdown",
   "metadata": {},
   "source": [
    "Mc Donalds sells its Chicken McNuggets in packages of 6, 9 and 20 pieces."
   ]
  },
  {
   "cell_type": "markdown",
   "metadata": {
    "tags": []
   },
   "source": [
    "### 4.1 Brute force\n",
    "\n",
    "Write a ```python``` program which tests for a given number `N` whether `N` nuggets can be bought or not. Your program should print *all* possible package combinations in which the `N` nuggets can be obtained (e.g. 60 nuggets can be bought with 3 packages of 20 pieces, 10 packages of 6 pieces and three more combinations). Print a corresponding message if the `N` nuggets cannot be bought! \n",
    "\n",
    "**Hints:**\n",
    "- This is a *brute force* problem. It means that you need to find the solutions by trying *all possibilities*. One possible approach is as follows: Write three nested `while` loops iterating over the variables `m`, `n` and `o`. The variables represent the number of packages with corresponding pieces. `m` stands for the number of packages with 6 nuggets and so on. Within the innermost loop, you can check with an `if`-statement such as\n",
    "```\n",
    "if (6 * m + 9 * n + 20 * o) == N:\n",
    "    print('possible solution found ....')\n",
    "```\n",
    "whether your current combination of `(m, n, o)` is a solution to the problem. You now only need to find iteration limits for `m`, `n` and `o` to solve the task. \n",
    "- For `N=60`, you should find the following solutions for `(m * 6, n * 9, o * 20)`: `(0, 0, 3)`, `(1, 6, 0)`, `(4, 4, 0)`, `(7, 2, 0)`, `(10, 0, 0)`.\n",
    "- test your program for additional requests $N=50, 51, \\dots, 55$ nuggets"
   ]
  },
  {
   "cell_type": "code",
   "execution_count": null,
   "metadata": {},
   "outputs": [],
   "source": [
    "# Your solution here please"
   ]
  },
  {
   "cell_type": "markdown",
   "metadata": {},
   "source": [
    "### 4.2 Analysis"
   ]
  },
  {
   "cell_type": "markdown",
   "metadata": {},
   "source": [
    "In the previous task you have shown that for $N=50, 51, \\dots, 55$ you can find a combination of nuggets packages. You can easily show, that for every combination $N > M$  you are able to buy nuggets, if you can buy $M-5, M-4, \\dots, M$ nuggets! \n",
    "\n",
    "**Task:**\n",
    "\n",
    "Copy the previous program into the following code cell and modify the code so, that the code automatically can find the highest  possible number of nuggets for which nuggets cannot be bought."
   ]
  },
  {
   "cell_type": "code",
   "execution_count": null,
   "metadata": {
    "tags": []
   },
   "outputs": [],
   "source": [
    "# Your solution here please"
   ]
  }
 ],
 "metadata": {
  "celltoolbar": "Create Assignment",
  "kernelspec": {
   "display_name": "Python 3",
   "language": "python",
   "name": "python3"
  },
  "language_info": {
   "codemirror_mode": {
    "name": "ipython",
    "version": 3
   },
   "file_extension": ".py",
   "mimetype": "text/x-python",
   "name": "python",
   "nbconvert_exporter": "python",
   "pygments_lexer": "ipython3",
   "version": "3.8.8"
  }
 },
 "nbformat": 4,
 "nbformat_minor": 4
}
