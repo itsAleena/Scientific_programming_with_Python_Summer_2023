{
 "cells": [
  {
   "cell_type": "markdown",
   "id": "00156afc-cb1b-4250-a7e0-e1fb120219de",
   "metadata": {
    "tags": []
   },
   "source": [
    "# Scalar types in Python"
   ]
  },
  {
   "cell_type": "markdown",
   "id": "4511c3ac-5224-4631-a983-35ed83266cbe",
   "metadata": {},
   "source": [
    "---\n",
    "\n",
    "In this notebook we focus on some python scalar types: **numbers** and **bools**\n",
    "\n",
    "If you know other programming languages these look familiar, but there are also some differences.\n",
    "\n",
    "---"
   ]
  },
  {
   "cell_type": "markdown",
   "id": "8e927f7b-8c1f-4f03-973f-af8c1aa18d10",
   "metadata": {},
   "source": [
    "## 1. How are numbers defined"
   ]
  },
  {
   "cell_type": "markdown",
   "id": "cee69053-b667-4245-8a37-1e86defed4b9",
   "metadata": {},
   "source": [
    "We have the *integer* numbers and the *floating point numbers* (short: floats):"
   ]
  },
  {
   "cell_type": "code",
   "execution_count": 1,
   "id": "09ae725e-7e00-4223-808b-edeefbb87701",
   "metadata": {},
   "outputs": [
    {
     "name": "stdout",
     "output_type": "stream",
     "text": [
      "1\n",
      "-1\n",
      "1\n",
      "1000000\n",
      "1000\n",
      "1.23\n",
      "120.0\n",
      "120.0\n",
      "-0.012\n"
     ]
    }
   ],
   "source": [
    "print(1)         # integer 1\n",
    "print(-1)        # negative number have a leading \"-\" character\n",
    "print(+1)        # \"+\" is okay, but somewhat useless\n",
    "print(1_000_000) # nicer to read\n",
    "print(10_00)     # be careful!\n",
    "print(1.23)      # float, not the german \",\"!\n",
    "print(1.2e2)     # float with exponent\n",
    "print(1.2E02)    # e or E is ok, leading zeros will be ignored\n",
    "print(-1.2e-2)   # negative float and negative exponent"
   ]
  },
  {
   "cell_type": "markdown",
   "id": "7801393f-4e9a-4386-b387-41631e7912f9",
   "metadata": {},
   "source": [
    "The next examples are wrong:"
   ]
  },
  {
   "cell_type": "code",
   "execution_count": null,
   "id": "2fbc05d4-9330-4f9d-a1bd-f129bc663ff7",
   "metadata": {},
   "outputs": [],
   "source": [
    "print(0001)   # leading zeros are forbidden!"
   ]
  },
  {
   "cell_type": "code",
   "execution_count": null,
   "id": "b9878724-1728-498b-a04c-bb1b22d208db",
   "metadata": {},
   "outputs": [],
   "source": [
    "print(1.2e2.2)  # mathematial maybe useful, but also forbidden"
   ]
  },
  {
   "cell_type": "markdown",
   "id": "88040d96-2630-4a8a-a7fc-3277d3a7a267",
   "metadata": {},
   "source": [
    "There are also possibilities to use binary, ocatal, and hexadecimal notations for integers, but for this course we use \"normal\" integers only ..."
   ]
  },
  {
   "cell_type": "markdown",
   "id": "7d1dc6b8-5bef-417b-a679-e5562b3cdbc7",
   "metadata": {},
   "source": [
    "---"
   ]
  },
  {
   "cell_type": "markdown",
   "id": "9200ac98-2a29-43d1-9eb5-29689ac8d931",
   "metadata": {},
   "source": [
    "## 2. Mathematical operations"
   ]
  },
  {
   "cell_type": "markdown",
   "id": "bfd09eb6-bcdb-4ef8-97e5-d40baa44889c",
   "metadata": {},
   "source": [
    "You can use the standard mathematical operations `+`, `-`, `*`:"
   ]
  },
  {
   "cell_type": "code",
   "execution_count": null,
   "id": "97c21975-6d45-4550-8566-276c5fc53253",
   "metadata": {},
   "outputs": [],
   "source": [
    "print(1+2)  # addition with integer numbers\n",
    "print(3-5)  # subtraction with integer numbers\n",
    "print(6*7)  # mulplication with integer numbers"
   ]
  },
  {
   "cell_type": "markdown",
   "id": "e22568ab-419d-4c2c-a618-340752854913",
   "metadata": {},
   "source": [
    "Also with floating point numbers:"
   ]
  },
  {
   "cell_type": "code",
   "execution_count": null,
   "id": "07c71aaf-c450-4ed6-9e75-5c2bb932f1e0",
   "metadata": {},
   "outputs": [],
   "source": [
    "print(1.2+2.9)      # addition with floats\n",
    "print(2.431-0.8679) # subtraction with floats\n",
    "print(12.34*3.1)    # multiplication with floats\n",
    "print(1+2.0)        # mixed addition\n",
    "print(2-3.1)        # mixed subtractions\n",
    "print(3.1*10)       # mixed mutiplications"
   ]
  },
  {
   "cell_type": "markdown",
   "id": "b416a7b3-3aad-44db-abbd-b93df57e643e",
   "metadata": {},
   "source": [
    "Important for the mathematical operations is that if a float is involved the result is always a float. For addition, subtraction and multiplication of integers the result is always an integer!"
   ]
  },
  {
   "cell_type": "markdown",
   "id": "be51f240-e7ba-4cd4-9792-5a86a7b8c32e",
   "metadata": {},
   "source": [
    "### Division"
   ]
  },
  {
   "cell_type": "markdown",
   "id": "59600ae7-0438-4108-a22c-5831dd955357",
   "metadata": {},
   "source": [
    "The division operation is complex. Python knows two different division operators the integer division `//` and the *real division* `/`. Both operators are working on integers and floats:"
   ]
  },
  {
   "cell_type": "code",
   "execution_count": null,
   "id": "a944cb44-719a-4a4e-b78d-d7b713704e4e",
   "metadata": {},
   "outputs": [],
   "source": [
    "print(3//2)      # integer division\n",
    "print(3/2)       # real division\n",
    "print(3.0//2.0)  # integer division with floats\n",
    "print(3.0/2.0)   # real division with floats\n",
    "print(-3/2)      # real divison with negative numbers\n",
    "print(-3//2)     # integer division with negative numbers"
   ]
  },
  {
   "cell_type": "markdown",
   "id": "62f222fc-a271-4238-9d55-555c647a8e51",
   "metadata": {},
   "source": [
    "The last example may be unexpected. The rule for the integer division is: take the nearest integer smaller than the result of the real division. So for `3/2` the real division is `1.5` and the nearest integer smaller `1.5` is 1. For `-3/2` the real division is `-1.5` and the nearest smaller integer is `-2`. Also important is that the type of the result is a float as long as one operand is a float too, even in the case of an *integer division*."
   ]
  },
  {
   "cell_type": "markdown",
   "id": "e1527356-a215-4ac4-a9c3-e90207a5a877",
   "metadata": {},
   "source": [
    "### Power and modulo operations"
   ]
  },
  {
   "cell_type": "markdown",
   "id": "583d04de-0286-464d-9139-1dd0d3bc9f5f",
   "metadata": {},
   "source": [
    "Python knows also a power `^` and modulo (rest) operator which may quite helpful:"
   ]
  },
  {
   "cell_type": "code",
   "execution_count": null,
   "id": "a8853277-b7bd-4a7e-8c55-27dbe980e22f",
   "metadata": {},
   "outputs": [],
   "source": [
    "print(2**2)    # 2^2 = 4 power operator\n",
    "print(2.2**2)  # power operations with floats\n",
    "print(2**0.5)  # floats as exponents are allowed, here is a different notation of sqrt(2)"
   ]
  },
  {
   "cell_type": "markdown",
   "id": "f3ba6fde-5648-4913-9912-f0e947cf7626",
   "metadata": {},
   "source": [
    "To understand the modulo operator `%`, here is the correct rule:\n",
    "```\n",
    "x % n = x - (x // n) * n\n",
    "```\n",
    "This definition is valid for positive and negative numbers (integers and floats)."
   ]
  },
  {
   "cell_type": "code",
   "execution_count": null,
   "id": "3b61e18c-833e-479d-bcbe-8b70e3354877",
   "metadata": {},
   "outputs": [],
   "source": [
    "print(4 % 3)     # rest number after divisin\n",
    "print(4.0 % 3.0) # floats\n",
    "print(-4 % -3)   # negative numbers\n",
    "print(4 % -3)    # looks weird, but have look at the definition"
   ]
  },
  {
   "cell_type": "markdown",
   "id": "3608bfb0-8621-4942-9519-93958f176a7b",
   "metadata": {},
   "source": [
    "---"
   ]
  },
  {
   "cell_type": "markdown",
   "id": "683a5b2b-63a2-47ad-a091-a7a0e7d06b5c",
   "metadata": {},
   "source": [
    "## 3. Variables and assignments"
   ]
  },
  {
   "cell_type": "markdown",
   "id": "da161d6a-2c11-4c17-a4dd-9821f4f8ef73",
   "metadata": {},
   "source": [
    "Variables can be defined at any point of a program with an valid assignment. They are not bound to types. Variables names are not allowed to start with a number or with `-,_`!"
   ]
  },
  {
   "cell_type": "code",
   "execution_count": null,
   "id": "8f643c84-b7a4-4052-9ad6-60f341ca6331",
   "metadata": {
    "tags": []
   },
   "outputs": [],
   "source": [
    "a = 2       # assign two to the variable a\n",
    "print(a)\n",
    "\n",
    "b = a       # copy the content of a into b\n",
    "print(b)\n",
    "\n",
    "a = 10      # overwrite a with 10\n",
    "print(a)\n",
    "\n",
    "a = 12.34   # overwrite with a float\n",
    "print(a)\n"
   ]
  },
  {
   "cell_type": "markdown",
   "id": "e028e23b-8d92-42e6-b6c0-0073aa8bafbf",
   "metadata": {},
   "source": [
    "### Multiple assignments:"
   ]
  },
  {
   "cell_type": "code",
   "execution_count": null,
   "id": "5037c102-9d66-4e41-a91b-23d93ed316fe",
   "metadata": {
    "tags": []
   },
   "outputs": [],
   "source": [
    "a = b = c = 1     # assign the same value to all variables\n",
    "\n",
    "print(a,b,c)\n",
    "\n",
    "# and\n",
    "\n",
    "d, e, f = 1, 2, 3 # assign 3 numbers to 3 variables\n",
    "\n",
    "print(d,e,f)"
   ]
  },
  {
   "cell_type": "markdown",
   "id": "ee9008bb-fbc4-4e11-bc22-78d0e17ad908",
   "metadata": {},
   "source": [
    "and"
   ]
  },
  {
   "cell_type": "code",
   "execution_count": null,
   "id": "3bbbbd9c-ee5c-4ec9-9660-ca59d7fe9e90",
   "metadata": {
    "tags": []
   },
   "outputs": [],
   "source": [
    "a, b = 1, 2\n",
    "\n",
    "a, b = a+b, a-b\n",
    "\n",
    "print(a,b)"
   ]
  },
  {
   "cell_type": "markdown",
   "id": "e3b8e829-72c9-4bac-a247-33b2f12b4a90",
   "metadata": {},
   "source": [
    "**Note:** Be careful, in this assignment first **all** results on the right side will be calculated and then assigned to the left side variables, which means $a$ and $b$ changes **with** the assignment not **before**."
   ]
  },
  {
   "cell_type": "markdown",
   "id": "be9afe9b-74af-4315-ae7e-752bdcd94c53",
   "metadata": {},
   "source": [
    "---"
   ]
  },
  {
   "cell_type": "markdown",
   "id": "ff939dfe-f899-4296-8850-d01552dcdcee",
   "metadata": {},
   "source": [
    "## 4. Special math operations"
   ]
  },
  {
   "cell_type": "markdown",
   "id": "c5030d14-22b7-44e3-911e-26d5d68a2b5b",
   "metadata": {},
   "source": [
    "Special math operations and constants are provided by the `numpy` module:"
   ]
  },
  {
   "cell_type": "code",
   "execution_count": null,
   "id": "01d89aa6-6a55-465c-91a8-de5268fd0ea7",
   "metadata": {
    "tags": []
   },
   "outputs": [],
   "source": [
    "import numpy # necessary\n",
    "\n",
    "print(numpy.pi)\n",
    "print(numpy.cos(60*numpy.pi/180))\n",
    "print(numpy.sqrt(2))"
   ]
  },
  {
   "cell_type": "markdown",
   "id": "7488bb9a-e483-4b59-b745-6c75fe912b45",
   "metadata": {},
   "source": [
    "**Note:** Please don't use the `math` module for math operations."
   ]
  },
  {
   "cell_type": "markdown",
   "id": "9afbbb41-22a2-4415-8583-8431e059a647",
   "metadata": {},
   "source": [
    "---"
   ]
  },
  {
   "cell_type": "markdown",
   "id": "5ce6cab7-0e21-4fed-b944-f6ef29096490",
   "metadata": {},
   "source": [
    "## 5. Operator precedence"
   ]
  },
  {
   "cell_type": "markdown",
   "id": "9f757ee7-b178-4a3e-b1c2-5051c3eff76f",
   "metadata": {},
   "source": [
    "In multi operations, operators have a precedence (most of these rules, you know from school):"
   ]
  },
  {
   "cell_type": "code",
   "execution_count": null,
   "id": "7106931f-e88b-45e0-823a-2e7cd2ba2536",
   "metadata": {
    "tags": []
   },
   "outputs": [],
   "source": [
    "a = 100\n",
    "b = 10\n",
    "c = 5\n",
    "d = 3\n",
    "\n",
    "print(a + b * c)    \n",
    "print(a // b // c) # is this (a // b) // c\n",
    "                   # or a // (b // c) ?\n",
    "\n",
    "print(a + b % d)\n",
    "\n",
    "print(2**2**3)     # (2^2)^3 = 64 or 2^(2^3)=256 ?"
   ]
  },
  {
   "cell_type": "markdown",
   "id": "ecdaf27f-f7a8-43d8-abcd-4959f89667d7",
   "metadata": {},
   "source": [
    " * the precedence rules are valid for all integers and floats\n",
    " * a complete reference you can find [here in Sec. 6.16](https://docs.python.org/3/reference/expressions.html)\n",
    " * **you can avoid problems by using parenthesis in your own programs!**"
   ]
  },
  {
   "cell_type": "markdown",
   "id": "f9e39292-0a69-4a25-a89a-e880332c3052",
   "metadata": {},
   "source": [
    "---"
   ]
  },
  {
   "cell_type": "markdown",
   "id": "fef983b4-b2f6-4eea-b671-5b2c44e774a9",
   "metadata": {},
   "source": [
    "## 6. Number accuracy"
   ]
  },
  {
   "cell_type": "markdown",
   "id": "3aa11e25-d6f4-4f39-b05c-d837a9334a44",
   "metadata": {},
   "source": [
    "In core python *Integers* are always precise:"
   ]
  },
  {
   "cell_type": "code",
   "execution_count": null,
   "id": "72446c2d-f4ce-479c-8a66-642b32a71331",
   "metadata": {
    "tags": []
   },
   "outputs": [],
   "source": [
    "print(1234**567)"
   ]
  },
  {
   "cell_type": "markdown",
   "id": "485c826e-c6fa-4216-a0ce-97b869ec038b",
   "metadata": {},
   "source": [
    "On the other hand for floats there are limitations:"
   ]
  },
  {
   "cell_type": "code",
   "execution_count": null,
   "id": "cd45ded3-14d8-4c6a-9858-48458f85f9f4",
   "metadata": {
    "tags": []
   },
   "outputs": [],
   "source": [
    "print(1234.**567.)"
   ]
  },
  {
   "cell_type": "markdown",
   "id": "b5528a8b-be0e-44e9-8eec-836d017d82c3",
   "metadata": {},
   "source": [
    "In general floats in core python are stored as double precision floats! "
   ]
  },
  {
   "cell_type": "markdown",
   "id": "e73958a8-7cab-465f-860e-bf85c4926663",
   "metadata": {},
   "source": [
    "Keep in mind, that float numerics are limited in precision:"
   ]
  },
  {
   "cell_type": "code",
   "execution_count": null,
   "id": "535c6b37-72e9-472e-9b1c-24b2df643cab",
   "metadata": {
    "tags": []
   },
   "outputs": [],
   "source": [
    "print(1e30+1.)  # large number + small number\n",
    "print(0.1*3)    # 0.1 cannot be stored exactly for calculations"
   ]
  },
  {
   "cell_type": "markdown",
   "id": "f7af53d8-4600-477a-9c37-4a6d34440310",
   "metadata": {
    "tags": []
   },
   "source": [
    "See also [Floating Point Arithmetic: Issues and Limitations](https://docs.python.org/3/tutorial/floatingpoint.html) and read especially [What every computer scientist should know about Floating-Point Arithmetic](http://www.validlab.com/goldberg/paper.pdf) if you have not yet done so!"
   ]
  },
  {
   "cell_type": "markdown",
   "id": "e351287a-2dc7-48ed-9871-cfb293e1abda",
   "metadata": {},
   "source": [
    "---"
   ]
  },
  {
   "cell_type": "markdown",
   "id": "47415757-5c3a-457c-b1aa-f106845acabe",
   "metadata": {},
   "source": [
    "## 7. Boolean type"
   ]
  },
  {
   "cell_type": "markdown",
   "id": "c0f7fcf0-cc65-40f0-a95f-cd7fb040b177",
   "metadata": {},
   "source": [
    "Another scalar type in Python is the *boolean type*, which has exactly on the values `True` and `False`. It is mostly used for `conditions` in `if` and `while` statements:"
   ]
  },
  {
   "cell_type": "code",
   "execution_count": null,
   "id": "dd04d0ba-3a96-49f5-bfb0-78113a60c786",
   "metadata": {
    "tags": []
   },
   "outputs": [],
   "source": [
    "a = True\n",
    "b = False\n",
    "c = True\n",
    "\n",
    "d = 1\n",
    "\n",
    "print(a == b )  # test bools for equality\n",
    "print(a != b )  # test bools for non equality\n",
    "print(d == 1)   # test numbers for equality\n",
    "print(d == 2)   \n",
    "print(d > 2)    # test larger\n",
    "print(d <= 2)   # smaller or equal\n",
    "\n",
    "print(a and b)  # true, if both are true\n",
    "print(a and c)  \n",
    "print(a or b)   # true if one argument is true"
   ]
  },
  {
   "cell_type": "markdown",
   "id": "fdf42888-2cd0-4cfa-9031-d84c477d9717",
   "metadata": {},
   "source": [
    "**Note:** Python `and` and `or` operators are so called *short-circuit operators* which means, that the second argument will only be evaluated if the result is not clear!"
   ]
  },
  {
   "cell_type": "markdown",
   "id": "d2a036f5-d222-4e0e-b6a2-3cc0b0af6d31",
   "metadata": {},
   "source": [
    "---"
   ]
  },
  {
   "cell_type": "markdown",
   "id": "f546c44a-bed5-4ae0-a0dc-77564efc7554",
   "metadata": {
    "tags": []
   },
   "source": [
    "## 8. types and type conversions"
   ]
  },
  {
   "cell_type": "markdown",
   "id": "bcb9bc62-d7ef-4667-9dd8-5cbdb07f656a",
   "metadata": {},
   "source": [
    "Python provides a nice operator which gives you the `type` of any object in Python, e.g. numbers, variables:"
   ]
  },
  {
   "cell_type": "code",
   "execution_count": null,
   "id": "e2180212-7d3b-4c8b-80c6-bf4b404a8dee",
   "metadata": {
    "tags": []
   },
   "outputs": [],
   "source": [
    "a = 1\n",
    "b = 12.34\n",
    "c = True\n",
    "\n",
    "print(type(1))\n",
    "print(type(a))\n",
    "print(type(b))\n",
    "print(type(c))"
   ]
  },
  {
   "cell_type": "markdown",
   "id": "9cf38142-018f-418f-94c9-332e345d7fd8",
   "metadata": {},
   "source": [
    "As you've seen, the types can change during a math operation, e.g. division or if you have one float in a integer operation chain (integers are then promoted to floats). Sometimes you want to change back to integers."
   ]
  },
  {
   "cell_type": "code",
   "execution_count": null,
   "id": "8f881364-4ea0-43c9-88b4-dea977b554fb",
   "metadata": {
    "tags": []
   },
   "outputs": [],
   "source": [
    "a = 1\n",
    "b = 2.34\n",
    "c = True\n",
    "\n",
    "print(float(a))\n",
    "print(int(b))\n",
    "print(int(c))\n",
    "\n",
    "# also\n",
    "print(int('1234'))   # conversion from a string literal"
   ]
  },
  {
   "cell_type": "code",
   "execution_count": null,
   "id": "47d3b9cc-6956-48ca-885f-b4dced990878",
   "metadata": {},
   "outputs": [],
   "source": []
  }
 ],
 "metadata": {
  "kernelspec": {
   "display_name": "Python 3",
   "language": "python",
   "name": "python3"
  },
  "language_info": {
   "codemirror_mode": {
    "name": "ipython",
    "version": 3
   },
   "file_extension": ".py",
   "mimetype": "text/x-python",
   "name": "python",
   "nbconvert_exporter": "python",
   "pygments_lexer": "ipython3",
   "version": "3.8.8"
  }
 },
 "nbformat": 4,
 "nbformat_minor": 5
}
