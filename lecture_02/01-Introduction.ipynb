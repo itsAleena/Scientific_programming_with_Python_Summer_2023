{
 "cells": [
  {
   "cell_type": "markdown",
   "id": "795e5613-6cc5-42f4-b0c4-39be1ffa8eb4",
   "metadata": {},
   "source": [
    "# Lecture 2 - April 7 2023"
   ]
  },
  {
   "cell_type": "markdown",
   "id": "ff6f06eb-59f5-4591-9aaf-392551b1d8b0",
   "metadata": {},
   "source": [
    "---\n",
    "\n",
    "**Topics of this lecture:**\n",
    "\n",
    " * Python as a programming language\n",
    " * Python scalar data types\n",
    " * Basic crontrol structures in Python\n",
    " \n",
    "----"
   ]
  },
  {
   "cell_type": "markdown",
   "id": "5cf8dd7b-713d-43a3-900e-355a5a0085a8",
   "metadata": {},
   "source": [
    "## 1. What do you learn?"
   ]
  },
  {
   "cell_type": "markdown",
   "id": "792779f2-2f87-4e1c-b8ca-e746b565ef12",
   "metadata": {},
   "source": [
    " * the most popular programming language (see [Tiobe-Index](https://www.tiobe.com/tiobe-index/))\n",
    " * algorithmic thinking\n",
    " * most common data structures and types\n",
    " * numeric calculations\n",
    " * OOP (object orientated programming)\n",
    " * writing own modules and libraries"
   ]
  },
  {
   "cell_type": "markdown",
   "id": "f52c85dc-5895-4c71-a17f-97efc3a4ab52",
   "metadata": {},
   "source": [
    "Some python specific topics:\n",
    "\n",
    " * scalar data types and basic containers\n",
    " * numpy arrays\n",
    " * control structures and loops\n",
    " * functions\n",
    " * IO functions, reading/writing of files with different formats\n",
    " * visualizations with matplotlib\n",
    " * basic classes, inheritances, ... \n",
    " * sympy, symbolic calculations\n",
    " * some tricks, e.g. and python special implementations\n",
    " * ...\n",
    " \n",
    "---"
   ]
  },
  {
   "cell_type": "markdown",
   "id": "0f2400dc-9f38-4e4c-945b-4cd86d9663c0",
   "metadata": {},
   "source": [
    "## 2. Python as a programming language"
   ]
  },
  {
   "cell_type": "markdown",
   "id": "e7a2fc25-e737-49cb-a21f-fabea00e34d2",
   "metadata": {},
   "source": [
    "Python is a scripting language; programs are written as text files, also called scripts, which will be interpreted line by line with a special program, the python interpreter. "
   ]
  },
  {
   "cell_type": "markdown",
   "id": "055f93d3-28c7-4d45-af98-f9d85b0e2df9",
   "metadata": {},
   "source": [
    "In each programming language you have this `Hello world!`-Program:"
   ]
  },
  {
   "cell_type": "code",
   "execution_count": null,
   "id": "e6a8e932-31f5-40ef-abc2-5ff9cbec9d85",
   "metadata": {
    "tags": []
   },
   "outputs": [],
   "source": [
    "%load hello_world.py"
   ]
  },
  {
   "cell_type": "markdown",
   "id": "219303d7-6eb3-4336-bd30-bd250c709d79",
   "metadata": {},
   "source": [
    "In a terminal you usally run this program with:"
   ]
  },
  {
   "cell_type": "code",
   "execution_count": null,
   "id": "1b2f667b-f68e-4b10-8b4b-e512e33bb0d8",
   "metadata": {
    "tags": []
   },
   "outputs": [],
   "source": [
    "!python3 hello_world.py"
   ]
  },
  {
   "cell_type": "markdown",
   "id": "a06007a1-38c0-4b9e-b5b2-81436e3d17bb",
   "metadata": {},
   "source": [
    "**Note**: In this course we are using Python in the version 3 (3.10.x), which should be installed on most of the modern Linux/MacOS systems. Just to be sure use `python3` and not **`python`** to call the python program!"
   ]
  },
  {
   "cell_type": "markdown",
   "id": "28fac10a-fe12-476a-8970-fd5d212a76d2",
   "metadata": {},
   "source": [
    "In the course we will mostly use Jupyter Notebooks to run Python code in code cells."
   ]
  },
  {
   "cell_type": "markdown",
   "id": "ecb50a3e-4a6f-4215-bd5c-5ef7bf62d063",
   "metadata": {},
   "source": [
    "### Comments, indentation, and error messages"
   ]
  },
  {
   "cell_type": "markdown",
   "id": "bbd1c8dc-bf04-4286-a9cc-b95eb40b0fbb",
   "metadata": {},
   "source": [
    "Just before we come to an example of a python program we need to specify some basics of the Python syntax:"
   ]
  },
  {
   "cell_type": "code",
   "execution_count": null,
   "id": "507f98bc-68d3-4971-b039-874d76974573",
   "metadata": {
    "tags": []
   },
   "outputs": [],
   "source": [
    "print('Hello world!') # one comment\n",
    "# another comment\n",
    "print('Dear students!') # a second command"
   ]
  },
  {
   "cell_type": "markdown",
   "id": "f6166474-4581-4e63-8d9f-5115038935e1",
   "metadata": {},
   "source": [
    "Wrong identation:"
   ]
  },
  {
   "cell_type": "code",
   "execution_count": null,
   "id": "b800b413-a2d9-43b0-960b-c40508d87ce6",
   "metadata": {
    "tags": []
   },
   "outputs": [],
   "source": [
    "print('Hello world!') # one comment\n",
    "# another comment\n",
    "    print('Dear students!') # a second command"
   ]
  },
  {
   "cell_type": "markdown",
   "id": "183fbb18-e80a-4d21-9281-10ebbb0fe9a8",
   "metadata": {},
   "source": [
    " * each command is in typically on one line (a `;` seperates commands, but this is not typical)\n",
    " * all commands which belongs to the same block (see if/while/functions/classes) must have the same indentation\n",
    " * comments starts with `#` all characters after the `#` will be ignored\n",
    " * empty lines are ignored"
   ]
  },
  {
   "cell_type": "markdown",
   "id": "c3824fd7-3f83-49c8-b416-5e237a76796d",
   "metadata": {
    "tags": []
   },
   "source": [
    "*Good practice*:\n",
    "\n",
    " * comments are usually written in English, simply to be able to share the code to others\n",
    " * comments are not necessary for each line, comment structures, ideas, or parts of the algorithms\n",
    " * use empty lines to build blocks of code (code is much more readable)\n",
    " * start a notebook or a script with a full description, what the code is doing, who has written the code, date, version etc."
   ]
  },
  {
   "cell_type": "markdown",
   "id": "caaa85e5-f8d9-4e2e-9350-eafeecf4ef90",
   "metadata": {},
   "source": [
    "---"
   ]
  },
  {
   "cell_type": "markdown",
   "id": "a14d15e6-8850-4877-bd97-0504ed9d67ba",
   "metadata": {},
   "source": [
    "## 3. Example of python"
   ]
  },
  {
   "cell_type": "markdown",
   "id": "4fa37eeb-1423-4297-af33-5ecc8171a918",
   "metadata": {},
   "source": [
    "Here is some example of a simulation of a moving point, which bounces at the invisible wall at $x=8$ and $x=-8$."
   ]
  },
  {
   "cell_type": "code",
   "execution_count": null,
   "id": "1230818c-23a9-4325-8701-d0d4e36b5fb4",
   "metadata": {
    "tags": []
   },
   "outputs": [],
   "source": [
    "from IPython.display import HTML\n",
    "\n",
    "from two2danim import two2danimation\n",
    "\n",
    "\n",
    "# use an animation with _one_ point\n",
    "ani = two2danimation(1)\n",
    "\n",
    "# start parameters\n",
    "x = 0\n",
    "vx = 2\n",
    "\n",
    "# start with t=0\n",
    "time = 0\n",
    "time_step = 1\n",
    "while time < 20:\n",
    "    # change the position according to the speed\n",
    "    x += vx*time_step\n",
    "    \n",
    "    # act as a wall to the left and right, change the velocity vector\n",
    "    if x >= 8:\n",
    "        vx = -vx\n",
    "    elif x <= -8:\n",
    "        vx = -vx\n",
    "        \n",
    "    # store the position\n",
    "    ani.append(time, x, 0)\n",
    "\n",
    "    # next step\n",
    "    time += time_step\n",
    "    \n",
    "    \n",
    "# create the animation\n",
    "anim = ani.animation(10)\n",
    "# show the animation\n",
    "HTML(anim.to_jshtml())"
   ]
  },
  {
   "cell_type": "markdown",
   "id": "72160205-d401-46e0-9a88-6fc62a1508e5",
   "metadata": {},
   "source": [
    "The second example is a simple enhancement of the first example, now bouncing the moving point additionally at $y=8$ and $y=-8$:"
   ]
  },
  {
   "cell_type": "code",
   "execution_count": null,
   "id": "22484070-e5ad-479e-8b2a-a3379aa0c9ba",
   "metadata": {
    "tags": []
   },
   "outputs": [],
   "source": [
    "from IPython.display import HTML\n",
    "\n",
    "from two2danim import two2danimation\n",
    "\n",
    "\n",
    "# use an animation with _one_ point\n",
    "ani = two2danimation(1)\n",
    "\n",
    "# start parameters\n",
    "x = y= 0\n",
    "vx = 2\n",
    "vy = -1\n",
    "\n",
    "# start with t=0\n",
    "time = 0\n",
    "time_step = 1\n",
    "while time < 40:\n",
    "    # change the position according to the speed\n",
    "    x += vx*time_step\n",
    "    y += vy*time_step\n",
    "    \n",
    "    # act as a wall to the left and right, change the velocity vector\n",
    "    if x >= 8:\n",
    "        vx = -vx\n",
    "    if x <= -8:\n",
    "        vx = -vx\n",
    "    \n",
    "    # act as a wall to the top and botton, change the velocity vector\n",
    "    if y >= 8:\n",
    "        vy = -vy\n",
    "    if y <= -8:\n",
    "        vy = -vy\n",
    "        \n",
    "    # store the position\n",
    "    ani.append(time, x, y)\n",
    "\n",
    "    # next step\n",
    "    time += time_step\n",
    "    \n",
    "    \n",
    "# create the animation\n",
    "anim = ani.animation(10)\n",
    "# show the animation\n",
    "HTML(anim.to_jshtml())"
   ]
  },
  {
   "cell_type": "markdown",
   "id": "cc3a836b-616b-4495-a087-960458abc144",
   "metadata": {},
   "source": [
    "----"
   ]
  },
  {
   "cell_type": "markdown",
   "id": "40796743-6e77-486a-94e2-4356a1b727f3",
   "metadata": {},
   "source": []
  }
 ],
 "metadata": {
  "kernelspec": {
   "display_name": "Python 3 (ipykernel)",
   "language": "python",
   "name": "python3"
  },
  "language_info": {
   "codemirror_mode": {
    "name": "ipython",
    "version": 3
   },
   "file_extension": ".py",
   "mimetype": "text/x-python",
   "name": "python",
   "nbconvert_exporter": "python",
   "pygments_lexer": "ipython3",
   "version": "3.10.10"
  }
 },
 "nbformat": 4,
 "nbformat_minor": 5
}
