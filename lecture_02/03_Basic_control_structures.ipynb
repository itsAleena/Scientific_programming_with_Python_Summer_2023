{
 "cells": [
  {
   "cell_type": "markdown",
   "id": "21fcc513-6997-44c1-a729-d8975c6c5b33",
   "metadata": {},
   "source": [
    "# Basic control structures in Python"
   ]
  },
  {
   "cell_type": "markdown",
   "id": "e026fb26-8ac0-4641-9cca-f71e1e395e35",
   "metadata": {},
   "source": [
    "---\n",
    "\n",
    "In this notebook we will show some basic control structures in Python: **if** and **while**\n",
    "\n",
    "---"
   ]
  },
  {
   "cell_type": "markdown",
   "id": "768c765b-9bf8-4563-85fc-9a6091a1db12",
   "metadata": {},
   "source": [
    "## 1. `if` - structure"
   ]
  },
  {
   "cell_type": "markdown",
   "id": "7076255b-7cac-420c-8fe5-f11b753d6754",
   "metadata": {
    "tags": []
   },
   "source": [
    "The basic conditional execution will be handled by `if`. The main syntax is:"
   ]
  },
  {
   "cell_type": "markdown",
   "id": "c1aadfd7-d4f2-4102-8f8d-7d65f53b1ff8",
   "metadata": {},
   "source": [
    "```Python\n",
    "if condition:\n",
    "    # block, if condition is true\n",
    "else: # optional\n",
    "    # block, if condition if false \n",
    "\n",
    "```"
   ]
  },
  {
   "cell_type": "code",
   "execution_count": null,
   "id": "642dd9cd-1c05-49ed-9bf6-df9a5fe624ca",
   "metadata": {
    "tags": []
   },
   "outputs": [],
   "source": [
    "age = 30\n",
    "\n",
    "if age >= 18:\n",
    "    print('You are allowed to vote!')\n",
    "else:\n",
    "    print('You are not allowed to vote!')"
   ]
  },
  {
   "cell_type": "markdown",
   "id": "7beaa934-d570-495d-b1d8-11eafc170259",
   "metadata": {},
   "source": [
    "**Notes:**\n",
    " * the `:` after the condition is mandatory\n",
    " * code blocks must have an additional indentation, all lines inside a block must have the same indentation\n",
    " * the `else`-block is optional\n",
    " * the condition may be complex, use parenthesises to make the condition readable"
   ]
  },
  {
   "cell_type": "markdown",
   "id": "41dbe869-d478-4519-901b-876031de88b9",
   "metadata": {},
   "source": [
    "---"
   ]
  },
  {
   "cell_type": "markdown",
   "id": "6cdda621-f149-4aeb-87d9-42c2885c603a",
   "metadata": {},
   "source": [
    "## 2. `while`-structure"
   ]
  },
  {
   "cell_type": "markdown",
   "id": "1b6119ec-db06-4942-b26b-fb30e5679f5c",
   "metadata": {},
   "source": [
    "With `while` you are able to write `loops` in Python. The main purpose is, that the loop will be executed as long as a test condition is evaluated as `True`:"
   ]
  },
  {
   "cell_type": "markdown",
   "id": "74e458a3-e1bb-42da-bb8d-2b2e8233695b",
   "metadata": {},
   "source": [
    "```Python\n",
    "# start condition(s)\n",
    "while condition:\n",
    "    # block executed\n",
    "    # mandatory, the start condition variables must be updated\n",
    "```"
   ]
  },
  {
   "cell_type": "code",
   "execution_count": null,
   "id": "aabb1f0f-5db8-429a-aa05-d8e64e1053e4",
   "metadata": {
    "tags": []
   },
   "outputs": [],
   "source": [
    "count = 0\n",
    "while count < 10:\n",
    "    print(count)\n",
    "    count = count + 1  # change the condition variables"
   ]
  },
  {
   "cell_type": "markdown",
   "id": "acd3b329-e597-4edf-9712-2f93abfbfe96",
   "metadata": {},
   "source": [
    "This is an example of a `while` loop as a counter. "
   ]
  },
  {
   "cell_type": "markdown",
   "id": "cda9ffaf-72d8-4049-b242-04fedd4ae5ca",
   "metadata": {},
   "source": [
    "For `while` loops it is important to carefully define a start condition and to update this condition in each loop run. If this condition will not change at a certain point, you will get an endless loop."
   ]
  },
  {
   "cell_type": "markdown",
   "id": "4eda7de6-54d3-4fa7-b6c4-8032491e3264",
   "metadata": {},
   "source": [
    "**Notes:**\n",
    " * similiar to `if`, don't miss the `:` after the condition\n",
    " * the block inside `while` must be indented \n",
    " * the loop can only start, if the condition is `True` in the beginning\n",
    " * the loop needs to break at a certain point, so don't forget to update the variables inside the condition expression, so that the condition can reach `False``\n",
    " * the condition may be complex as well\n",
    " * the numbers of loop runs is not defined by default, so this may depend on the structure of the condition"
   ]
  },
  {
   "cell_type": "code",
   "execution_count": null,
   "id": "df2bfb47-f00b-465e-9d6a-161f4b2fb1f2",
   "metadata": {},
   "outputs": [],
   "source": []
  }
 ],
 "metadata": {
  "kernelspec": {
   "display_name": "Python 3 (ipykernel)",
   "language": "python",
   "name": "python3"
  },
  "language_info": {
   "codemirror_mode": {
    "name": "ipython",
    "version": 3
   },
   "file_extension": ".py",
   "mimetype": "text/x-python",
   "name": "python",
   "nbconvert_exporter": "python",
   "pygments_lexer": "ipython3",
   "version": "3.10.10"
  }
 },
 "nbformat": 4,
 "nbformat_minor": 5
}
