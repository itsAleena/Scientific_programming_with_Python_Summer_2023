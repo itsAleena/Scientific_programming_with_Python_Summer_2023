{
 "cells": [
  {
   "cell_type": "markdown",
   "metadata": {},
   "source": [
    "# Review Tasks for the lecture"
   ]
  },
  {
   "cell_type": "markdown",
   "metadata": {},
   "source": [
    "Here some small tasks with that you should be able to do directly after the lecture. I strongly advise you to look at them before the exercise. It gives you the opportunity to check what you did not yet understand and to ask your tutor in the case of problems."
   ]
  },
  {
   "cell_type": "markdown",
   "metadata": {},
   "source": [
    "## Mathematical expressions"
   ]
  },
  {
   "cell_type": "markdown",
   "metadata": {},
   "source": [
    "- Calculate the expressions: $2 + 4 \\cdot 3$, $5^{5^{5}}$, $\\mathrm{e}^{-1}$\n",
    "and $\\left({49 \\atop 6}\\right)=\\frac{49!}{6! 43!}$\n",
    "\n",
    "  **Hint:** You can use the functions `numpy.exp` and `numpy.math.factorial` to obatin Eulers number and factorials respectively."
   ]
  },
  {
   "cell_type": "markdown",
   "metadata": {},
   "source": [
    "- Write down a ```Python``` expression which evaluates to ```True```\n",
    "if $1 < x \\leq 10$ and to ```False``` otherwise."
   ]
  },
  {
   "cell_type": "code",
   "execution_count": null,
   "metadata": {},
   "outputs": [],
   "source": [
    "# your solution here"
   ]
  },
  {
   "cell_type": "markdown",
   "metadata": {},
   "source": [
    "## Control Structures"
   ]
  },
  {
   "cell_type": "markdown",
   "metadata": {},
   "source": [
    "- What is the output of the print statements in the following code fragements? Answer the question before executing the codes!\n",
    "\n",
    "  ```\n",
    "  a = 1\n",
    "  i = 1\n",
    "  while i < 5:\n",
    "      i = i + 1\n",
    "      a = a + 1\n",
    "  print(i, a)    \n",
    "  ```\n",
    "  and\n",
    "  ```\n",
    "  a = 1\n",
    "  i = 1\n",
    "  while i < 5:\n",
    "      i = i + 1\n",
    "  a = a + 1\n",
    "  print(i, a)\n",
    "  ```"
   ]
  },
  {
   "cell_type": "code",
   "execution_count": null,
   "metadata": {},
   "outputs": [],
   "source": [
    "# You can try it here"
   ]
  },
  {
   "cell_type": "markdown",
   "metadata": {},
   "source": [
    "- write a Python-program to calculate $\\sum_{i=1}^{10} i^3$ with a `while`-loop and print the result.\n",
    "\n",
    "  **Hint:** The result of the expression is 3025."
   ]
  },
  {
   "cell_type": "code",
   "execution_count": null,
   "metadata": {},
   "outputs": [],
   "source": [
    "# your solution here"
   ]
  },
  {
   "cell_type": "markdown",
   "metadata": {},
   "source": [
    "- $x$ and $y$ are integer numbers. Write a python program which determines whether $x<y$, $x>y$ or $x=y$ and prints out the result!\n",
    "\n",
    "  **Hint:** Nested ```if```-statements"
   ]
  },
  {
   "cell_type": "code",
   "execution_count": null,
   "metadata": {},
   "outputs": [],
   "source": [
    "# your solution here"
   ]
  },
  {
   "cell_type": "markdown",
   "metadata": {},
   "source": [
    "- Explain in plain English, what the following program is doing"
   ]
  },
  {
   "cell_type": "code",
   "execution_count": null,
   "metadata": {},
   "outputs": [],
   "source": [
    "i = 1\n",
    "total = 0\n",
    "\n",
    "while i <= 509:\n",
    "    if i % 3 == 0 or i % 5 == 0:\n",
    "        total = total + i\n",
    "    i = i + 1\n",
    "        \n",
    "print(\"The total sum is: \", total)        "
   ]
  },
  {
   "cell_type": "markdown",
   "metadata": {},
   "source": [
    "# your solution here"
   ]
  },
  {
   "cell_type": "markdown",
   "metadata": {},
   "source": [
    "## An easy one?"
   ]
  },
  {
   "cell_type": "code",
   "execution_count": null,
   "metadata": {},
   "outputs": [],
   "source": [
    "a = 5\n",
    "b = 2"
   ]
  },
  {
   "cell_type": "markdown",
   "metadata": {},
   "source": [
    "Write code which *exchanges* the values of the variables `a` and `b`.\n",
    "\n",
    "**Hint:** This is a classic problem and each C-Programmer learns in one of his first lessons how to do it with three statements. In Python, it can be done with **one** statement!"
   ]
  },
  {
   "cell_type": "code",
   "execution_count": null,
   "metadata": {},
   "outputs": [],
   "source": [
    "# your solution hereb"
   ]
  },
  {
   "cell_type": "markdown",
   "metadata": {},
   "source": [
    "## Complex condition calculation"
   ]
  },
  {
   "cell_type": "markdown",
   "metadata": {},
   "source": [
    "In the lecture I have shown the example of a point is moving inside a box like a billiard ball:"
   ]
  },
  {
   "cell_type": "code",
   "execution_count": null,
   "metadata": {
    "tags": []
   },
   "outputs": [],
   "source": [
    "from IPython.display import HTML\n",
    "\n",
    "from two2danim import two2danimation\n",
    "\n",
    "\n",
    "# use an animation with _one_ point\n",
    "ani = two2danimation(1)\n",
    "\n",
    "# start parameters\n",
    "x = y= 0\n",
    "vx = 2\n",
    "vy = -1\n",
    "\n",
    "# start with t=0\n",
    "time = 0\n",
    "time_step = 1\n",
    "while time < 40:\n",
    "    # change the position according to the speed\n",
    "    x += vx*time_step\n",
    "    y += vy*time_step\n",
    "    \n",
    "    # act as a wall to the left and right, change the velocity vector\n",
    "    if x >= 8:\n",
    "        vx = -vx\n",
    "    if x <= -8:\n",
    "        vx = -vx\n",
    "    \n",
    "    # act as a wall to the top and botton, change the velocity vector\n",
    "    if y >= 8:\n",
    "        vy = -vy\n",
    "    if y <= -8:\n",
    "        vy = -vy\n",
    "        \n",
    "    # store the position\n",
    "    ani.append(time, x, y)\n",
    "\n",
    "    # next step\n",
    "    time += time_step\n",
    "    \n",
    "    \n",
    "# create the animation\n",
    "anim = ani.animation(10)\n",
    "# show the animation\n",
    "HTML(anim.to_jshtml())"
   ]
  },
  {
   "cell_type": "markdown",
   "metadata": {},
   "source": [
    "Unfortunately, the number of steps is hard coded in the `while` loop to `40` which is not the best way to do it. The task is, that you change the code in such a way, that the simulation stops after the point has hit a wall 6 times. This is a special condition which will change not in a single loop run, but after a while!"
   ]
  },
  {
   "cell_type": "code",
   "execution_count": null,
   "metadata": {},
   "outputs": [],
   "source": []
  }
 ],
 "metadata": {
  "kernelspec": {
   "display_name": "Python 3 (ipykernel)",
   "language": "python",
   "name": "python3"
  },
  "language_info": {
   "codemirror_mode": {
    "name": "ipython",
    "version": 3
   },
   "file_extension": ".py",
   "mimetype": "text/x-python",
   "name": "python",
   "nbconvert_exporter": "python",
   "pygments_lexer": "ipython3",
   "version": "3.10.10"
  }
 },
 "nbformat": 4,
 "nbformat_minor": 4
}
