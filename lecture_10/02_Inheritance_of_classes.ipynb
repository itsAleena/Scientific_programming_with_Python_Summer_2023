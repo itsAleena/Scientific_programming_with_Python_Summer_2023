{
 "cells": [
  {
   "cell_type": "markdown",
   "id": "803f7574-657a-4348-a672-9cfb3bd38832",
   "metadata": {},
   "source": [
    "# Inheritance of Python classes"
   ]
  },
  {
   "cell_type": "markdown",
   "id": "2dbce530-ec2f-4eb8-bdf5-36423b285c40",
   "metadata": {},
   "source": [
    "---\n",
    "\n",
    "This notebook is about the inheritance logic and method which can be applied to Python classes.\n",
    "\n",
    "---"
   ]
  },
  {
   "cell_type": "markdown",
   "id": "949568cc-7ae8-4c92-b383-df057b525857",
   "metadata": {},
   "source": [
    "## 1. Extension and modification of existing classes"
   ]
  },
  {
   "cell_type": "markdown",
   "id": "ce9f4a39-36bd-41c8-a748-ef32e9723a2d",
   "metadata": {},
   "source": [
    "When using classes there is always the wish to extend some previous classes or modify the behaviour of classes and objects. At this point you need to decide if you want to have these new features for all new created objects or if you want to have objects with the older and newer features.\n",
    "\n",
    "If you have the source code available you can simply add the modifications by adding a new method or apply some new arguments for existing methods. If you don't have the source code then this may be problematic.\n",
    "\n",
    "Assume that you want to have a homogeneous list of floats:"
   ]
  },
  {
   "cell_type": "code",
   "execution_count": 3,
   "id": "c68e6aa0-b5b6-402a-9b7a-d967536a08b4",
   "metadata": {
    "tags": []
   },
   "outputs": [
    {
     "name": "stdout",
     "output_type": "stream",
     "text": [
      "[1.0, 2.0, 3.0, 4.0]\n",
      "[1.0, 2.0, 3.0, 4.0, 10, 10.0]\n"
     ]
    }
   ],
   "source": [
    "l = [1., 2., 3., 4.]\n",
    "\n",
    "print(l)\n",
    "\n",
    "l.append(10)          # append an integer, not homogenous anymore\n",
    "\n",
    "l.append(float(10))   # use explicitly a conversion\n",
    "\n",
    "print(l)"
   ]
  },
  {
   "cell_type": "markdown",
   "id": "76b966ba-e25e-4b51-bf69-92fa4962a937",
   "metadata": {},
   "source": [
    "If you forget to convert values, you can append any types of values and the list will become inhomogeneous:"
   ]
  },
  {
   "cell_type": "code",
   "execution_count": 4,
   "id": "b5bb4eaa-f83e-4126-b662-922a36ad68c3",
   "metadata": {},
   "outputs": [
    {
     "name": "stdout",
     "output_type": "stream",
     "text": [
      "[1.0, 2.0, 3.0, 4.0, 10.0]\n"
     ]
    }
   ],
   "source": [
    "# solution of a homogeneous float list\n",
    "\n",
    "class FloatList(list):\n",
    "    def push(self, value):\n",
    "        self.append(float(value))\n",
    "        \n",
    "        \n",
    "l = FloatList([1., 2., 3., 4.])\n",
    "\n",
    "l.push(10)\n",
    "\n",
    "print(l)"
   ]
  },
  {
   "cell_type": "markdown",
   "id": "5786d559-0f89-4929-ba9c-8af7ae0e2d21",
   "metadata": {},
   "source": [
    "Now you have a new list type which is called a stack with `pushes` a value at the end and if you use `.pop()` you can also remove the last element."
   ]
  },
  {
   "cell_type": "markdown",
   "id": "e07d0f37-1ecc-4c3b-97d8-e43d96a61b76",
   "metadata": {},
   "source": [
    "---"
   ]
  },
  {
   "cell_type": "markdown",
   "id": "9ba00f9b-29c8-4b01-aae4-3fd343710414",
   "metadata": {},
   "source": [
    "## 2. Simple Inheritance of an existing class"
   ]
  },
  {
   "cell_type": "markdown",
   "id": "0ac50084-4cff-42bd-9050-3250551f497b",
   "metadata": {},
   "source": [
    "The simplest way to add an extension to an existing class is, to create a new class which is inherited from an existing class and add a new method:"
   ]
  },
  {
   "cell_type": "markdown",
   "id": "8521e5f0-83aa-4cb7-a732-d098af122c93",
   "metadata": {},
   "source": [
    "Syntax of a new **inherited**  class:\n",
    "\n",
    "```\n",
    "class NewClass(OldClass):\n",
    "   def newmethod(self,<arguments>):\n",
    "       ...\n",
    "```"
   ]
  },
  {
   "cell_type": "markdown",
   "id": "64d54f5b-d5cc-48df-8ee1-bd639ae2e9fe",
   "metadata": {},
   "source": [
    "In the new `method` you can adress all internal variables (if known) and methods with the `self` argument."
   ]
  },
  {
   "cell_type": "markdown",
   "id": "d957f199-07b8-4221-ad48-dd897e6dce1c",
   "metadata": {},
   "source": [
    "----"
   ]
  },
  {
   "cell_type": "markdown",
   "id": "bddbc3ae-5601-4929-988a-1e63be7b8e3e",
   "metadata": {},
   "source": [
    "## 3. Overwriting exiting methods of inherited classes"
   ]
  },
  {
   "cell_type": "markdown",
   "id": "9b99d144-477f-43b1-beac-9c9504399a74",
   "metadata": {},
   "source": [
    "The previous example is nice if you want to implement a stack like object in Python, but more generally when using `FloatList` you want to use `.append` with the conversion to float:"
   ]
  },
  {
   "cell_type": "markdown",
   "id": "9334b7ff-7534-4ee2-af0b-6b240297cf40",
   "metadata": {},
   "source": [
    "Naively one would write such a code:\n",
    "\n",
    "```\n",
    "class FloatList(list):\n",
    "    def append(self, value):\n",
    "        self.append(float(value))\n",
    "```\n",
    "\n",
    "Obviously inside the `append` method `self.append` will call the same function again and again. This recursion will never ends. The basic idea is to call the original `append` method from the `list` class.\n"
   ]
  },
  {
   "cell_type": "markdown",
   "id": "2713150e-f330-484a-bfdc-cd7e1da1533d",
   "metadata": {},
   "source": [
    "To call the original class method, you need to call `append` from `list` and give the `instance` `self` as an additional argument:"
   ]
  },
  {
   "cell_type": "code",
   "execution_count": 37,
   "id": "d0ffc538-f0e9-4654-a3ab-e91ac8c678cb",
   "metadata": {},
   "outputs": [
    {
     "name": "stdout",
     "output_type": "stream",
     "text": [
      "[1.0, 2.0, 3.0, 4.0, 10.0]\n"
     ]
    }
   ],
   "source": [
    "# solution with class defintion calls\n",
    "\n",
    "class FloatList(list):\n",
    "    def append(self, value):\n",
    "        list.append(self, float(value))\n",
    "        \n",
    "        \n",
    "l = FloatList([1., 2., 3., 4.])\n",
    "\n",
    "l.append(10)   # add a new value\n",
    "\n",
    "print(l)"
   ]
  },
  {
   "cell_type": "markdown",
   "id": "28bbd6f5-f96f-448f-adb7-c0b2cfe35034",
   "metadata": {},
   "source": [
    "For this case, Python provides a better solution `super()` for which you don't need to know the name of the `original` class name, if you call  the original `append` method:"
   ]
  },
  {
   "cell_type": "code",
   "execution_count": 7,
   "id": "a9c1adbe-c008-4e90-90a4-9002d541b60f",
   "metadata": {},
   "outputs": [
    {
     "name": "stdout",
     "output_type": "stream",
     "text": [
      "[1.0, 2.0, 3.0, 4.0, 10.0]\n"
     ]
    }
   ],
   "source": [
    "# solution with class defintion calls\n",
    "\n",
    "class FloatList(list):\n",
    "    def append(self, value):\n",
    "        super().append(float(value))   # using super() for calling list.append\n",
    "        \n",
    "        \n",
    "l = FloatList([1., 2., 3., 4.])\n",
    "\n",
    "l.append(10)   # add a new value\n",
    "\n",
    "print(l)"
   ]
  },
  {
   "cell_type": "markdown",
   "id": "9f6c2b32-cb18-44bd-8440-4697bca51b02",
   "metadata": {},
   "source": [
    "The last thing to make a full `FloatList` behavior is the initialization method, which should check and maybe converts values into floats:"
   ]
  },
  {
   "cell_type": "code",
   "execution_count": 12,
   "id": "37e26afd-e644-48c3-b42c-d49c18710579",
   "metadata": {},
   "outputs": [
    {
     "name": "stdout",
     "output_type": "stream",
     "text": [
      "[1.0, 2.0, 3.0, 4.0, 10.0]\n"
     ]
    }
   ],
   "source": [
    "# solution with class defintion calls\n",
    "\n",
    "class FloatList(list):\n",
    "    def __init__(self, values):        # value should be iterable\n",
    "        float_values = [float(item) for item in values]\n",
    "\n",
    "        # call the original method with the float values\n",
    "        super().__init__(float_values)  \n",
    "        \n",
    "        \n",
    "    def append(self, value):\n",
    "        super().append(float(value))   # using super() for calling list.append\n",
    "        \n",
    "        \n",
    "        \n",
    "l = FloatList([1, 2, 3, 4])            # initialize the array with a list of integers\n",
    "\n",
    "l.append(10)   # add a new value\n",
    "\n",
    "print(l)"
   ]
  },
  {
   "cell_type": "markdown",
   "id": "fd836da4-c818-47aa-8d1d-143040f0fb1b",
   "metadata": {},
   "source": [
    "Now the new class should be complete."
   ]
  },
  {
   "cell_type": "markdown",
   "id": "f96d8326-948d-4771-a843-cb1725c8fc1c",
   "metadata": {},
   "source": [
    "---"
   ]
  },
  {
   "cell_type": "markdown",
   "id": "ce000717-9cc8-4950-ac3f-1cb80877e69e",
   "metadata": {},
   "source": [
    "## 4. Another example of inheritance"
   ]
  },
  {
   "cell_type": "markdown",
   "id": "90d630ce-2699-47f0-b053-13684ce59def",
   "metadata": {},
   "source": [
    "Often as an example for object orientated programming and inheritance `Person` as a class is mentioned. "
   ]
  },
  {
   "cell_type": "markdown",
   "id": "d2cfac2e-afa9-4013-befc-ed65fa843408",
   "metadata": {},
   "source": [
    "<center>\n",
    "<img src=\"figs/person.png\" style=\"width:75%\">\n",
    "</center>"
   ]
  },
  {
   "cell_type": "markdown",
   "id": "d2bfe88c-29c7-4c86-a8f3-67a1946cefa7",
   "metadata": {},
   "source": [
    "Implementing the structure from `class` to `class`:"
   ]
  },
  {
   "cell_type": "code",
   "execution_count": 1,
   "id": "3093a194-ef1e-4ef6-a9a5-f5a4159999b9",
   "metadata": {},
   "outputs": [
    {
     "name": "stdout",
     "output_type": "stream",
     "text": [
      "Oliver Cordes\n"
     ]
    }
   ],
   "source": [
    "class Person(object):\n",
    "    def __init__(self, lastname, firstname):\n",
    "        self._lastname = lastname\n",
    "        self._firstname = firstname\n",
    "        \n",
    "    def get_name(self):\n",
    "        return f'{self._firstname} {self._lastname}'\n",
    "    \n",
    "    \n",
    "\n",
    "a = Person('Cordes', 'Oliver')\n",
    "\n",
    "print(a.get_name())\n",
    "        "
   ]
  },
  {
   "cell_type": "markdown",
   "id": "278e0646-b1c6-4955-afa9-242c2715822c",
   "metadata": {},
   "source": [
    "The method `get_name` should be modified for the inheritated classes, so that all information of the class will be provided:"
   ]
  },
  {
   "cell_type": "code",
   "execution_count": 2,
   "id": "ed3bc6d0-f59f-478f-805c-de7ced7c58ed",
   "metadata": {},
   "outputs": [
    {
     "name": "stdout",
     "output_type": "stream",
     "text": [
      "Oliver Cordes (ocordes)\n"
     ]
    }
   ],
   "source": [
    "class Student(Person):\n",
    "    def __init__(self, lastname, firstname, uniid):\n",
    "        super().__init__(lastname, firstname)\n",
    "        self._uniid = uniid\n",
    "            \n",
    "    def get_name(self):\n",
    "        return f'{super().get_name()} ({self._uniid})'\n",
    "    \n",
    "    \n",
    "b = Student('Cordes', 'Oliver', 'ocordes')\n",
    "\n",
    "print(b.get_name())"
   ]
  },
  {
   "cell_type": "markdown",
   "id": "967c2cd1-cd71-46e1-876f-6aab3f0979b4",
   "metadata": {},
   "source": [
    "and finally:"
   ]
  },
  {
   "cell_type": "code",
   "execution_count": 21,
   "id": "6d4201c0-63ef-4a52-846c-6066b8048ea3",
   "metadata": {},
   "outputs": [
    {
     "name": "stdout",
     "output_type": "stream",
     "text": [
      "Prof. Oliver Cordes\n"
     ]
    }
   ],
   "source": [
    "class Professor(Person):\n",
    "    def __init__(self, lastname, firstname, department):\n",
    "        super().__init__(lastname, firstname)\n",
    "        self._department = department\n",
    "            \n",
    "    def get_name(self):\n",
    "        return f'Prof. {super().get_name()}'\n",
    "    \n",
    "    def get_department(self):\n",
    "        return self._department\n",
    "    \n",
    "    \n",
    "c = Professor('Cordes', 'Oliver', 'AIfA')\n",
    "\n",
    "print(c.get_name())"
   ]
  },
  {
   "cell_type": "markdown",
   "id": "aa305487-4336-49c0-9722-8af334380d5b",
   "metadata": {},
   "source": [
    "One application of such a definition is, that you can now manage a list of Persons which have different `implementations`, so Professors, Students and normal Persons:"
   ]
  },
  {
   "cell_type": "code",
   "execution_count": 22,
   "id": "6255d40c-71ca-439f-bde0-101631f70d35",
   "metadata": {},
   "outputs": [
    {
     "name": "stdout",
     "output_type": "stream",
     "text": [
      "Prof. Oliver Cordes\n",
      "Prof. Thomas Erben\n",
      "Hu Go (hugo)\n",
      "Ber Ta (berta)\n",
      "Ma Cho\n",
      "Dum My\n",
      "\n",
      "Students:\n",
      "Hu Go (hugo)\n",
      "Ber Ta (berta)\n",
      "\n",
      "Professors:\n",
      "Prof. Oliver Cordes\n",
      "AIfA\n",
      "Prof. Thomas Erben\n",
      "AIfA\n",
      "\n",
      "6\n"
     ]
    }
   ],
   "source": [
    "persons = []\n",
    "\n",
    "# create a list of mixed persons\n",
    "persons.append(Professor('Cordes', 'Oliver', 'AIfA'))\n",
    "persons.append(Professor('Erben', 'Thomas', 'AIfA'))\n",
    "persons.append(Student('Go', 'Hu', 'hugo'))\n",
    "persons.append(Student('Ta', 'Ber', 'berta'))\n",
    "persons.append(Person('Cho', 'Ma' ))\n",
    "persons.append(Person('My', 'Dum'))\n",
    "               \n",
    "# because they share all the same method get_name\n",
    "for p in persons:\n",
    "    print(p.get_name())\n",
    "    \n",
    "print()\n",
    "\n",
    "# select the students\n",
    "students = [p for p in persons if isinstance(p, Student)]\n",
    "\n",
    "print('Students:')\n",
    "for p in students:\n",
    "    print(p.get_name())\n",
    "\n",
    "print()\n",
    "\n",
    "    \n",
    "# select the professors only\n",
    "profs = [p for p in persons if isinstance(p, Professor)]\n",
    "\n",
    "print('Professors:')\n",
    "for p in profs:\n",
    "    print(p.get_name())\n",
    "    print(p.get_department())  # only available for professors\n",
    "print()\n",
    "\n",
    "    \n",
    "# select all persons ...\n",
    "all = [p for p in persons if isinstance(p, Person)]\n",
    "print(len(all))     # of course all are persons!"
   ]
  },
  {
   "cell_type": "markdown",
   "id": "d2c36676-7b41-4cc1-8946-2e0523791ffb",
   "metadata": {},
   "source": [
    "**Note**: In this small program we call a method, which is available in the base class and all inherited classes. In C/C++ you need to implement these methods as `virtual`, because usually you need to define exactly during compile time, which class will be called. The `virtual` will help the compiler to call the correct method for each `instance`. Python as a `realtime`  interpreter know directly from the `instance` which method will be called!"
   ]
  },
  {
   "cell_type": "markdown",
   "id": "92899da5-5c91-439d-b89b-46e7e2b12d0e",
   "metadata": {},
   "source": [
    "Interestingly for some tests, it is necessary to check the type of an instance. If you need e.g. only the methods or attributes of the original base class, you can check for the base class only or you check for the inheritated classes, if you need special methods!"
   ]
  },
  {
   "cell_type": "code",
   "execution_count": 15,
   "id": "d438dfe7-e855-4f69-9db8-8aa1dd4b1143",
   "metadata": {},
   "outputs": [
    {
     "name": "stdout",
     "output_type": "stream",
     "text": [
      "<class '__main__.Professor'>\n",
      "True\n",
      "True\n",
      "False\n",
      "False\n"
     ]
    }
   ],
   "source": [
    "c = Professor('Cordes', 'Oliver', 'AIfA')\n",
    "\n",
    "print(type(c))\n",
    "\n",
    "print(isinstance(c, Professor))   # yes\n",
    "print(isinstance(c, Person))      # also yes!\n",
    "print(isinstance(c, Student))     # obviously no\n",
    "\n",
    "# but\n",
    "print(type(c) == Person)"
   ]
  },
  {
   "cell_type": "markdown",
   "id": "2bf755f5-34bf-46f0-a01f-6a0696eed864",
   "metadata": {},
   "source": [
    "---"
   ]
  },
  {
   "cell_type": "markdown",
   "id": "02894da2-483d-4071-b9ab-edb18441f7cb",
   "metadata": {},
   "source": [
    "## 5. Cross inheritance"
   ]
  },
  {
   "cell_type": "markdown",
   "id": "36c8b35b-ec64-449c-b0ea-a4a389a047bd",
   "metadata": {},
   "source": [
    "Similar to other object orientated programming languages, Python allows also the inheritance of multiple base classes. For our `Persons` example, we can define a special class, which handles all university courses and the credit points:"
   ]
  },
  {
   "cell_type": "code",
   "execution_count": 25,
   "id": "0078fea9-cadf-4af1-9304-4c5a5e0c89db",
   "metadata": {},
   "outputs": [
    {
     "name": "stdout",
     "output_type": "stream",
     "text": [
      "  physics725: 6\n",
      "  astro852: 0\n",
      "\n"
     ]
    }
   ],
   "source": [
    "class Courses(object):\n",
    "    def __init__(self, courses):\n",
    "        self._courses = { c:0 for c in courses}\n",
    "        \n",
    "    def set_credit_points(self, name, cp):\n",
    "        if name in self._courses:\n",
    "            self._courses[name] = cp\n",
    "            \n",
    "    def __str__(self):\n",
    "        s = ''\n",
    "        for c in self._courses:\n",
    "            s += f'  {c}: {self._courses[c]}\\n'\n",
    "        return s\n",
    "            \n",
    "c = Courses(['physics725', 'astro852'])\n",
    "\n",
    "c.set_credit_points('physics725', 6)\n",
    "\n",
    "print(c)"
   ]
  },
  {
   "cell_type": "markdown",
   "id": "2ae7113b-042b-469f-be4e-d6e8208dc2be",
   "metadata": {},
   "source": [
    "So now we want to define a new `Student` class which contains not only the `uniid` but also the complex `Courses` system:"
   ]
  },
  {
   "cell_type": "code",
   "execution_count": 41,
   "id": "a93b5e92-6c30-4df8-b399-935ecf154b85",
   "metadata": {},
   "outputs": [
    {
     "name": "stdout",
     "output_type": "stream",
     "text": [
      "Hu Go (hugo)\n",
      "  physics725: 6\n",
      "  astro852: 0\n",
      "\n"
     ]
    }
   ],
   "source": [
    "class Student(Person, Courses):\n",
    "    def __init__(self, lastname, firstname, uniid, courses):\n",
    "        Person.__init__(self, lastname, firstname)\n",
    "        Courses.__init__(self, courses)\n",
    "        self._uniid = uniid\n",
    "            \n",
    "    def get_name(self):\n",
    "        return f'{super().get_name()} ({self._uniid})'\n",
    "    \n",
    "    def __str__(self):\n",
    "        return f'{self.get_name()}\\n{Courses.__str__(self)}'\n",
    "    \n",
    "    \n",
    "d = Student('Go', 'Hu', 'hugo', ['physics725', 'astro852'])\n",
    "d.set_credit_points('physics725', 6)\n",
    "\n",
    "print(d)"
   ]
  },
  {
   "cell_type": "markdown",
   "id": "3e7511d3-dd94-44a4-b2f4-fe548aad09ae",
   "metadata": {},
   "source": [
    "**Important:** The previously defined `super()`-Function is not working in this case. As far as I can tell, `super()` will call all methods for all base classes, but always with the same argument list. The definition of the methods may be different! In such a case the base class needs to be called directly!"
   ]
  },
  {
   "cell_type": "markdown",
   "id": "613348b5-4607-410a-811e-7dba12eb8518",
   "metadata": {},
   "source": [
    "Problematic of the Cross inheritance is `compability`. Assume two different class definitions:"
   ]
  },
  {
   "cell_type": "code",
   "execution_count": 42,
   "id": "79af9f9e-8e43-4366-ba16-8c1a57925c82",
   "metadata": {},
   "outputs": [
    {
     "name": "stdout",
     "output_type": "stream",
     "text": [
      "B\n"
     ]
    }
   ],
   "source": [
    "class ClassA(object):\n",
    "    def __init__(self, A):\n",
    "        self._property = A\n",
    "        \n",
    "        \n",
    "class ClassB(object):\n",
    "    def __init__(self, B):\n",
    "        self._property = B\n",
    "        \n",
    "        \n",
    "class ClassMix(ClassA, ClassB):\n",
    "    def __init__(self, A, B):\n",
    "        ClassA.__init__(self, A)\n",
    "        ClassB.__init__(self, B)\n",
    "                        \n",
    "    def __str__(self):\n",
    "        return self._property\n",
    "                        \n",
    "                        \n",
    "c = ClassMix('A', 'B')\n",
    "                        \n",
    "print(c)\n",
    "    "
   ]
  },
  {
   "cell_type": "markdown",
   "id": "4c234b2b-9053-49ab-81e8-78508ec870ca",
   "metadata": {},
   "source": [
    "`ClassA` and `ClassB` are working perfectly if used independent of each other. When combining both classes there is the risk, that e.g. two properties can influence each other. \n",
    "\n",
    "**Note**: Before you combine two classes, check that all properties of the individual classes are not overlapping. In general it is the same problem when new classes are defined as inherited classes. \n",
    "\n",
    "One solution would be not to inherit many base classes but include special instances as properties:"
   ]
  },
  {
   "cell_type": "code",
   "execution_count": 43,
   "id": "9cbc298b-38a3-40e6-8c08-2db16e0c80b1",
   "metadata": {},
   "outputs": [
    {
     "name": "stdout",
     "output_type": "stream",
     "text": [
      "A B\n"
     ]
    }
   ],
   "source": [
    "class ClassA(object):\n",
    "    def __init__(self, A):\n",
    "        self._property = A\n",
    "        \n",
    "        \n",
    "class ClassB(object):\n",
    "    def __init__(self, B):\n",
    "        self._property = B\n",
    "        \n",
    "        \n",
    "class ClassMix(ClassA, ClassB):\n",
    "    def __init__(self, A, B):\n",
    "        self._A = ClassA(A)\n",
    "        self._B = ClassB(B)\n",
    "\n",
    "                        \n",
    "    def __str__(self):\n",
    "        return f'{self._A._property} {self._B._property}'\n",
    "                        \n",
    "                        \n",
    "c = ClassMix('A', 'B')\n",
    "                        \n",
    "print(c)"
   ]
  },
  {
   "cell_type": "markdown",
   "id": "5a98013a-ef99-4d3f-9a8a-a8e25654ec04",
   "metadata": {},
   "source": [
    "---"
   ]
  },
  {
   "cell_type": "markdown",
   "id": "256f9463-b5b0-4443-97bc-42fc24950ab6",
   "metadata": {},
   "source": [
    "## 6. Summary for inheritance"
   ]
  },
  {
   "cell_type": "markdown",
   "id": "18bb3052-03ee-4ef4-a556-1a3896c90bdd",
   "metadata": {},
   "source": [
    " * you can overwrite any method directly\n",
    " * use `super()` if you want to call a method from the original class\n",
    " * Python don't know about `virtual` methods, since it uses an interpreter always the correct method will be called\n",
    " * you can inherit from multiple base classes, `super()` is not working properly, use base class definitions\n",
    " * keep an eye on previously defined properties and methods that the inheritance not influence the classes (e.g. double used properties)"
   ]
  },
  {
   "cell_type": "code",
   "execution_count": null,
   "id": "5c1b3ce4-fe2a-422f-9944-d5273e108a61",
   "metadata": {},
   "outputs": [],
   "source": []
  }
 ],
 "metadata": {
  "kernelspec": {
   "display_name": "Python 3 (ipykernel)",
   "language": "python",
   "name": "python3"
  },
  "language_info": {
   "codemirror_mode": {
    "name": "ipython",
    "version": 3
   },
   "file_extension": ".py",
   "mimetype": "text/x-python",
   "name": "python",
   "nbconvert_exporter": "python",
   "pygments_lexer": "ipython3",
   "version": "3.9.10"
  }
 },
 "nbformat": 4,
 "nbformat_minor": 5
}
