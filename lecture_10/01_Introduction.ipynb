{
 "cells": [
  {
   "cell_type": "markdown",
   "id": "af55b9f6-74b2-4a73-9731-219f8182fcd8",
   "metadata": {
    "tags": []
   },
   "source": [
    "# Lecture 10 - June 16th 2023"
   ]
  },
  {
   "cell_type": "markdown",
   "id": "922f41cf-b237-4b5d-b185-5fe45ed598f7",
   "metadata": {},
   "source": [
    "---\n",
    "\n",
    "**Topics of this lecture:**\n",
    "\n",
    " * `inheritances` in Python `classes`\n",
    " \n",
    "----"
   ]
  },
  {
   "cell_type": "markdown",
   "id": "65df1db5-a59f-49a3-a347-26ba937b0059",
   "metadata": {},
   "source": [
    "## Project/Homework submissions"
   ]
  },
  {
   "cell_type": "markdown",
   "id": "c0cca054-cf4f-4aa0-a2bc-c4ed9b341402",
   "metadata": {},
   "source": [
    " * if the project/homework relay on additional files, **do not change the filenames or modify the files**\n",
    " * don't change the filepath to the additional files in your submissions, otherwise we cannot run your solution!\n",
    " * if you work on your own devices, before submission, test your solution on our Jupyterhub-Online-System. If the code is not running in this enviroment, we cannot grade your solution with good marks!\n",
    " * we strongly recommend to work __only__ in the Jupyterhub-Online-System, because these systems provides all necessary modules with the correct versions; self maintained systems can produce unwanted side effects and errors!\n",
    " * for projects: please create individual plots if there aren't other specific requirements in the task descriptions; these plots should be readable if the notebook is converted to A4 paper PDFs when inspected for grading (you can check the output, when selecting `File->Save and Export Notebooks as->PDF` menu)\n",
    " * please have a look at the [coding style presentation](coding_style.pdf) to write better code!"
   ]
  },
  {
   "cell_type": "markdown",
   "id": "0a0a0a0f-db05-4458-a900-2d9e9a95413f",
   "metadata": {},
   "source": [
    "---"
   ]
  },
  {
   "cell_type": "markdown",
   "id": "adc4e4eb-a72b-4201-88b4-1b44c5bebfb4",
   "metadata": {},
   "source": [
    "## Slow `numpy` codes"
   ]
  },
  {
   "cell_type": "markdown",
   "id": "9209aea7-8857-49e6-b108-ac60baae3a78",
   "metadata": {},
   "source": [
    "As seen again in the submitted projects for project2, the usage of `np.append`. "
   ]
  },
  {
   "cell_type": "markdown",
   "id": "7fec5c15-5be7-4c88-b517-f470783582c5",
   "metadata": {},
   "source": [
    "`np.append` is mimiking a Python `list` feature with `numpy` which is quite slow. "
   ]
  },
  {
   "cell_type": "markdown",
   "id": "0a96a172-7fc1-4d98-a0df-472fbc2380d2",
   "metadata": {},
   "source": [
    "`np.append`:"
   ]
  },
  {
   "cell_type": "code",
   "execution_count": 3,
   "id": "4e9d08ec-8535-4ddc-87e5-53a37b4203cf",
   "metadata": {},
   "outputs": [
    {
     "name": "stdout",
     "output_type": "stream",
     "text": [
      "5.98 ms ± 113 µs per loop (mean ± std. dev. of 7 runs, 100 loops each)\n"
     ]
    }
   ],
   "source": [
    "%%timeit \n",
    "\n",
    "import numpy as np\n",
    "\n",
    "num = 1000\n",
    "a = np.array([])\n",
    "\n",
    "for x in range(num):\n",
    "    a = np.append(a, x)"
   ]
  },
  {
   "cell_type": "markdown",
   "id": "4c4c3896-8cf6-4c10-b1cf-7c4c437016fa",
   "metadata": {},
   "source": [
    "`np.zero`:"
   ]
  },
  {
   "cell_type": "code",
   "execution_count": 2,
   "id": "5bfb04a1-8e56-4dde-bf34-1094a79bf955",
   "metadata": {},
   "outputs": [
    {
     "name": "stdout",
     "output_type": "stream",
     "text": [
      "158 µs ± 1.67 µs per loop (mean ± std. dev. of 7 runs, 10000 loops each)\n"
     ]
    }
   ],
   "source": [
    "%%timeit \n",
    "\n",
    "import numpy as np\n",
    "\n",
    "num = 1000\n",
    "a = np.zeros(num)\n",
    "\n",
    "for i, x in enumerate(range(num)):\n",
    "    a[i] = x"
   ]
  },
  {
   "cell_type": "code",
   "execution_count": null,
   "id": "b7c4cd09-318f-4dc7-8361-d11e862a6c3a",
   "metadata": {},
   "outputs": [],
   "source": []
  }
 ],
 "metadata": {
  "kernelspec": {
   "display_name": "Python 3 (ipykernel)",
   "language": "python",
   "name": "python3"
  },
  "language_info": {
   "codemirror_mode": {
    "name": "ipython",
    "version": 3
   },
   "file_extension": ".py",
   "mimetype": "text/x-python",
   "name": "python",
   "nbconvert_exporter": "python",
   "pygments_lexer": "ipython3",
   "version": "3.9.10"
  }
 },
 "nbformat": 4,
 "nbformat_minor": 5
}
