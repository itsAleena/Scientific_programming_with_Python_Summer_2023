{
 "cells": [
  {
   "cell_type": "markdown",
   "id": "7e60a016-378d-4897-9ea3-9d015daaca0c",
   "metadata": {
    "tags": []
   },
   "source": [
    "# Review Tasks for the lecture"
   ]
  },
  {
   "cell_type": "markdown",
   "id": "c6b790d6-8574-49e4-9659-0c9f572918fd",
   "metadata": {},
   "source": [
    "Here some small tasks with that you should be able to do directly after the lecture. I strongly advise you to look at them before the exercise. It gives you the opportunity to check what you did not yet understand and to ask your tutor in the case of problems."
   ]
  },
  {
   "cell_type": "markdown",
   "id": "31d47086-4c13-4fa8-9dae-b50f0bd1ea6e",
   "metadata": {},
   "source": [
    "**Please try to answer the following questions before executing any code. Do this only to verify your answers and use appropriate help-utilities if you are uncertain! For each problem you should be able to explain WHY you obtain a certain result!**"
   ]
  },
  {
   "cell_type": "markdown",
   "id": "2a6f1d04-3445-478c-80af-09a6a39d38b6",
   "metadata": {},
   "source": [
    "## Inheritance of classes"
   ]
  },
  {
   "cell_type": "markdown",
   "id": "dfab0c0c-e675-4350-836a-f1ab74078517",
   "metadata": {},
   "source": [
    "A perfect task for implementing a new inherited class is to convert the `FList` class from the last lecture into a class like this:"
   ]
  },
  {
   "cell_type": "code",
   "execution_count": 1,
   "id": "e31e0d93-5258-4f33-b24e-98a6d4efe53f",
   "metadata": {},
   "outputs": [],
   "source": [
    "class FList(list):\n",
    "    pass\n",
    "    # add your methods here"
   ]
  },
  {
   "cell_type": "markdown",
   "id": "1a17a69a-5119-4ffe-883c-9a302c0662c0",
   "metadata": {},
   "source": [
    "**Hints:** You need to walk through all defined methods of my `FList` (see [fancylists.py](fancylists.py)) implementation. Some of the methods are not necessary anymore."
   ]
  },
  {
   "cell_type": "code",
   "execution_count": null,
   "id": "f0a6a72d-0516-4501-802b-9745b060b9c4",
   "metadata": {},
   "outputs": [],
   "source": []
  }
 ],
 "metadata": {
  "kernelspec": {
   "display_name": "Python 3 (ipykernel)",
   "language": "python",
   "name": "python3"
  },
  "language_info": {
   "codemirror_mode": {
    "name": "ipython",
    "version": 3
   },
   "file_extension": ".py",
   "mimetype": "text/x-python",
   "name": "python",
   "nbconvert_exporter": "python",
   "pygments_lexer": "ipython3",
   "version": "3.9.10"
  }
 },
 "nbformat": 4,
 "nbformat_minor": 5
}
