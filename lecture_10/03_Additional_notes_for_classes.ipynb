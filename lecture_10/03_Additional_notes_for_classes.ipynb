{
 "cells": [
  {
   "cell_type": "markdown",
   "id": "24ce80d2-d812-45b8-87d5-4235cdc79f92",
   "metadata": {},
   "source": [
    "# Additional notes for classes"
   ]
  },
  {
   "cell_type": "markdown",
   "id": "46cbcc77-eab2-4305-b052-742908e2dbe3",
   "metadata": {},
   "source": [
    "---\n",
    "\n",
    "This notebook is about additional notes for classes.\n",
    "\n",
    "---"
   ]
  },
  {
   "cell_type": "markdown",
   "id": "dce42406-beb1-4ec0-88a3-d499e7910be4",
   "metadata": {},
   "source": [
    "If you have experiences with classes from C++ you know that the calling process if normal C functions and C++ methods differ. Calling C++ methods have additional code to allow the access to the class properties. This is somehow problematic if you want to use functions in combination as arguments."
   ]
  },
  {
   "cell_type": "markdown",
   "id": "45dc14be-1fa9-45ac-a044-1106091bd0f1",
   "metadata": {},
   "source": [
    "This is an example with `numpy`, `matplotlib` and `scipy` to fit a model curve to some noisy data:"
   ]
  },
  {
   "cell_type": "code",
   "execution_count": null,
   "id": "9cbc2f54-4760-484e-896d-9cb0957158fd",
   "metadata": {},
   "outputs": [],
   "source": [
    "import numpy as np\n",
    "import matplotlib.pyplot as plt\n",
    "from scipy.optimize import curve_fit\n",
    "\n",
    "\n",
    "# model function\n",
    "def model(x, a, b, c):\n",
    "    return a * np.exp(-b * x) + c\n",
    "\n",
    "\n",
    "# setup of the data\n",
    "x_data = np.linspace(0, 4, 50)\n",
    "y = model(x_data, 2.5, 1.3, 0.5)                # direct call\n",
    "rng = np.random.default_rng()\n",
    "y_noise = 0.2 * rng.normal(size=x_data.size)\n",
    "y_data = y + y_noise\n",
    "\n",
    "\n",
    "# create a plot\n",
    "fig, ax = plt.subplots()\n",
    "\n",
    "ax.plot(x_data, y_data, 'b-', label='data')\n",
    "\n",
    "# fit the model\n",
    "popt, pcov = curve_fit(func, x_data, y_data)   # func as an argument for curve_fit\n",
    "\n",
    "ax.plot(x_data, model(x_data, *popt), 'r-',     # direct call again\n",
    "         label='fit: a=%5.3f, b=%5.3f, c=%5.3f' % tuple(popt))"
   ]
  },
  {
   "cell_type": "markdown",
   "id": "99cf3766-10b0-419c-9468-ddf667584428",
   "metadata": {},
   "source": [
    "With normal Python functions this looks similar to what you may know from C or other languages."
   ]
  },
  {
   "cell_type": "markdown",
   "id": "5ea1376f-18d7-4b3f-b165-796e79da0c0b",
   "metadata": {},
   "source": [
    "It is also possible and this is a nice option to convert the functions and variables into `classes`:"
   ]
  },
  {
   "cell_type": "code",
   "execution_count": null,
   "id": "df55ab04-8d3d-492a-b63c-08811a39d8f3",
   "metadata": {},
   "outputs": [],
   "source": [
    "import numpy as np\n",
    "import matplotlib.pyplot as plt\n",
    "from scipy.optimize import curve_fit\n",
    "\n",
    "\n",
    "class DemoData(object):\n",
    "    def __init__(self):\n",
    "        self.x_data = np.linspace(0, 4, 50)\n",
    "        y = self.model(x_data, 2.5, 1.3, 0.5)                # direct call\n",
    "        rng = np.random.default_rng()\n",
    "        y_noise = 0.2 * rng.normal(size=x_data.size)\n",
    "        self.y_data = y + y_noise\n",
    "    \n",
    "    def xdata(self):\n",
    "        return self.x_data\n",
    "    \n",
    "    def ydata(self):\n",
    "        return self.y_data\n",
    "    \n",
    "    def model(self, x, a, b, c):\n",
    "        return a * np.exp(-b * x) + c\n",
    "    \n",
    "    \n",
    "    def dofit(self):\n",
    "        popt, pcov = curve_fit(self.model, self.x_data, self.y_data) # indirect call\n",
    "        return popt, pcov\n",
    "\n",
    "        \n",
    "d = DemoData()\n",
    "popt, pcov = d.dofit()\n",
    "\n",
    "\n",
    "        \n",
    "# create a plot\n",
    "fig, ax = plt.subplots()\n",
    "\n",
    "ax.plot(d.xdata(), d.ydata(), 'b-', label='data')\n",
    "\n",
    "ax.plot(d.xdata(), d.model(d.xdata(), *popt), 'r-',     # direct call again\n",
    "         label='fit: a=%5.3f, b=%5.3f, c=%5.3f' % tuple(popt))        \n",
    "        "
   ]
  },
  {
   "cell_type": "markdown",
   "id": "22a06ff4-815b-4742-aee9-299b9e7700df",
   "metadata": {},
   "source": [
    "This is probably not the best implementation but this solution has also some advantages:\n",
    "\n",
    " * if you want to modify the model, you can simply create a new class which inherits the base class `DemoData`,\n",
    " * a class can be bound directly to some data contents from files "
   ]
  },
  {
   "cell_type": "markdown",
   "id": "ab3d289b-5fda-48fe-bd72-c6cfc35ff9d7",
   "metadata": {},
   "source": [
    "---"
   ]
  },
  {
   "cell_type": "markdown",
   "id": "3a968929-0689-4d9f-a66a-98281d716770",
   "metadata": {},
   "source": [
    "Another example is from lecture 02:"
   ]
  },
  {
   "cell_type": "code",
   "execution_count": null,
   "id": "c841f77d-6ff8-4285-938f-57da65bfbd85",
   "metadata": {
    "tags": []
   },
   "outputs": [],
   "source": [
    "from IPython.display import HTML\n",
    "\n",
    "from two2danim import two2danimation\n",
    "\n",
    "\n",
    "# use an animation with _one_ point\n",
    "ani = two2danimation(1)\n",
    "\n",
    "# start parameters\n",
    "x = y= 0\n",
    "vx = 2\n",
    "vy = -1\n",
    "\n",
    "# start with t=0\n",
    "time = 0\n",
    "time_step = 1\n",
    "while time < 40:\n",
    "    # change the position according to the speed\n",
    "    x += vx*time_step\n",
    "    y += vy*time_step\n",
    "    \n",
    "    # act as a wall to the left and right, change the velocity vector\n",
    "    if x >= 8:\n",
    "        vx = -vx\n",
    "    if x <= -8:\n",
    "        vx = -vx\n",
    "    \n",
    "    # act as a wall to the top and botton, change the velocity vector\n",
    "    if y >= 8:\n",
    "        vy = -vy\n",
    "    if y <= -8:\n",
    "        vy = -vy\n",
    "        \n",
    "    # store the position\n",
    "    ani.append(time, x, y)\n",
    "\n",
    "    # next step\n",
    "    time += time_step\n",
    "    \n",
    "    \n",
    "# create the animation\n",
    "anim = ani.animation(10)\n",
    "# show the animation\n",
    "HTML(anim.to_jshtml())"
   ]
  },
  {
   "cell_type": "markdown",
   "id": "95ca296a-f3dd-4b84-b899-55a9358b4420",
   "metadata": {},
   "source": [
    "Here is the complete animation logic also implemented in a class. Have a view at [two2danim.py](two2danim.py)."
   ]
  },
  {
   "cell_type": "code",
   "execution_count": null,
   "id": "211d4fd1-b458-4339-bd4a-08e9096016e3",
   "metadata": {},
   "outputs": [],
   "source": []
  }
 ],
 "metadata": {
  "kernelspec": {
   "display_name": "Python 3 (ipykernel)",
   "language": "python",
   "name": "python3"
  },
  "language_info": {
   "codemirror_mode": {
    "name": "ipython",
    "version": 3
   },
   "file_extension": ".py",
   "mimetype": "text/x-python",
   "name": "python",
   "nbconvert_exporter": "python",
   "pygments_lexer": "ipython3",
   "version": "3.10.11"
  }
 },
 "nbformat": 4,
 "nbformat_minor": 5
}
