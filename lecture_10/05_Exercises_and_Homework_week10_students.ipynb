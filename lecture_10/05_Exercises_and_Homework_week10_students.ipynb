{
 "cells": [
  {
   "cell_type": "markdown",
   "id": "ad1921c4-f586-405a-b12c-a00f0a93acb3",
   "metadata": {
    "nbgrader": {
     "grade": false,
     "grade_id": "cell-515e01b25bda86a9",
     "locked": true,
     "schema_version": 3,
     "solution": false,
     "task": false
    }
   },
   "source": [
    "# Exercises and Homework for week 10"
   ]
  },
  {
   "cell_type": "markdown",
   "id": "b895ad84-bb8f-46ac-8757-1c783e9aed80",
   "metadata": {
    "nbgrader": {
     "grade": false,
     "grade_id": "cell-14ca577e70096fbf",
     "locked": true,
     "schema_version": 3,
     "solution": false,
     "task": false
    }
   },
   "source": [
    "## physics725: Scientific Programming with Python (SS 2023)\n",
    "\n",
    "Oliver Cordes & Thomas Erben\n",
    "\n",
    "---"
   ]
  },
  {
   "cell_type": "markdown",
   "id": "c56f1baa-51f8-4f55-bc7a-205299e425bd",
   "metadata": {
    "nbgrader": {
     "grade": false,
     "grade_id": "cell-58e8949e2e41603c",
     "locked": true,
     "schema_version": 3,
     "solution": false,
     "task": false
    }
   },
   "source": [
    "Homework is due on **Thursday, 29/06/2023, 11:55pm**\n",
    "\n",
    " * You only learn a programming language by actively praticing and using it! We therefore **strongly** advise you to work on the homework problems.\n",
    " * Please discuss the problems with your student peers and with your tutor.\n",
    " * Your code(s) need(s) to be well and appropriately commented!\n",
    " * Submit this notebook and, if necessary, additional files in a `tar`-archive with name `Homework_10_group_XX.tgz` (replace `XX` with your group number) to your tutor (in this exercise the notebook, `rpn_sim.py` and `rpn_test.py`!)\n",
    "\n",
    "**Topics of this exercise:**\n",
    " * Creation of classes"
   ]
  },
  {
   "cell_type": "markdown",
   "id": "9ead84dd-3ab3-4621-af6a-28af721ba03f",
   "metadata": {},
   "source": [
    "**Your group number here please:**  Group XX"
   ]
  },
  {
   "cell_type": "markdown",
   "id": "0c337c82-0ac4-4981-adec-aec90dbc0441",
   "metadata": {},
   "source": [
    "## 1. Lecture Review (0 points)"
   ]
  },
  {
   "cell_type": "markdown",
   "id": "afd69775-ea13-407d-9b95-6de94808bfe7",
   "metadata": {},
   "source": [
    "If you did the lecture review questions [04_Review_questions.ipynb](04_Review_questions.ipynb) (strongly recommended!): \n",
    "Please discuss with your tutor and your group any issues/problems you had with them.\n",
    "\n",
    "---"
   ]
  },
  {
   "cell_type": "markdown",
   "id": "a0001d28-3aef-42a8-84b2-a827656509fc",
   "metadata": {},
   "source": [
    "## 2. Reverse polish notation simulator (30=0+15+5+10 points)"
   ]
  },
  {
   "cell_type": "markdown",
   "id": "5a5127b4-0e9d-4d1c-8987-6ec8b58ea81b",
   "metadata": {},
   "source": [
    "Reverse Polish notation (RPN), also known as reverse Łukasiewicz notation, Polish postfix notation or simply postfix notation, is a mathematical notation in which operators follow their operands. The advantage is that this notation did not use any parenthesises and precedence as long as an operation has a fixed length of operands.\n",
    "\n",
    "```\n",
    " 3 + 4 * 5  -> \"3 4 5 * +\" = 23\n",
    "```"
   ]
  },
  {
   "cell_type": "markdown",
   "id": "655449da-a6d8-45b1-9b8a-9f04645ec396",
   "metadata": {},
   "source": [
    "For the left to right evaluation of a RPN expression the concept of a stack is integral. "
   ]
  },
  {
   "cell_type": "markdown",
   "id": "960a9aee-4b31-4d62-bc2a-ead211131eb5",
   "metadata": {},
   "source": [
    "A stack has in principle exact two functions (methods) `push` and `pop`. `push` puts an element always on top of the existing stack whereas `pop` removes the top elemement. If no element exists in a stack `pop` should return an error.\n",
    "\n",
    "<center>\n",
    "<img src=\"figs/stack.png\" style=\"width:50%;\" />\n",
    "</center>\n",
    "\n",
    "This is an example where a push operation with the value `5` is executed on an existing stack with elements `3` and `4`. Two consecutive pop operations will first release `5` and then `4` which was the top element after the `5` was removed."
   ]
  },
  {
   "cell_type": "markdown",
   "id": "dbdade80-bc6c-48b6-8f58-e4029accb912",
   "metadata": {},
   "source": [
    "For an operation in the RPN for each operation the operand will be retrieved from the stack and the result of the operation will be pushed back on the stack. If the whole expression is evaluated there should be exactly one element, the final result, on the stack."
   ]
  },
  {
   "cell_type": "markdown",
   "id": "2702eb76-8243-46ae-8351-7dd089089d41",
   "metadata": {},
   "source": [
    "The task is now to implement an evaluation of RPN expressions with Python classes and objects."
   ]
  },
  {
   "cell_type": "markdown",
   "id": "3726d613-a42a-4614-bcec-0feb55735de6",
   "metadata": {},
   "source": [
    "### 2.1 Implementing of a RPN stack (0 points)"
   ]
  },
  {
   "cell_type": "markdown",
   "id": "b5936c10-6d64-4214-b053-b837660157f1",
   "metadata": {},
   "source": [
    "Before we implement the RPN evaluation itself, we need to implement a RPN stack. In principle most of the stack features are already implemented with Python lists. You can interpret a list of elements from left to the right as an stack from the bottom to the top. We have a `.pop`-method which actually removes the last element (top) from the list. `.append` will add a new element at the end (top). So in the implementation of the RPN algorithm, a `list` will be used as the stack."
   ]
  },
  {
   "cell_type": "markdown",
   "id": "ae206628-6494-43c7-a5a0-24fb02a112c7",
   "metadata": {},
   "source": [
    "### 2.2 Implementing of the RPN (15 points)"
   ]
  },
  {
   "cell_type": "markdown",
   "id": "8678e881-b498-45ea-89a5-24c242a45683",
   "metadata": {},
   "source": [
    "The main task is now to implement the RPN in a Python class `Rpn`. The class should work with this kind of expressions:\n",
    "\n",
    "```\n",
    "rpn = Rpn()\n",
    "\n",
    "l = [2, 2, '+']\n",
    "x = rpn(l)\n",
    "print(x)\n",
    "l = [3, 4, 5, '*', '+']\n",
    "x = rpn(l)\n",
    "print(x)\n",
    "l = [2, 'sqrt']\n",
    "x = rpn(l)\n",
    "print(x)\n",
    "```"
   ]
  },
  {
   "cell_type": "markdown",
   "id": "28597006-bb5f-4ef1-aaf5-bda4917721c3",
   "metadata": {},
   "source": [
    "The background of such an implementation is that you can replace the number values also with objects for which you can do also the same operations, e.g. `numpy`-arrays."
   ]
  },
  {
   "cell_type": "markdown",
   "id": "fb466801-3c70-4603-b068-05a568ea5802",
   "metadata": {},
   "source": [
    "The used algorithm should work as follows:\n",
    "\n",
    "1. loop over all elements of the `list` representing an RPN expression\n",
    "2. push the current element on the stack, if this is not an operand (float), then it must be an operator\n",
    "3. handle the operator: remove all necessary elements from the stack, perform the operation and push the result on the stack\n",
    "2. proceed with the next element if possible\n",
    "1. if all elements are processed there should be one element only on the stack, remove this element and return to the main program"
   ]
  },
  {
   "cell_type": "markdown",
   "id": "624fdb76-682f-43ad-a571-9d64bf64e2e8",
   "metadata": {},
   "source": [
    "For the algorithm it is wise to implement a special method for handling operations which takes one argument and a second method two handle two argument operations. These operations should be supported by the RPN:\n",
    "\n",
    "*two arguments operations*\n",
    " * `+`, `-`, `*`, `/`, `**`\n",
    "\n",
    "*one argument operations*\n",
    " * `sqr`, `sqrt`, `sin`, `cos`, `tan`, `exp`, `log`, `mean`  (use np.mean!)"
   ]
  },
  {
   "cell_type": "markdown",
   "id": "487fb36a-3d3c-4734-9aaa-d0d4287628bd",
   "metadata": {},
   "source": [
    "The important point is to check for errors in the RPM expressions:\n",
    " * for any operations are not enough operands available, e.g. `'1 +'` \n",
    " * only operands are given, no operators e.g. `1 1`\n",
    " \n",
    "Implement suitable algorithms for these errors!\n",
    "\n",
    "Write your solution in the provided `rpn_sim.py` file.\n",
    "\n",
    "Create an example program `rpn_test.py` in which you do all your test cases mentioned in this descriptions."
   ]
  },
  {
   "cell_type": "markdown",
   "id": "83bbc6ac-a5da-491f-b35c-0d72829dd4dd",
   "metadata": {},
   "source": [
    "**Hints:**\n",
    " * Python has a nice possibilty to use an instanciated object itself as a function:\n",
    "   `x = rpn([2, 2, '+'])` will be translated into `x = rpn.__call__([2, 2, '+'])`, implement `__call__` for the RPN evaluation\n",
    " * the best way also for the next tasks is to put the evaluation algorithm inside a method called `eval`."
   ]
  },
  {
   "cell_type": "markdown",
   "id": "6f203901-fe82-405f-a26d-9f47fdb404da",
   "metadata": {},
   "source": [
    "---"
   ]
  },
  {
   "cell_type": "markdown",
   "id": "ee155a52-1840-451b-83b0-99e7d355b4f5",
   "metadata": {},
   "source": [
    "### 2.3 Inheritance I of the RPN class (5 points)"
   ]
  },
  {
   "cell_type": "markdown",
   "id": "1aa029e3-62ae-441e-b1a8-5897c062c1ae",
   "metadata": {},
   "source": [
    "Instead of evaluating a predefined list, it is nicer to evaluate a string given by a user. So define a new `class` definition `RpnStr` which now can evaluate a string directly:\n",
    "\n",
    "```\n",
    "rpn = RpnStr()\n",
    "\n",
    "x = rpn('2 2 +')\n",
    "print(x)\n",
    "x = rpn('3 4 5 * +')\n",
    "print(x)\n",
    "x = rpn('2 sqrt')\n",
    "print(x)\n",
    "```\n",
    "\n",
    "For this task you don't need to copy and paste the previous solution but can make usage of the inheritance option in the class definion. \n",
    "\n",
    "**Hints**:\n",
    " * the best strategy is to split the expression string and converts the items into a list the class `Rpn` can evaluate!"
   ]
  },
  {
   "cell_type": "markdown",
   "id": "11cc8858-f332-4217-95bc-e997a67c45b5",
   "metadata": {},
   "source": [
    "---"
   ]
  },
  {
   "cell_type": "markdown",
   "id": "66411011-5638-48d0-ac51-3075e37f574d",
   "metadata": {},
   "source": [
    "### 2.3 Inheritance II of the RPN class (10 points)"
   ]
  },
  {
   "cell_type": "markdown",
   "id": "d37d4bc6-8378-423c-852b-9c3207522f4b",
   "metadata": {},
   "source": [
    "Just a demonstration why this operation has some nice science background. In optical astronomy we have to do some recurrent tasks after we have taken optical images. Usually we have 3 different types of images, raw science images, raw flat images and bias images. The last two images are used to create a nice science image, we then can use for further analysis. To create the science image, we have to do the following operations:\n",
    "\n",
    "```\n",
    "flat_image = raw_flat_image - bias_image\n",
    "mean_flat_image = flat_image / mean(flat_image)\n",
    "science_image = (raw_science_image - bias_image) / mean_flat_image\n",
    "```\n",
    "\n"
   ]
  },
  {
   "cell_type": "markdown",
   "id": "e6bc856a-c722-4c1e-8473-613ce773e67a",
   "metadata": {},
   "source": [
    "The RPN expression gives a nice possibility to implement these operations in nice pythonic ways with all flexibility you need for science analysis."
   ]
  },
  {
   "cell_type": "markdown",
   "id": "ad905f6c-bb4e-49b5-ba1e-acc07004c873",
   "metadata": {},
   "source": [
    "If you have a closer look at your RPN class definition you can see, that all the math operations can not only be executed on int or float values but also on `numpy` arrays. So there are only a few modifications necessary to work also with astronomical images."
   ]
  },
  {
   "cell_type": "code",
   "execution_count": 1,
   "id": "0a324f1f-45c3-4a9c-a25f-226a75c31bc3",
   "metadata": {
    "tags": []
   },
   "outputs": [
    {
     "name": "stdout",
     "output_type": "stream",
     "text": [
      "import sys\n",
      "\n",
      "from rpn_sim import RpnAstroFiles\n",
      "\n",
      "# main\n",
      "\n",
      "rpn = RpnAstroFiles()\n",
      "\n",
      "rpn(sys.argv[1:-1], sys.argv[-1])\n"
     ]
    }
   ],
   "source": [
    "!cat code/run_rpn.py"
   ]
  },
  {
   "cell_type": "markdown",
   "id": "6ac0d4dd-8573-4719-aaeb-5d7ba325bb8e",
   "metadata": {},
   "source": [
    "The script `code/run_rpn.py` will be used to do the following commands:\n",
    "\n",
    "```\n",
    "python3 code/run_rpn.py files/flat_c.fits files/bias_c.fits - flat_image_c.fits\n",
    "python3 code/run_rpn.py flat_image_c.fits flat_image_c.fits mean / mean_flat_image_c.fits\n",
    "python3 code/run_rpn.py files/science_c.fits files/bias_c.fits - mean_flat_image_c.fits / science_image.fits\n",
    "```"
   ]
  },
  {
   "cell_type": "markdown",
   "id": "8e7bf08f-a94b-404f-8775-e3b095bfbda6",
   "metadata": {},
   "source": [
    "Your task is to implement the `RpnAstroFiles` class in the same module `rpn_sim.py`. "
   ]
  },
  {
   "cell_type": "markdown",
   "id": "873a69ce-20e5-4b6c-a24d-6c15ea323596",
   "metadata": {},
   "source": [
    "**Hints:**\n",
    " * `run_rpn.py` expects a method `RpnAstroFiles.__call__(argv, filename)` in which `argv` is a list of items from the command line and `filename` is the name to save the results to \n",
    " * in the file `rpn_sim.py` there is a class `AstroIO`  which provides the methods to read and write FITS files. You can simply include these methods into your `RpnAstroFiles` with the inheritance method, with any copy&paste of code!\n",
    " * to check if an item of the expression is a file, you can simply check if the string ends with `.fits` and then load the file with `read_file(...)` and put the `numpy` array onto the stack\n",
    " * the result returned by the main RPN evaluation should be an image as well, which can be saved with `write_file(...)`\n",
    " * it is not necessary to check the results of the image manipulation, usually if you don't get an error, everything is working fine, most of the errors are already fixed if you solution of the previous tasks gave the correct results"
   ]
  },
  {
   "cell_type": "markdown",
   "id": "4ae701ae-6df7-4509-8c23-2f54dbdb9880",
   "metadata": {},
   "source": [
    "---"
   ]
  },
  {
   "cell_type": "markdown",
   "id": "a3acbe34-e15f-4bd1-8ba3-33c4ac73f79b",
   "metadata": {},
   "source": [
    "### Background for CCD astronomy"
   ]
  },
  {
   "cell_type": "markdown",
   "id": "166fcd24-0a2c-4c40-a3c1-0030cb9bc682",
   "metadata": {},
   "source": [
    "This is a simplified explanation, why the task 2.3 has some importance for CCD astronomy tasks. \n",
    "\n",
    "Usually optical astronomy is done with cooled CCD devices, which have the advantage of low readout noise characteristics. The noise is always created when you readout the charge of a pixel which is the light representation. Also during the readout a so called \"bias\" value is added. This is because the values from the CCDs are usually positive integers and e.g. real values `0` with noise can be positive or negative. This bias value is not a real signal and during the data analysis this value has to substracted. To do this task a so called bias image is taken which only shows effects from the readout process. Science images have also this bias values, so that for any science image a bias can be substracted for correction. Flat images are also important images in the optical astronomy. Usually in optical astronomy images are taken through special defined filters which then can be used to characterize the object from this color. The problem with filters in a telescope light path is than the complete CCD will not get the light homogeneously, also if you have small dust particles on a filter this can have some effect. Flat images which have enough signal on a CCD image can be used to correct for this problem. In fact you can calculate per pixel the amount of correction needed so that light on a CCD is homogeneously. For this correction a flat image is normalized to 1, which means that the original image is divided by the mean value. \n",
    "\n",
    "In the end a real science image will be calculated like this:\n",
    "\n",
    "```\n",
    "science_image = (real_science_image - bias_image) / flat_image\n",
    "```\n",
    "\n",
    "Of course, usually for the correction one will not take a single image but would take a mean of several images. This will also reduce noise effects. However, with the recent `rpn` implementation this is not possible, but one can think also of a new extension of the `rpn` class."
   ]
  },
  {
   "cell_type": "code",
   "execution_count": null,
   "id": "17ff1365-08c4-4334-8c7e-d1278e2371e1",
   "metadata": {},
   "outputs": [],
   "source": []
  }
 ],
 "metadata": {
  "kernelspec": {
   "display_name": "Python 3 (ipykernel)",
   "language": "python",
   "name": "python3"
  },
  "language_info": {
   "codemirror_mode": {
    "name": "ipython",
    "version": 3
   },
   "file_extension": ".py",
   "mimetype": "text/x-python",
   "name": "python",
   "nbconvert_exporter": "python",
   "pygments_lexer": "ipython3",
   "version": "3.10.11"
  }
 },
 "nbformat": 4,
 "nbformat_minor": 5
}
