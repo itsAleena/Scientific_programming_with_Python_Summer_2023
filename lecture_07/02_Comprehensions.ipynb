{
 "cells": [
  {
   "cell_type": "markdown",
   "id": "b54013b2-72e2-4342-b710-2585bb6f1652",
   "metadata": {},
   "source": [
    "# List comprehensions"
   ]
  },
  {
   "cell_type": "markdown",
   "id": "513b4dbc-be5b-40b0-a371-657dea0eca29",
   "metadata": {},
   "source": [
    "---\n",
    "\n",
    "This notebook is about a better list handling if one think of list manipulations.\n",
    "\n",
    "---"
   ]
  },
  {
   "cell_type": "markdown",
   "id": "db87df9c-13ce-4804-8d82-c49d2c065c19",
   "metadata": {},
   "source": [
    "As shown in a previous lecture, I had an example of some list tasks:"
   ]
  },
  {
   "cell_type": "code",
   "execution_count": 2,
   "id": "e22f6125-7963-4866-aab5-9fbd38e84b7d",
   "metadata": {
    "tags": []
   },
   "outputs": [
    {
     "name": "stdout",
     "output_type": "stream",
     "text": [
      "file numbers in both lists: ['2345', '3456']\n",
      "files from a missing in b: ['2235a', '2236a', '3457a']\n",
      "files from b missing in a: ['2231a', '2389a', '3123a', '3458a']\n"
     ]
    }
   ],
   "source": [
    "# some random lists with file names\n",
    "\n",
    "list_a = ['2235a', '2236a', '2345a', '3456a', '3457a']\n",
    "list_b = ['2231b', '2345b', '2389b', '3123b', '3456b', '3458b']\n",
    "list_c = ['2231a', '2345a', '2389a', '3123a', '3456a', '3458a']\n",
    "\n",
    "# task 1 create a list with elements in both lists\n",
    "mix_list = []\n",
    "for el in list_a:\n",
    "    name = el[:-1]       # extract number from name\n",
    "    name_b = name + 'b'  # create search name\n",
    "    if name_b in list_b:\n",
    "        mix_list.append(name)\n",
    "        \n",
    "print(f'file numbers in both lists: {mix_list}')\n",
    "\n",
    "# task 2 create missing lists\n",
    "diff_ab = []\n",
    "diff_ba = []\n",
    "for el in list_a:\n",
    "    if el not in list_c:\n",
    "        diff_ab.append(el)\n",
    "for el in list_c:\n",
    "    if el not in list_a:\n",
    "        diff_ba.append(el)\n",
    "        \n",
    "print(f'files from a missing in b: {diff_ab}')\n",
    "print(f'files from b missing in a: {diff_ba}')"
   ]
  },
  {
   "cell_type": "markdown",
   "id": "c7fe6c34-869b-4259-b6c8-0c7849fa96b9",
   "metadata": {},
   "source": [
    "Especially if we go to the task #2, the 4 lines with creates a new list from an existing one, can be written in Python much more easier. The method which will be applied is called `list comprehensions`:"
   ]
  },
  {
   "cell_type": "code",
   "execution_count": 4,
   "id": "62af1aae-4cc0-4f80-929b-a6b234d7ae1e",
   "metadata": {
    "tags": []
   },
   "outputs": [
    {
     "name": "stdout",
     "output_type": "stream",
     "text": [
      "files from a missing in b: ['2235a', '2236a', '3457a']\n",
      "files from b missing in a: ['2231a', '2389a', '3123a', '3458a']\n"
     ]
    }
   ],
   "source": [
    "# some random lists with file names\n",
    "\n",
    "list_a = ['2235a', '2236a', '2345a', '3456a', '3457a']\n",
    "list_b = ['2231b', '2345b', '2389b', '3123b', '3456b', '3458b']\n",
    "list_c = ['2231a', '2345a', '2389a', '3123a', '3456a', '3458a']\n",
    "\n",
    "# skip task1 ...\n",
    "\n",
    "# task 2 create missing lists\n",
    "\n",
    "#diff_ab = []\n",
    "#for el in list_a:\n",
    "#    if el not in list_c:\n",
    "#        diff_ab.append(el)\n",
    "        \n",
    "diff_ab = [el for el in list_a if el not in list_c]        \n",
    "        \n",
    "#diff_ba = []\n",
    "#for el in list_c:\n",
    "#    if el not in list_a:\n",
    "#        diff_ba.append(el)\n",
    "        \n",
    "diff_ba = [el for el in list_c if el not in list_a]\n",
    "        \n",
    "print(f'files from a missing in b: {diff_ab}')\n",
    "print(f'files from b missing in a: {diff_ba}')"
   ]
  },
  {
   "cell_type": "markdown",
   "id": "347b398b-00b4-4969-8984-e1183fa7376b",
   "metadata": {},
   "source": [
    "---"
   ]
  },
  {
   "cell_type": "markdown",
   "id": "01dad752-3826-48fa-acc3-f1bde9134e91",
   "metadata": {},
   "source": [
    "## 1. Syntax"
   ]
  },
  {
   "cell_type": "markdown",
   "id": "f435b6a1-2067-41ac-b378-492462cf185f",
   "metadata": {},
   "source": [
    "The basic syntax of list comprehensions is:\n",
    "\n",
    "```\n",
    "newlist = [expression for item in iterable if condition == True]\n",
    "```"
   ]
  },
  {
   "cell_type": "markdown",
   "id": "a082cace-606e-4596-9678-7d4cf1e3f326",
   "metadata": {},
   "source": [
    "`newlist` will be returned as a new list!"
   ]
  },
  {
   "cell_type": "code",
   "execution_count": 2,
   "id": "421b1e76-ac32-428d-b687-124a18bc8d1a",
   "metadata": {},
   "outputs": [
    {
     "name": "stdout",
     "output_type": "stream",
     "text": [
      "['apple', 'banana', 'mango']\n"
     ]
    }
   ],
   "source": [
    "fruits = ['apple', 'banana', 'cherry', 'kiwi', 'mango']\n",
    "\n",
    "newlist = [x for x in fruits if 'a' in x]\n",
    "\n",
    "print(newlist)"
   ]
  },
  {
   "cell_type": "markdown",
   "id": "a1864c35-299e-48dc-90ec-fc436355be4d",
   "metadata": {},
   "source": [
    "The condition works as a filter!"
   ]
  },
  {
   "cell_type": "markdown",
   "id": "d28a92f1-6392-4d1c-8983-c1e3293c17b7",
   "metadata": {},
   "source": [
    "## 2. New elements"
   ]
  },
  {
   "cell_type": "markdown",
   "id": "6195f76c-2dc9-4664-8388-b952f1c7def8",
   "metadata": {},
   "source": [
    "New elements can be *constructed*:"
   ]
  },
  {
   "cell_type": "code",
   "execution_count": 4,
   "id": "96c37422-fdf7-4b49-9c4f-89456d82cca1",
   "metadata": {},
   "outputs": [
    {
     "name": "stdout",
     "output_type": "stream",
     "text": [
      "['APPLE', 'BANANA', 'CHERRY', 'KIWI', 'MANGO']\n"
     ]
    }
   ],
   "source": [
    "newlist = [x.upper() for x in fruits]\n",
    "print(newlist)"
   ]
  },
  {
   "cell_type": "markdown",
   "id": "81e23b00-5a2f-4394-9041-090a0bb8074c",
   "metadata": {},
   "source": [
    "or"
   ]
  },
  {
   "cell_type": "code",
   "execution_count": 6,
   "id": "596a4e6e-0db7-4a6a-b689-1a9edb80c72c",
   "metadata": {},
   "outputs": [
    {
     "name": "stdout",
     "output_type": "stream",
     "text": [
      "['apple', 'orange', 'cherry', 'kiwi', 'mango']\n"
     ]
    }
   ],
   "source": [
    "newlist = [x if x != \"banana\" else \"orange\" for x in fruits]\n",
    "print(newlist)"
   ]
  },
  {
   "cell_type": "markdown",
   "id": "386f0007-39cc-4844-9cfd-d1d954f53c92",
   "metadata": {},
   "source": [
    "The condition works as a change not as a filter!"
   ]
  },
  {
   "cell_type": "markdown",
   "id": "2092fdb5-5286-48f8-a341-04a64545b144",
   "metadata": {},
   "source": [
    "## 3. Iterables"
   ]
  },
  {
   "cell_type": "markdown",
   "id": "63d6f36f-5d6b-4a0c-8fd9-4a78787b013b",
   "metadata": {},
   "source": [
    "The `for` loop can work on lists or tuples, but also on everything, which are called `iterables`:"
   ]
  },
  {
   "cell_type": "code",
   "execution_count": 7,
   "id": "03d8b122-d0b6-4d38-bba1-1e4b828830c5",
   "metadata": {},
   "outputs": [
    {
     "name": "stdout",
     "output_type": "stream",
     "text": [
      "range(0, 10)\n",
      "<class 'range'>\n",
      "[0, 1, 2, 3, 4, 5, 6, 7, 8, 9]\n"
     ]
    }
   ],
   "source": [
    "x = range(0,10,1)\n",
    "\n",
    "print(x)\n",
    "print(type(x))\n",
    "print(list(x))"
   ]
  },
  {
   "cell_type": "markdown",
   "id": "fc0cb4dd-609a-407a-b967-ebc469a367f0",
   "metadata": {},
   "source": [
    "## 4. Multi iterables in comprehensions"
   ]
  },
  {
   "cell_type": "code",
   "execution_count": 14,
   "id": "ec930d68-5e53-465d-aa09-5b4bc01cdf2c",
   "metadata": {},
   "outputs": [
    {
     "name": "stdout",
     "output_type": "stream",
     "text": [
      "[(0, 0), (0, 1), (0, 2), (1, 0), (1, 1), (1, 2), (2, 0), (2, 1), (2, 2)]\n"
     ]
    }
   ],
   "source": [
    "x = range(0,3,1)\n",
    "y = range(0,3,1)\n",
    "\n",
    "new_list = [(i,j) for i in x for j in y]\n",
    "print(new_list)"
   ]
  },
  {
   "cell_type": "markdown",
   "id": "4bfe84e7-9fd5-4d41-8e61-172e150f0508",
   "metadata": {},
   "source": [
    "This example creates all combinations of the number `[0,3[` and returns a list of combinations as tuples."
   ]
  },
  {
   "cell_type": "markdown",
   "id": "523d3a72-f232-484b-be90-be1b09c72c15",
   "metadata": {},
   "source": [
    "## 5. Dictionary comprehensions"
   ]
  },
  {
   "cell_type": "markdown",
   "id": "f84eda1b-54c2-430e-a07f-b88ca8e61198",
   "metadata": {},
   "source": [
    "Similar to the `list comprehensions` it is also possible to use the same mechanism for dictionaries:"
   ]
  },
  {
   "cell_type": "code",
   "execution_count": 2,
   "id": "b3c68808-7aac-46da-a0e7-9296c19b7837",
   "metadata": {},
   "outputs": [
    {
     "name": "stdout",
     "output_type": "stream",
     "text": [
      "{1: '1', 2: '2', 3: '3', 4: '4', 5: '5'}\n"
     ]
    }
   ],
   "source": [
    "a = [1,2,3,4,5]\n",
    "\n",
    "d = { i:str(i) for i in a}\n",
    "print(d)"
   ]
  },
  {
   "cell_type": "markdown",
   "id": "f1dfbc3a-35f1-4dfb-9056-13f0c872170d",
   "metadata": {},
   "source": [
    "This example generates a dictionary from a list, where the list elements now acting as keys and the values are the list elements converted into strings. Important for the dictionary comprehension is that the first definition, here `i:str(i)` is a valid dictionary key/value pair!"
   ]
  },
  {
   "cell_type": "code",
   "execution_count": null,
   "id": "fa51c6ad-6cc9-466e-88ef-d4130335e414",
   "metadata": {},
   "outputs": [],
   "source": []
  }
 ],
 "metadata": {
  "kernelspec": {
   "display_name": "Python 3 (ipykernel)",
   "language": "python",
   "name": "python3"
  },
  "language_info": {
   "codemirror_mode": {
    "name": "ipython",
    "version": 3
   },
   "file_extension": ".py",
   "mimetype": "text/x-python",
   "name": "python",
   "nbconvert_exporter": "python",
   "pygments_lexer": "ipython3",
   "version": "3.9.10"
  }
 },
 "nbformat": 4,
 "nbformat_minor": 5
}
