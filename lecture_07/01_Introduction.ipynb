{
 "cells": [
  {
   "cell_type": "markdown",
   "id": "41c9478d-19ca-4aee-943b-21100b80c5ca",
   "metadata": {
    "tags": []
   },
   "source": [
    "# Lecture 7 - May 19th 2023"
   ]
  },
  {
   "cell_type": "markdown",
   "id": "f6f4a34d-7a3a-4e46-b977-20fab69d9f3e",
   "metadata": {},
   "source": [
    "---\n",
    "\n",
    "**Topics of this lecture:**\n",
    "\n",
    " * Python *lists comprehensions*\n",
    " * Python file-IO handling and exceptions\n",
    " * Python modules\n",
    " \n",
    "----"
   ]
  },
  {
   "cell_type": "markdown",
   "id": "86771abe-e8c8-4942-805b-9ac8d2f10973",
   "metadata": {},
   "source": [
    "## Additional notes"
   ]
  },
  {
   "cell_type": "markdown",
   "id": "cb371067-7abb-4d0a-9401-184bd96ecf86",
   "metadata": {},
   "source": [
    "We have seen in the project submissions similar problems and errors:"
   ]
  },
  {
   "cell_type": "markdown",
   "id": "b264f132-56d0-4829-8812-38e3ead2ea4f",
   "metadata": {},
   "source": [
    " * don't use loops for manipulating `numpy` arrays, use the presented `numpy` operations\n",
    " * if you use additional modules/functions/structures which were not presented in the lecture, you have to explicitly clarify, why you want to use these **new** things and **why** they are superior to the addressed things in the lecture"
   ]
  },
  {
   "cell_type": "markdown",
   "id": "838b2edc-0007-41bb-9496-a91691c5bc30",
   "metadata": {},
   "source": [
    "Some additional note, which may be not clear in the lectures:"
   ]
  },
  {
   "cell_type": "code",
   "execution_count": 2,
   "id": "784fb613-8869-4fe0-b521-6d7f6ea07dd7",
   "metadata": {},
   "outputs": [
    {
     "name": "stdout",
     "output_type": "stream",
     "text": [
      "[2023.5 2023.6 2023.7 2023.8 2023.9 2024.  2024.1 2024.2 2024.3 2024.4\n",
      " 2024.5 2024.6 2024.7 2024.8 2024.9 2025.  2025.1 2025.2 2025.3 2025.4]\n",
      "[ 0  1  2  3  4  5  6  7  8  9 10 11 12 13 14 15 16 17 18 19]\n",
      "year=2023:\n",
      "year=2024:\n",
      "year=2025:\n",
      "[ 2.5 10.5 17.5]\n"
     ]
    }
   ],
   "source": [
    "import numpy as np\n",
    "\n",
    "times = np.arange(2023.5,2025.5,0.1)\n",
    "values = np.arange(times.shape[0])\n",
    "\n",
    "print(times)\n",
    "print(values)\n",
    "\n",
    "years = [2023,2024,2025]\n",
    "\n",
    "# create an array for the results\n",
    "means = np.zeros(len(years))\n",
    "\n",
    "count = 0\n",
    "for year in years:\n",
    "    print(f'year={year}:')\n",
    "    mask = (times >= year) & ( times < year+1)\n",
    "    means[count] = values[mask].mean()\n",
    "    count += 1\n",
    "    \n",
    "print(means)"
   ]
  },
  {
   "cell_type": "markdown",
   "id": "c1b4e5e1-ede1-48be-aaa4-88dac47ed0eb",
   "metadata": {},
   "source": [
    "Better is the following construct for the `for`-loop, since it will also be `loop`-safe:"
   ]
  },
  {
   "cell_type": "code",
   "execution_count": 6,
   "id": "0ef4f49a-5f68-450a-bf31-e25fb1db11f5",
   "metadata": {},
   "outputs": [
    {
     "name": "stdout",
     "output_type": "stream",
     "text": [
      "1 2023\n",
      "2 2024\n",
      "3 2025\n"
     ]
    }
   ],
   "source": [
    "for nr, year in enumerate(years,start=1):  # use start is necessary, default is start=0!\n",
    "    print(nr, year)"
   ]
  },
  {
   "cell_type": "code",
   "execution_count": null,
   "id": "e90cce21-6531-4022-b49c-29dfd4bec3c9",
   "metadata": {},
   "outputs": [],
   "source": []
  }
 ],
 "metadata": {
  "kernelspec": {
   "display_name": "Python 3 (ipykernel)",
   "language": "python",
   "name": "python3"
  },
  "language_info": {
   "codemirror_mode": {
    "name": "ipython",
    "version": 3
   },
   "file_extension": ".py",
   "mimetype": "text/x-python",
   "name": "python",
   "nbconvert_exporter": "python",
   "pygments_lexer": "ipython3",
   "version": "3.9.10"
  }
 },
 "nbformat": 4,
 "nbformat_minor": 5
}
