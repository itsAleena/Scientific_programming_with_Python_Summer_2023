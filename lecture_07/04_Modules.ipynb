{
 "cells": [
  {
   "cell_type": "markdown",
   "id": "692afc4d-fe04-49e9-9810-140aaa8dd2c6",
   "metadata": {},
   "source": [
    "# Modules"
   ]
  },
  {
   "cell_type": "markdown",
   "id": "1a675e9a-cf09-43d2-8208-c2e6bd3a8a57",
   "metadata": {},
   "source": [
    "---\n",
    "\n",
    "This notebook is about modules and the creation of own modules.\n",
    "\n",
    "---"
   ]
  },
  {
   "cell_type": "markdown",
   "id": "4fca0694-4b6a-470c-af06-b0ab59089a35",
   "metadata": {},
   "source": [
    "## 1. importing modules"
   ]
  },
  {
   "cell_type": "markdown",
   "id": "1aa23ad8-d29f-4ac6-b007-4650d2cd46ad",
   "metadata": {},
   "source": [
    "At this point we often have used some modules e.g. `numpy` but not really addressed the usage."
   ]
  },
  {
   "cell_type": "markdown",
   "id": "5bf60d64-bf8d-44e8-a4e6-61a4a05a4d78",
   "metadata": {},
   "source": [
    "The basic command is `import`:"
   ]
  },
  {
   "cell_type": "code",
   "execution_count": 1,
   "id": "8f744f31-c07e-4d6a-898e-997d7085120e",
   "metadata": {},
   "outputs": [
    {
     "name": "stdout",
     "output_type": "stream",
     "text": [
      "3.141592653589793\n",
      "1.4142135623730951\n"
     ]
    }
   ],
   "source": [
    "import numpy\n",
    "\n",
    "print(numpy.pi)       # constants\n",
    "\n",
    "print(numpy.sqrt(2))  # functions"
   ]
  },
  {
   "cell_type": "markdown",
   "id": "61cdf05c-0641-4b0e-8746-416e3770fd75",
   "metadata": {},
   "source": [
    "Modules can be imported by name or by an alias:"
   ]
  },
  {
   "cell_type": "code",
   "execution_count": 2,
   "id": "8eec3724-41ef-44d1-b924-a25d360a564a",
   "metadata": {},
   "outputs": [
    {
     "name": "stdout",
     "output_type": "stream",
     "text": [
      "3.141592653589793\n",
      "1.4142135623730951\n"
     ]
    }
   ],
   "source": [
    "import numpy as np\n",
    "\n",
    "print(np.pi)\n",
    "print(np.sqrt(2))"
   ]
  },
  {
   "cell_type": "markdown",
   "id": "908a4364-8fd8-42ad-91dd-1221033a1f00",
   "metadata": {},
   "source": [
    "One can specifically import single functions/data if necessary:"
   ]
  },
  {
   "cell_type": "code",
   "execution_count": 3,
   "id": "7226097a-30f1-4a2d-81df-82d1d4d3d4b9",
   "metadata": {},
   "outputs": [
    {
     "name": "stdout",
     "output_type": "stream",
     "text": [
      "3.141592653589793\n"
     ]
    }
   ],
   "source": [
    "from numpy import pi \n",
    "\n",
    "print(pi)"
   ]
  },
  {
   "cell_type": "markdown",
   "id": "14a491e1-c619-450b-a41c-20e845718301",
   "metadata": {},
   "source": [
    "Also you can import special functions/data with alias:"
   ]
  },
  {
   "cell_type": "code",
   "execution_count": 5,
   "id": "2e23419e-be35-46f5-a726-20ccc35f57c0",
   "metadata": {},
   "outputs": [
    {
     "name": "stdout",
     "output_type": "stream",
     "text": [
      "3.141592653589793\n",
      "1.7320508075688772\n",
      "3.141592653589793\n",
      "1.7320508075688772\n"
     ]
    }
   ],
   "source": [
    "from numpy import pi as np_pi, sqrt as np_sqrt\n",
    "from math import pi as math_pi, sqrt as math_sqrt\n",
    "\n",
    "# use numpy\n",
    "print(np_pi)\n",
    "print(np_sqrt(3))\n",
    "\n",
    "# use math\n",
    "print(math_pi)\n",
    "print(math_sqrt(3))"
   ]
  },
  {
   "cell_type": "markdown",
   "id": "6b8ff232-93e5-492d-ad2d-eed7c1d34cd4",
   "metadata": {},
   "source": [
    "**Don't do this:**"
   ]
  },
  {
   "cell_type": "code",
   "execution_count": 11,
   "id": "9cbefa79-422e-4d34-bbdc-4e4c2d037a24",
   "metadata": {},
   "outputs": [
    {
     "name": "stdout",
     "output_type": "stream",
     "text": [
      "-1234.455\n",
      "1.4142135623730951\n"
     ]
    }
   ],
   "source": [
    "from numpy import *\n",
    "\n",
    "pi = -1234.455\n",
    "\n",
    "print(pi)             # use the defined data\n",
    "print(sqrt(2))        # use the function from numpy!"
   ]
  },
  {
   "cell_type": "markdown",
   "id": "0db971ec-8a21-4222-b775-3684bb0cd157",
   "metadata": {},
   "source": [
    "---"
   ]
  },
  {
   "cell_type": "markdown",
   "id": "d18b7d14-b939-4e5c-abf9-d62701ee50b2",
   "metadata": {},
   "source": [
    "## 2. Modules in subdirectories"
   ]
  },
  {
   "cell_type": "markdown",
   "id": "9f0ad211-9b6e-494e-9e17-c02e7be592fe",
   "metadata": {},
   "source": [
    "If modules from sub directories are imported, each subdirectory has to be specified in the import name:"
   ]
  },
  {
   "cell_type": "code",
   "execution_count": 6,
   "id": "b3369e76-a6bb-488a-83ec-5e7868b98cc4",
   "metadata": {},
   "outputs": [
    {
     "name": "stdout",
     "output_type": "stream",
     "text": [
      "0.1234\n"
     ]
    }
   ],
   "source": [
    "import modules.m1.test as test\n",
    "\n",
    "print(test.some_data)"
   ]
  },
  {
   "cell_type": "markdown",
   "id": "6772b068-4641-4b15-bb96-5a505275c5d2",
   "metadata": {},
   "source": [
    "---"
   ]
  },
  {
   "cell_type": "markdown",
   "id": "5f8ae5c8-e49b-48fb-bfde-5c7fe5d82446",
   "metadata": {},
   "source": [
    "## 3. Creation of modules"
   ]
  },
  {
   "cell_type": "markdown",
   "id": "49b0fb69-9d98-4849-91f8-082d9b516ead",
   "metadata": {},
   "source": [
    "**Motivations:**\n",
    "\n",
    " * put your project code into a module for `sharing`\n",
    " * main programs will be smaller, reduced to the `important` parts\n",
    " * modules can be tested separately \n",
    " * code can be `capsuled` working with `black boxes` without putting a special focus on the code in modules"
   ]
  },
  {
   "cell_type": "markdown",
   "id": "a917c5fd-d5b7-45fa-9429-c98d195c0e4c",
   "metadata": {},
   "source": [
    "At this point for creation of modules we need to switch to the desktop part of the jupyterlab, because changing modules content will not be recognized properly in notebooks."
   ]
  },
  {
   "cell_type": "markdown",
   "id": "c2d2cbc8-04b6-491f-9993-c301018edb64",
   "metadata": {},
   "source": [
    "**Summary:**\n",
    "\n",
    " * modules can life in the same directory of the main program or in sub folders\n",
    " * if many python modules fits to a project, sub folders are usefull!\n",
    " * running code in modules will run on the first import command\n",
    " * modules need good documentation -> see doc strings\n",
    " * when importing data or functions, import only selectived parts not everything!\n"
   ]
  },
  {
   "cell_type": "markdown",
   "id": "4ce1fdb2-e43a-4425-9a4e-36da0881a204",
   "metadata": {},
   "source": [
    "---"
   ]
  },
  {
   "cell_type": "markdown",
   "id": "54354f10-7ecb-4282-a983-ba4b5ae2774a",
   "metadata": {},
   "source": [
    "## 4. Advanced creation of modules"
   ]
  },
  {
   "cell_type": "markdown",
   "id": "8eed30d1-1ed1-4e98-bcb7-e639082ee744",
   "metadata": {},
   "source": [
    "In many situations these information for creating modules are sufficient. It will not cover these topics:\n",
    " * create of complete module sets, upload for distribution in pypi\n",
    " * usage of `__init__.py`  \n",
    " * modules not written in python"
   ]
  },
  {
   "cell_type": "code",
   "execution_count": null,
   "id": "c6f493a0-bd6b-4d28-8d02-e956f7b85e53",
   "metadata": {},
   "outputs": [],
   "source": []
  }
 ],
 "metadata": {
  "kernelspec": {
   "display_name": "Python 3 (ipykernel)",
   "language": "python",
   "name": "python3"
  },
  "language_info": {
   "codemirror_mode": {
    "name": "ipython",
    "version": 3
   },
   "file_extension": ".py",
   "mimetype": "text/x-python",
   "name": "python",
   "nbconvert_exporter": "python",
   "pygments_lexer": "ipython3",
   "version": "3.9.10"
  }
 },
 "nbformat": 4,
 "nbformat_minor": 5
}
