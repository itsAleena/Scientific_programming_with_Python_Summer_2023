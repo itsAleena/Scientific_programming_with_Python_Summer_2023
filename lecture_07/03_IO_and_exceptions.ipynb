{
 "cells": [
  {
   "cell_type": "markdown",
   "id": "4e976a56-ad76-44f0-b378-eacd76e26448",
   "metadata": {},
   "source": [
    "# file-IO in Python and Exceptions"
   ]
  },
  {
   "cell_type": "markdown",
   "id": "8b178757-210c-4e10-83bc-43428d090879",
   "metadata": {},
   "source": [
    "---\n",
    "\n",
    "In this notebook I want to introduce the file IO in Python and unusually address another topic, exceptions or exception handling.\n",
    "\n",
    "---"
   ]
  },
  {
   "cell_type": "markdown",
   "id": "70a592f6-24ee-44d8-bb13-fe33166e7c3b",
   "metadata": {},
   "source": [
    "## 1. File-IO in Python"
   ]
  },
  {
   "cell_type": "markdown",
   "id": "efe20fbc-8b25-48c5-ab47-791aa1e4ca2b",
   "metadata": {},
   "source": [
    "For reading text files with some data in table form we already know `np.loadtxt` from the `numpy` module. Basically Python itself provides a nice set of IO operations."
   ]
  },
  {
   "cell_type": "markdown",
   "id": "0fa80f6a-ba72-4df4-8e88-cc3b86202a1a",
   "metadata": {},
   "source": [
    "As a demonstration I've created a simple text file `data/simple.txt`:"
   ]
  },
  {
   "cell_type": "code",
   "execution_count": null,
   "id": "f0251b03-1d3d-4ae0-a5e6-6bd132dc2462",
   "metadata": {},
   "outputs": [],
   "source": [
    "!cat data/simple.txt"
   ]
  },
  {
   "cell_type": "markdown",
   "id": "d296acc1-c651-42ef-8d45-4ee1d079a24e",
   "metadata": {},
   "source": [
    "The task is to read this file in Python:"
   ]
  },
  {
   "cell_type": "code",
   "execution_count": null,
   "id": "777f1848-73f2-4ed1-ada9-e91e1f2f42f0",
   "metadata": {},
   "outputs": [],
   "source": [
    "# reading a text file #1\n",
    "\n",
    "f = open('data/simple.txt', 'r')    # open the file for _r_reading\n",
    "\n",
    "lines = f.readlines()               # read all lines into the memory\n",
    "\n",
    "print(type(lines))\n",
    "print(lines)\n",
    "\n",
    "\n",
    "f.close()                           # all files need to be closed! "
   ]
  },
  {
   "cell_type": "markdown",
   "id": "560b8faa-38ef-43a6-b76c-1352021645d6",
   "metadata": {},
   "source": [
    "As you can see all lines of the text file will be read together and a list of strings will be returned. Each line has at the end the `\\n` character and one line has some additional indent:"
   ]
  },
  {
   "cell_type": "code",
   "execution_count": null,
   "id": "def75836-541a-4167-aca8-31ff72f5291d",
   "metadata": {},
   "outputs": [],
   "source": [
    "for line in lines:\n",
    "    line = line.strip()\n",
    "    print(line)"
   ]
  },
  {
   "cell_type": "markdown",
   "id": "387c219a-5815-47f3-80b1-820c39cf6be1",
   "metadata": {},
   "source": [
    "This code fragment shows how to get rid of the extra characters. If you need the leading trails, you can simply use `.rstrip()` instead of `.strip()` (please read the documentation)."
   ]
  },
  {
   "cell_type": "markdown",
   "id": "165a608d-b02f-419f-9051-3875cc636410",
   "metadata": {},
   "source": [
    "Since usually one works with simple lines, one can also use a `for`-loop over the file object `f`:"
   ]
  },
  {
   "cell_type": "code",
   "execution_count": null,
   "id": "68b673d2-3fdd-48f9-856f-59168e75539c",
   "metadata": {},
   "outputs": [],
   "source": [
    "# reading a text file #2\n",
    "\n",
    "f = open('data/simple.txt', 'r')  # open the file for _r_reading\n",
    "\n",
    "for line in f:                    # work on all lines\n",
    "    line = line.strip()           # get rid of trailing characters\n",
    "    print(line)\n",
    "f.close()                         # all files need to be closed!"
   ]
  },
  {
   "cell_type": "markdown",
   "id": "cce970bf-bfce-40ec-8697-4d8991b78531",
   "metadata": {},
   "source": [
    "## 2. Details of file-IO"
   ]
  },
  {
   "cell_type": "markdown",
   "id": "1bfac5bf-8c04-4b1b-bd03-0b9f283df180",
   "metadata": {},
   "source": [
    "The syntax of opening a file is:\n",
    "\n",
    "```\n",
    "f = open(<pathtoafile>, mode)\n",
    "\n",
    "# file operations\n",
    "\n",
    "f.close()\n",
    "```\n",
    "\n",
    "mode can be one of:\n",
    "```\n",
    " r : read a file\n",
    " w : write to an existing file (file will be truncated at the beginning)\n",
    " x : create and write to a file\n",
    " a : append to a file\n",
    " + : open a disk file for reading and writing\n",
    "```\n",
    "\n",
    "`f` is always a file object which will be used to access the IO space."
   ]
  },
  {
   "cell_type": "markdown",
   "id": "95f88824-0d6b-419e-b384-d8a26e084a3b",
   "metadata": {},
   "source": [
    "For every `open` command a corresponding `close` command has to follow!"
   ]
  },
  {
   "cell_type": "markdown",
   "id": "fceb69d5-da87-4b70-ac3c-93ca1a9127ef",
   "metadata": {},
   "source": [
    "## 3. Saving files"
   ]
  },
  {
   "cell_type": "markdown",
   "id": "de7269da-bbc3-40ea-b9ce-b70fee7f045f",
   "metadata": {},
   "source": [
    "Typically the commands are similar:"
   ]
  },
  {
   "cell_type": "code",
   "execution_count": null,
   "id": "1b6c1727-68f3-4bff-97ec-47a93c84c8f6",
   "metadata": {},
   "outputs": [],
   "source": [
    "# writing a text file\n",
    "\n",
    "text = ['first line', 'second line']\n",
    "\n",
    "f = open('output.txt', 'w') # open a file for writing\n",
    "\n",
    "for line in text:\n",
    "    f.write(f'{line}\\n')    # using f-strings\n",
    "    #f.write(line+'\\n')      # raw command\n",
    "    #print(line, file=f)    # alternative command\n",
    "\n",
    "f.close()                   # all files need to be closed"
   ]
  },
  {
   "cell_type": "markdown",
   "id": "d22d27c4-67d6-4548-bcad-ea6c63687315",
   "metadata": {},
   "source": [
    "You need to keep in mind to add a `\\n` character for each line. Also don't forget to close the file with `.close()`, otherwise data may be lost or gets corrupted!"
   ]
  },
  {
   "cell_type": "markdown",
   "id": "d4d4d2a0-5d2b-4a2e-a73a-9007e1cda929",
   "metadata": {},
   "source": [
    "## 4. Binary files"
   ]
  },
  {
   "cell_type": "markdown",
   "id": "fab0059a-784e-44f4-afd6-cbe0ad6eaa28",
   "metadata": {},
   "source": [
    "Reading and writing binary files are also supported, where you need to open the files with an additional `b`. Reading will be done with `.read()` and writing with `.write`. You have to take care of the format and correctness of the data.\n",
    "\n",
    "Usually you should use predefined modules to read special binary files, e.g. images, data cubes etc."
   ]
  },
  {
   "cell_type": "markdown",
   "id": "21021473-f1c8-4091-bc6c-c786beafedb1",
   "metadata": {},
   "source": [
    "---"
   ]
  },
  {
   "cell_type": "markdown",
   "id": "dbbbabd1-b2fd-46b0-8346-8789cb801c97",
   "metadata": {},
   "source": [
    "## 5. Problems with file-IO"
   ]
  },
  {
   "cell_type": "markdown",
   "id": "b7437465-74ab-443d-ba48-aaf58e117f12",
   "metadata": {},
   "source": [
    "Usually all these commands are working without any problems, but here and there some problems will occur:\n",
    "\n",
    " * you want to open a file for reading which does not exist\n",
    " * you want to overwrite an existing file (mode=`x`)\n",
    " * you don't have the rights to open a file for reading/writing\n",
    " * the disk will be full during writing\n",
    " * the destination vanishes somehow\n",
    " * ...\n",
    " \n",
    "What happens?"
   ]
  },
  {
   "cell_type": "code",
   "execution_count": null,
   "id": "60c3221c-df66-45c5-8780-fffc1aba8b5a",
   "metadata": {},
   "outputs": [],
   "source": [
    "# open an non existing file for reading\n",
    "\n",
    "f = open('data/simple2.txt', 'r')\n",
    "lines = f.readlines()\n",
    "f.close()\n",
    "\n",
    "print('Another command which should be executed afterwards!')"
   ]
  },
  {
   "cell_type": "markdown",
   "id": "ed301e87-ad48-41bd-ac34-bab896c7aad7",
   "metadata": {},
   "source": [
    "This is expected and okay for some test programs. \n",
    "\n",
    "**What happend?**\n",
    "\n",
    "During the file operation an error occurs and the program simply aborts directly. As said, for test or smaller programs it is okay, you can check for the error and restart the program with the correct file name.\n",
    "\n",
    "If you e.g. do a long simulation and shortly before the simulation is finished a write to a log file produces an error, all of your results are gone ... :-("
   ]
  },
  {
   "cell_type": "markdown",
   "id": "83915e7f-6295-4561-9a63-392e8ba123e4",
   "metadata": {},
   "source": [
    "---"
   ]
  },
  {
   "cell_type": "markdown",
   "id": "9e7a539b-fba1-4029-8629-8e0328f3bfa6",
   "metadata": {},
   "source": [
    "## 6. Catching errors or exceptions"
   ]
  },
  {
   "cell_type": "markdown",
   "id": "c2341450-da38-405a-8f94-9ea083ee7364",
   "metadata": {},
   "source": [
    "One solution is to catch these kind of errors to leave your program running and decide what is best to do:"
   ]
  },
  {
   "cell_type": "code",
   "execution_count": null,
   "id": "59ef7acd-d2be-4ac0-9914-ca07bb37ed24",
   "metadata": {},
   "outputs": [],
   "source": [
    "# open an non existing file for reading\n",
    "\n",
    "try:\n",
    "    f = open('data/simple2.txt', 'r')\n",
    "    lines = f.readlines()\n",
    "    f.close()\n",
    "except:\n",
    "    print('Some error occurred!')\n",
    "\n",
    "print('Another command which should be executed afterwards!')"
   ]
  },
  {
   "cell_type": "markdown",
   "id": "8dac03df-3014-4ca2-b4a0-1bd636b75f0a",
   "metadata": {},
   "source": [
    "In this case all `errors` which can cause an so called `exception` within the `try` block can be catched, so that the program can decide, how an error will be handled."
   ]
  },
  {
   "cell_type": "markdown",
   "id": "dbfd68e9-d66d-4ba2-98fe-dee90ab93fdf",
   "metadata": {},
   "source": [
    "Of course the catching can be explicitly defined for a certain exception:"
   ]
  },
  {
   "cell_type": "code",
   "execution_count": null,
   "id": "e2e67840-c905-4fa7-9961-5fc787334d50",
   "metadata": {},
   "outputs": [],
   "source": [
    "# open an non existing file for reading\n",
    "\n",
    "try:\n",
    "    f = open('data/simple2.txt', 'r')\n",
    "    lines = f.readlines()\n",
    "    f.close()\n",
    "except IOError:\n",
    "    print('Some IO related error occurred!')\n",
    "\n",
    "print('Another command which should be executed afterwards!')"
   ]
  },
  {
   "cell_type": "markdown",
   "id": "53f7ea19-365f-457c-8b45-f368dc0a2848",
   "metadata": {},
   "source": [
    "Exceptions have usually some arguments or features:"
   ]
  },
  {
   "cell_type": "code",
   "execution_count": null,
   "id": "da99bde0-925d-44de-866b-ec6277a9f10d",
   "metadata": {},
   "outputs": [],
   "source": [
    "# open an non existing file for reading\n",
    "\n",
    "try:\n",
    "    f = open('data/simple2.txt', 'r')\n",
    "    lines = f.readlines()\n",
    "    f.close()\n",
    "except IOError as err:\n",
    "    print(type(err))\n",
    "    print(err)\n",
    "    print(err.args)\n",
    "    print(f'Some IO error occurred \"{err}\"!')    # my suggestion!\n",
    "\n",
    "print('Another command which should be executed afterwards!')"
   ]
  },
  {
   "cell_type": "markdown",
   "id": "50744e08-97d1-4048-924e-3578c71672ef",
   "metadata": {},
   "source": [
    "---"
   ]
  },
  {
   "cell_type": "markdown",
   "id": "ad0405d3-6d67-49d2-b940-943617a7936f",
   "metadata": {},
   "source": [
    "## 7. Basic exceptions"
   ]
  },
  {
   "cell_type": "markdown",
   "id": "1e6bec9f-2f0b-441e-a187-5e73b5200790",
   "metadata": {},
   "source": [
    "Python provides a large variety of predefined exceptions:\n",
    "\n",
    "  * `IOError`:  everything around IO operations\n",
    "  * `ValueError`: used for failing conversions\n",
    "  * `TypeError`: failing types\n",
    "  * `IndexError`: failing indices (lists, tuples, numpy-arrays)\n",
    "  * `KeyError`: failing keys  (dicionaries)\n",
    "  * `NameError`: using of not defined variables\n",
    "  * `ZeroDivisionError`:  division with 0\n",
    "  * `KeyboardError` : if you hit Ctrl-C during script execution\n",
    "  * ..."
   ]
  },
  {
   "cell_type": "code",
   "execution_count": null,
   "id": "f584e22e-032a-441e-a0fb-995a03fbc2d2",
   "metadata": {},
   "outputs": [],
   "source": [
    "int('hallo')   # value error"
   ]
  },
  {
   "cell_type": "code",
   "execution_count": null,
   "id": "35fbc685-6697-4086-8983-e531f2acd1df",
   "metadata": {},
   "outputs": [],
   "source": [
    "s = 'Hallo'\n",
    "s + 1         # type error"
   ]
  },
  {
   "cell_type": "code",
   "execution_count": null,
   "id": "08618b5e-c68b-4efc-8b50-05ff39672da5",
   "metadata": {},
   "outputs": [],
   "source": [
    "a = [1,2]\n",
    "a[100]     # index error"
   ]
  },
  {
   "cell_type": "code",
   "execution_count": null,
   "id": "9a2d9a8a-a52f-4afa-af53-19087b281397",
   "metadata": {},
   "outputs": [],
   "source": [
    "d = { '1': 1 }\n",
    "d['2']         # key error"
   ]
  },
  {
   "cell_type": "code",
   "execution_count": null,
   "id": "ea063261-1873-4e73-98f1-3fb39da746d6",
   "metadata": {},
   "outputs": [],
   "source": [
    "spam*3    # name error"
   ]
  },
  {
   "cell_type": "markdown",
   "id": "a0a27d83-5897-4558-888c-8f5dde9a1494",
   "metadata": {},
   "source": [
    "Not all exceptions need to be catched and in generall indicating errors which can be in most cases solved by additional tests!"
   ]
  },
  {
   "cell_type": "code",
   "execution_count": null,
   "id": "bbbaced6-e110-442b-8c8a-fec70458f10c",
   "metadata": {},
   "outputs": [],
   "source": [
    "import os\n",
    "\n",
    "# open an non existing file for reading\n",
    "\n",
    "filename = 'data/simple2.txt'\n",
    "\n",
    "if os.access(filename, os.R_OK):\n",
    "    try:\n",
    "        f = open(filename, 'r')\n",
    "        lines = f.readlines()\n",
    "        print(lines)\n",
    "        f.close()\n",
    "    except IOError as err:\n",
    "        print(f'Some IO error occurred \"{err}\"!')    # my suggestion!\n",
    "else: # os.access\n",
    "    print(f'Can\\'t access \"{filename}\"!')\n",
    "\n",
    "print('Another command which should be executed afterwards!')"
   ]
  },
  {
   "cell_type": "markdown",
   "id": "0ccd0a3f-77c7-4938-b109-7fb9a4f5d79d",
   "metadata": {},
   "source": [
    "---"
   ]
  },
  {
   "cell_type": "markdown",
   "id": "8c962202-9644-4748-b6bf-95b296ac3e5e",
   "metadata": {},
   "source": [
    "## 8. Try-except-else-finally"
   ]
  },
  {
   "cell_type": "markdown",
   "id": "c735f701-2728-4a45-9395-03a4474901fc",
   "metadata": {},
   "source": [
    "To catch exceptions you can use these syntax form:\n",
    "\n",
    "```\n",
    "try:\n",
    "    # block of commands\n",
    "except <exception1> [as <var1>]:\n",
    "    # block executed if exception1 occurs\n",
    "except <exception2> [as <var2>]:\n",
    "    # block executed if exception2 occurs\n",
    "except ...  # more exceptions\n",
    "else:\n",
    "    # block executed if no exception happed\n",
    "finally:\n",
    "    # will be executed always!\n",
    "```"
   ]
  },
  {
   "cell_type": "markdown",
   "id": "dbc39086-c93d-4907-8965-ba01a66f71bb",
   "metadata": {},
   "source": [
    "### else"
   ]
  },
  {
   "cell_type": "markdown",
   "id": "6c54959d-cfa5-490c-88a3-75c13bdbf110",
   "metadata": {},
   "source": [
    "The role of `else` is not really intuitive, in our example it means, that we can devide into code which is checked for exceptions and code which is executed if no exception happened:"
   ]
  },
  {
   "cell_type": "code",
   "execution_count": null,
   "id": "982b99e5-1879-4ce5-bc2f-ac3853ea1861",
   "metadata": {},
   "outputs": [],
   "source": [
    "# open an non existing file for reading\n",
    "\n",
    "try:\n",
    "    f = open('data/simple2.txt', 'r')\n",
    "except IOError:\n",
    "    print('Some IO related error occurred!')\n",
    "else:\n",
    "    lines = f.readlines()\n",
    "    print(lines)\n",
    "    f.close()\n",
    "\n",
    "print('Another command which should be executed afterwards!')"
   ]
  },
  {
   "cell_type": "markdown",
   "id": "4682a739-cacd-44cd-ac14-3ed3e3db6895",
   "metadata": {},
   "source": [
    "**Note:** An exception can happen during the execution of the `else` block which will not be catched!"
   ]
  },
  {
   "cell_type": "markdown",
   "id": "cf2f8468-b195-4e9b-8785-4a7a4ae94e28",
   "metadata": {},
   "source": [
    "### finally"
   ]
  },
  {
   "cell_type": "markdown",
   "id": "c7304c94-7eac-40d8-8b8d-73389808ad6e",
   "metadata": {},
   "source": [
    "`finally` plays a different role than `else`. The finally block will always be executed, which is useful e.g. during file operations, where the file can be properly closed before the program stops. This prevents some data loss:"
   ]
  },
  {
   "cell_type": "code",
   "execution_count": null,
   "id": "6c1b14fc-f7c5-4149-a5b3-7d68fca8360a",
   "metadata": {},
   "outputs": [],
   "source": [
    "# open an non existing file for reading\n",
    "\n",
    "try:\n",
    "    f = open('data/simple2.txt', 'r')\n",
    "except IOError:\n",
    "    print('Some IO related error occurred!')\n",
    "else:\n",
    "    lines = f.readlines()\n",
    "    print(lines)\n",
    "finally:\n",
    "    print('finally')\n",
    "    f.close()\n",
    "\n",
    "print('Another command which should be executed afterwards!')"
   ]
  },
  {
   "cell_type": "markdown",
   "id": "42e9114b-d8ee-4dbf-a8b7-96ea8b8faaa3",
   "metadata": {},
   "source": [
    "**Note:** Personally I avoid the `else` part and put all the commands inside the `try` block, since the complete block is under control!"
   ]
  },
  {
   "cell_type": "markdown",
   "id": "f2ea1c51-26d8-4d1b-acd2-c0297f6da8be",
   "metadata": {},
   "source": [
    "---"
   ]
  },
  {
   "cell_type": "markdown",
   "id": "63410ea3-93c8-4aee-99d5-268f5d8ecad2",
   "metadata": {},
   "source": [
    "## 9. Exceptions somewhere and nested exception catching"
   ]
  },
  {
   "cell_type": "markdown",
   "id": "81b0f5c1-1c29-43b3-9a71-783fad200b5a",
   "metadata": {},
   "source": [
    "Whenenver an exception occurs, event in deeper function calls the program will then continue in the except part. This means also, that not handled exceptions can be handled in other functions:"
   ]
  },
  {
   "cell_type": "code",
   "execution_count": null,
   "id": "4abc9d74-07ab-49f9-9a5e-96f98d799d88",
   "metadata": {},
   "outputs": [],
   "source": [
    "def faulty(x,y):\n",
    "    res=x/y\n",
    "    return res\n",
    "    \n",
    "try:\n",
    "    faulty(1,0)\n",
    "except ZeroDivisionError:\n",
    "    print('zero division')"
   ]
  },
  {
   "cell_type": "markdown",
   "id": "e64dbe1f-4ada-4d3c-8c63-df3563b06934",
   "metadata": {},
   "source": [
    "or:"
   ]
  },
  {
   "cell_type": "code",
   "execution_count": null,
   "id": "897da60a-83b4-49ed-abd8-6424d847dc41",
   "metadata": {},
   "outputs": [],
   "source": [
    "def faulty(x,y):\n",
    "    try:\n",
    "        res=x/y\n",
    "    except ZeroDivisionError:\n",
    "        print('zero division')\n",
    "    return res\n",
    "    \n",
    "try:\n",
    "    faulty(1,0)\n",
    "except UnboundLocalError as err:\n",
    "    print(err)\n",
    "    "
   ]
  },
  {
   "cell_type": "markdown",
   "id": "c8336792-0eae-4636-8e2d-2a59955f9311",
   "metadata": {},
   "source": [
    "---"
   ]
  },
  {
   "cell_type": "markdown",
   "id": "c711288b-272c-4c6b-b988-d37c65d2ba30",
   "metadata": {},
   "source": [
    "## 10. file-IO with `with`"
   ]
  },
  {
   "cell_type": "markdown",
   "id": "6940aebc-12bc-4b55-9170-3d88a7d8895d",
   "metadata": {},
   "source": [
    "For generating more compact code for file-IO operations, you can use the `with` statement:"
   ]
  },
  {
   "cell_type": "code",
   "execution_count": null,
   "id": "3a2b07fa-7120-4fe9-8cf2-6068b641b06e",
   "metadata": {},
   "outputs": [],
   "source": [
    "with open('data/simple.txt','r') as f:\n",
    "    lines = f.readlines()\n",
    "    print(lines)"
   ]
  },
  {
   "cell_type": "markdown",
   "id": "48262b92-e7f1-4c0a-9518-6e52a22a34b5",
   "metadata": {},
   "source": [
    "In this case `f.close()` will be executed after the block is successfully executed, even if in the block an exception happens. This will avoid data loss during file write operations.\n",
    "\n",
    "Anyway, problems need to be catched:"
   ]
  },
  {
   "cell_type": "code",
   "execution_count": null,
   "id": "5411d2a5-3be1-4501-9780-cb8071148938",
   "metadata": {},
   "outputs": [],
   "source": [
    "try:\n",
    "    with open('data/simple.txt','r') as f:\n",
    "        lines = f.readlines()\n",
    "        print(lines)\n",
    "except IOError:\n",
    "    print('Some IO related error occurred!')"
   ]
  },
  {
   "cell_type": "markdown",
   "id": "24acceca-499c-4887-8614-d01c426d8874",
   "metadata": {},
   "source": [
    "---"
   ]
  },
  {
   "cell_type": "markdown",
   "id": "d23ffced-27b1-4080-b2f3-a1555af09b83",
   "metadata": {},
   "source": [
    "## 11. Raising own exception"
   ]
  },
  {
   "cell_type": "markdown",
   "id": "e1b07d23-863d-4795-920b-0aabbbe2485d",
   "metadata": {},
   "source": [
    "Sometimes it is necessary to throw an exception by your self. At the moment any other code may be better, but e.g. in Python `class` definitions, this is the only way to indicate an error:"
   ]
  },
  {
   "cell_type": "code",
   "execution_count": null,
   "id": "2fe1ade8-e672-4133-b7d0-9f63b18b933d",
   "metadata": {},
   "outputs": [],
   "source": [
    "def test_function(x):\n",
    "    \"\"\"\n",
    "    test_function prooves if x is in [0,1]\n",
    "    if x is out of the interval, a ValueError will be thrown\n",
    "    \n",
    "    Example:\n",
    "    try:\n",
    "        print(test_function(-1))\n",
    "    except ValueError as err:\n",
    "        print(err)\n",
    "    \"\"\"\n",
    "    if (x > 1) or (x<0):\n",
    "        raise ValueError(f'variable x={x} out of limits')\n",
    "    return x\n",
    "\n",
    "# main program\n",
    "print(test_function(0.5))\n",
    "\n",
    "try:\n",
    "    print(test_function(-1))\n",
    "except ValueError as err:\n",
    "    print(err)"
   ]
  },
  {
   "cell_type": "markdown",
   "id": "3a2e191a-2b02-40ec-af80-b2f29f160aa6",
   "metadata": {},
   "source": [
    "**Note:** Choose an Exceptions which is close to the reason, you want to have. A message is always useful! Document you function, so that anybody knows, that this function will throw an exception!"
   ]
  },
  {
   "cell_type": "markdown",
   "id": "b15dd28c-2d1b-445b-b1bc-98a129982906",
   "metadata": {},
   "source": [
    "---"
   ]
  },
  {
   "cell_type": "markdown",
   "id": "0ffd3d7c-6e70-42e2-be03-f7ae9deb23aa",
   "metadata": {},
   "source": [
    "## 12. Debugging"
   ]
  },
  {
   "cell_type": "markdown",
   "id": "e2926aa1-558b-4afe-a797-1a41adb275d6",
   "metadata": {},
   "source": [
    "Under some circumstances, e.g. in complex python scripts, it is necessary put a `try` command around a large block of commands for debugging and check the influence of errors to the program. At the same time one is interested in where the problem happened. Python provides a nice debugging tool for it:"
   ]
  },
  {
   "cell_type": "code",
   "execution_count": null,
   "id": "f30679ad-809f-4d6c-9480-372d69146148",
   "metadata": {},
   "outputs": [],
   "source": [
    "import traceback\n",
    "\n",
    "try:\n",
    "    print(1/0)\n",
    "except:\n",
    "    print('error')\n",
    "    tcbk = traceback.format_exc()\n",
    "\n",
    "    print(tcbk)\n",
    "\n",
    "print('Normal execution')"
   ]
  },
  {
   "cell_type": "markdown",
   "id": "77513435-cbe4-4836-b915-f5d821fcb134",
   "metadata": {},
   "source": [
    "---"
   ]
  },
  {
   "cell_type": "markdown",
   "id": "9046396c-afda-448a-97c8-ce1824f320bf",
   "metadata": {},
   "source": [
    "## 13. Logging"
   ]
  },
  {
   "cell_type": "markdown",
   "id": "859d397e-7d7b-41e4-a484-3d3f32b3b635",
   "metadata": {},
   "source": [
    "For larger python projects, it is useful, to document some program steps or also address warning or even errors of exceptions. Python provides a useful module `logging` which can be used for the creations of different logging situations:"
   ]
  },
  {
   "cell_type": "code",
   "execution_count": 5,
   "id": "60e83b58-e86e-4221-a4c7-034a4360aed7",
   "metadata": {},
   "outputs": [
    {
     "name": "stderr",
     "output_type": "stream",
     "text": [
      "WARNING:root:Some warnings.\n",
      "ERROR:root:Some errors.\n",
      "CRITICAL:root:Critical errors.\n"
     ]
    }
   ],
   "source": [
    "import logging\n",
    "\n",
    "logging.info('Useful informations!')\n",
    "logging.debug('Some debug notes!')\n",
    "logging.warning('Some warnings.')\n",
    "logging.error('Some errors.')\n",
    "logging.critical('Critical errors.')"
   ]
  },
  {
   "cell_type": "markdown",
   "id": "eb406e72-b97e-4c96-9d67-58afe7e8c1b0",
   "metadata": {},
   "source": [
    "In jupyter notebooks, the `logging`-module is not working correctly, but it is working nicely in python `scripts`:"
   ]
  },
  {
   "cell_type": "code",
   "execution_count": 6,
   "id": "e890cd1a-203d-42d8-a90e-06cbe1a359ac",
   "metadata": {},
   "outputs": [
    {
     "name": "stdout",
     "output_type": "stream",
     "text": [
      "import logging\n",
      "\n",
      "#logging.basicConfig(level=logging.DEBUG)\n",
      "#logging.basicConfig(filename='demo.log', format='%(asctime)s %(message)s', level=logging.DEBUG )\n",
      "\n",
      "logging.info('Useful informations!')\n",
      "logging.debug('Some debug notes!')\n",
      "logging.warning('Some warnings.')\n",
      "logging.error('Some errors.')\n",
      "logging.critical('Critical errors.')\n"
     ]
    }
   ],
   "source": [
    "!cat logging_demo.py"
   ]
  },
  {
   "cell_type": "code",
   "execution_count": null,
   "id": "ef1e2f4e-ab78-4d71-85ae-924f1dca02ab",
   "metadata": {},
   "outputs": [],
   "source": []
  }
 ],
 "metadata": {
  "kernelspec": {
   "display_name": "Python 3 (ipykernel)",
   "language": "python",
   "name": "python3"
  },
  "language_info": {
   "codemirror_mode": {
    "name": "ipython",
    "version": 3
   },
   "file_extension": ".py",
   "mimetype": "text/x-python",
   "name": "python",
   "nbconvert_exporter": "python",
   "pygments_lexer": "ipython3",
   "version": "3.9.10"
  }
 },
 "nbformat": 4,
 "nbformat_minor": 5
}
