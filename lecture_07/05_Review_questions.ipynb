{
 "cells": [
  {
   "cell_type": "markdown",
   "id": "cf53f4b2-92c6-46e3-b4e3-4e87416a73d4",
   "metadata": {
    "tags": []
   },
   "source": [
    "# Review Tasks for the lecture"
   ]
  },
  {
   "cell_type": "markdown",
   "id": "0fbd0bb8-7764-44e6-884f-3809ead486fe",
   "metadata": {},
   "source": [
    "Here some small tasks with that you should be able to do directly after the lecture. I strongly advise you to look at them before the exercise. It gives you the opportunity to check what you did not yet understand and to ask your tutor in the case of problems."
   ]
  },
  {
   "cell_type": "markdown",
   "id": "8dde49cc-9e44-4c2c-b08a-0f046c9272a7",
   "metadata": {},
   "source": [
    "## List comprehensions"
   ]
  },
  {
   "cell_type": "markdown",
   "id": "c7c87881-2db8-4b98-b4a3-e5cd2968b394",
   "metadata": {},
   "source": [
    "Use list comprehension to contruct a new list but add 6 to each item.\n",
    "\n",
    "```\n",
    "lst1=[44,54,64,74,104]\n",
    "```"
   ]
  },
  {
   "cell_type": "code",
   "execution_count": null,
   "id": "b5b8f33c-8020-4573-9859-bae257f5ce8c",
   "metadata": {},
   "outputs": [],
   "source": [
    "# Your solution here please"
   ]
  },
  {
   "cell_type": "markdown",
   "id": "8a58e713-e863-46df-80ad-9b50b0de63a0",
   "metadata": {},
   "source": [
    "Using list comprehension, construct a list from the squares of each element in the list, if the square is greater than 50.\n",
    "\n",
    "```\n",
    "lst1=[2,4,6,8,10,12,14]\n",
    "```"
   ]
  },
  {
   "cell_type": "code",
   "execution_count": null,
   "id": "f1d5c2e5-a6dc-42f0-a9d1-8dd4760e8dda",
   "metadata": {},
   "outputs": [],
   "source": [
    "# Your solution here please"
   ]
  },
  {
   "cell_type": "markdown",
   "id": "811fc202-ef95-4db2-b5bd-50e5276da3ad",
   "metadata": {},
   "source": [
    "---"
   ]
  },
  {
   "cell_type": "markdown",
   "id": "566497de-50b9-4c39-bba9-427710077b2f",
   "metadata": {},
   "source": [
    "## Exceptions"
   ]
  },
  {
   "cell_type": "markdown",
   "id": "78e183c1-5cd8-4b0e-a15f-697f05da5384",
   "metadata": {},
   "source": [
    "You have a function `func1` which will generate a `IndexError` exception. How to catch the exception in a main program and write a useful message:"
   ]
  },
  {
   "cell_type": "code",
   "execution_count": null,
   "id": "79e6b671-c110-4ef4-9847-8dfa2bfe6d54",
   "metadata": {},
   "outputs": [],
   "source": [
    "# function definition\n",
    "\n",
    "def func1():\n",
    "     a = [1,2,3,4]\n",
    "     a[5] = 0"
   ]
  },
  {
   "cell_type": "code",
   "execution_count": null,
   "id": "43050f6d-37ec-4abc-81c9-abf2c6dd6783",
   "metadata": {},
   "outputs": [],
   "source": [
    "# Your solution here please, modify this cell\n",
    "\n",
    "# main program\n",
    "func1()"
   ]
  },
  {
   "cell_type": "markdown",
   "id": "6011c388-368a-45fc-9b68-806e443344ec",
   "metadata": {},
   "source": [
    "Use the same function but give the detailed error message from the exception itself:"
   ]
  },
  {
   "cell_type": "code",
   "execution_count": null,
   "id": "57514079-8268-4e93-89d3-a92b837c0ef7",
   "metadata": {},
   "outputs": [],
   "source": [
    "# Your solution here"
   ]
  },
  {
   "cell_type": "markdown",
   "id": "e47ba212-b874-45ef-a19b-9c73b95025e8",
   "metadata": {},
   "source": [
    "---"
   ]
  },
  {
   "cell_type": "markdown",
   "id": "8c745fbf-7d37-4bae-9a11-32389404d156",
   "metadata": {},
   "source": [
    "## Modules"
   ]
  },
  {
   "cell_type": "markdown",
   "id": "456a7301-d18e-420a-a1c4-048e1629db4b",
   "metadata": {},
   "source": [
    "Please answer these questions (without the possibility of a real test):"
   ]
  },
  {
   "cell_type": "markdown",
   "id": "f886223f-15cc-4b82-b84f-5671a953d75c",
   "metadata": {},
   "source": [
    "**1:**  You have a module `mod1` which provides the functions `func1`, `func2` and `func3`. You want to use `func2` only, what `import` is necessary (the command func1() should give an error!):"
   ]
  },
  {
   "cell_type": "code",
   "execution_count": null,
   "id": "c8a16920-2585-4f55-8a53-66e7e67d40af",
   "metadata": {},
   "outputs": [],
   "source": [
    "# Your answer here"
   ]
  },
  {
   "cell_type": "markdown",
   "id": "5588f94c-83ab-4764-aadd-26c0ac53d17f",
   "metadata": {},
   "source": [
    "**2:** Your have the module `mod1` from the question before and an additional module `mod2` which is unfortunately providing the same functions. You want to use `func2` from both modules. Give two possibilities for a `import` command which makes these two functions unique in your program. "
   ]
  },
  {
   "cell_type": "code",
   "execution_count": null,
   "id": "4560c664-27db-44d6-a4c8-2b6520c00c12",
   "metadata": {},
   "outputs": [],
   "source": [
    "# Your answer here"
   ]
  },
  {
   "cell_type": "markdown",
   "id": "00ef7561-daf1-400d-85a4-666a98c97d0b",
   "metadata": {},
   "source": [
    "---"
   ]
  },
  {
   "cell_type": "markdown",
   "id": "6a9c5c03-f63e-4bcf-861e-deed831b5542",
   "metadata": {},
   "source": [
    "## Working with terminals"
   ]
  },
  {
   "cell_type": "markdown",
   "id": "c301f6fd-1cd3-45af-ad7d-15718525459f",
   "metadata": {},
   "source": [
    "For the preparation of the next exercise is to use the desktop part of the jupyterlab environment and start a terminal and an editor. If you have problems with these steps, contact your tutor in the exercise class."
   ]
  }
 ],
 "metadata": {
  "kernelspec": {
   "display_name": "Python 3 (ipykernel)",
   "language": "python",
   "name": "python3"
  },
  "language_info": {
   "codemirror_mode": {
    "name": "ipython",
    "version": 3
   },
   "file_extension": ".py",
   "mimetype": "text/x-python",
   "name": "python",
   "nbconvert_exporter": "python",
   "pygments_lexer": "ipython3",
   "version": "3.10.11"
  }
 },
 "nbformat": 4,
 "nbformat_minor": 5
}
