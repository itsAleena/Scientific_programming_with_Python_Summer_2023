{
 "cells": [
  {
   "cell_type": "markdown",
   "id": "247880b0-af6e-4af2-b793-a6ed5bbe5d95",
   "metadata": {},
   "source": [
    "# Object orientated programming"
   ]
  },
  {
   "cell_type": "markdown",
   "id": "584fbbef-2f23-4909-ad11-3b2c50aa1dc4",
   "metadata": {},
   "source": [
    "---\n",
    "\n",
    "In this notebook I will give an introduction into the object orientated programming with Python.\n",
    "\n",
    "---"
   ]
  },
  {
   "cell_type": "markdown",
   "id": "2c70ddf9-07e6-40a5-9115-e8998908b2e2",
   "metadata": {},
   "source": [
    "Before we start it is worth to mention when object orientated programming was introduced in the programming paradigms. In the end of the 1960s *Simula-67* was the first implemented object orientated programming languages (written by Ole-Johan Dahl and Kristen Nygaard). Successor is the programming language *Smalltalk*.  Bjarne Stroustrup (the developer of C++) used this first language to enhance *C* which then leads to *C++*. The basic concepts were then also implemented in the modern OO-programming languages including *Python*."
   ]
  },
  {
   "cell_type": "markdown",
   "id": "5b2fab73-fc37-4d79-bb5c-7357d48c26d8",
   "metadata": {},
   "source": [
    "## 1. Motivation"
   ]
  },
  {
   "cell_type": "markdown",
   "id": "33a4dde3-befd-4f34-83f5-42eb66133749",
   "metadata": {},
   "source": [
    "In general there are a few approaches to motivate object orientated programming:\n",
    "\n",
    " * *in Python everything is an object*\n",
    " * bound together data and corresponding functions/methods as objects   -> clean code\n",
    " * interact with objects with their functions/methods without detailed knowledge of the data -> encapsulation\n",
    " * reuse of code if objects are the same -> instantiating \n",
    " * reuse of code if objects share same functions or properties -> abstraction, inheritance"
   ]
  },
  {
   "cell_type": "markdown",
   "id": "385c5359-1f2e-4b4a-b274-839d7a3284d0",
   "metadata": {},
   "source": [
    "An AI-Bot gave me this answer:\n",
    "\n",
    "*The motivation behind object-oriented programming (OOP) is to provide a way to model real-world objects and their behavior in a computer program. OOP is based on the idea that a program is made up of objects, which are instances of classes, and that these objects can interact with each other through methods and properties. This approach allows for code reuse, encapsulation, and abstraction, making it easier to maintain and modify the program. OOP also enables the creation of complex systems that are more understandable and maintainable than those created using other programming paradigms.*"
   ]
  },
  {
   "cell_type": "markdown",
   "id": "3afa2d21-5826-4d39-b0d0-17ba04743297",
   "metadata": {},
   "source": [
    "In this lecture I want to address a new way of programming which may solve future problems when writing larger code for data analysis or simulation."
   ]
  },
  {
   "cell_type": "markdown",
   "id": "2dfc0b9b-e279-4a2b-87e0-1fc7424e03b5",
   "metadata": {},
   "source": [
    "**The main focus here lays on writing simple as possible code which is easy to understand and is also reusable and shareable with others.**"
   ]
  },
  {
   "cell_type": "markdown",
   "id": "f067553f-63c7-43a8-8f0f-50bcc296eb3e",
   "metadata": {},
   "source": [
    "---"
   ]
  },
  {
   "cell_type": "markdown",
   "id": "a6cce0d4-4104-4b95-a9bb-a105efeaef5b",
   "metadata": {},
   "source": [
    "## 2. Definition "
   ]
  },
  {
   "cell_type": "markdown",
   "id": "51a091e9-f8f6-409c-884c-6410abf2572c",
   "metadata": {},
   "source": [
    "Before we can talk about the Python syntax to write the first code, we define some basic phrases which are necessary to understand the object-orientated-programming paradigm."
   ]
  },
  {
   "cell_type": "markdown",
   "id": "a884eeaa-66ca-47db-aa55-ed6228b61974",
   "metadata": {},
   "source": [
    "### 2.1 Classes"
   ]
  },
  {
   "cell_type": "markdown",
   "id": "8e7447eb-1bdb-4067-bbd7-9c0e1d2e02fc",
   "metadata": {},
   "source": [
    "A `class` means the definition of a dataset (a set of individual data parts, e.g. number, strings, lists) and associated functions which a called `methods`. The data which is described by a `class` are mainly referred as `properties`. \n",
    "\n",
    "A `class` is nothing which can be used directly in a program (despite a few exceptions in Python), the nearest description is a `template` of something which a program can access."
   ]
  },
  {
   "cell_type": "markdown",
   "id": "e5dc52bd-d01a-48f9-874c-b9a46f248bf5",
   "metadata": {},
   "source": [
    "### 2.2 Objects or instances"
   ]
  },
  {
   "cell_type": "markdown",
   "id": "6e57ba20-fcf6-4ce6-a37b-2183747a224d",
   "metadata": {},
   "source": [
    "For the real usage the `class` description will be used to create a real `object` during the program. This object can be used as a normal variable. Sometimes the name `instance` is used which is similar to the `object` definition."
   ]
  },
  {
   "cell_type": "markdown",
   "id": "15a196fc-7480-47ec-872d-4610a2aaef6f",
   "metadata": {},
   "source": [
    "---"
   ]
  },
  {
   "cell_type": "markdown",
   "id": "16adbb47-07b7-4fab-b19e-c45f82296439",
   "metadata": {},
   "source": [
    "## 3. Classes in Python"
   ]
  },
  {
   "cell_type": "markdown",
   "id": "3834ae5c-81fd-4e63-9c01-93ff898043a6",
   "metadata": {},
   "source": [
    "The basic definition of a `class` is like this:"
   ]
  },
  {
   "cell_type": "code",
   "execution_count": null,
   "id": "067d46d9-7115-47a1-941e-49c79dc32d9a",
   "metadata": {},
   "outputs": [],
   "source": [
    "class DataSet(object):\n",
    "    \"\"\"\n",
    "    DataSet Docstring\n",
    "    \"\"\"\n",
    "    def func1(self, msg):\n",
    "        print(msg)\n",
    "    \n",
    "    def func2(self, x):\n",
    "        return x**2"
   ]
  },
  {
   "cell_type": "markdown",
   "id": "4e8f8174-c1b5-4d35-b320-af0aec8b776e",
   "metadata": {},
   "source": [
    "Some important first notes with classes:\n",
    " * every class starts with the word `class` (don't forget the `:`)\n",
    " * the class name should be unique (some people prefer a capital at the beginning, but this is not mandantory)\n",
    " * all definitions which belongs to a class need to be indented, similar to functions or other code blocks\n",
    " * usually functions/methods are defined and have in most cases at least the argument `self` in the function header"
   ]
  },
  {
   "cell_type": "code",
   "execution_count": null,
   "id": "a085382c-ab3b-49dd-98b2-05dde78ba06c",
   "metadata": {},
   "outputs": [],
   "source": [
    "class DataSet2(object):\n",
    "    pass                    # this is also a valid definition but also useless, because it does nothing"
   ]
  },
  {
   "cell_type": "markdown",
   "id": "10c87edc-9810-49d2-9344-594a179ed87a",
   "metadata": {},
   "source": [
    "---"
   ]
  },
  {
   "cell_type": "markdown",
   "id": "7d1ffee1-bc4d-41fd-bc71-230cfe6a58aa",
   "metadata": {},
   "source": [
    "## 4. Objects and instances in Python"
   ]
  },
  {
   "cell_type": "markdown",
   "id": "c0348fba-45af-45a8-9ee6-bd2b73e7c5ea",
   "metadata": {},
   "source": [
    "Since `class` definitions are working as templates no really code or data was established during the `class` command. But with the next commands you instantiate **real** `objects` or `instances` of a defined `class`:"
   ]
  },
  {
   "cell_type": "code",
   "execution_count": null,
   "id": "c15f4698-2ef3-4572-82ed-9680bbb3f016",
   "metadata": {},
   "outputs": [],
   "source": [
    "d = DataSet()   # create an object from class DataSet\n",
    "e = DataSet2()  # create an object from class DataSet2\n",
    "f = DataSet()   # create a second object from class DataSet\n",
    "\n",
    "print(type(d))\n",
    "print(type(e))\n",
    "print(type(f))"
   ]
  },
  {
   "cell_type": "markdown",
   "id": "9bf09e4f-4a30-4191-80d5-211b1d6860d3",
   "metadata": {},
   "source": [
    "This cell shows several things:\n",
    " * maybe you can now understand, that all the previous presented containers are in fact `classes` and if you are using these objects, you were working object orientated from the beginning!\n",
    " * objects can be assigned to variables in Python\n",
    " * the type of the variables now belong to the previous defined `classes`\n",
    " * you can instantiate more than one object from a `class`"
   ]
  },
  {
   "cell_type": "markdown",
   "id": "93bc1a29-0645-4321-b4d3-72b894b061a2",
   "metadata": {},
   "source": [
    "After instantiating the defined functions can be called:"
   ]
  },
  {
   "cell_type": "code",
   "execution_count": null,
   "id": "c6f6c6c2-89bd-47ca-a198-258c90b27896",
   "metadata": {},
   "outputs": [],
   "source": [
    "d.func1('Hello World!')\n",
    "\n",
    "print(d.func2(5))"
   ]
  },
  {
   "cell_type": "markdown",
   "id": "58026509-e893-447c-953c-d39bfb9ffb0a",
   "metadata": {},
   "source": [
    "---"
   ]
  },
  {
   "cell_type": "markdown",
   "id": "1e5a12f9-bade-4c5a-bb6c-a6b8f23768bb",
   "metadata": {},
   "source": [
    "## 5. Inside of objects and instances"
   ]
  },
  {
   "cell_type": "markdown",
   "id": "2b6e7884-a43f-4f2b-8482-2d88b9b2569e",
   "metadata": {},
   "source": [
    "At this point we should have a closer look at the `objects`. \n",
    "\n",
    "If you need to check, what was previously defined in the `class`, you can use the `dir(instance)` command:"
   ]
  },
  {
   "cell_type": "code",
   "execution_count": null,
   "id": "90f2412a-c808-408c-9718-7b7e0932aa39",
   "metadata": {},
   "outputs": [],
   "source": [
    "dir(d)"
   ]
  },
  {
   "cell_type": "code",
   "execution_count": null,
   "id": "9f78a31f-d422-4ce2-bb28-0bd5fc753f04",
   "metadata": {},
   "outputs": [],
   "source": [
    "print(d.__class__)\n",
    "print(d.__doc__)"
   ]
  },
  {
   "cell_type": "markdown",
   "id": "a5b238c4-f0fc-4555-8a24-2e99e021c64e",
   "metadata": {},
   "source": [
    "With `dir` you have a nice inspect tool of all definitions even if you have no direct source code available."
   ]
  },
  {
   "cell_type": "code",
   "execution_count": null,
   "id": "5f79196b-6350-47fa-b3bb-93cb0a57280d",
   "metadata": {},
   "outputs": [],
   "source": [
    "i = 12  # assign an int\n",
    "\n",
    "print(type(i))\n",
    "\n",
    "dir(i)"
   ]
  },
  {
   "cell_type": "code",
   "execution_count": null,
   "id": "88c83837-bbd6-4cc8-a8c4-3cd5bb011abd",
   "metadata": {},
   "outputs": [],
   "source": [
    "help(i.__add__)"
   ]
  },
  {
   "cell_type": "markdown",
   "id": "a7a19f08-484c-4246-bebd-cc3b962e9c0f",
   "metadata": {},
   "source": [
    "**In this example you can see, that also a simple number is an object and `int` is a class definition!**"
   ]
  },
  {
   "cell_type": "markdown",
   "id": "be3a005f-3889-4040-ba02-5437ad1946eb",
   "metadata": {},
   "source": [
    "With `type(i)` you can check, which `class` is behind the `instance` `i`. The problem is, how can you check in your code that a given `instance` `a` is an `int`?"
   ]
  },
  {
   "cell_type": "code",
   "execution_count": null,
   "id": "49d75aaf-86c3-42d6-8cfc-3e45befcc3ab",
   "metadata": {},
   "outputs": [],
   "source": [
    "a = 1234    # is an integer\n",
    "b = 1234.   # is a float\n",
    "\n",
    "print(type(a))\n",
    "print(type(b))\n",
    "\n",
    "print(type(a) == int)      # is working, but better is:\n",
    "\n",
    "print(isinstance(a, int))  # the advantage of isinstance will be clear in the next lectures!\n",
    "print(isinstance(b, int))"
   ]
  },
  {
   "cell_type": "markdown",
   "id": "b0231bb9-bf1d-46d9-a1c8-984acef5f742",
   "metadata": {},
   "source": [
    "---"
   ]
  },
  {
   "cell_type": "markdown",
   "id": "7d694e63-1512-405e-84ec-801a678672dc",
   "metadata": {},
   "source": [
    "## 5. Construction and destruction of objects"
   ]
  },
  {
   "cell_type": "markdown",
   "id": "2a46a126-483f-4f0a-9865-53054feec9c6",
   "metadata": {},
   "source": [
    "If you look at the programming paradigms of the oop you read very often something about `construction` and `destruction` of objects. Usually means this the allocation of memory for the object (construction) and free the memory after use (destruction). In Python this somewhat hidden internally, usually the user don't need to allocate memory by hand or free the memory, python is doing this for you."
   ]
  },
  {
   "cell_type": "markdown",
   "id": "af7ea3cd-936a-4fce-987d-8ec3031514b0",
   "metadata": {},
   "source": [
    "However, python provides special methods/functions which will be called after the instantiating process and before the `destruction` , which are called `__init__` and `__del__`:"
   ]
  },
  {
   "cell_type": "code",
   "execution_count": null,
   "id": "3602032e-b8cd-4e5d-9a0e-acda1f503366",
   "metadata": {},
   "outputs": [],
   "source": [
    "class DataSet(object):\n",
    "    def __init__(self):\n",
    "        print('initialization')\n",
    "        \n",
    "    def __del__(self):\n",
    "        print('destruction')\n",
    "        \n",
    "    def func1(self, msg):\n",
    "        print(msg)\n",
    "    \n",
    "    def func2(self, x):\n",
    "        return x**2"
   ]
  },
  {
   "cell_type": "code",
   "execution_count": null,
   "id": "bc03fb43-7fe7-4311-b455-0b8419e15b30",
   "metadata": {},
   "outputs": [],
   "source": [
    "d = DataSet()\n",
    "\n",
    "d.func1('Hello World!')\n",
    "\n",
    "del d"
   ]
  },
  {
   "cell_type": "code",
   "execution_count": null,
   "id": "807e650c-15b6-4bdc-a92d-1edb396c2024",
   "metadata": {},
   "outputs": [],
   "source": [
    "print(type(d))"
   ]
  },
  {
   "cell_type": "markdown",
   "id": "47eb600c-e316-486e-9dac-bfe3bdd4aeee",
   "metadata": {},
   "source": [
    "After using `del d` the variable is not accessible any more."
   ]
  },
  {
   "cell_type": "markdown",
   "id": "6860fce6-179c-4ff2-a036-6426fc8b2c5b",
   "metadata": {},
   "source": [
    "Usually it is not necessary, to use `del` , e.g. in functions, python automatically is executing a `del` operation:"
   ]
  },
  {
   "cell_type": "code",
   "execution_count": null,
   "id": "05e7c5ec-e2fd-405e-a88f-683a8d1f19cb",
   "metadata": {},
   "outputs": [],
   "source": [
    "def test():\n",
    "    d = DataSet()\n",
    "    d.func1('Test function')\n",
    "    \n",
    "# main\n",
    "test()"
   ]
  },
  {
   "cell_type": "markdown",
   "id": "fad531dc-1397-42db-b1e2-8645d04de1fa",
   "metadata": {},
   "source": [
    "In most cases, `del` and `__del__` can be ignored and need not to be implemented. For some advantage users the topic `garbage collection` may be interesting."
   ]
  },
  {
   "cell_type": "markdown",
   "id": "1af8af7e-5783-418b-a211-f4a8aae7aa52",
   "metadata": {},
   "source": [
    "`__init__` plays the role of the initialization of an object and is mainly used to define the data which belongs to the object. `__init__` is the only method in a class definition which cannot return any results (see later example)."
   ]
  },
  {
   "cell_type": "markdown",
   "id": "c3207eec-6ff3-4269-9650-97c7cadd5b4a",
   "metadata": {},
   "source": [
    "## 6. `self` argument"
   ]
  },
  {
   "cell_type": "markdown",
   "id": "df6cc6aa-ac65-4ff5-9d5c-f66198ad22c4",
   "metadata": {},
   "source": [
    "In the previous examples there was this additional `self` argument !?"
   ]
  },
  {
   "cell_type": "markdown",
   "id": "a605ef7a-dcb3-4d0e-b5e3-81eba077ae94",
   "metadata": {},
   "source": [
    "`self` is a special variable which points to the actually used instance of the class. This also means, that with `self` we can add variables or properties to the instance, which will be done usually in the `__init__` method:"
   ]
  },
  {
   "cell_type": "code",
   "execution_count": null,
   "id": "74937bc6-df6c-4f10-bb07-deb2f2b16db7",
   "metadata": {},
   "outputs": [],
   "source": [
    "class DataSet(object):\n",
    "    def __init__(self, msg):\n",
    "        print('initialization')\n",
    "        self.msg = msg\n",
    "        \n",
    "    def func1(self):\n",
    "        print(self.msg)\n",
    "        \n",
    "        \n",
    "d = DataSet('instance d')\n",
    "e = DataSet('instance e')\n",
    "d.func1()\n",
    "e.func1()"
   ]
  },
  {
   "cell_type": "markdown",
   "id": "d18adb31-1656-4ff6-8bb9-24e2f9e10180",
   "metadata": {},
   "source": [
    "In this case `self.msg` in the class definition defines the property `msg`. Properties can also be accessed via the object itself:"
   ]
  },
  {
   "cell_type": "code",
   "execution_count": null,
   "id": "934134f9-ef06-47f2-baf1-25ef20ab123c",
   "metadata": {},
   "outputs": [],
   "source": [
    "print(d.msg)\n",
    "print(e.msg)"
   ]
  },
  {
   "cell_type": "markdown",
   "id": "48709895-9c3b-4bc3-9bc4-81656e279816",
   "metadata": {},
   "source": [
    "where you can see, that `self` is similar to the object variable itself."
   ]
  },
  {
   "cell_type": "markdown",
   "id": "4b66e7ef-9dd5-464b-8dfb-7517bbbaba4f",
   "metadata": {},
   "source": [
    "---"
   ]
  },
  {
   "cell_type": "markdown",
   "id": "1bd4fc69-74c5-4160-a36a-ee59a2828dc6",
   "metadata": {},
   "source": [
    "## 7. Properties and naming rules"
   ]
  },
  {
   "cell_type": "markdown",
   "id": "00a82ce9-1d52-40e7-8f84-55563719e53d",
   "metadata": {},
   "source": [
    "At any time you can add (or remove) new variables/properties to the instance. If you define these properties in `__init__` you have access to these from any methods, otherwise you need to be careful, that the property is already defined before accessing! As usual variables, the content can be modified and also the type can be changed."
   ]
  },
  {
   "cell_type": "markdown",
   "id": "b3c91b6e-ad41-4519-aec8-45556b7f221a",
   "metadata": {},
   "source": [
    "As shown properties can be accessed from outside via the instance variable."
   ]
  },
  {
   "cell_type": "markdown",
   "id": "8dd51088-4a17-4d24-9a9e-e7c76fd97e65",
   "metadata": {},
   "source": [
    "For the properties there are importing naming rules:\n",
    " * properties starting with `__` cannot be accessed from outside, these are for internal use only!\n",
    " * properties starting with `_` can be accessed directly, but are hidden \n",
    " \n",
    "(C++ programmer knows these rules as private (`__`) and protected (`_`)!)"
   ]
  },
  {
   "cell_type": "code",
   "execution_count": null,
   "id": "9f138f9b-65f5-4254-9d6f-a293b56479c6",
   "metadata": {},
   "outputs": [],
   "source": [
    "class DataSet(object):\n",
    "    def __init__(self, msg):\n",
    "        print('initialization')\n",
    "        self.msg = msg\n",
    "        self._msg = msg\n",
    "        self.__msg = msg\n",
    "        \n",
    "    def func1(self):\n",
    "        print(self.__msg)\n",
    "        \n",
    "        \n",
    "d = DataSet('instance d')\n",
    "d.func1()    # print the content of an internal variable\n",
    "\n",
    "print(f'd.msg={d.msg}')\n",
    "print(f'd._msg={d._msg}')\n",
    "#print(f'd.__msg={d.__msg}')  # is a private property"
   ]
  },
  {
   "cell_type": "markdown",
   "id": "a4522b34-94f0-4e9e-8c56-9f0bfb74a0af",
   "metadata": {},
   "source": [
    "---"
   ]
  },
  {
   "cell_type": "markdown",
   "id": "f4f1e298-8232-45de-8803-6492a38f0960",
   "metadata": {},
   "source": [
    "## 8. Methods/Functions"
   ]
  },
  {
   "cell_type": "markdown",
   "id": "39b69e4d-f317-40da-9ac3-14575b990a94",
   "metadata": {},
   "source": [
    "In general as seen, each object has a number of predefined methods and functions, which you don't need to call. \n",
    "\n",
    "For the normal usage you can add new methods/functions to your class definition.\n",
    "\n",
    "Function names have the same naming rules as the properties, so you can also decide between internal (private) methods (starting with `__`)  and methods which can be accessed from outside."
   ]
  },
  {
   "cell_type": "code",
   "execution_count": null,
   "id": "8489c588-e357-44f2-b7af-cfbf3006d741",
   "metadata": {},
   "outputs": [],
   "source": [
    "import numpy as np\n",
    "\n",
    "class Data(object):\n",
    "    def __init__(self, x):\n",
    "        self.__x = x\n",
    "        \n",
    "    def __check_limits(self):\n",
    "        \"\"\"\n",
    "        check if self.__x is larger than 0\n",
    "        \"\"\"\n",
    "        return self.__x >= 0\n",
    "\n",
    "    \n",
    "    def sqrtx(self):\n",
    "        \"\"\"\n",
    "        do the sqrt only if self.__x is larger than 0\n",
    "        \"\"\"\n",
    "        if self.__check_limits():\n",
    "            return np.sqrt(self.__x)\n",
    "        else:\n",
    "            return 0.0\n",
    "        \n",
    "        \n",
    "d = Data(2.0)\n",
    "print(d.sqrtx())\n",
    "\n",
    "e = Data(-1.0)\n",
    "print(e.sqrtx())\n",
    "\n",
    "#print(d.__check_limits())  # is a private method"
   ]
  },
  {
   "cell_type": "markdown",
   "id": "310ef3b2-5319-4a17-94c6-879ff79386b4",
   "metadata": {},
   "source": [
    "---"
   ]
  },
  {
   "cell_type": "markdown",
   "id": "5f160c1d-ecc8-47ab-b656-90cac3c166f8",
   "metadata": {},
   "source": [
    "## Summary"
   ]
  },
  {
   "cell_type": "markdown",
   "id": "56e2cf22-f386-4de9-9186-0f832088080d",
   "metadata": {},
   "source": [
    "These are some of the important statements for using `classes` in Python:\n",
    "\n",
    " * in Python you have `classes` as defintions and `objects`/`instances` assigned to variables\n",
    " * `class` definitions should live in modules (not necessarily but this makes the code much more readable)\n",
    " * `properties` and `methods` can be used/called from an instance with `.property-name`  or `.method-name(...)` \n",
    " * `self` is pointing to the current `instance`, with `self.` properties and methods can be accessed(and modified)/called from any methods\n",
    " * naming of `properties` and `methods` are important (protection)\n",
    " * `__init__` cannot return any error values, use `exceptions` for indicating errors"
   ]
  },
  {
   "cell_type": "code",
   "execution_count": null,
   "id": "e0e50a73-82ac-4105-b7cf-4db7dfe58921",
   "metadata": {},
   "outputs": [],
   "source": []
  }
 ],
 "metadata": {
  "kernelspec": {
   "display_name": "Python 3 (ipykernel)",
   "language": "python",
   "name": "python3"
  },
  "language_info": {
   "codemirror_mode": {
    "name": "ipython",
    "version": 3
   },
   "file_extension": ".py",
   "mimetype": "text/x-python",
   "name": "python",
   "nbconvert_exporter": "python",
   "pygments_lexer": "ipython3",
   "version": "3.9.10"
  }
 },
 "nbformat": 4,
 "nbformat_minor": 5
}
