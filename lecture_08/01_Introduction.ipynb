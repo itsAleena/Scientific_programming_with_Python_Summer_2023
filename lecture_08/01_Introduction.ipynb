{
 "cells": [
  {
   "cell_type": "markdown",
   "id": "af55b9f6-74b2-4a73-9731-219f8182fcd8",
   "metadata": {
    "tags": []
   },
   "source": [
    "# Lecture 8 - May 26th 2023"
   ]
  },
  {
   "cell_type": "markdown",
   "id": "922f41cf-b237-4b5d-b185-5fe45ed598f7",
   "metadata": {},
   "source": [
    "---\n",
    "\n",
    "**Topics of this lecture:**\n",
    "\n",
    " * Introduction to object orientated programming\n",
    " * `class` definition in Python\n",
    " \n",
    "----"
   ]
  },
  {
   "cell_type": "markdown",
   "id": "abe0e59f-3448-4197-b9ca-a534aebc3680",
   "metadata": {},
   "source": [
    "## Additional announcements"
   ]
  },
  {
   "cell_type": "markdown",
   "id": "25e2de9d-02f0-494d-98af-4c2765c8e9e4",
   "metadata": {},
   "source": [
    " * the exercise class group 1 (Monday 12pm group) will be __online only__  on June 5th)"
   ]
  },
  {
   "cell_type": "markdown",
   "id": "65df1db5-a59f-49a3-a347-26ba937b0059",
   "metadata": {},
   "source": [
    "## Project/Homework submissions"
   ]
  },
  {
   "cell_type": "markdown",
   "id": "c0cca054-cf4f-4aa0-a2bc-c4ed9b341402",
   "metadata": {},
   "source": [
    " * if the project/homework relay on additional files, **do not change the filenames or modify the files**\n",
    " * don't change the filepath to the additional files in your submissions, otherwise we cannot run your solution!\n",
    " * if you work on your own devices, before submission, test your solution on our Jupyterhub-Online-System. If the code is not running in this enviroment, we cannot grade your solution with good marks!\n",
    " * we strongly recommend to work __only__ in the Jupyterhub-Online-System, because these systems provides all necessary modules with the correct versions; self maintained systems can produce unwanted side effects and errors!"
   ]
  },
  {
   "cell_type": "code",
   "execution_count": null,
   "id": "935ce141-3914-4ffe-837e-841e0a64057b",
   "metadata": {},
   "outputs": [],
   "source": []
  }
 ],
 "metadata": {
  "kernelspec": {
   "display_name": "Python 3 (ipykernel)",
   "language": "python",
   "name": "python3"
  },
  "language_info": {
   "codemirror_mode": {
    "name": "ipython",
    "version": 3
   },
   "file_extension": ".py",
   "mimetype": "text/x-python",
   "name": "python",
   "nbconvert_exporter": "python",
   "pygments_lexer": "ipython3",
   "version": "3.10.11"
  }
 },
 "nbformat": 4,
 "nbformat_minor": 5
}
