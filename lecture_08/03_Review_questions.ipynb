{
 "cells": [
  {
   "cell_type": "markdown",
   "id": "35cc850d-8f0c-45d3-a5d1-00590f0136be",
   "metadata": {
    "tags": []
   },
   "source": [
    "# Review Tasks for the lecture"
   ]
  },
  {
   "cell_type": "markdown",
   "id": "9d56e86c-4f77-4125-9dda-7f7d2b58b2d8",
   "metadata": {},
   "source": [
    "Here some small tasks with that you should be able to do directly after the lecture. I strongly advise you to look at them before the exercise. It gives you the opportunity to check what you did not yet understand and to ask your tutor in the case of problems."
   ]
  },
  {
   "cell_type": "markdown",
   "id": "84c9bdaf-4b71-4bd1-ab3f-13684a746481",
   "metadata": {},
   "source": [
    "**Please try to answer the following questions before executing any code. Do this only to verify your answers and use appropriate help-utilities if you are uncertain! For each problem you should be able to explain WHY you obtain a certain result!**"
   ]
  },
  {
   "cell_type": "markdown",
   "id": "e64cce21-ac4d-462a-9cfd-e1cc77b789c1",
   "metadata": {},
   "source": [
    "### 1. Definitions"
   ]
  },
  {
   "cell_type": "markdown",
   "id": "1f32f077-e25b-485b-b1f0-e6cfac27e2e4",
   "metadata": {},
   "source": [
    "You have the following code:\n",
    "\n",
    "```Python\n",
    "class A(object):\n",
    "    def __init__(self, name):\n",
    "        self.__name = name\n",
    "        \n",
    "    def print_name(self):\n",
    "        print(self.__name)\n",
    "        \n",
    "b = A('Hello World!')\n",
    "```\n",
    "\n",
    "What is the correct description of:\n",
    " 1. `A`:\n",
    " 2. `b`:\n",
    " 3. `self.__name`\n",
    " 4. `print_name`\n"
   ]
  },
  {
   "cell_type": "markdown",
   "id": "80d1b1ff-05ec-4494-abff-2aa07418ea3b",
   "metadata": {},
   "source": [
    "## 2. Properties and methods\n",
    "\n",
    "Use the previous definition of the `class A`. Add a protected method to the class definition which checks, if the property `__name` is not empty and is written in lower letters. Use this method in `print_name` and only when `True` is returned print the value of the property otherwise print an error message."
   ]
  },
  {
   "cell_type": "code",
   "execution_count": null,
   "id": "4758ec54-091c-4c4e-bf41-127e4f3f0b5f",
   "metadata": {},
   "outputs": [],
   "source": [
    "# Your solution here please"
   ]
  },
  {
   "cell_type": "markdown",
   "id": "35058959-44cc-405a-ab1a-9c421c269134",
   "metadata": {},
   "source": [
    "## 3. Instances"
   ]
  },
  {
   "cell_type": "markdown",
   "id": "e62ad441-c314-47f1-8dd1-8d92860ec762",
   "metadata": {},
   "source": [
    "Sometimes it is useful to check if all properties have the wanted type. Modify the `__init__`-method so that `name` is definitely an instance of `str` and  raise an error, if the test fails."
   ]
  },
  {
   "cell_type": "code",
   "execution_count": null,
   "id": "cc3a2137-dba6-4834-beab-675608c85267",
   "metadata": {},
   "outputs": [],
   "source": [
    "# Your solution here please"
   ]
  },
  {
   "cell_type": "markdown",
   "id": "a3ff447d-48de-41fd-96a1-7fc0bc7efc2c",
   "metadata": {},
   "source": [
    "### 4. Multi-Objects"
   ]
  },
  {
   "cell_type": "markdown",
   "id": "7168ed7f-2e96-4837-a5e8-2b7f7c03009a",
   "metadata": {},
   "source": [
    "The mini task would be to create 10 instances of the class `A`. Call the method `print_name` for all instances and for every second instance. You can use the definition from exercise #1. (To identify the different instances, give each of them an individual name!)"
   ]
  },
  {
   "cell_type": "code",
   "execution_count": 1,
   "id": "484f271d-2053-4b2f-b689-af1537157325",
   "metadata": {},
   "outputs": [],
   "source": [
    "# Your solution here please"
   ]
  }
 ],
 "metadata": {
  "kernelspec": {
   "display_name": "Python 3 (ipykernel)",
   "language": "python",
   "name": "python3"
  },
  "language_info": {
   "codemirror_mode": {
    "name": "ipython",
    "version": 3
   },
   "file_extension": ".py",
   "mimetype": "text/x-python",
   "name": "python",
   "nbconvert_exporter": "python",
   "pygments_lexer": "ipython3",
   "version": "3.9.10"
  }
 },
 "nbformat": 4,
 "nbformat_minor": 5
}
