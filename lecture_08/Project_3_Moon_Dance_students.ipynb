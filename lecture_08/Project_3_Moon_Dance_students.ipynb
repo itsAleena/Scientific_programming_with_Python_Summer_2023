{
 "cells": [
  {
   "cell_type": "markdown",
   "metadata": {},
   "source": [
    "# Project 4 - Dance of the moons: Janus and Epimetheus"
   ]
  },
  {
   "cell_type": "markdown",
   "metadata": {
    "tags": []
   },
   "source": [
    "**Project deadline:** This project is due for submission on Thursday, 08.06.2023, 23:55. Please check carefully the *About the Projects* section below for further details."
   ]
  },
  {
   "cell_type": "markdown",
   "metadata": {},
   "source": [
    "**Imprtant:** You again have the choice between two projects. This one focusses on an introduction to the `scipy`-module and on the implementation of a system of differential equations. You will again create animations woth matplotlib.\n",
    "In the other project, you can implement a computer game. It focusses more on modules, data structures and Python as a programming language. "
   ]
  },
  {
   "cell_type": "markdown",
   "metadata": {
    "tags": []
   },
   "source": [
    "## About the Projects\n",
    "- You will get one project approximately every other week.\n",
    "- Besides the homework-assignments, you need to solve the projects in order to pass the course. Your final course mark consists of the mean of your project marks. We hand-out four projects during the term and we do not consider the worst project mark for your final course mark. Projects that you do not hand in are counted with a mark of 4.\n",
    "- The project needs to be submitted by uploading this notebook to [Projects/Project 3](https://ecampus.uni-bonn.de/goto_ecampus_exc_3025921.html) on eCampus. You do not need to modify the notebooks name before your upload. Your project must be on eCampus by Thursday, 08.06.2022, 23:55. **No late uploads can be accepted!**\n",
    "- **In contrast to the homework exercises, each student must hand in an own solution for the projects! Of course you can and should discuss problems with each other! However, you need to be able to explain your solution in detail to your tutor and/or the lecturers! We might ask you for an interview about your project if the solution is (close to) identical to another students submission.**\n",
    "\n",
    "**Note:** The tutors, Oliver and I are very happy to help you out with difficulties you might have with the project tasks! You can ask questions any time but please do so well in advance of the deadlines!"
   ]
  },
  {
   "cell_type": "markdown",
   "metadata": {},
   "source": [
    "## Introduction"
   ]
  },
  {
   "cell_type": "markdown",
   "metadata": {},
   "source": [
    "Epimetheus and Janus are moons that orbit the planet Saturn; see also [this article on Wikipedia](https://en.wikipedia.org/wiki/Epimetheus_(moon). Epimetheus's orbit is *co-orbitag with that of Janus*, i.e. they orbit Saturn on nearly equal trajectories. Janus's mean orbital radius from Saturn is only 50 km less than that of Epimetheus, a distance smaller than either moon's mean radius. All four years, the two moons meet each other as, according to Kepler's law, the inner moon moves a bit faster than the outer one. Your task is to investigate why there is no collision between the two moons.\n",
    "\n",
    "We want to simulate the three-body-problem of Saturn, Janus and Epimetheus. Our reference frame is the restframe of Saturn. The motion between bodies is then governed by the gravitational law:\n",
    "$$\n",
    "m_i\\ddot{\\vec{x_i}} = \\sum_j \\vec{F_{ij}}\n",
    "$$\n",
    "with\n",
    "$$\n",
    "\\vec{F_{ij}} = -G\\frac{m_im_j}{|\\vec{x_i}-\\vec{x_j}|^3}(\\vec{x_i}-\\vec{x_j}).\n",
    "$$\n",
    "We assume that all movements take place in a two-dimensional plane and we work in dimensionless units with $G=1$, $m_{\\text{J}}=1$, $m_{\\text{E}}=4$ and $m_{\\text{S}}=4.0\\times 10^4$.\n",
    "\n",
    "The initial conditions for the moons movements are: \n",
    "$$\n",
    "\\vec{x_{\\text{J}}}(0)=(-155, 0);\\, \\frac{\\text{d}\\vec{x_{\\text{J}}}(0)}{\\text{d}t} = (0, -16.1)\n",
    "$$\n",
    "and\n",
    "$$\n",
    "\\vec{x_{\\text{E}}}(0)=(150, 0); \\, \\frac{\\text{d}\\vec{x_{\\text{E}}}(0)}{\\text{d}t} = (0, 16.3).\n",
    "$$\n",
    "Note that $\\vec{x_S}(t)=0$ for all times!"
   ]
  },
  {
   "cell_type": "markdown",
   "metadata": {},
   "source": [
    "## Your tasks"
   ]
  },
  {
   "cell_type": "markdown",
   "metadata": {},
   "source": [
    "0. Due to a reorganisation of the course, we probably will not have the time to give you an introduction to the important `scipy`-module in lecture this year. Therefore, we include it as part of the projects for those who are mainly interested in science/physics applications with the Python language. If you are interested in this project, please first watch my [Introduction to scipy video](https://youtu.be/wfjqpa2Dsnk) from last year. Especially important is the part on [numerically solving ordinary differential equations](https://youtu.be/wfjqpa2Dsnk?t=3918) (ODEs). The lecture material for the video can be found [here](https://github.com/terben/Programming_in_Python_BCGS_Summer_2022/tree/master/lecture_09).\n",
    "**Important:** The rest of the notebook probably will not make too much sense before you watched the video!\n",
    "1. Prepare the ODE-system governing the movements of the moons for `odeint`. Note that you will obtain eight(!) ODEs of first order in total! Please describe in your solution the used notation. Your grader needs to be able to follow and understand your implementation easily.\n",
    "2. Solve the system for $0\\leq t \\leq 2000$ and plot for both moons the distance to Saturn as a function of time. This should make clear how the moons avoid a collision on their orbits.\n",
    "3. Create an animation of the moons movements with `matplotlib`. You can consider here the range $-200\\leq x, y\\leq 200$.\n",
    "\n",
    "**Note:** Task (3) is intentionally quite vague. I received amazing animation videos for the problem from your peers in the past and I am looking forward to your solution! As an inspiration, I show you an example solution below. The left animation represents the expectation for full credits of this task."
   ]
  },
  {
   "cell_type": "markdown",
   "metadata": {},
   "source": [
    "<img src=\"figs/moon_dance.gif\" style=\"height: 200px;\"><img src=\"figs/moon_dance_rings.gif\" style=\"height: 200px;\">"
   ]
  },
  {
   "cell_type": "code",
   "execution_count": 1,
   "metadata": {},
   "outputs": [],
   "source": [
    "# Your solution here please"
   ]
  }
 ],
 "metadata": {
  "kernelspec": {
   "display_name": "Python 3 (ipykernel)",
   "language": "python",
   "name": "python3"
  },
  "language_info": {
   "codemirror_mode": {
    "name": "ipython",
    "version": 3
   },
   "file_extension": ".py",
   "mimetype": "text/x-python",
   "name": "python",
   "nbconvert_exporter": "python",
   "pygments_lexer": "ipython3",
   "version": "3.10.11"
  }
 },
 "nbformat": 4,
 "nbformat_minor": 4
}
