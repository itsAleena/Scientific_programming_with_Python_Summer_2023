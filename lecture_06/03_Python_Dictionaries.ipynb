{
 "cells": [
  {
   "cell_type": "markdown",
   "id": "af3b8f6a-2027-4bbc-a154-d72bff10d89e",
   "metadata": {},
   "source": [
    "# Python dictionaries"
   ]
  },
  {
   "cell_type": "markdown",
   "id": "f7dd1954-9b18-46dc-bdf1-5a0198f463e6",
   "metadata": {},
   "source": [
    "---\n",
    "\n",
    "In this notebook I will introduce a special container type, python dictionaries.\n",
    "\n",
    "---"
   ]
  },
  {
   "cell_type": "markdown",
   "id": "5600176a-1fcb-4def-ae0c-3dc49950503c",
   "metadata": {},
   "source": [
    "## 1. Creation of dictionaries"
   ]
  },
  {
   "cell_type": "markdown",
   "id": "cb6a12fe-368c-433e-bfe0-cad87512ae92",
   "metadata": {},
   "source": [
    "A special python container type are the python dictionaries. All container types presented are using numerical indices to address certain elements. For dictionaries any indices can be used."
   ]
  },
  {
   "cell_type": "code",
   "execution_count": null,
   "id": "2a9bea76-f9a9-4a69-b63e-8d7156036fdd",
   "metadata": {},
   "outputs": [],
   "source": [
    "a = {}                                                    # empty dictionay\n",
    "b = dict()\n",
    "c = {1: 0.}                                               # dictionary with one element\n",
    "d = {1: 0., 'Firstname': 'Oliver', 'Lastname': 'Cordes' } # many entries\n",
    "print(a)\n",
    "print(c)\n",
    "print(d)"
   ]
  },
  {
   "cell_type": "markdown",
   "id": "fa5c5284-5d18-427d-9afb-d07e747abd99",
   "metadata": {},
   "source": [
    "These bracket `{` and `}` are used for creation. For each element we need a `key` and a `value`.  For `keys` any types can be used, e.g. numbers or strings. The element syntax is:\n",
    "\n",
    "```\n",
    " key : value\n",
    "```\n",
    "\n",
    "`Values` can be of any python type."
   ]
  },
  {
   "cell_type": "markdown",
   "id": "c7aa75e1-88ca-46da-a262-42bc1d388502",
   "metadata": {},
   "source": [
    "## 2. Access of elements\n",
    "\n",
    "For the dictionaries we need to use the defined `keys` to access the values."
   ]
  },
  {
   "cell_type": "code",
   "execution_count": null,
   "id": "9409dae5-bd72-4375-90a6-643ed3cf7bb4",
   "metadata": {},
   "outputs": [],
   "source": [
    "print(d[1])\n",
    "print(d['Firstname'], d['Lastname'])"
   ]
  },
  {
   "cell_type": "markdown",
   "id": "deac06a2-b70a-4b19-89ad-3ca2268ba73b",
   "metadata": {},
   "source": [
    "Usage of  `keys` which are not defined, you will get an error:"
   ]
  },
  {
   "cell_type": "code",
   "execution_count": null,
   "id": "8ecee97a-4eb1-4a6e-83f3-4bf06967e40f",
   "metadata": {},
   "outputs": [],
   "source": [
    "print(d['tag'])"
   ]
  },
  {
   "cell_type": "markdown",
   "id": "41010551-ece3-478f-8520-08744a973501",
   "metadata": {},
   "source": [
    "Alternative way to access elements:"
   ]
  },
  {
   "cell_type": "code",
   "execution_count": null,
   "id": "92190ae5-7401-433e-ab1e-2711c09134cc",
   "metadata": {},
   "outputs": [],
   "source": [
    "print(d.get(1))              # alternative to access elements\n",
    "print(d.get(0, -100))        # if the key is not defined, get can return a default value\n",
    "print(d.get(1, -100))"
   ]
  },
  {
   "cell_type": "markdown",
   "id": "ad08512d-dfa2-4814-85fd-4aa4abb02103",
   "metadata": {},
   "source": [
    "## 3. Functions and keys\n",
    "\n",
    "As usual dictionaries have functions, which are direct related to the dictionaries. \n",
    "\n",
    "One example is to extract all defined `keys`:"
   ]
  },
  {
   "cell_type": "code",
   "execution_count": null,
   "id": "5ee64b0b-d70c-4170-872b-e6fa25e8caf2",
   "metadata": {
    "tags": []
   },
   "outputs": [],
   "source": [
    "print(d.keys())"
   ]
  },
  {
   "cell_type": "markdown",
   "id": "1a5a7dd3-eed4-4b11-b469-1161516b4810",
   "metadata": {},
   "source": [
    "A `for` loop over a dictionary will in fact loop over all defined `keys`:"
   ]
  },
  {
   "cell_type": "code",
   "execution_count": null,
   "id": "7d2a824b-88ff-497a-90d3-9066291572c7",
   "metadata": {},
   "outputs": [],
   "source": [
    "for key in d:\n",
    "    print(key, '=', d[key])"
   ]
  },
  {
   "cell_type": "markdown",
   "id": "91db11d6-927d-4b96-89f4-0d0576830898",
   "metadata": {},
   "source": [
    "The order of the `keys` in this case is not well defined and may changed if new elements were added."
   ]
  },
  {
   "cell_type": "markdown",
   "id": "ad06cde3-21c2-420c-8364-72af40b3dfe7",
   "metadata": {},
   "source": [
    "## 4. Add new elements\n",
    "\n",
    "Adding a new element is an assignment with a new `key`:"
   ]
  },
  {
   "cell_type": "code",
   "execution_count": null,
   "id": "c19960b1-eb1d-44de-88d3-f2489045b183",
   "metadata": {},
   "outputs": [],
   "source": [
    "d = {1: 0., 'Firstname': 'Oliver', 'Lastname': 'Cordes' }\n",
    "\n",
    "d['Age'] = 50     # add a new element\n",
    "\n",
    "print(d)"
   ]
  },
  {
   "cell_type": "markdown",
   "id": "b265e032-3ceb-4093-9456-8cd477b248ff",
   "metadata": {},
   "source": [
    "## 5. Change of elements\n",
    "\n",
    "The change of elements is similar to adding of new elements:"
   ]
  },
  {
   "cell_type": "code",
   "execution_count": null,
   "id": "8ab2279e-342b-406c-ae58-f097f0341448",
   "metadata": {},
   "outputs": [],
   "source": [
    "d = {1: 0., 'Firstname': 'Oliver', 'Lastname': 'Cordes' }\n",
    "\n",
    "d[1] = 2.0\n",
    "\n",
    "print(d)"
   ]
  },
  {
   "cell_type": "markdown",
   "id": "764f6012-cfd8-439c-8d02-82212126bbaa",
   "metadata": {},
   "source": [
    "## 6. Remove elements\n",
    "\n",
    "Elements can be removed with the `.pop`-function:"
   ]
  },
  {
   "cell_type": "code",
   "execution_count": null,
   "id": "9eeae867-089c-4a49-aa93-4bb1ba0d37ac",
   "metadata": {},
   "outputs": [],
   "source": [
    "d = {1: 0., 'Firstname': 'Oliver', 'Lastname': 'Cordes' }\n",
    "\n",
    "d.pop(1)            # remove the element with key 1\n",
    "d.pop('Firstname')  # remove another element\n",
    "\n",
    "print(d)"
   ]
  }
 ],
 "metadata": {
  "kernelspec": {
   "display_name": "Python 3 (ipykernel)",
   "language": "python",
   "name": "python3"
  },
  "language_info": {
   "codemirror_mode": {
    "name": "ipython",
    "version": 3
   },
   "file_extension": ".py",
   "mimetype": "text/x-python",
   "name": "python",
   "nbconvert_exporter": "python",
   "pygments_lexer": "ipython3",
   "version": "3.9.10"
  }
 },
 "nbformat": 4,
 "nbformat_minor": 5
}
