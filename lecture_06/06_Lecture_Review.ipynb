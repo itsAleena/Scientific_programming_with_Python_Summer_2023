{
 "cells": [
  {
   "cell_type": "markdown",
   "metadata": {},
   "source": [
    "# Review Tasks for the lecture"
   ]
  },
  {
   "cell_type": "markdown",
   "metadata": {},
   "source": [
    "Here some small tasks with that you should be able to do directly after the lecture. I strongly advise you to look at them before the exercise. It gives you the opportunity to check what you did not yet understand and to ask your tutor in the case of problems."
   ]
  },
  {
   "cell_type": "markdown",
   "metadata": {},
   "source": [
    "## Review tasks on lists and strings"
   ]
  },
  {
   "cell_type": "markdown",
   "metadata": {},
   "source": [
    "**Please try to answer the following questions before executing any code. Do this only to verify your answers and use appropriate help-utilities if you are uncertain! For each problem you should be able to explain WHY you obtain a certain result!**"
   ]
  },
  {
   "cell_type": "markdown",
   "metadata": {},
   "source": [
    "<a id='basic_slicing'></a>\n",
    "- What is the output of the following code:\n",
    "\n",
    "```\n",
    "s = \"Jane Doe\"\n",
    "print(s[1], s[-1], s[1:3], s[1:3:-1], s[3:1:-1], s[:3], s[::2], s[::-1])\n",
    "```"
   ]
  },
  {
   "cell_type": "markdown",
   "metadata": {},
   "source": [
    "- What is the output of the following code:\n",
    "  ```\n",
    "  for x in \"Mississippi\".split(\"i\"):\n",
    "      print(x, end=\"\")\n",
    "  ```"
   ]
  },
  {
   "cell_type": "markdown",
   "metadata": {},
   "source": [
    "- What is the output of the following code:\n",
    "  ```\n",
    "  xlist = []\n",
    "  xlist.append(5)\n",
    "  xlist.append(10)\n",
    "  print(xlist)\n",
    "  ```"
   ]
  },
  {
   "cell_type": "markdown",
   "metadata": {},
   "source": [
    "- What is the output of the following code:\n",
    "  ```\n",
    "  zlist = []\n",
    "  zlist.append([5, 10])\n",
    "  print(zlist)\n",
    "  ```\n",
    "  **Note: Most people get this one wrong!**"
   ]
  },
  {
   "cell_type": "markdown",
   "metadata": {},
   "source": [
    "- What is the output of the following code:\n",
    "  ```\n",
    "  xlist = list(range(-3, 3))\n",
    "  print(xlist)\n",
    "  ```"
   ]
  },
  {
   "cell_type": "markdown",
   "metadata": {},
   "source": [
    "- What is the output of the following code:\n",
    "  ```\n",
    "  xlist = [2, 1, 3]\n",
    "  ylist = sorted(xlist)\n",
    "  print(xlist, ylist)\n",
    "  ```"
   ]
  },
  {
   "cell_type": "markdown",
   "metadata": {},
   "source": [
    "- What is the output of the following code:\n",
    "  ```\n",
    "  xlist = [2, 1, 3]\n",
    "  ylist = xlist.sort()\n",
    "  print(xlist, ylist)\n",
    "  ```\n",
    "  **Hint: Read carefully the documentation of the list-sort method BEFORE giving your answer! Most people get this one wrong!**"
   ]
  },
  {
   "cell_type": "markdown",
   "metadata": {},
   "source": [
    "- What is the output of the following code:\n",
    "  ```\n",
    "  xlist = [3, 2, 1, 0]\n",
    "  \n",
    "  for item in xlist:\n",
    "      print(item, end=\" \")\n",
    "  ```"
   ]
  },
  {
   "cell_type": "markdown",
   "metadata": {},
   "source": [
    "- What is the output of the follwing code:\n",
    "  ```\n",
    "  a = 1\n",
    "  b = 2\n",
    "  xlist = [a, b, a + b]\n",
    "  a = 0\n",
    "  b = 0\n",
    "\n",
    "  print(xlist)\n",
    "  ```"
   ]
  },
  {
   "cell_type": "markdown",
   "metadata": {},
   "source": [
    "- After the following commands have been executed, what is the value of `x`?\n",
    "\n",
    "```\n",
    "s = \"this is a test\"\n",
    "x = s.split()\n",
    "```"
   ]
  },
  {
   "cell_type": "markdown",
   "metadata": {},
   "source": [
    "- What is the output of the following code:\n",
    "  ```\n",
    "  a = 123456\n",
    "  s = str(a)\n",
    "  print(s[5] + s[4] + s[3] + s[2])\n",
    "  ```"
   ]
  }
 ],
 "metadata": {
  "kernelspec": {
   "display_name": "Python 3 (ipykernel)",
   "language": "python",
   "name": "python3"
  },
  "language_info": {
   "codemirror_mode": {
    "name": "ipython",
    "version": 3
   },
   "file_extension": ".py",
   "mimetype": "text/x-python",
   "name": "python",
   "nbconvert_exporter": "python",
   "pygments_lexer": "ipython3",
   "version": "3.9.10"
  }
 },
 "nbformat": 4,
 "nbformat_minor": 4
}
