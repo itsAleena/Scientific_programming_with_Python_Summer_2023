{
 "cells": [
  {
   "cell_type": "markdown",
   "id": "42d3cacd-62f1-4ab0-a8f2-0f9be444e765",
   "metadata": {},
   "source": [
    "# Python scripts"
   ]
  },
  {
   "cell_type": "markdown",
   "id": "3eacdaac-7e92-40a9-9566-1e8b8d6a90be",
   "metadata": {},
   "source": [
    "Until now most tasks can be done in Jupyter Notebooks, but for future lectures and exercises we have to move to the usage of Python scripts."
   ]
  },
  {
   "cell_type": "markdown",
   "id": "35d06c62-f7f4-4e8a-9e9b-3ffb4ec0c5a9",
   "metadata": {},
   "source": [
    "Python scripts:\n",
    " * programs are completly written in text files, ending is `.py``\n",
    " * scripts can be edited/changed with text editors or complete IDE (integrated development environments), e.g. emacs, nano, Visual Studio Code, Spyder etc.\n",
    " * programs will be started with an interpreter `python3`"
   ]
  },
  {
   "cell_type": "markdown",
   "id": "65db6dd1-c9a3-493a-b6d8-20f29d0516b6",
   "metadata": {},
   "source": [
    "You can copy the code from jupyter code cell directly into python scripts, but all magick commands starting with `%` have to be removed. If you're using matplotlib figure commands, you need a `plt.show()` at the end to show the figure (jupyter notebooks automatically shows the plots!)."
   ]
  },
  {
   "cell_type": "code",
   "execution_count": null,
   "id": "9231cbf0-afd9-4384-9fbb-ddf627644f0c",
   "metadata": {},
   "outputs": [],
   "source": []
  }
 ],
 "metadata": {
  "kernelspec": {
   "display_name": "Python 3 (ipykernel)",
   "language": "python",
   "name": "python3"
  },
  "language_info": {
   "codemirror_mode": {
    "name": "ipython",
    "version": 3
   },
   "file_extension": ".py",
   "mimetype": "text/x-python",
   "name": "python",
   "nbconvert_exporter": "python",
   "pygments_lexer": "ipython3",
   "version": "3.9.10"
  }
 },
 "nbformat": 4,
 "nbformat_minor": 5
}
