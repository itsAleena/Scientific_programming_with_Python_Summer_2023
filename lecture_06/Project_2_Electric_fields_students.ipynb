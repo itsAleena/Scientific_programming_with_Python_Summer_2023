{
 "cells": [
  {
   "cell_type": "markdown",
   "id": "9ca5d360-a9c9-42a4-92f2-26af1bc0616e",
   "metadata": {},
   "source": [
    "# Electric fields\n",
    "\n",
    "**Project deadline:** This project is due for submission on Thursday, 25.05.2023, 23:55. Please check carefully the *About the Projects* section below for further details."
   ]
  },
  {
   "cell_type": "markdown",
   "id": "79dab7a8-d4a7-428f-8ed6-ce1fd1f33793",
   "metadata": {},
   "source": [
    "**Important:** You have the choice to work either on this project from Oliver Cordes  or on another one from Thomas Erben. We strongly advise you to read through both project notebooks completely before you take a decision."
   ]
  },
  {
   "cell_type": "markdown",
   "id": "9062dc27-1601-4b6e-aa52-fda82d1f790c",
   "metadata": {},
   "source": [
    "## About the Projects\n",
    "- You will get one project approximately every other week.\n",
    "- Besides the homework-asignmentts, you need to solve the projects in order to pass the course. Your final course mark consists of the mean of your project marks. We aim to hand-out five projects during the term and we do not consider the worst project mark for your final course mark. Projects that you do not hand in are counted with a mark of 4.\n",
    "- The projects needs to be submitted by uploading a modified version of this notebook to [Projects/Project 2](https://ecampus.uni-bonn.de/goto_ecampus_exc_3025921.html) on eCampus. Please only upload this notebook and no other files. You also do not need to change its filename before your upload. Your project must be on eCampus by Thursday, 25.05.2023, 23:55. **No late uploads can be accepted!**\n",
    "- **In contrast to the homework exercises, each student must hand in an own solution for the projects! Of course you can and should discuss problems with each other! However, you need to be able to explain your solution in detail to your tutor and/or the lecturers! We might ask you for an interview about your project if the solution is (close to) identical to another students submission.**\n",
    "\n",
    "**Note:** The tutors, Thomas and I are very happy to help you out with difficulties you might have with the project tasks! You can ask questions any time but please do so well in advance of the deadlines!"
   ]
  },
  {
   "cell_type": "markdown",
   "id": "92a84c45-6917-4f80-b58e-6b67d83242e1",
   "metadata": {},
   "source": [
    "**Important:** Your notebook will be tested and graded from a *clean* state `(Kernel -> Reset Kernel and clear all Outputs)`. Please make sure that it cleanly runs from *top to bottom*!"
   ]
  },
  {
   "cell_type": "markdown",
   "id": "0fe10861-89cc-48be-a271-1c54f426d803",
   "metadata": {},
   "source": [
    "### Your Name here please:"
   ]
  },
  {
   "cell_type": "markdown",
   "id": "ec373ca6-c5fd-4c62-b549-15b44c10d8ed",
   "metadata": {},
   "source": [
    "## Introduction"
   ]
  },
  {
   "cell_type": "markdown",
   "id": "89393042-d230-498a-96a4-2f439070883c",
   "metadata": {},
   "source": [
    "The ideal gas is a wonderful platform to study the behavior of particle collisions and also to verify the rules of thermodynamics. From the programming aspect it a nice project to understand the technique of indexing and masking in combination with some math algorithms. \n",
    "\n",
    "The simulation in this notebook is just a start to simulate physical process and you can simply think of enhancements which you can add to the code."
   ]
  },
  {
   "cell_type": "markdown",
   "id": "ffd1425f-dda3-46a0-9702-e72642f44063",
   "metadata": {},
   "source": [
    "# Project 2 - Electric fields"
   ]
  },
  {
   "cell_type": "markdown",
   "id": "ef67ee42-06a8-4a16-80f0-08740aa92e62",
   "metadata": {},
   "source": [
    "In this project we want to simulate an electric field which will be created by different electrical sources. The first task is to implement the base algorithm to calculate the electric potential $\\Phi(x, y)$ with a parallel-plate capacitor. \n",
    "\n",
    "In the next tasks we want to make the algorithm work with several configurations in a more structured pythonic way."
   ]
  },
  {
   "cell_type": "markdown",
   "id": "407f67ed-071b-493f-974e-da38030a71e2",
   "metadata": {},
   "source": [
    "Walk through all the tasks and develop your solution step by step."
   ]
  },
  {
   "cell_type": "markdown",
   "id": "637dd91d-ae2c-4f00-b152-1855bcb9c963",
   "metadata": {
    "tags": []
   },
   "source": [
    "## 1. Plots of vector fields\n",
    "For visiualization of the electric field, please study the notebook [07_vector_fields_matplotlib.ipynb](07_vector_fields_matplotlib.ipynb) to plot vector fields with `matplotlib`."
   ]
  },
  {
   "cell_type": "markdown",
   "id": "09377c93-475f-4b10-b2cf-141a904a3fd4",
   "metadata": {},
   "source": [
    "---"
   ]
  },
  {
   "cell_type": "markdown",
   "id": "27353f33-60e9-457a-a815-e753993a30ee",
   "metadata": {
    "tags": []
   },
   "source": [
    "<a id='plate_capacitor'></a>\n",
    "## 2. Electric field of a parallel-plate capacitor (15 points)\n",
    "You learned about the parallel-plate capacitor and its electric field in your experimental and theoretical physics classes. To start, you assume that the electric field within the capacitor is homegeneous within the capacitor:\n",
    "<img src=\"figs/capacitor_simple.png\" style=\"height: 200px;\">"
   ]
  },
  {
   "cell_type": "markdown",
   "id": "75ae3d2f-9a39-44c6-8fd0-0fa447b13cec",
   "metadata": {},
   "source": [
    "In this exercise, we want to calculate the electric field within a limited, two-dimensional region. From your theoretical physics classes, you know that the electrical field $\\vec{E}(x, y)$ within a region, free of charges, can be obtained from the electric potential $\\Phi(x, y)$ via $\\vec{E}(x, y)=-\\nabla\\Phi(x, y)$. The electric potential in turn is covered by the two-dimensial Laplace equation:\n",
    "$$\n",
    "\\Delta \\Phi(x, y)=0.\n",
    "$$\n",
    "Please have a look at [Wikipedia](https://en.wikipedia.org/wiki/Mathematical_descriptions_of_the_electromagnetic_field) if you would like to fresh up your knowledge on electric fields, Maxwell's equations and the like.\n",
    "\n",
    "The setup for this exercise is as follows:\n",
    "\n",
    "<img src=\"figs/capacitor_layout.png\" style=\"height: 300px;\">"
   ]
  },
  {
   "cell_type": "markdown",
   "id": "0358c73c-5074-44f5-a139-bbd987434d62",
   "metadata": {},
   "source": [
    "We are given a limited region as shown above and two capacitor plates whose electric potentials are constant at $\\Phi=\\pm 1$. The potential at the boundary is constant at zero. To justify the latter condition, the capacitor plates must be away far enough from the boundaries. For our purposes, the configuration above fulfills this condition. \n",
    "\n",
    "Your task is to determine the potential in the interior such that it fulfills the boundary conditions and $\\Delta\\Phi(x,y)=0$ everywhere else."
   ]
  },
  {
   "cell_type": "markdown",
   "id": "481863a9-ed64-42c4-93d0-be2cc35ae071",
   "metadata": {
    "tags": []
   },
   "source": [
    "### An iteration scheme to solve Laplaces equation with boundary conditions\n",
    "For our setup, we can numerically solve the equation $\\Delta\\Phi(x, y)=0$ in a region with boundary conditions as follows:\n",
    "1. We put a regular, two-dimensional grid of points on our region. Individual points are separated in $x$ and $y$ by $h_x$ and $h_y$ respectively. We will assume henceforth that $h=h_x=h_y$.\n",
    "2. $$ \\Delta\\Phi(x, y) = \\frac{\\partial}{\\partial x^2}\\Phi(x, y) + \\frac{\\partial}{\\partial y^2}\\Phi(x, y).$$\n",
    "We can numerically approximate the second derivatives via:\n",
    "$$\n",
    "\\frac{\\partial}{\\partial x^2}\\Phi(x, y) = \\frac{\\Phi(x+h, y)-2\\Phi(x, y)+\\Phi(x-h,y)}{h^2} + \\cal{O}(h^2)\n",
    "$$\n",
    "and similarily\n",
    "$$ \\frac{\\partial}{\\partial y^2}\\Phi(x, y) = \\frac{\\Phi(x, y+h)-2\\Phi(x, y)+\\Phi(x,y-h)}{h^2} + \\cal{O}(h^2)\n",
    "$$\n",
    "With $\\Delta\\Phi(x, y)=0$, we obtain by neglecting higher-order terms:\n",
    "$$\n",
    "\\Phi(x, y) = \\frac 14(\\Phi(x+h, y) + \\Phi(x-h, y) + \\Phi(x, y+h) + \\Phi(x, y-h)).\n",
    "$$\n",
    "3. The formulas in (2.) allow us the construction of an iteration scheme:\n",
    "  1. Set $\\Phi_0(x, y)$ to fulfill the boundary conditions and set it equal to zero everywhere else.\n",
    "  2. Calculate $\\Phi_1(x, y) = \\frac 14(\\Phi_0(x+h, y) + \\Phi_0(x-h, y) + \\Phi_0(x, y+h) + \\Phi_0(x, y-h))$. Hereby, you need to ensure that $\\Phi_1(x, y)$ still fulfills the boundary conditions!\n",
    "  3. Repeat step (2.). i.e. calculate $\\Phi_{n+1}(x, y) = \\frac 14(\\Phi_n(x+h, y) + \\Phi_n(x-h, y) + \\Phi_n(x, y+h) + \\Phi_n(x, y-h))$ until you reach convergence. We want to define convergence via $\\max \\left|\\Phi_{n+1}(x, y) - \\Phi_{n}(x, y)\\right| < 1.0\\cdot 10^{-4}$, where the maximum is taken over all grid-points."
   ]
  },
  {
   "cell_type": "markdown",
   "id": "8668f5e6-ca92-4665-8388-62f4427da55c",
   "metadata": {},
   "source": [
    "**Your tasks:**"
   ]
  },
  {
   "cell_type": "markdown",
   "id": "5c260558-423f-408c-bcba-2e9d7b0362f2",
   "metadata": {},
   "source": [
    "Please write a program to implement the scheme above and to visualise the electric field of the parallel-plate capacitor.\n",
    "\n",
    "1. Define your two-dimensional coordinate grid as shown above with 101 points in the $x$ and the $y$ dimensions.\n",
    "\n",
    "   **Note:** 101 points ensure a nice coverage of the interval $[0, 1]$ with points when using `np.linspace(0.0, 1.0, 101)`. To make this clear, consider the lower resolution case with 11 points:\n",
    "   ```python\n",
    "   a = np.linspace(0.0, 1.0, 11)\n",
    "   print(a)\n",
    "   array([ 0. ,  0.1,  0.2,  0.3,  0.4,  0.5,  0.6,  0.7,  0.8,  0.9,  1. ])\n",
    "   ```\n",
    "   \n",
    "2. I placed my capacitor plates at $x_\\mathrm{left}=0.35$ and $x_\\mathrm{right}=0.65$. The extent in $y$ is $y_\\mathrm{low} = 0.35$ and $y_\\mathrm{high}=0.65$ but please feel free to experiment with other choices.\n",
    "\n",
    "3. Implement the iteration scheme above *without* any `for`-loops over the grid points but use `numpy`-slicing instead!\n",
    "\n",
    "4. Once you have estimated the potential $\\Phi(x,y)$, calculate the electric field via $\\vec{E}(x, y)=-\\nabla\\Phi(x, y)$ and visualise the potential and the electric field in a two side-by-side plot (see next image). Please have a look at [this notebook](04_vector_fields_matplotlib.ipynb) to learn some basics on vector-plots with `matplotlib`."
   ]
  },
  {
   "cell_type": "markdown",
   "id": "c15445bc-51e8-4fdc-9cb3-b62214725a55",
   "metadata": {},
   "source": [
    "**My solution:**\n",
    "\n",
    "<img src=\"figs/plate_capacitor.png\" style=\"width:100%\" />\n",
    "\n",
    "(It took me ~1150 steps until the algorithm converged!)"
   ]
  },
  {
   "cell_type": "code",
   "execution_count": null,
   "id": "72456051-3bbd-4ac2-8c5b-951f45e71581",
   "metadata": {},
   "outputs": [],
   "source": [
    "# Your solution here please"
   ]
  },
  {
   "cell_type": "markdown",
   "id": "3ecb9719-0e14-4d05-9505-498690d52264",
   "metadata": {},
   "source": [
    "---"
   ]
  },
  {
   "cell_type": "markdown",
   "id": "c6c7cdf4-ce34-4464-b9bc-a8624581e65e",
   "metadata": {},
   "source": [
    " <a id='mask_configuration'></a>\n",
    "## 3. Moving to random configurations"
   ]
  },
  {
   "cell_type": "markdown",
   "id": "86f02f18-1f36-4b62-8e7c-5570fca6ee38",
   "metadata": {},
   "source": [
    "After implementing the first simulation, you have a good insight into the algorithm. In the next task we want to extend the code so that the simulation can run on different configurations, not only on the plate capacitor, but e.g. on point sources and others."
   ]
  },
  {
   "cell_type": "markdown",
   "id": "38144499-bb1c-4897-9050-c5065deceb6b",
   "metadata": {},
   "source": [
    "As you can see in your algorithm in each step the configuration needs to be returned to its original state, so we need a new way to implement the configuration for this purpose.\n",
    "\n",
    "One idea is to use masks. In our simulation, we have only positive `+1` and negative `-1` charges on some positions . Any configuration of positions can be described with masks `mask1` (positive) and `mask2` (negative) , so in fact restoring can be done easily using these masks."
   ]
  },
  {
   "cell_type": "markdown",
   "id": "f4a7df95-9be6-488c-b199-cfe6febd36bc",
   "metadata": {},
   "source": [
    "**Your tasks:**"
   ]
  },
  {
   "cell_type": "markdown",
   "id": "2ad34b98-87bd-4a05-a7dc-748153d221ad",
   "metadata": {},
   "source": [
    "Rewrite our former solution to use two masks for the configuration for this simulation. \n",
    "\n",
    " 1. create a function `simulation` which will take the take the grid of the simulation and the two masks as arguments\n",
    " 1. transform the plate capacitor setup into a mask setup\n",
    " 1. create a second setup using two point sources (one `+1` and `-1` at `(x,y)=(0.35,0.5)` and `(x,y)=(0.65,0.5)` respectively)\n",
    " 1. please use a function to setup each configuration; these functions should return `mask1,mask2` at the same time "
   ]
  },
  {
   "cell_type": "code",
   "execution_count": null,
   "id": "df2bbe47-1c23-4aa8-94b0-cfe82df11a6d",
   "metadata": {},
   "outputs": [],
   "source": [
    "# Your solution here please"
   ]
  },
  {
   "cell_type": "markdown",
   "id": "8d49371c-e467-456d-9726-3c189a658f0a",
   "metadata": {},
   "source": [
    "---"
   ]
  },
  {
   "cell_type": "markdown",
   "id": "53e5409e-8b61-465e-bd3d-5a187c9ebb89",
   "metadata": {},
   "source": [
    "## 4. Using images as configuration files"
   ]
  },
  {
   "cell_type": "markdown",
   "id": "18bb2e7e-9abc-466b-bd4a-58f63dbc5b0d",
   "metadata": {},
   "source": [
    "If you've done task [#3](#mask_configuration) successfully we want to enhance the programm  again. As an alternative to manually creating masks, we can create the configuration masks also from images directly."
   ]
  },
  {
   "cell_type": "markdown",
   "id": "627a1093-70a9-479a-9b3f-17c2b09fdcfd",
   "metadata": {},
   "source": [
    "<center>\n",
    "<img src=\"data/threeplates.png\" style=\"width: 30%\"/>\n",
    "</center>"
   ]
  },
  {
   "cell_type": "markdown",
   "id": "64386c8d-26fa-4c07-8ad5-4defc955c550",
   "metadata": {},
   "source": [
    "This is a configuration file for a three plate capacitor. The colors indicate if the charges are positive (yellow) or negative (bright blue). "
   ]
  },
  {
   "cell_type": "markdown",
   "id": "f24d7a26-af8e-427c-b317-04176fae8f8c",
   "metadata": {},
   "source": [
    "**Your tasks:**\n",
    "\n",
    "Write a function which takes the image name as an argument and returns the `mask1,mask2` for the simulation. Try out different combinations from images of the data directory."
   ]
  },
  {
   "cell_type": "markdown",
   "id": "8af6ac67-c637-475d-9ea3-d3c3fcf5ecfd",
   "metadata": {},
   "source": [
    "**Hints:**\n",
    "\n",
    "Images can be read with a `matplotlib` function `matplotlib.image.imread` (see example below). This functions returns a `numpy` array with 3 dimensions. The first two dimensions reflects the `(x,y)` position in the image, starting with `0` instead of `1`. If you specify a special pixel, you will get 4 numbers back. The colors are usually stored in a `RGBA` format (`R` red, `G` green, `B` blue, `A` transparency) each channel ranged from `0.` to `1.` . So `[1.,1.,1.,1.]`  stands for `white`. Our positive vales are coded in `yellow` `[1.,1.,0.,1.]` and negative values are in `bright blue` `[0.,1.,1.,1.]`. Use a proper masking for the creation of the two masks."
   ]
  },
  {
   "cell_type": "code",
   "execution_count": null,
   "id": "cd38bc03-02cc-452d-8279-91b00b55fa32",
   "metadata": {},
   "outputs": [],
   "source": [
    "import matplotlib.image\n",
    "\n",
    "im = matplotlib.image.imread('data/threeplates.png')\n",
    "\n",
    "print(im.shape)  # shape of the image\n",
    "print(im[50,50])   # address a special pixel"
   ]
  },
  {
   "cell_type": "markdown",
   "id": "1d47c5ef-549e-4125-be41-080fee7ff43f",
   "metadata": {},
   "source": [
    "We have prepared a few configurations in `data/`:"
   ]
  },
  {
   "cell_type": "code",
   "execution_count": null,
   "id": "2fd7c747-955d-4d48-9d5e-9ff9e53762d5",
   "metadata": {},
   "outputs": [],
   "source": [
    "!ls data/"
   ]
  },
  {
   "cell_type": "code",
   "execution_count": null,
   "id": "49fcd855-b3e7-46d5-ac89-8c942921fddb",
   "metadata": {},
   "outputs": [],
   "source": [
    "# Your solution here please"
   ]
  },
  {
   "cell_type": "markdown",
   "id": "3102fbcd-a10a-4d45-9a2f-e17df156bf47",
   "metadata": {},
   "source": [
    "---"
   ]
  },
  {
   "cell_type": "markdown",
   "id": "88054b86-4337-41f9-93cd-35ba40b5a8a8",
   "metadata": {},
   "source": [
    "## 5. 3d projection of the potential"
   ]
  },
  {
   "cell_type": "markdown",
   "id": "5919022e-b6a1-439e-b62f-09e13f8f8318",
   "metadata": {},
   "source": [
    "The 2d projection of the electric potential is a nice and fast tool for visualization.  On the other hand, as shown in the lecture, a 2d projection, where the third data dimension is mapped to a color, is not the right approach in many cases. Instead of the flat 2d projection of the electric potential, a 3d surface representation is much nicer and shows much more details than the 2d representation."
   ]
  },
  {
   "cell_type": "markdown",
   "id": "cc34df6c-2a61-4b07-8ea4-fb4fb7e094da",
   "metadata": {},
   "source": [
    "**Your tasks:**\n",
    "\n",
    "Enhance the former program in such a way, that you create a 3d surface plot instead of the 2d color image. Test your program also with different electrical configurations."
   ]
  },
  {
   "cell_type": "code",
   "execution_count": null,
   "id": "5bfedb44-e841-4b82-bd52-82ac3483b452",
   "metadata": {},
   "outputs": [],
   "source": [
    "# Your solution here please"
   ]
  },
  {
   "cell_type": "code",
   "execution_count": null,
   "id": "e30a6ec4-9f55-4c62-9e32-af9b8bfc7cbe",
   "metadata": {},
   "outputs": [],
   "source": []
  }
 ],
 "metadata": {
  "kernelspec": {
   "display_name": "Python 3 (ipykernel)",
   "language": "python",
   "name": "python3"
  },
  "language_info": {
   "codemirror_mode": {
    "name": "ipython",
    "version": 3
   },
   "file_extension": ".py",
   "mimetype": "text/x-python",
   "name": "python",
   "nbconvert_exporter": "python",
   "pygments_lexer": "ipython3",
   "version": "3.9.10"
  }
 },
 "nbformat": 4,
 "nbformat_minor": 5
}
