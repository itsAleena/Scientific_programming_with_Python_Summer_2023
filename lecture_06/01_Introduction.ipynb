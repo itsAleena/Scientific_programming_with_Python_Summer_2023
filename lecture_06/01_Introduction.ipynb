{
 "cells": [
  {
   "cell_type": "markdown",
   "id": "8bb0e54b-472a-4bb9-90b4-86d24cbf384d",
   "metadata": {
    "tags": []
   },
   "source": [
    "# Lecture 6 - May 12th 2023"
   ]
  },
  {
   "cell_type": "markdown",
   "id": "12bbd31d-bbd3-42bf-b70e-b5215580b144",
   "metadata": {},
   "source": [
    "---\n",
    "\n",
    "**Topics of this lecture:**\n",
    "\n",
    " * Python *lists*\n",
    " * Python *dictionaries*\n",
    " * 2d-plotting and meshgrids\n",
    " * Python with scripts\n",
    " \n",
    "----"
   ]
  },
  {
   "cell_type": "code",
   "execution_count": null,
   "id": "df0c6a53-20be-4b1a-8efd-e48b52d5233c",
   "metadata": {},
   "outputs": [],
   "source": []
  }
 ],
 "metadata": {
  "kernelspec": {
   "display_name": "Python 3 (ipykernel)",
   "language": "python",
   "name": "python3"
  },
  "language_info": {
   "codemirror_mode": {
    "name": "ipython",
    "version": 3
   },
   "file_extension": ".py",
   "mimetype": "text/x-python",
   "name": "python",
   "nbconvert_exporter": "python",
   "pygments_lexer": "ipython3",
   "version": "3.9.10"
  }
 },
 "nbformat": 4,
 "nbformat_minor": 5
}
