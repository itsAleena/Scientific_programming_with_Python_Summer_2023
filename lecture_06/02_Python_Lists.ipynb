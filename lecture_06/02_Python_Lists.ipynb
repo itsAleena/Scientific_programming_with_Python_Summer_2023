{
 "cells": [
  {
   "cell_type": "markdown",
   "id": "434bce3b-faf6-4711-92f8-ea8bb51eb95d",
   "metadata": {},
   "source": [
    "# Python lists"
   ]
  },
  {
   "cell_type": "markdown",
   "id": "cfef28be-7a40-4848-bd06-8c6f4252b9a2",
   "metadata": {},
   "source": [
    "---\n",
    "\n",
    "In this notebook I want to introduce the container type `python lists`.\n",
    "\n",
    "---"
   ]
  },
  {
   "cell_type": "markdown",
   "id": "f79eac25-7085-46b6-ac4f-305a2344bcfe",
   "metadata": {},
   "source": [
    "## 1.Python Lists"
   ]
  },
  {
   "cell_type": "markdown",
   "id": "0bdf8576-adec-45d1-a004-534e600cb5f1",
   "metadata": {},
   "source": [
    "Python `lists`  are what you probably know as `arrays` from other programming languages, however for numerical arrays please use always `numpy`-arrays, which have much more features and are faster in mathematical operations."
   ]
  },
  {
   "cell_type": "markdown",
   "id": "1f9db4ad-1aba-42e8-983a-4d10fdbe90de",
   "metadata": {},
   "source": [
    "### 1.1 List creations"
   ]
  },
  {
   "cell_type": "markdown",
   "id": "93408988-e8a3-4d22-a635-2faaad5b16b2",
   "metadata": {},
   "source": [
    "Python `lists` will be defined with brakets `[` and `]`:"
   ]
  },
  {
   "cell_type": "code",
   "execution_count": null,
   "id": "49c4f3b9-e9ad-4b31-bc30-522d8fe13308",
   "metadata": {},
   "outputs": [],
   "source": [
    "import numpy as np\n",
    "\n",
    "a = []                                 # empty list or\n",
    "a = list()         \n",
    "b = [1,2,3,4]                          # list of integer number\n",
    "c = ['a', 1.234, np.sqrt, 'Oliver']    # a mixed list\n",
    "                   \n",
    "print(a)\n",
    "print(b)\n",
    "print(c)"
   ]
  },
  {
   "cell_type": "markdown",
   "id": "fd88a112-35bd-44b8-803e-1fb0c98f178f",
   "metadata": {},
   "source": [
    "Elements of python `lists` can have any type, although usually lists will be created in a homogenous way with only one type. Also `lists` of `lists` are allowed."
   ]
  },
  {
   "cell_type": "code",
   "execution_count": null,
   "id": "84f3c9eb-0901-4389-8990-04c22d2307c6",
   "metadata": {},
   "outputs": [],
   "source": [
    "a = [[1,2,3,4], 'a', 'b', 'c']\n",
    "\n",
    "print(a)"
   ]
  },
  {
   "cell_type": "markdown",
   "id": "f7d30baf-5eb7-49c8-95ce-d7675256edfc",
   "metadata": {},
   "source": [
    "### 1.2 How to add new elements"
   ]
  },
  {
   "cell_type": "markdown",
   "id": "f536fbd0-bb65-48d4-b3b5-9f82ae5e356a",
   "metadata": {},
   "source": [
    "New elements can be appended with  `.append` or with the operations `+` and `*`:"
   ]
  },
  {
   "cell_type": "code",
   "execution_count": null,
   "id": "c2b4f654-f451-4ef7-88a0-4077e3b00248",
   "metadata": {},
   "outputs": [],
   "source": [
    "a = [10,20,30,40]    # create a list of 4 elements\n",
    "print(a)\n",
    "a.append(50)         # add a fith element\n",
    "print(a)\n",
    "\n",
    "b = [1,2,3,4]\n",
    "c = [5,6]\n",
    "d = b + c            # concat both lists\n",
    "print(d)\n",
    "\n",
    "e = [True] * 3       # create a bool list with three elements\n",
    "print(e)"
   ]
  },
  {
   "cell_type": "markdown",
   "id": "772bca8c-9604-4c2a-81a7-26e86ad3b33d",
   "metadata": {},
   "source": [
    "**Note**: `.append` **modifies** an existing `list`,  `+` and `*` create **new** `lists`!"
   ]
  },
  {
   "cell_type": "markdown",
   "id": "5f466519-a91d-4f91-96e0-0eb33f2dc254",
   "metadata": {},
   "source": [
    "### 1.3 Access of elements"
   ]
  },
  {
   "cell_type": "markdown",
   "id": "d403c1be-9a72-4afd-881a-3eb5c938e28a",
   "metadata": {},
   "source": [
    "As usual for container type structures the function `len(...)` returns the number of elements. Accessing in general are identical to `strings` or `numpy`-arrays:"
   ]
  },
  {
   "cell_type": "code",
   "execution_count": null,
   "id": "e451239d-b78b-44da-bd52-d43a562f13a9",
   "metadata": {},
   "outputs": [],
   "source": [
    "a = [0,1,2,3,4,5,6,7,8,9]\n",
    "\n",
    "print(len(a))  # number of elements\n",
    "\n",
    "print(a[1])    # second element\n",
    "print(a[-1])   # last element"
   ]
  },
  {
   "cell_type": "markdown",
   "id": "0d60989f-60f3-4287-94a1-bce48dea24e1",
   "metadata": {},
   "source": [
    "Slicing is also allowed with the same rules; return values from slicing is always a `list`:"
   ]
  },
  {
   "cell_type": "code",
   "execution_count": null,
   "id": "de80d1d2-779c-483d-b854-8c99b25db374",
   "metadata": {},
   "outputs": [],
   "source": [
    "a = [0,1,2,3,4,5,6,7,8,9]\n",
    "\n",
    "print(a[1:2])     # cut out the second element as a list!\n",
    "print(a[:-2])     # all elements until the last before one element\n",
    "print(a[2:])      # all elements starting at the 3rd element\n",
    "print(a[5:2:-1])  # all elements from the 6th down to the 4th element in reverse order\n",
    "print(a[::-1])    # all elements in reverse order"
   ]
  },
  {
   "cell_type": "markdown",
   "id": "f94a4d42-d79b-4178-a1e0-94a1140a7f93",
   "metadata": {},
   "source": [
    "### 1.4 Modification of elements"
   ]
  },
  {
   "cell_type": "markdown",
   "id": "3210469a-0da7-43a1-adf9-03d53c30d4e2",
   "metadata": {},
   "source": [
    "Similar to the modification rules of `numpy`-arrays, single elements or sub-`lists` can be modified. Modification of a sub-`list` with the same value is not allowed:"
   ]
  },
  {
   "cell_type": "code",
   "execution_count": null,
   "id": "ba60d913-e0aa-4cdf-bee3-03426ccbffd7",
   "metadata": {},
   "outputs": [],
   "source": [
    "a = [0,1,2,3,4,5,6,7,8,9]\n",
    "\n",
    "print(a)\n",
    "\n",
    "# modify one lement\n",
    "a[2] = 1.2\n",
    "print(a)\n",
    "\n",
    "# modify two elements with a sub-list\n",
    "a[2:4] = [1000,2000] \n",
    "print(a)\n",
    "\n",
    "a[2:4] = -1   # not allowed!"
   ]
  },
  {
   "cell_type": "markdown",
   "id": "a850b6eb-a057-437f-96bb-b50fb624c03a",
   "metadata": {},
   "source": [
    "Modification of `list` elements can also include a type change!"
   ]
  },
  {
   "cell_type": "markdown",
   "id": "5d798f48-aca2-4983-b105-01b517a43778",
   "metadata": {},
   "source": [
    "### 1.5 Remove of elements"
   ]
  },
  {
   "cell_type": "markdown",
   "id": "f53a8a60-e1fc-4d66-8d02-9a0c20b9ae6f",
   "metadata": {},
   "source": [
    "Of course elements can be removed individually:"
   ]
  },
  {
   "cell_type": "code",
   "execution_count": null,
   "id": "3419118b-83d6-49f7-b302-5800d32ced71",
   "metadata": {},
   "outputs": [],
   "source": [
    "a = [1,2,3,4]\n",
    "\n",
    "a.pop(2)    # remove the third element\n",
    "\n",
    "print(a)"
   ]
  },
  {
   "cell_type": "markdown",
   "id": "9a252d6d-bca5-43b8-9e97-0810e3599a15",
   "metadata": {},
   "source": [
    "`.pop()` takes the index of the element to remove, without arguments, the last element will be removed!"
   ]
  },
  {
   "cell_type": "markdown",
   "id": "147a8e15-d977-4cf1-b8e9-bfdd3b166c99",
   "metadata": {},
   "source": [
    "###  1.6 Loops and search/lookup operator"
   ]
  },
  {
   "cell_type": "markdown",
   "id": "45857ac5-51f0-41a2-be7f-175137de2277",
   "metadata": {},
   "source": [
    "With `for` you can iterate over all elements:"
   ]
  },
  {
   "cell_type": "code",
   "execution_count": null,
   "id": "fea50be5-c076-4139-bb5c-c921cbb54500",
   "metadata": {},
   "outputs": [],
   "source": [
    "a = [1,2,3,4,5]\n",
    "\n",
    "for num in a:\n",
    "    print(num)"
   ]
  },
  {
   "cell_type": "markdown",
   "id": "7e4453d6-95e7-4d8c-8e62-133531252596",
   "metadata": {},
   "source": [
    "To check for the existence of an element in a `list`, use the `in` operator:"
   ]
  },
  {
   "cell_type": "code",
   "execution_count": null,
   "id": "bc6e7d6c-5777-4c0e-a9e5-1f88a580d730",
   "metadata": {},
   "outputs": [],
   "source": [
    "a =[1,2,3,4,5]\n",
    "\n",
    "print(2 in a)\n",
    "print(7 in a)"
   ]
  },
  {
   "cell_type": "markdown",
   "id": "79c870a8-aa2d-464d-b2ce-fddb90e4e2a6",
   "metadata": {},
   "source": [
    "### 1.7 List functions"
   ]
  },
  {
   "cell_type": "markdown",
   "id": "18969234-278c-4948-b6a8-5a63f4554c42",
   "metadata": {},
   "source": [
    "Similar to other container types also `lists` have attached functions, e.g. `.append`:"
   ]
  },
  {
   "cell_type": "code",
   "execution_count": null,
   "id": "d1943401-08e2-4527-a753-65a2c83bf475",
   "metadata": {},
   "outputs": [],
   "source": [
    "a = [1,2,3,4]\n",
    "a.    # press <TAB>"
   ]
  },
  {
   "cell_type": "markdown",
   "id": "296b7e2b-5ef2-49f6-b1b4-536e601cd8b6",
   "metadata": {},
   "source": [
    "another possibility:"
   ]
  },
  {
   "cell_type": "code",
   "execution_count": null,
   "id": "5112b105-0b92-41e2-9cc7-ff35fd842915",
   "metadata": {},
   "outputs": [],
   "source": [
    "help(a)"
   ]
  },
  {
   "cell_type": "markdown",
   "id": "801281df-6f36-4993-b38d-ac62419a5bfa",
   "metadata": {},
   "source": [
    "One example should show you, to read the documentation carefully:"
   ]
  },
  {
   "cell_type": "code",
   "execution_count": null,
   "id": "229b4d4c-dd61-4281-bad9-33d6a8086c9a",
   "metadata": {},
   "outputs": [],
   "source": [
    "a = [6,1,3,2,7]\n",
    "\n",
    "print(a)\n",
    "b = a.sort()    # sorting is *IN PLACE*, so a will be sorted!\n",
    "print(a)\n",
    "print(b)"
   ]
  },
  {
   "cell_type": "markdown",
   "id": "7b2065c9-9a39-45d7-924d-8cbc61b58f47",
   "metadata": {},
   "source": [
    "Functions can work *IN PLACE*  or can return a new `list` as a result. \n",
    "\n",
    "To sort a `list` not *IN PLACE* you can do the following:"
   ]
  },
  {
   "cell_type": "code",
   "execution_count": null,
   "id": "06e2ac81-4bd2-4a6a-8503-d7ba885f87d0",
   "metadata": {},
   "outputs": [],
   "source": [
    "a = [6,1,3,2,7]\n",
    "\n",
    "b = sorted(a)   # creates a new list!\n",
    "\n",
    "print(a)\n",
    "print(b)"
   ]
  },
  {
   "cell_type": "markdown",
   "id": "3d86f3ac-9be7-4ed5-a942-3863d5212260",
   "metadata": {},
   "source": [
    "### 1.8 Dangerous copy / assignments"
   ]
  },
  {
   "cell_type": "markdown",
   "id": "ee0d5baf-9d47-4d05-932a-d92c31afae66",
   "metadata": {},
   "source": [
    "Similar to `numpy`-arrays if you think to copy a python `list` with an assignment only a view on the original `list` will be created:"
   ]
  },
  {
   "cell_type": "code",
   "execution_count": null,
   "id": "b43e9a20-3725-48ac-93dc-6edd3beba4e7",
   "metadata": {},
   "outputs": [],
   "source": [
    "a = [1,2,3,4]\n",
    "\n",
    "b = a        # copy?\n",
    "b.append(5)  # append to b\n",
    "\n",
    "print(a)\n",
    "print(b)"
   ]
  },
  {
   "cell_type": "markdown",
   "id": "3eb4fca5-0969-47e1-96c8-b47577947015",
   "metadata": {},
   "source": [
    "As you can see, `b=a` creates no copy of the list but instead a new `view`, so appending elements to `b` will show these elements in `a`. For a real copy use this commands:"
   ]
  },
  {
   "cell_type": "code",
   "execution_count": null,
   "id": "b67aad93-2cc0-4808-a425-c5f764f0ff3d",
   "metadata": {},
   "outputs": [],
   "source": [
    "a = [1,2,3,4]\n",
    "\n",
    "b = a.copy() # copy!!!\n",
    "b.append(5)  # append to b\n",
    "\n",
    "print(a)\n",
    "print(b)"
   ]
  },
  {
   "cell_type": "markdown",
   "id": "7a668373-09f4-4d76-a2a7-4a58888defcc",
   "metadata": {},
   "source": [
    "This is also a problem, if using `lists` in functions:"
   ]
  },
  {
   "cell_type": "code",
   "execution_count": null,
   "id": "38733052-7d8e-426e-aee8-a988d0b4db5a",
   "metadata": {},
   "outputs": [],
   "source": [
    "def func(l):\n",
    "    l.append(5)   # l is not a copy of the original list\n",
    "    \n",
    "    \n",
    "a = [1,2,3,4]\n",
    "func(a)           # may change a!\n",
    "\n",
    "print(a)"
   ]
  },
  {
   "cell_type": "markdown",
   "id": "a21b15ad-eac5-4bcb-b3bb-a16847223a89",
   "metadata": {},
   "source": [
    "**Note:** Be careful while handling lists where you may think, you made a real copy!"
   ]
  },
  {
   "cell_type": "markdown",
   "id": "82eccd11-535f-492e-86be-f801c09abb76",
   "metadata": {},
   "source": [
    "### 1.9 Some use cases of lists"
   ]
  },
  {
   "cell_type": "markdown",
   "id": "b3587ccf-c65a-4841-a420-18082bda0ed7",
   "metadata": {},
   "source": [
    "Functions of other types can also return `lists` or can use `lists` as arguments:"
   ]
  },
  {
   "cell_type": "code",
   "execution_count": null,
   "id": "3876a8e3-88f6-421c-ab68-99d3ec26a3af",
   "metadata": {},
   "outputs": [],
   "source": [
    "s = 'This is an example text!'\n",
    "\n",
    "l = s.split()      # split the text into words\n",
    "\n",
    "print(type(l))     # the result is a list\n",
    "\n",
    "for word in l:     # print all words\n",
    "    print(word)    "
   ]
  },
  {
   "cell_type": "markdown",
   "id": "50d09b51-8d12-4dba-b763-79c0ee59de49",
   "metadata": {},
   "source": [
    "or the other way:"
   ]
  },
  {
   "cell_type": "code",
   "execution_count": null,
   "id": "b0f9de99-e07f-4651-87f1-e8b0940213e3",
   "metadata": {},
   "outputs": [],
   "source": [
    "s = ['A', 'few', 'words', 'build', 'a', 'sentence!']\n",
    "\n",
    "text = ' '.join(s)\n",
    "\n",
    "print(text)"
   ]
  },
  {
   "cell_type": "markdown",
   "id": "a229cd51-78fc-4450-a599-ee52b68e1638",
   "metadata": {},
   "source": [
    "---"
   ]
  },
  {
   "cell_type": "markdown",
   "id": "eda39e0d-c72e-43a1-b4b0-a7144b800f57",
   "metadata": {},
   "source": [
    "Another example of using `lists`:"
   ]
  },
  {
   "cell_type": "code",
   "execution_count": null,
   "id": "06744fe2-0414-40d5-9808-79d7df73f323",
   "metadata": {},
   "outputs": [],
   "source": [
    "# some random lists with file names\n",
    "\n",
    "list_a = ['2235a', '2236a', '2345a', '3456a', '3457a']\n",
    "list_b = ['2231b', '2345b', '2389b', '3123b', '3456b', '3458b']\n",
    "list_c = ['2231a', '2345a', '2389a', '3123a', '3456a', '3458a']\n",
    "\n",
    "# task 1 create a list with elements in both lists\n",
    "mix_list = []\n",
    "for el in list_a:\n",
    "    name = el[:-1]       # extract number from name\n",
    "    name_b = name + 'b'  # create search name\n",
    "    if name_b in list_b:\n",
    "        mix_list.append(name)\n",
    "        \n",
    "print(f'file numbers in both lists: {mix_list}')\n",
    "\n",
    "# task 2 create missing lists\n",
    "diff_ac = []\n",
    "diff_ca = []\n",
    "for el in list_a:\n",
    "    if el not in list_c:\n",
    "        diff_ac.append(el)\n",
    "for el in list_c:\n",
    "    if el not in list_a:\n",
    "        diff_ca.append(el)\n",
    "        \n",
    "print(f'files from a missing in c: {diff_ac}')\n",
    "print(f'files from c missing in a: {diff_ca}')"
   ]
  },
  {
   "cell_type": "markdown",
   "id": "ceceeec3-f866-4190-82e7-ca52640e0cc8",
   "metadata": {},
   "source": [
    "---"
   ]
  },
  {
   "cell_type": "markdown",
   "id": "00a7edfb-c9e8-4715-aa92-d29beab9732b",
   "metadata": {},
   "source": [
    "## 2.Python tupels"
   ]
  },
  {
   "cell_type": "markdown",
   "id": "b2ac0ca1-7f7f-44c0-ad1c-034c6a52c278",
   "metadata": {},
   "source": [
    "Similar to `lists` are python `tuples`. They are somehow the immutable version of the `lists`, which means, after creation no elements can be modified or appended. `tuples` are defined in these brakets `(` and `)`:"
   ]
  },
  {
   "cell_type": "code",
   "execution_count": null,
   "id": "53a0eb3c-d470-4757-9674-63f1fbe2551e",
   "metadata": {},
   "outputs": [],
   "source": [
    "a = ()\n",
    "# or\n",
    "a = tuple()\n",
    "\n",
    "b = (1,2,3,4)                          # tuple of integer numbers\n",
    "c = ('a', 1.234, np.sqrt, 'Oliver')\n",
    "\n",
    "d = 1,2,3,4                            # in this case the brackets are not necessary\n",
    "                                       # I strongly advise you to use bracket, to be use, \n",
    "                                       # that you're working with tuples!\n",
    "\n",
    "print(a)\n",
    "print(b)\n",
    "print(c)\n",
    "print(d)"
   ]
  },
  {
   "cell_type": "markdown",
   "id": "2a43df87-3859-4931-821e-5a1b5aa0eb3f",
   "metadata": {},
   "source": [
    "Be carefull if you want to create a `tuple` with one element only:"
   ]
  },
  {
   "cell_type": "code",
   "execution_count": null,
   "id": "f8ca0eb9-3803-4e2b-b091-24aaeb03f088",
   "metadata": {},
   "outputs": [],
   "source": [
    "a = (0)         # may be a tuple, but it is a regular integer!\n",
    "\n",
    "print(type(a))\n",
    "print(a)\n",
    "\n",
    "b = (0,)        # this is a correct tuple!\n",
    "print(type(b))\n",
    "print(b)"
   ]
  },
  {
   "cell_type": "markdown",
   "id": "2b6727e4-d3b0-45a6-9c19-0ce10f17b5c8",
   "metadata": {},
   "source": [
    "Access/slicing and the `for`-loop is similar to `lists`:"
   ]
  },
  {
   "cell_type": "code",
   "execution_count": null,
   "id": "72d0ac23-9404-4cb6-8b0f-9ed444887251",
   "metadata": {},
   "outputs": [],
   "source": [
    "a = (0,1,2,3,4,5,6,7,8,9)\n",
    "\n",
    "print(a[2])         # 3rd element\n",
    "print(a[2:-2])      # 3rd element until the last and one \n",
    "print(a[::-1])      # reverse order\n",
    "\n",
    "for i in a:         # loop over all elements\n",
    "    print(i)"
   ]
  },
  {
   "cell_type": "markdown",
   "id": "28003d92-0ebb-415f-9755-d8201cf14c71",
   "metadata": {},
   "source": [
    "Elements of `tuples` are immutable:"
   ]
  },
  {
   "cell_type": "code",
   "execution_count": null,
   "id": "86d87644-e7f6-4e7d-83b3-5fd04276efc3",
   "metadata": {},
   "outputs": [],
   "source": [
    "a = (1,2,3,4)\n",
    "\n",
    "a[1] = 100    # immutable!"
   ]
  },
  {
   "cell_type": "markdown",
   "id": "667fd30a-2860-4456-84f7-4d6f011097a1",
   "metadata": {},
   "source": [
    "Also `tuples` have functions:"
   ]
  },
  {
   "cell_type": "code",
   "execution_count": null,
   "id": "a55846ae-61fa-4724-89b3-d66f59992614",
   "metadata": {},
   "outputs": [],
   "source": [
    "a = (1,2,3,4)\n",
    "help(a)"
   ]
  },
  {
   "cell_type": "markdown",
   "id": "7ad68ac2-ce9b-44d3-907c-ca09b3d8521d",
   "metadata": {},
   "source": [
    "---"
   ]
  },
  {
   "cell_type": "markdown",
   "id": "b4c63e44-f74c-40eb-9be1-52fbb6ed12c3",
   "metadata": {},
   "source": [
    "### Use cases for `tuples`:"
   ]
  },
  {
   "cell_type": "markdown",
   "id": "9efa3e08-8d92-4b79-8b48-af68111753ea",
   "metadata": {},
   "source": [
    "Simultaneous assignment:"
   ]
  },
  {
   "cell_type": "code",
   "execution_count": null,
   "id": "c2e7252c-4fa9-4afc-bdec-ea248a3dc22a",
   "metadata": {},
   "outputs": [],
   "source": [
    "# simultaneous assignment\n",
    "\n",
    "a, b = 1, 3\n",
    "print(a, b)\n",
    "\n",
    "# packing and unpacking of variables\n",
    "z = 2, 4\n",
    "a, b = z \n",
    "print(a, b)"
   ]
  },
  {
   "cell_type": "code",
   "execution_count": null,
   "id": "9cbb8cdf-ed0b-4ced-bda6-04e8e0806f61",
   "metadata": {},
   "outputs": [],
   "source": [
    "# multiple return values from functions\n",
    "\n",
    "def addsub(a,b):\n",
    "    return a+b, a-b\n",
    "\n",
    "a, b = addsub(2,1)    # two return values in two variables\n",
    "print(a, b)\n",
    "\n",
    "# or\n",
    "d = addsub(2,1)       # return as a tuple\n",
    "\n",
    "print(type(d))\n",
    "x, y = d              # unpacking\n",
    "print(x, y)"
   ]
  },
  {
   "cell_type": "markdown",
   "id": "3a4625cd-5923-468b-96bc-d71fbc091e58",
   "metadata": {},
   "source": [
    "----"
   ]
  },
  {
   "cell_type": "markdown",
   "id": "94e4d87a-55dc-47a1-a805-696d371e1284",
   "metadata": {},
   "source": [
    "Some dangerous mode with lists:"
   ]
  },
  {
   "cell_type": "code",
   "execution_count": null,
   "id": "f7ebfaa3-caef-47e2-8cd7-340db277d6ee",
   "metadata": {},
   "outputs": [],
   "source": [
    "a = [1,2,3,4]\n",
    "b = a\n",
    "\n",
    "b.append(5)\n",
    "\n",
    "print(a)\n",
    "print(b)\n",
    "\n",
    "c = a.copy()\n",
    "c.append(6)\n",
    "print(a)\n",
    "print(c)"
   ]
  },
  {
   "cell_type": "markdown",
   "id": "8e4ed5cc-5fa7-47f8-8a71-e12b9c64871c",
   "metadata": {},
   "source": [
    "Remove of elements:"
   ]
  },
  {
   "cell_type": "code",
   "execution_count": null,
   "id": "cc73f6d2-46a5-41a2-88a8-83725ec68881",
   "metadata": {},
   "outputs": [],
   "source": [
    "a = [1,2,3,4]\n",
    "\n",
    "a.pop(2)    # remove the third element\n",
    "\n",
    "print(a)"
   ]
  },
  {
   "cell_type": "code",
   "execution_count": null,
   "id": "9a104223-d4ba-46d3-9597-79973c2d77ca",
   "metadata": {},
   "outputs": [],
   "source": []
  }
 ],
 "metadata": {
  "kernelspec": {
   "display_name": "Python 3 (ipykernel)",
   "language": "python",
   "name": "python3"
  },
  "language_info": {
   "codemirror_mode": {
    "name": "ipython",
    "version": 3
   },
   "file_extension": ".py",
   "mimetype": "text/x-python",
   "name": "python",
   "nbconvert_exporter": "python",
   "pygments_lexer": "ipython3",
   "version": "3.9.10"
  }
 },
 "nbformat": 4,
 "nbformat_minor": 5
}
