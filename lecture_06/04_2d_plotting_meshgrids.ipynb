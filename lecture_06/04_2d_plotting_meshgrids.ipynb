{
 "cells": [
  {
   "cell_type": "markdown",
   "id": "a2adfd89-b6df-4f94-9f7f-1ad715e502bf",
   "metadata": {},
   "source": [
    "# 2d-plotting and `numpy`-meshgrids"
   ]
  },
  {
   "cell_type": "markdown",
   "id": "a259578f-bff7-4c1d-845a-2d8a115c69ca",
   "metadata": {},
   "source": [
    "---\n",
    "\n",
    "In this notebook I want to tell you some basics of `meshgrids` and 2d-plotting.\n",
    "\n",
    "---"
   ]
  },
  {
   "cell_type": "markdown",
   "id": "850ba047-b84f-49cc-863e-509b44e6d744",
   "metadata": {},
   "source": [
    "In the previous lectures and exercises we have focused on simple  1d-plots (`X` vs. `Y`). Sometimes it is also nice to know how to create 2d-plots. \n",
    "\n",
    "For 2d-plots we usually want to visualize data sets which have to a given point `X` and `Y` a dedicated value, which in some cases is defined as `Z`. These datasets are usually 2d-numpy arrays, with a shape `(m,n)` where `m` is the length in `x`-direction and `n` the length for the `y`-direction."
   ]
  },
  {
   "cell_type": "markdown",
   "id": "e11ec96a-0d2c-459f-860a-873827604038",
   "metadata": {},
   "source": [
    "---"
   ]
  },
  {
   "cell_type": "markdown",
   "id": "8cef8833-51b0-4092-808e-c7e44d958251",
   "metadata": {},
   "source": [
    "## 1. Meshgrids"
   ]
  },
  {
   "cell_type": "markdown",
   "id": "a7aaf59d-b8ce-474c-aec2-28b042ce2765",
   "metadata": {},
   "source": [
    "Before we want to start, I will show with an example, how we define some 2d-numpy-arrays. Let's assume we have an equal sized 2d-grid with `N` points on each side ranging from `-1` to `1`. The value for each position on the grid should be calculated with \n",
    "\n",
    "$$ z = -(x^2 + y^2) $$\n",
    "\n",
    "The explanation would be, that you will get a grid with the maximum at `(0,0)` and which looks like a parable on each side of the grid."
   ]
  },
  {
   "cell_type": "code",
   "execution_count": null,
   "id": "889d442a-3289-4909-a9fc-52d4e2300253",
   "metadata": {},
   "outputs": [],
   "source": [
    "import numpy as np\n",
    "\n",
    "N = 11\n",
    "x = np.linspace(-1,1,N)\n",
    "y = np.linspace(-1,1,N)\n",
    "\n",
    "print(x)"
   ]
  },
  {
   "cell_type": "markdown",
   "id": "26f120df-248f-44ec-b8f6-b941bcf58411",
   "metadata": {},
   "source": [
    "This gives you the values for `x` and `y` respectively.\n",
    "\n",
    "To calculate the 2d-array `z`  you cannot use `x` and `y` directly. What we need are 2d-arrays `X` and `Y` which have the `x` and `y` values for each position:"
   ]
  },
  {
   "cell_type": "code",
   "execution_count": null,
   "id": "365afe07-921c-4632-8827-51fd05577359",
   "metadata": {},
   "outputs": [],
   "source": [
    "X,Y = np.meshgrid(x,y)\n",
    "\n",
    "print(X.shape)\n",
    "print(X)\n",
    "\n",
    "print(Y)"
   ]
  },
  {
   "cell_type": "markdown",
   "id": "ac2b50e2-708f-474e-8bc4-2aee14b274e6",
   "metadata": {},
   "source": [
    "As you can see, for each grid position you will get an `X` and `Y` value. So, using `numpy` math operations elementwise, you can calculate `Z`:"
   ]
  },
  {
   "cell_type": "code",
   "execution_count": null,
   "id": "de3b5a70-157b-40de-94fb-169ecb344970",
   "metadata": {},
   "outputs": [],
   "source": [
    "Z = -(X**2+Y**2)\n",
    "\n",
    "print(Z.shape)\n",
    "print(Z)\n"
   ]
  },
  {
   "cell_type": "markdown",
   "id": "7a8aad55-68cc-44cf-9e0d-3f87c6490a26",
   "metadata": {},
   "source": [
    "The result `Z` has exactly the values we want to have."
   ]
  },
  {
   "cell_type": "markdown",
   "id": "45c34ee6-aef5-41a3-a93f-7f818ae2dc63",
   "metadata": {},
   "source": [
    "Another example for illustration:"
   ]
  },
  {
   "cell_type": "code",
   "execution_count": null,
   "id": "1d9ce158-17de-4eb8-b566-b0550d1c7d04",
   "metadata": {},
   "outputs": [],
   "source": [
    "import numpy as np\n",
    "\n",
    "x = np.arange(0,5,1)\n",
    "y = np.arange(0,5,1)\n",
    "\n",
    "X, Y = np.meshgrid(x,y)\n",
    "\n",
    "print(X)\n",
    "print(Y)"
   ]
  },
  {
   "cell_type": "markdown",
   "id": "9241d551-62c8-4778-af46-b1e9cf01a957",
   "metadata": {},
   "source": [
    "<img src=\"figs/mesh.png\" style=\"width:50%\" >"
   ]
  },
  {
   "cell_type": "markdown",
   "id": "8a015bee-8d57-44f9-8a86-25726d05c7d0",
   "metadata": {},
   "source": [
    "With `np.meshgrid` we can assign `(x,y)` data values for all points of the 2d-(grid)-array."
   ]
  },
  {
   "cell_type": "markdown",
   "id": "8c66b407-01a5-4bd3-bfae-357fdb247454",
   "metadata": {},
   "source": [
    "---"
   ]
  },
  {
   "cell_type": "markdown",
   "id": "d7b25c56-01ce-4375-93e1-9f40d7da7b26",
   "metadata": {},
   "source": [
    "## 2. Visualization of 2d-numpy arrays"
   ]
  },
  {
   "cell_type": "markdown",
   "id": "74bd48ce-9154-44a3-a0fb-a13c4dbb5457",
   "metadata": {},
   "source": [
    "If you have already a 2d-numpy-arrays which you want to visualize, then you can simply use a `(x,y)` image plot, in which the value for each `(x,y)` point will be mapped into a color:"
   ]
  },
  {
   "cell_type": "code",
   "execution_count": null,
   "id": "1792ac25-04be-46d1-9bf9-d2eab07e70cc",
   "metadata": {},
   "outputs": [],
   "source": [
    "%matplotlib inline\n",
    "\n",
    "import numpy as np\n",
    "\n",
    "import matplotlib.pyplot as plt\n",
    "\n",
    "N = 11\n",
    "x = np.linspace(-1,1,N)\n",
    "y = np.linspace(-1,1,N)\n",
    "\n",
    "X, Y = np.meshgrid(x,y)\n",
    "\n",
    "Z = -(X**2+Y**2)\n",
    "\n",
    "fig, ax = plt.subplots(figsize=(7,7))\n",
    "\n",
    "im = ax.imshow(Z)\n",
    "fig.colorbar(im,ax=ax)"
   ]
  },
  {
   "cell_type": "markdown",
   "id": "404ee32c-84d2-44c9-9048-39a67e45c0a8",
   "metadata": {},
   "source": [
    "This is a nice plot, but usually we want to have a real 3d-plot, which shows the 2d-grid in a much more better way:"
   ]
  },
  {
   "cell_type": "code",
   "execution_count": null,
   "id": "0427cc7b-d350-4c0a-b2e4-8c4fed6c8f7f",
   "metadata": {},
   "outputs": [],
   "source": [
    "%matplotlib inline\n",
    "\n",
    "import numpy as np\n",
    "\n",
    "import matplotlib.pyplot as plt\n",
    "\n",
    "N = 11\n",
    "x = np.linspace(-1,1,N)\n",
    "y = np.linspace(-1,1,N)\n",
    "\n",
    "X, Y = np.meshgrid(x,y)\n",
    "\n",
    "Z = -(X**2+Y**2)\n",
    "\n",
    "fig = plt.figure(figsize=(7,7))\n",
    "ax = plt.axes(projection='3d')\n",
    "\n",
    "\n",
    "ax.plot_surface(X, Y, Z, cmap='viridis', edgecolor='none')\n",
    "ax.set_title('Surface plot')"
   ]
  },
  {
   "cell_type": "markdown",
   "id": "4a59d310-a20a-4321-a49c-bb99209d7d31",
   "metadata": {},
   "source": [
    "The setup of this figure is a little bit different than usual, you need to switch to special 3d-axes. \n",
    "\n",
    "As you can see, you need the `meshgrid`-return values `X` and `Y` for the figure to address the values of the axes. For more options please refer to the `plot_surface` documentation of the matplotlib-library."
   ]
  },
  {
   "cell_type": "code",
   "execution_count": null,
   "id": "143250e6-7db2-4374-a628-0ae717019c46",
   "metadata": {},
   "outputs": [],
   "source": []
  }
 ],
 "metadata": {
  "kernelspec": {
   "display_name": "Python 3 (ipykernel)",
   "language": "python",
   "name": "python3"
  },
  "language_info": {
   "codemirror_mode": {
    "name": "ipython",
    "version": 3
   },
   "file_extension": ".py",
   "mimetype": "text/x-python",
   "name": "python",
   "nbconvert_exporter": "python",
   "pygments_lexer": "ipython3",
   "version": "3.9.10"
  }
 },
 "nbformat": 4,
 "nbformat_minor": 5
}
